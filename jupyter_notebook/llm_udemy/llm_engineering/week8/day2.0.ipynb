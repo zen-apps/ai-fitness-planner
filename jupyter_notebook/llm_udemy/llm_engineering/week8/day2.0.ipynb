{
 "cells": [
  {
   "cell_type": "markdown",
   "id": "046fd8f8-ad14-4c7f-b759-fec52f5b5306",
   "metadata": {},
   "source": [
    "# The Price is Right\n",
    "\n",
    "Today we build a more complex solution for estimating prices of goods.\n",
    "\n",
    "1. This notebook: create a RAG database with our 400,000 training data\n",
    "2. Day 2.1 notebook: visualize in 2D\n",
    "3. Day 2.2 notebook: visualize in 3D\n",
    "4. Day 2.3 notebook: build and test a RAG pipeline with GPT-4o-mini\n",
    "5. Day 2.4 notebook: (a) bring back our Random Forest pricer (b) Create a Ensemble pricer that allows contributions from all the pricers\n",
    "\n",
    "Phew! That's a lot to get through in one day!\n",
    "\n",
    "## PLEASE NOTE:\n",
    "\n",
    "We already have a very powerful product estimator with our proprietary, fine-tuned LLM. Most people would be very satisfied with that! The main reason we're adding these extra steps is to deepen your expertise with RAG and with Agentic workflows.\n"
   ]
  },
  {
   "cell_type": "code",
   "execution_count": 1,
   "id": "993a2a24-1a58-42be-8034-6d116fb8d786",
   "metadata": {},
   "outputs": [],
   "source": [
    "# imports\n",
    "\n",
    "import os\n",
    "import re\n",
    "import math\n",
    "import json\n",
    "from tqdm import tqdm\n",
    "import random\n",
    "from dotenv import load_dotenv\n",
    "from huggingface_hub import login\n",
    "import numpy as np\n",
    "import pickle\n",
    "from sentence_transformers import SentenceTransformer\n",
    "from datasets import load_dataset\n",
    "import chromadb\n",
    "from jupyter_notebook_ai_clone.llm_udemy.llm_engineering.week6.items import Item \n",
    "#from loaders import ItemLoader\n",
    "from jupyter_notebook_ai_clone.llm_udemy.llm_engineering.week6.loaders import ItemLoader\n",
    "from sklearn.manifold import TSNE\n",
    "import plotly.graph_objects as go"
   ]
  },
  {
   "cell_type": "code",
   "execution_count": 2,
   "id": "2359ccc0-dbf2-4b1e-9473-e472b32f548b",
   "metadata": {},
   "outputs": [],
   "source": [
    "# environment\n",
    "\n",
    "load_dotenv()\n",
    "#os.environ['OPENAI_API_KEY'] = os.getenv('OPENAI_API_KEY', 'your-key-if-not-using-env')\n",
    "#os.environ['HF_TOKEN'] = os.getenv('HF_TOKEN', 'your-key-if-not-using-env')\n",
    "DB = \"products_vectorstore\""
   ]
  },
  {
   "cell_type": "code",
   "execution_count": 3,
   "id": "645167e6-cf0d-42d2-949f-1089a25a2841",
   "metadata": {},
   "outputs": [
    {
     "name": "stderr",
     "output_type": "stream",
     "text": [
      "Token has not been saved to git credential helper.\n",
      "Note: Environment variable`HF_TOKEN` is set and is the current active token independently from the token you've just configured.\n"
     ]
    },
    {
     "name": "stdout",
     "output_type": "stream",
     "text": [
      "\u001b[1m\u001b[31mCannot authenticate through git-credential as no helper is defined on your machine.\n",
      "You might have to re-authenticate when pushing to the Hugging Face Hub.\n",
      "Run the following command in your terminal in case you want to set the 'store' credential helper as default.\n",
      "\n",
      "git config --global credential.helper store\n",
      "\n",
      "Read https://git-scm.com/book/en/v2/Git-Tools-Credential-Storage for more details.\u001b[0m\n"
     ]
    }
   ],
   "source": [
    "# Log in to HuggingFace\n",
    "\n",
    "hf_token = os.environ['HF_TOKEN']\n",
    "login(hf_token, add_to_git_credential=True)"
   ]
  },
  {
   "cell_type": "markdown",
   "id": "3d4995a4-f67f-4871-87df-8c6439b06366",
   "metadata": {},
   "source": [
    "## Back to the pkl files\n",
    "\n",
    "Much as we enjoyed data curating in week 6, we probably don't want to go through that whole process again!\n",
    "\n",
    "Let's reuse the pkl files we created then. Either copy the files `train.pkl` and `test.pkl` from the Week 6 folder into this Week 8 folder, or you can also download them from here:\n",
    "\n",
    "https://drive.google.com/drive/folders/1f_IZGybvs9o0J5sb3xmtTEQB3BXllzrW?usp=drive_link"
   ]
  },
  {
   "cell_type": "code",
   "execution_count": 4,
   "id": "688bd995-ec3e-43cd-8179-7fe14b275877",
   "metadata": {},
   "outputs": [],
   "source": [
    "# With train.pkl in this folder, you can run this:\n",
    "\n",
    "with open('train_small.pkl', 'rb') as file:\n",
    "    train = pickle.load(file)"
   ]
  },
  {
   "cell_type": "code",
   "execution_count": 5,
   "id": "2817eaf5-4302-4a18-9148-d1062e3b3dbb",
   "metadata": {},
   "outputs": [
    {
     "data": {
      "text/plain": [
       "'How much does this cost to the nearest dollar?\\n\\nGOLDEN ICEPURE Replacement for Kenmore 6, WF293, Refrigerator Water Filter 3 PACK\\n💦𝐂𝐞𝐫𝐭𝐢𝐟𝐢𝐜𝐚𝐭𝐢𝐨𝐧 - The GOLDEN ICEPURE Refrigerator water filter is certified by the NSF/ANSI 42 and meets the requirements of NSF/ANSI/CAN 372. We guarantee the quality, health, and environmental friendliness of our products and services. 💦𝐏𝐞𝐫𝐟𝐨𝐫𝐦𝐚𝐧𝐜𝐞 - Using multi-stage filtration technology and high-grade coconut shell carbon\\n\\nPrice is $23.00'"
      ]
     },
     "execution_count": 5,
     "metadata": {},
     "output_type": "execute_result"
    }
   ],
   "source": [
    "train[0].prompt"
   ]
  },
  {
   "cell_type": "markdown",
   "id": "9ae1ba16-7e80-4096-ac88-64ef8edcc80c",
   "metadata": {},
   "source": [
    "# Now create a Chroma Datastore\n",
    "\n",
    "In Week 5, we created a Chroma datastore with 123 documents representing chunks of objects from our fictional company Insurellm.\n",
    "\n",
    "Now we will create a Chroma datastore with 400,000 products from our training dataset! It's getting real!\n",
    "\n",
    "Note that we won't be using LangChain, but the API is very straightforward and consistent with before.\n",
    "\n",
    "Special note: if Chroma crashes and you're a Windows user, you should try rolling back to an earlier version of the Chroma library with:  \n",
    "`!pip install chromadb==0.5.0`  \n",
    "With many thanks to student Kelly Z. for finding this out and pointing to the GitHub issue [here](https://github.com/chroma-core/chroma/issues/2513). "
   ]
  },
  {
   "cell_type": "code",
   "execution_count": 6,
   "id": "f4aab95e-d719-4476-b6e7-e248120df25a",
   "metadata": {},
   "outputs": [],
   "source": [
    "client = chromadb.PersistentClient(path=DB)"
   ]
  },
  {
   "cell_type": "code",
   "execution_count": 7,
   "id": "9b2fc692",
   "metadata": {},
   "outputs": [],
   "source": [
    "#client.delete_collection(name=\"products\")"
   ]
  },
  {
   "cell_type": "code",
   "execution_count": 9,
   "id": "5f95dafd-ab80-464e-ba8a-dec7a2424780",
   "metadata": {},
   "outputs": [
    {
     "name": "stdout",
     "output_type": "stream",
     "text": [
      "Deleted existing collection: products\n"
     ]
    }
   ],
   "source": [
    "# Check if the collection exists and delete it if it does\n",
    "collection_name = \"products\"\n",
    "existing_collection_names = client.list_collections()  # This directly returns names now\n",
    "if collection_name in existing_collection_names:\n",
    "    client.delete_collection(collection_name)\n",
    "    print(f\"Deleted existing collection: {collection_name}\")\n",
    "\n",
    "collection = client.create_collection(collection_name)\n",
    "\n",
    "# delete collection  \n",
    "#client.delete_collection(collection_name)"
   ]
  },
  {
   "cell_type": "markdown",
   "id": "d392ed28-203d-4e73-be87-ac1390bdf722",
   "metadata": {},
   "source": [
    "# Introducing the SentenceTransfomer\n",
    "\n",
    "The all-MiniLM is a very useful model from HuggingFace that maps sentences & paragraphs to a 384 dimensional dense vector space and is ideal for tasks like semantic search.\n",
    "\n",
    "https://huggingface.co/sentence-transformers/all-MiniLM-L6-v2\n",
    "\n",
    "It can run pretty quickly locally.\n",
    "\n",
    "Last time we used OpenAI embeddings to produce vector embeddings. Benefits compared to OpenAI embeddings:\n",
    "1. It's free and fast!\n",
    "3. We can run it locally, so the data never leaves our box - might be useful if you're building a personal RAG\n"
   ]
  },
  {
   "cell_type": "code",
   "execution_count": 11,
   "id": "a87db200-d19d-44bf-acbd-15c45c70f5c9",
   "metadata": {},
   "outputs": [],
   "source": [
    "model = SentenceTransformer('sentence-transformers/all-MiniLM-L6-v2')"
   ]
  },
  {
   "cell_type": "code",
   "execution_count": 12,
   "id": "9b23a025-4c35-4d3a-96ad-b956cad37b0a",
   "metadata": {},
   "outputs": [],
   "source": [
    "# Pass in a list of texts, get back a numpy array of vectors\n",
    "\n",
    "vector = model.encode([\"Well hi there\"])[0]"
   ]
  },
  {
   "cell_type": "code",
   "execution_count": 13,
   "id": "8adde63f-e732-4f7c-bba9-f8b2a469f14e",
   "metadata": {},
   "outputs": [
    {
     "data": {
      "text/plain": [
       "array([-9.46715996e-02,  4.27619927e-02,  5.51620461e-02, -5.10995043e-04,\n",
       "        1.16203064e-02, -6.80130571e-02,  2.76406296e-02,  6.06974177e-02,\n",
       "        2.88530905e-02, -1.74128544e-02, -4.94346432e-02,  2.30992641e-02,\n",
       "       -1.28614204e-02, -4.31402475e-02,  2.17509363e-02,  4.26548757e-02,\n",
       "        5.10500111e-02, -7.79727772e-02, -1.23247221e-01,  3.67456004e-02,\n",
       "        4.54122620e-03,  9.47938487e-02, -5.53098917e-02,  1.70641635e-02,\n",
       "       -2.92872861e-02, -4.47124429e-02,  2.06784345e-02,  6.39320239e-02,\n",
       "        2.27427911e-02,  4.87789996e-02, -2.33501615e-03,  4.72859144e-02,\n",
       "       -2.86258757e-02,  2.30624750e-02,  2.45130155e-02,  3.95681709e-02,\n",
       "       -4.33176644e-02, -1.02316692e-01,  2.79873190e-03,  2.39303671e-02,\n",
       "        1.61556490e-02, -8.99083540e-03,  2.07255818e-02,  6.40123338e-02,\n",
       "        6.89179599e-02, -6.98361397e-02,  2.89760833e-03, -8.10990036e-02,\n",
       "        1.71122737e-02,  2.50654924e-03, -1.06529079e-01, -4.87733372e-02,\n",
       "       -1.67762246e-02, -2.28662658e-02,  1.14816539e-01,  4.87413742e-02,\n",
       "       -1.64961647e-02, -6.90831915e-02,  1.13612063e-01, -7.18484968e-02,\n",
       "       -9.01571661e-02,  3.92144875e-06, -8.66768807e-02, -4.05916870e-02,\n",
       "        3.71317528e-02, -1.77618861e-02, -5.57463318e-02, -4.57096957e-02,\n",
       "       -5.43141216e-02, -4.00612168e-02, -4.60228361e-02,  2.82194465e-02,\n",
       "       -2.33605579e-02,  1.44406417e-02, -1.52777117e-02, -4.34328578e-02,\n",
       "        6.81274608e-02,  8.21894407e-02,  7.83891696e-03, -2.85973903e-02,\n",
       "        6.14309646e-02, -4.92684618e-02,  3.27055319e-03, -2.72682235e-02,\n",
       "       -4.59346436e-02, -2.60167420e-02,  5.70649765e-02, -5.86472626e-04,\n",
       "       -4.37076651e-02, -2.47854128e-04, -8.73550698e-02,  3.48776430e-02,\n",
       "        1.39327087e-02, -1.60043575e-02,  2.86958050e-02, -9.48595703e-02,\n",
       "        9.40613002e-02,  5.92685752e-02, -8.65014121e-02,  1.45011455e-01,\n",
       "        2.35387702e-02,  3.43324840e-02,  2.51482386e-04,  7.15540498e-02,\n",
       "       -3.12182810e-02,  3.86665873e-02, -2.47744415e-02,  6.52674213e-02,\n",
       "       -8.28816965e-02, -2.80246940e-02,  9.34540574e-03, -7.85541907e-03,\n",
       "        5.30728064e-02,  2.96895616e-02,  3.27329822e-02,  4.94736806e-02,\n",
       "        2.52209119e-02,  4.67067920e-02,  5.03403209e-02, -7.23744705e-02,\n",
       "        2.54435092e-02, -3.67216803e-02,  1.27570406e-02,  1.46063948e-02,\n",
       "        2.11492516e-02, -5.56908511e-02, -9.18520335e-03, -5.63394009e-34,\n",
       "        9.58769694e-02,  5.94578162e-02,  5.11445291e-02,  3.36359516e-02,\n",
       "       -1.34414136e-02, -2.77203210e-02, -3.48436721e-02,  1.80351734e-02,\n",
       "       -2.53211427e-02,  6.73588738e-03,  5.47840446e-02, -3.60573754e-02,\n",
       "       -5.20870201e-02, -2.90345810e-02,  4.38961945e-03,  6.50023296e-02,\n",
       "        3.07485722e-02,  2.00220272e-02,  1.73048128e-03,  2.96724099e-03,\n",
       "        3.40950582e-03, -6.78144395e-02,  3.41305211e-02,  8.37871898e-03,\n",
       "        5.39904349e-02,  2.70389635e-02,  7.84119517e-02, -1.30136237e-01,\n",
       "        4.84649204e-02,  5.14179096e-02, -7.94679113e-03,  5.57874981e-03,\n",
       "       -5.31024933e-02,  3.81299108e-02, -3.05513144e-02, -7.69779310e-02,\n",
       "        1.20530659e-02, -4.08992991e-02, -8.69358778e-02,  6.38055801e-02,\n",
       "        1.68675054e-02,  1.68735965e-03,  6.28895015e-02, -1.67711731e-02,\n",
       "        2.15586647e-02,  7.10027816e-04,  2.81028170e-03, -8.89790617e-03,\n",
       "       -1.80887133e-02, -2.16217041e-02, -5.59150726e-02,  1.78775005e-02,\n",
       "       -9.27093551e-02,  7.27913063e-03, -1.27753586e-01, -4.86938357e-02,\n",
       "        1.45871621e-02, -1.62751321e-02,  6.75622672e-02,  3.87702398e-02,\n",
       "        7.23295286e-02,  9.14992020e-02, -9.65292230e-02,  4.84791547e-02,\n",
       "       -1.06274113e-01, -1.05042709e-02,  8.90349820e-02, -8.07526037e-02,\n",
       "        7.87081644e-02, -2.04916466e-02, -5.55079952e-02, -3.31532806e-02,\n",
       "       -2.14429032e-02,  4.94699106e-02, -7.05118924e-02,  6.63999021e-02,\n",
       "        7.39671290e-02, -2.70111114e-03,  1.62262786e-02, -3.98228653e-02,\n",
       "        5.94093241e-02, -7.14370189e-03, -3.33479494e-02,  2.30418779e-02,\n",
       "        1.87186394e-02, -6.15725219e-02, -8.55372229e-04, -1.05786696e-01,\n",
       "       -8.43618959e-02, -3.92993018e-02, -3.16447653e-02,  6.60644472e-02,\n",
       "        9.41816047e-02, -8.35983232e-02,  9.50875320e-03,  1.25501069e-34,\n",
       "        6.38198182e-02,  2.11371388e-02, -1.65899862e-02,  1.88642330e-02,\n",
       "       -5.57019487e-02,  1.82804489e-03, -1.37587786e-02,  8.16278756e-02,\n",
       "       -9.13296938e-02,  7.06855878e-02,  6.79992065e-02, -5.44536300e-02,\n",
       "        3.80394943e-02,  3.80498613e-03,  1.03689827e-01,  7.32764078e-04,\n",
       "        2.95661781e-02,  4.19424362e-02, -1.20444342e-01,  1.24932546e-02,\n",
       "       -5.53506650e-02,  1.75228566e-02, -2.28164513e-02, -5.79298735e-02,\n",
       "        9.42930859e-03, -5.42278448e-03, -3.94950202e-03,  2.82348599e-02,\n",
       "       -1.28066957e-01, -1.31304562e-02,  7.42956176e-02, -1.74529385e-02,\n",
       "       -9.72758904e-02,  8.25622398e-03,  2.06901524e-02, -5.29767061e-03,\n",
       "       -1.37696126e-02, -3.50974277e-02,  1.74978003e-02, -1.76233388e-02,\n",
       "       -6.50825351e-02, -3.84676009e-02, -8.76396522e-02,  3.21291350e-02,\n",
       "        2.55017658e-03, -2.09378935e-02,  5.55310361e-02,  2.57094912e-02,\n",
       "       -2.94735916e-02,  1.25047471e-02, -6.83466494e-02, -8.00624415e-02,\n",
       "       -1.46906730e-02,  1.03744995e-02, -8.51863548e-02, -1.10538639e-02,\n",
       "        2.14596316e-02,  4.08608951e-02,  3.31646986e-02, -2.76757367e-02,\n",
       "       -2.01877635e-02,  8.98877066e-03,  3.92048471e-02,  1.15103364e-01,\n",
       "        5.50441258e-02,  2.72755418e-02, -1.09526739e-01, -1.72622465e-02,\n",
       "        1.33438511e-02, -1.73701644e-02, -5.04371710e-03, -2.00292058e-02,\n",
       "        1.16672307e-01, -1.84322260e-02,  3.70627269e-02,  1.60886645e-02,\n",
       "        3.48829664e-02,  5.50574847e-02, -6.60801306e-03,  7.06828460e-02,\n",
       "        4.07848842e-02, -1.43313976e-02, -2.85440078e-03,  2.74251252e-02,\n",
       "       -4.26769033e-02,  1.26583660e-02,  3.34342942e-02,  1.62644833e-02,\n",
       "        1.19263167e-02, -2.92119049e-02,  2.73977499e-02,  3.44304815e-02,\n",
       "        2.52833068e-02,  3.07514351e-02,  3.22556719e-02, -1.74628525e-08,\n",
       "       -1.52691649e-02,  5.37680509e-03,  1.41246527e-01,  5.08365631e-02,\n",
       "        5.32257371e-02,  9.67938974e-02,  4.33674566e-02, -6.48306403e-03,\n",
       "        1.58603881e-02,  4.05631624e-02,  6.94984645e-02,  6.04905263e-02,\n",
       "       -6.26189113e-02, -3.96144688e-02,  1.10648781e-01,  1.67735592e-02,\n",
       "       -7.68691162e-03,  2.59616021e-02, -5.28792925e-02, -2.22319216e-02,\n",
       "        1.74595471e-02,  4.75339741e-02,  3.27675454e-02, -4.59684208e-02,\n",
       "        2.01769602e-02, -1.60875861e-02, -1.58614032e-02, -1.66657772e-02,\n",
       "       -3.05246282e-02, -3.87907177e-02, -1.27653852e-02,  6.57610893e-02,\n",
       "       -2.22502630e-02, -9.44989268e-03,  2.32079569e-02,  2.66039129e-02,\n",
       "        2.14204602e-02, -7.54575897e-03,  8.84751901e-02, -9.43514705e-02,\n",
       "       -5.74870780e-02, -7.77098313e-02,  1.95794995e-03, -1.50347734e-02,\n",
       "       -8.08486715e-03,  1.88217424e-02,  8.42520781e-03, -3.78591865e-02,\n",
       "        1.24534853e-02, -7.94995055e-02, -2.15790179e-02,  1.20276548e-02,\n",
       "        1.74870808e-02,  8.74479115e-02,  6.64091855e-02,  3.13737690e-02,\n",
       "       -1.00629190e-02,  2.07700897e-02, -5.20163812e-02, -8.91336426e-03,\n",
       "        1.48542330e-01, -2.51260656e-03,  9.93157029e-02,  2.34929230e-02],\n",
       "      dtype=float32)"
      ]
     },
     "execution_count": 13,
     "metadata": {},
     "output_type": "execute_result"
    }
   ],
   "source": [
    "vector"
   ]
  },
  {
   "cell_type": "code",
   "execution_count": 14,
   "id": "38de1bf8-c9b5-45b4-9f4b-86af93b3f80d",
   "metadata": {},
   "outputs": [],
   "source": [
    "def description(item):\n",
    "    text = item.prompt.replace(\"How much does this cost to the nearest dollar?\\n\\n\", \"\")\n",
    "    return text.split(\"\\n\\nPrice is $\")[0]"
   ]
  },
  {
   "cell_type": "code",
   "execution_count": 15,
   "id": "8c1205bd-4692-44ef-8ea4-69f255354537",
   "metadata": {},
   "outputs": [
    {
     "data": {
      "text/plain": [
       "'GOLDEN ICEPURE Replacement for Kenmore 6, WF293, Refrigerator Water Filter 3 PACK\\n💦𝐂𝐞𝐫𝐭𝐢𝐟𝐢𝐜𝐚𝐭𝐢𝐨𝐧 - The GOLDEN ICEPURE Refrigerator water filter is certified by the NSF/ANSI 42 and meets the requirements of NSF/ANSI/CAN 372. We guarantee the quality, health, and environmental friendliness of our products and services. 💦𝐏𝐞𝐫𝐟𝐨𝐫𝐦𝐚𝐧𝐜𝐞 - Using multi-stage filtration technology and high-grade coconut shell carbon'"
      ]
     },
     "execution_count": 15,
     "metadata": {},
     "output_type": "execute_result"
    }
   ],
   "source": [
    "description(train[0])"
   ]
  },
  {
   "cell_type": "code",
   "execution_count": 16,
   "id": "8c79e2fe-1f50-4ebf-9a93-34f3088f2996",
   "metadata": {},
   "outputs": [
    {
     "name": "stderr",
     "output_type": "stream",
     "text": [
      "100%|██████████| 20/20 [14:59<00:00, 45.00s/it]\n"
     ]
    }
   ],
   "source": [
    "for i in tqdm(range(0, len(train), 1000)):\n",
    "    documents = [description(item) for item in train[i: i+1000]]\n",
    "    vectors = model.encode(documents).astype(float).tolist()\n",
    "    metadatas = [{\"category\": item.category, \"price\": item.price} for item in train[i: i+1000]]\n",
    "    ids = [f\"doc_{j}\" for j in range(i, i+1000)]\n",
    "    collection.add(\n",
    "        ids=ids,\n",
    "        documents=documents,\n",
    "        embeddings=vectors,\n",
    "        metadatas=metadatas\n",
    "    )"
   ]
  },
  {
   "cell_type": "code",
   "execution_count": null,
   "id": "31352909",
   "metadata": {},
   "outputs": [],
   "source": []
  }
 ],
 "metadata": {
  "kernelspec": {
   "display_name": "Python 3 (ipykernel)",
   "language": "python",
   "name": "python3"
  }
 },
 "nbformat": 4,
 "nbformat_minor": 5
}
