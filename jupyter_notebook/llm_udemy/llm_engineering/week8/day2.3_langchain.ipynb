{
 "cells": [
  {
   "cell_type": "markdown",
   "id": "2a0f44a9-37cd-4aa5-9b20-cfc0dc8dfc0a",
   "metadata": {},
   "source": [
    "# The Price is Right\n",
    "\n",
    "Today we build a more complex solution for estimating prices of goods.\n",
    "\n",
    "1. Day 2.0 notebook: create a RAG database with our 400,000 training data\n",
    "2. Day 2.1 notebook: visualize in 2D\n",
    "3. Day 2.2 notebook: visualize in 3D\n",
    "4. Day 2.3 notebook: build and test a RAG pipeline with GPT-4o-mini\n",
    "5. Day 2.4 notebook: (a) bring back our Random Forest pricer (b) Create a Ensemble pricer that allows contributions from all the pricers\n",
    "\n",
    "Phew! That's a lot to get through in one day!\n",
    "\n",
    "## PLEASE NOTE:\n",
    "\n",
    "We already have a very powerful product estimator with our proprietary, fine-tuned LLM. Most people would be very satisfied with that! The main reason we're adding these extra steps is to deepen your expertise with RAG and with Agentic workflows.\n",
    "\n",
    "## We will go fast today! Hold on to your hat.."
   ]
  },
  {
   "cell_type": "code",
   "execution_count": 32,
   "id": "fbcdfea8-7241-46d7-a771-c0381a3e7063",
   "metadata": {},
   "outputs": [],
   "source": [
    "# imports\n",
    "\n",
    "import os\n",
    "import re\n",
    "import math\n",
    "import json\n",
    "from tqdm import tqdm\n",
    "import random\n",
    "from dotenv import load_dotenv\n",
    "from huggingface_hub import login\n",
    "import matplotlib.pyplot as plt\n",
    "import numpy as np\n",
    "import pickle\n",
    "from openai import OpenAI\n",
    "from sentence_transformers import SentenceTransformer\n",
    "from datasets import load_dataset\n",
    "import chromadb\n",
    "from jupyter_notebook_ai_clone.llm_udemy.llm_engineering.week6.items import Item \n",
    "#from loaders import ItemLoader\n",
    "from jupyter_notebook_ai_clone.llm_udemy.llm_engineering.week6.loaders import ItemLoader\n",
    "#from testing import Tester\n",
    "from jupyter_notebook_ai_clone.llm_udemy.llm_engineering.week6.testing import Tester"
   ]
  },
  {
   "cell_type": "code",
   "execution_count": 33,
   "id": "98666e73-938e-469d-8987-e6e55ba5e034",
   "metadata": {},
   "outputs": [],
   "source": [
    "# environment\n",
    "\n",
    "load_dotenv()\n",
    "os.environ['OPENAI_API_KEY'] = os.getenv('OPENAI_API_KEY', 'your-key-if-not-using-env')\n",
    "os.environ['HF_TOKEN'] = os.getenv('HF_TOKEN', 'your-key-if-not-using-env')"
   ]
  },
  {
   "cell_type": "code",
   "execution_count": 34,
   "id": "9a25a5cf-8f6c-4b5d-ad98-fdd096f5adf8",
   "metadata": {},
   "outputs": [],
   "source": [
    "openai = OpenAI()"
   ]
  },
  {
   "cell_type": "code",
   "execution_count": 35,
   "id": "dc696493-0b6f-48aa-9fa8-b1ae0ecaf3cd",
   "metadata": {},
   "outputs": [],
   "source": [
    "# Load in the test pickle file\n",
    "# See the section \"Back to the PKL files\" in the day2.0 notebook\n",
    "# for instructions on obtaining this test.pkl file\n",
    "\n",
    "with open('test.pkl', 'rb') as file:\n",
    "    test = pickle.load(file)"
   ]
  },
  {
   "cell_type": "code",
   "execution_count": 36,
   "id": "33d38a06-0c0d-4e96-94d1-35ee183416ce",
   "metadata": {},
   "outputs": [],
   "source": [
    "def make_context(similars, prices):\n",
    "    message = \"To provide some context, here are some other items that might be similar to the item you need to estimate.\\n\\n\"\n",
    "    for similar, price in zip(similars, prices):\n",
    "        message += f\"Potentially related product:\\n{similar}\\nPrice is ${price:.2f}\\n\\n\"\n",
    "    return message"
   ]
  },
  {
   "cell_type": "code",
   "execution_count": 37,
   "id": "61f203b7-63b6-48ed-869b-e393b5bfcad3",
   "metadata": {},
   "outputs": [],
   "source": [
    "def messages_for(item, similars, prices):\n",
    "    system_message = \"You estimate prices of items. Reply only with the price, no explanation\"\n",
    "    user_prompt = make_context(similars, prices)\n",
    "    user_prompt += \"And now the question for you:\\n\\n\"\n",
    "    user_prompt += item.test_prompt().replace(\" to the nearest dollar\",\"\").replace(\"\\n\\nPrice is $\",\"\")\n",
    "    return [\n",
    "        {\"role\": \"system\", \"content\": system_message},\n",
    "        {\"role\": \"user\", \"content\": user_prompt},\n",
    "        {\"role\": \"assistant\", \"content\": \"Price is $\"}\n",
    "    ]"
   ]
  },
  {
   "cell_type": "code",
   "execution_count": 38,
   "id": "b26f405d-6e1f-4caa-b97f-1f62cd9d1ebc",
   "metadata": {},
   "outputs": [],
   "source": [
    "DB = \"products_vectorstore\""
   ]
  },
  {
   "cell_type": "code",
   "execution_count": 39,
   "id": "d26a1104-cd11-4361-ab25-85fb576e0582",
   "metadata": {},
   "outputs": [],
   "source": [
    "client = chromadb.PersistentClient(path=DB)\n",
    "collection = client.get_or_create_collection('products')"
   ]
  },
  {
   "cell_type": "code",
   "execution_count": 40,
   "id": "1e339760-96d8-4485-bec7-43fadcd30c4d",
   "metadata": {},
   "outputs": [],
   "source": [
    "def description(item):\n",
    "    text = item.prompt.replace(\"How much does this cost to the nearest dollar?\\n\\n\", \"\")\n",
    "    return text.split(\"\\n\\nPrice is $\")[0]"
   ]
  },
  {
   "cell_type": "code",
   "execution_count": 41,
   "id": "a1bd0c87-8bad-43d9-9461-bb69a9e0e22c",
   "metadata": {},
   "outputs": [
    {
     "data": {
      "text/plain": [
       "'Kastar Battery and Charger Replacement for Sony\\nBullet Point 1 Kastar Mini Rapid A/C Charger Features a Fold-out US Plug, Worldwide Input Voltage, Car Charging Adapter, and European Plug. Bullet Point 2 Kastar Battery Utra-high Capacity. Use high quality Japanese Cells for longer battery life with no Memory Effect. Bullet Point 3 Charge indication Green lights for standby, Red is for charging and with automatic constant current control prevents battery from overcharging, short circuit, and electronic shock. Bullet Point 4 All Items 100% decoded and 100% Compatible with the Original Camera, Battery, and Power Accessories. Bullet Point 5 All Items Include 30-day Money Back and 3-YEAR Manufacturer Warranty. Description Details Package Includes 1 x Battery 1 x Travel'"
      ]
     },
     "execution_count": 41,
     "metadata": {},
     "output_type": "execute_result"
    }
   ],
   "source": [
    "description(test[0])"
   ]
  },
  {
   "cell_type": "code",
   "execution_count": 42,
   "id": "9f759bd2-7a7e-4c1a-80a0-e12470feca89",
   "metadata": {},
   "outputs": [],
   "source": [
    "model = SentenceTransformer('sentence-transformers/all-MiniLM-L6-v2')"
   ]
  },
  {
   "cell_type": "code",
   "execution_count": 43,
   "id": "e44dbd25-fb95-4b6b-bbbb-8da5fc817105",
   "metadata": {},
   "outputs": [],
   "source": [
    "def vector(item):\n",
    "    return model.encode([description(item)])"
   ]
  },
  {
   "cell_type": "code",
   "execution_count": 44,
   "id": "ffd5ee47-db5d-4263-b0d9-80d568c91341",
   "metadata": {},
   "outputs": [],
   "source": [
    "def find_similars(item):\n",
    "    results = collection.query(query_embeddings=vector(item).astype(float).tolist(), n_results=5)\n",
    "    documents = results['documents'][0][:]\n",
    "    prices = [m['price'] for m in results['metadatas'][0][:]]\n",
    "    return documents, prices"
   ]
  },
  {
   "cell_type": "code",
   "execution_count": 45,
   "id": "6f7b9ff9-fd90-4627-bb17-7c2f7bbd21f3",
   "metadata": {},
   "outputs": [
    {
     "name": "stdout",
     "output_type": "stream",
     "text": [
      "How much does this cost to the nearest dollar?\n",
      "\n",
      "Sony a5100 Mirrorless Digital Camera with 3-Inch Flip Up LCD (Black) (Renewed)\n",
      "Sony a5100 Interchangeable Lens Camera with Lens, Black. Exposure Modes- AUTO (iAUTO, Superior Auto), Programmed AE (P), Aperture priority (A), Shutter-speed priority (S), Manual (M), Scene Selection, Sweep Panorama, Movie Ultra-fast auto focus with 179 AF points and 6Fps Capture life in high resolution with 24MP APS-C sensor.Lens compatibility Sony E-mount lenses Instant sharing via smartphone with Wi-Fi and NFC1 Record Full HD video3 up to 50MB/s Contains- Rechargeable Battery AC Charger Lens cap Shoulder strap Micro USB cable. BIONZ X engine for superb detail and noise reduction\n",
      "\n",
      "Price is $699.00\n"
     ]
    }
   ],
   "source": [
    "print(test[1].prompt)"
   ]
  },
  {
   "cell_type": "code",
   "execution_count": 46,
   "id": "ff1b2659-cc6b-47aa-a797-dd1cd3d1d6c3",
   "metadata": {},
   "outputs": [
    {
     "data": {
      "application/vnd.jupyter.widget-view+json": {
       "model_id": "3a475f7e268a45daa6ec70901cfc67f2",
       "version_major": 2,
       "version_minor": 0
      },
      "text/plain": [
       "Batches:   0%|          | 0/1 [00:00<?, ?it/s]"
      ]
     },
     "metadata": {},
     "output_type": "display_data"
    }
   ],
   "source": [
    "documents, prices = find_similars(test[1])"
   ]
  },
  {
   "cell_type": "code",
   "execution_count": 47,
   "id": "24756d4d-edac-41ce-bb80-c3b6f1cea7ee",
   "metadata": {},
   "outputs": [
    {
     "name": "stdout",
     "output_type": "stream",
     "text": [
      "To provide some context, here are some other items that might be similar to the item you need to estimate.\n",
      "\n",
      "Potentially related product:\n",
      "Digital Hygrometer,Aorious Thermometer Humidity Monitor Indoor Temperature Gauge Humidity Meter Smart Timer with Touchscreen and Backlight\n",
      "Features Touch screen LCD display and LED Backlit 4 Digits time display Hour,Minute 12/24 Hour format selectable Smart Comfort level in color display MAX/MIX temperature and humidityy data Alarm and Snooze minutes snooze alarming For indoor temperature,humidity and time display Temperature data display Resolution 0.1 ℃,Range from 0℃ /32℉ -50℃ /122℉ Humidity data display Resolution form Temperature display in ℉/℃ Specification Dimension 3.3 x 3.3 x 0.8 in Battery Required 2 x AAA / 1.5V (Not included) Package Content 1 x Digital\n",
      "Price is $14.99\n",
      "\n",
      "Potentially related product:\n",
      "Preciser(TM) Multi-function Indoor Room LCD Electronic Temperature Humidity Meter Digital Thermometer Hygrometer Weather Station Alarm Clock\n",
      "Features Display temperature, humidity and time simultaneously Memory of MAX & MIN measuring value / displaying system selectable oC / o F unit selectable Integral-hour alarm function Alarm function Clock & Calendar function (month and date ) Desk-top placing or Wall Hanging NO backlight Specifications Temperature range -50~ + 70 oC ( -58 ~ +158 o F ) Humidity range Accuracy Temperature ± 1 oC ( 1.8 o F ) Humidity ± 10 %RH ( 40% ~ 80% ) Power supply 1.5V ( AAA size ) X 1 Product dimension 100 x 100 x 15mm Weight Storage condition -20 oC\n",
      "Price is $8.04\n",
      "\n",
      "Potentially related product:\n",
      "Nexia Z-Wave One Touch Control, Entirely Customizable White\n",
      "Conveniently control the smart products in your home with the tap of a button! The Nexia One Touch provides quick access to the Nexia Automations and Modes that you assign to the device. No need to have your smart phone or computer near you at all times when you're enjoying the comforts of your home. Install the One Touch near your door to easily control your home when leaving or entering. Or, leave the One Touch on your coffee table or night stand for convenient access to your smart products at any time of the day or night. Simply tap a One Touch button to run any automation mode you've already set up in your Nexia account Home to turn on the lights, adjust the temperature and turn down\n",
      "Price is $98.01\n",
      "\n",
      "Potentially related product:\n",
      "Extech RH101 Combination Humidity Meter and Infrared Thermometer\n",
      "Item is a Class II laser product, 1mW power output. Combination humidity meter + IR thermometer features a large backlit dual display Primary display is user selectable for IR or humidity; Secondary displays ambient temperature IR thermometer offers non-contact temperature measurements from -58 to 932?F (-50 to 500?C) IR thermometer has built-in laser pointer and an 8 1 distance to target ratio Brand Extech, Age Range (Description) Adult, Included Components & Instructions Guide, Display Type Digital, Connectivity Technology Infrared, Care Instructions Wipe Clean, Power Source Battery Powered, Batteries 1 Lithium Ion batteries required. (included), Response Time 500 Milliseconds, Reusability Reusable\n",
      "Price is $213.41\n",
      "\n",
      "Potentially related product:\n",
      "SONOFF Zigbee Indoor Temperature Humidity Sensor, LCD Zigbee Thermometer Hygrometer, Works with Alexa & Google Home for Remote Monitoring and Home Automation, ZigBee 3.0 Hub Required, 1-Pack\n",
      "Remote Real-time monitoring sensor will monitor the temperature and humidity in real time on the APP remotely or display screen, with up to coverate. High Accuracy & 5s Fast Refresh Built-in Swiss-made smart hygrometer sensor that gives you more accurate readings maintaining accuracy in temperature and ±2%RH accuracy in humidity, refreshes readings every 5 seconds. Large LCD screen display Use large LCD display to view the real-time values of temperature humidity clearly and dynamically, the intuitive display icons let you check the room conditions and battery status even easier than ever. App notifications You\n",
      "Price is $19.99\n",
      "\n",
      "\n"
     ]
    }
   ],
   "source": [
    "print(make_context(documents, prices))"
   ]
  },
  {
   "cell_type": "code",
   "execution_count": 48,
   "id": "0b81eca2-0b58-4fe8-9dd6-47f13ba5f8ee",
   "metadata": {},
   "outputs": [
    {
     "name": "stdout",
     "output_type": "stream",
     "text": [
      "[{'role': 'system', 'content': 'You estimate prices of items. Reply only with the price, no explanation'}, {'role': 'user', 'content': \"To provide some context, here are some other items that might be similar to the item you need to estimate.\\n\\nPotentially related product:\\nDigital Hygrometer,Aorious Thermometer Humidity Monitor Indoor Temperature Gauge Humidity Meter Smart Timer with Touchscreen and Backlight\\nFeatures Touch screen LCD display and LED Backlit 4 Digits time display Hour,Minute 12/24 Hour format selectable Smart Comfort level in color display MAX/MIX temperature and humidityy data Alarm and Snooze minutes snooze alarming For indoor temperature,humidity and time display Temperature data display Resolution 0.1 ℃,Range from 0℃ /32℉ -50℃ /122℉ Humidity data display Resolution form Temperature display in ℉/℃ Specification Dimension 3.3 x 3.3 x 0.8 in Battery Required 2 x AAA / 1.5V (Not included) Package Content 1 x Digital\\nPrice is $14.99\\n\\nPotentially related product:\\nPreciser(TM) Multi-function Indoor Room LCD Electronic Temperature Humidity Meter Digital Thermometer Hygrometer Weather Station Alarm Clock\\nFeatures Display temperature, humidity and time simultaneously Memory of MAX & MIN measuring value / displaying system selectable oC / o F unit selectable Integral-hour alarm function Alarm function Clock & Calendar function (month and date ) Desk-top placing or Wall Hanging NO backlight Specifications Temperature range -50~ + 70 oC ( -58 ~ +158 o F ) Humidity range Accuracy Temperature ± 1 oC ( 1.8 o F ) Humidity ± 10 %RH ( 40% ~ 80% ) Power supply 1.5V ( AAA size ) X 1 Product dimension 100 x 100 x 15mm Weight Storage condition -20 oC\\nPrice is $8.04\\n\\nPotentially related product:\\nNexia Z-Wave One Touch Control, Entirely Customizable White\\nConveniently control the smart products in your home with the tap of a button! The Nexia One Touch provides quick access to the Nexia Automations and Modes that you assign to the device. No need to have your smart phone or computer near you at all times when you're enjoying the comforts of your home. Install the One Touch near your door to easily control your home when leaving or entering. Or, leave the One Touch on your coffee table or night stand for convenient access to your smart products at any time of the day or night. Simply tap a One Touch button to run any automation mode you've already set up in your Nexia account Home to turn on the lights, adjust the temperature and turn down\\nPrice is $98.01\\n\\nPotentially related product:\\nExtech RH101 Combination Humidity Meter and Infrared Thermometer\\nItem is a Class II laser product, 1mW power output. Combination humidity meter + IR thermometer features a large backlit dual display Primary display is user selectable for IR or humidity; Secondary displays ambient temperature IR thermometer offers non-contact temperature measurements from -58 to 932?F (-50 to 500?C) IR thermometer has built-in laser pointer and an 8 1 distance to target ratio Brand Extech, Age Range (Description) Adult, Included Components & Instructions Guide, Display Type Digital, Connectivity Technology Infrared, Care Instructions Wipe Clean, Power Source Battery Powered, Batteries 1 Lithium Ion batteries required. (included), Response Time 500 Milliseconds, Reusability Reusable\\nPrice is $213.41\\n\\nPotentially related product:\\nSONOFF Zigbee Indoor Temperature Humidity Sensor, LCD Zigbee Thermometer Hygrometer, Works with Alexa & Google Home for Remote Monitoring and Home Automation, ZigBee 3.0 Hub Required, 1-Pack\\nRemote Real-time monitoring sensor will monitor the temperature and humidity in real time on the APP remotely or display screen, with up to coverate. High Accuracy & 5s Fast Refresh Built-in Swiss-made smart hygrometer sensor that gives you more accurate readings maintaining accuracy in temperature and ±2%RH accuracy in humidity, refreshes readings every 5 seconds. Large LCD screen display Use large LCD display to view the real-time values of temperature humidity clearly and dynamically, the intuitive display icons let you check the room conditions and battery status even easier than ever. App notifications You\\nPrice is $19.99\\n\\nAnd now the question for you:\\n\\nHow much does this cost?\\n\\nSony a5100 Mirrorless Digital Camera with 3-Inch Flip Up LCD (Black) (Renewed)\\nSony a5100 Interchangeable Lens Camera with Lens, Black. Exposure Modes- AUTO (iAUTO, Superior Auto), Programmed AE (P), Aperture priority (A), Shutter-speed priority (S), Manual (M), Scene Selection, Sweep Panorama, Movie Ultra-fast auto focus with 179 AF points and 6Fps Capture life in high resolution with 24MP APS-C sensor.Lens compatibility Sony E-mount lenses Instant sharing via smartphone with Wi-Fi and NFC1 Record Full HD video3 up to 50MB/s Contains- Rechargeable Battery AC Charger Lens cap Shoulder strap Micro USB cable. BIONZ X engine for superb detail and noise reduction\"}, {'role': 'assistant', 'content': 'Price is $'}]\n"
     ]
    }
   ],
   "source": [
    "print(messages_for(test[1], documents, prices))"
   ]
  },
  {
   "cell_type": "code",
   "execution_count": 49,
   "id": "d11f1c8d-7480-4d64-a274-b030d701f1b8",
   "metadata": {},
   "outputs": [],
   "source": [
    "def get_price(s):\n",
    "    s = s.replace('$','').replace(',','')\n",
    "    match = re.search(r\"[-+]?\\d*\\.\\d+|\\d+\", s)\n",
    "    return float(match.group()) if match else 0"
   ]
  },
  {
   "cell_type": "code",
   "execution_count": 50,
   "id": "06743833-c362-47f8-b02a-139be2cd52ab",
   "metadata": {},
   "outputs": [
    {
     "data": {
      "text/plain": [
       "99.99"
      ]
     },
     "execution_count": 50,
     "metadata": {},
     "output_type": "execute_result"
    }
   ],
   "source": [
    "get_price(\"The price for this is $99.99\")"
   ]
  },
  {
   "cell_type": "code",
   "execution_count": 51,
   "id": "a919cf7d-b3d3-4968-8c96-54a0da0b0219",
   "metadata": {},
   "outputs": [],
   "source": [
    "# The function for gpt-4o-mini\n",
    "\n",
    "def gpt_4o_mini_rag(item):\n",
    "    documents, prices = find_similars(item)\n",
    "    response = openai.chat.completions.create(\n",
    "        model=\"gpt-4o-mini\", \n",
    "        messages=messages_for(item, documents, prices),\n",
    "        seed=42,\n",
    "        max_tokens=5\n",
    "    )\n",
    "    reply = response.choices[0].message.content\n",
    "    return get_price(reply)"
   ]
  },
  {
   "cell_type": "code",
   "execution_count": 52,
   "id": "3e519e26-ff15-4425-90bb-bfbf55deb39b",
   "metadata": {},
   "outputs": [
    {
     "data": {
      "application/vnd.jupyter.widget-view+json": {
       "model_id": "78523c385ddc4ca49d9101add1b5fb42",
       "version_major": 2,
       "version_minor": 0
      },
      "text/plain": [
       "Batches:   0%|          | 0/1 [00:00<?, ?it/s]"
      ]
     },
     "metadata": {},
     "output_type": "display_data"
    },
    {
     "data": {
      "text/plain": [
       "399.99"
      ]
     },
     "execution_count": 52,
     "metadata": {},
     "output_type": "execute_result"
    }
   ],
   "source": [
    "gpt_4o_mini_rag(test[1])"
   ]
  },
  {
   "cell_type": "code",
   "execution_count": 53,
   "id": "ce78741b-2966-41d2-9831-cbf8f8d176be",
   "metadata": {},
   "outputs": [
    {
     "data": {
      "text/plain": [
       "699.0"
      ]
     },
     "execution_count": 53,
     "metadata": {},
     "output_type": "execute_result"
    }
   ],
   "source": [
    "test[1].price"
   ]
  },
  {
   "cell_type": "code",
   "execution_count": 54,
   "id": "16d90455-ff7d-4f5f-8b8c-8e061263d1c7",
   "metadata": {},
   "outputs": [
    {
     "data": {
      "application/vnd.jupyter.widget-view+json": {
       "model_id": "fe1f098fe5f642f28a50c76f0c470d8b",
       "version_major": 2,
       "version_minor": 0
      },
      "text/plain": [
       "Batches:   0%|          | 0/1 [00:00<?, ?it/s]"
      ]
     },
     "metadata": {},
     "output_type": "display_data"
    },
    {
     "name": "stdout",
     "output_type": "stream",
     "text": [
      "\u001b[92m1: Guess: $45.99 Truth: $13.99 Error: $32.00 SLE: 1.31 Item: Kastar NP-FH50 Battery (1-Pack) and Char...\u001b[0m\n"
     ]
    },
    {
     "data": {
      "application/vnd.jupyter.widget-view+json": {
       "model_id": "de89d3ff8acf48c48514034d1b7779ea",
       "version_major": 2,
       "version_minor": 0
      },
      "text/plain": [
       "Batches:   0%|          | 0/1 [00:00<?, ?it/s]"
      ]
     },
     "metadata": {},
     "output_type": "display_data"
    },
    {
     "name": "stdout",
     "output_type": "stream",
     "text": [
      "\u001b[91m2: Guess: $399.99 Truth: $699.00 Error: $299.01 SLE: 0.31 Item: Sony a5100 16-50mm Mirrorless Digital Ca...\u001b[0m\n"
     ]
    },
    {
     "data": {
      "application/vnd.jupyter.widget-view+json": {
       "model_id": "3ccb94264e6d4f64a9ef15d9821f12c6",
       "version_major": 2,
       "version_minor": 0
      },
      "text/plain": [
       "Batches:   0%|          | 0/1 [00:00<?, ?it/s]"
      ]
     },
     "metadata": {},
     "output_type": "display_data"
    },
    {
     "name": "stdout",
     "output_type": "stream",
     "text": [
      "\u001b[92m3: Guess: $69.99 Truth: $69.99 Error: $0.00 SLE: 0.00 Item: 1Mii 2.4Ghz Wireless Audio Transmitter R...\u001b[0m\n"
     ]
    },
    {
     "data": {
      "application/vnd.jupyter.widget-view+json": {
       "model_id": "18f584357feb4c3c81ebe20b7b9112cd",
       "version_major": 2,
       "version_minor": 0
      },
      "text/plain": [
       "Batches:   0%|          | 0/1 [00:00<?, ?it/s]"
      ]
     },
     "metadata": {},
     "output_type": "display_data"
    },
    {
     "name": "stdout",
     "output_type": "stream",
     "text": [
      "\u001b[92m4: Guess: $49.00 Truth: $64.95 Error: $15.95 SLE: 0.08 Item: Fotodiox Pro Lens Mount Adapter - Bronic...\u001b[0m\n"
     ]
    },
    {
     "data": {
      "application/vnd.jupyter.widget-view+json": {
       "model_id": "d53f9b94933a455cb5b425bb5755fdb9",
       "version_major": 2,
       "version_minor": 0
      },
      "text/plain": [
       "Batches:   0%|          | 0/1 [00:00<?, ?it/s]"
      ]
     },
     "metadata": {},
     "output_type": "display_data"
    },
    {
     "name": "stdout",
     "output_type": "stream",
     "text": [
      "\u001b[92m5: Guess: $79.99 Truth: $110.90 Error: $30.91 SLE: 0.10 Item: FOSA 10\" Car Digital TV, ATSC Portable H...\u001b[0m\n"
     ]
    },
    {
     "data": {
      "application/vnd.jupyter.widget-view+json": {
       "model_id": "e7b70a5b2eef474180fabd09d8ac23dd",
       "version_major": 2,
       "version_minor": 0
      },
      "text/plain": [
       "Batches:   0%|          | 0/1 [00:00<?, ?it/s]"
      ]
     },
     "metadata": {},
     "output_type": "display_data"
    },
    {
     "name": "stdout",
     "output_type": "stream",
     "text": [
      "\u001b[92m6: Guess: $8.99 Truth: $5.99 Error: $3.00 SLE: 0.13 Item: Pineapple Vinyl Decal - Laptop, Decor, W...\u001b[0m\n"
     ]
    },
    {
     "data": {
      "application/vnd.jupyter.widget-view+json": {
       "model_id": "3ec8fc032d6c406091a6178268304343",
       "version_major": 2,
       "version_minor": 0
      },
      "text/plain": [
       "Batches:   0%|          | 0/1 [00:00<?, ?it/s]"
      ]
     },
     "metadata": {},
     "output_type": "display_data"
    },
    {
     "name": "stdout",
     "output_type": "stream",
     "text": [
      "\u001b[92m7: Guess: $499.00 Truth: $529.00 Error: $30.00 SLE: 0.00 Item: Canon EOS 50D 15.1MP Digital SLR Camera ...\u001b[0m\n"
     ]
    },
    {
     "data": {
      "application/vnd.jupyter.widget-view+json": {
       "model_id": "bb5841e6610d4dc2bf341d40e4fc3ce0",
       "version_major": 2,
       "version_minor": 0
      },
      "text/plain": [
       "Batches:   0%|          | 0/1 [00:00<?, ?it/s]"
      ]
     },
     "metadata": {},
     "output_type": "display_data"
    },
    {
     "name": "stdout",
     "output_type": "stream",
     "text": [
      "\u001b[92m8: Guess: $18.99 Truth: $14.98 Error: $4.01 SLE: 0.05 Item: UpBright New Global 5V AC/DC Adapter Com...\u001b[0m\n"
     ]
    },
    {
     "data": {
      "application/vnd.jupyter.widget-view+json": {
       "model_id": "7ee8a4c0733142a6acf2d484c3f4083a",
       "version_major": 2,
       "version_minor": 0
      },
      "text/plain": [
       "Batches:   0%|          | 0/1 [00:00<?, ?it/s]"
      ]
     },
     "metadata": {},
     "output_type": "display_data"
    },
    {
     "name": "stdout",
     "output_type": "stream",
     "text": [
      "\u001b[92m9: Guess: $113.99 Truth: $113.99 Error: $0.00 SLE: 0.00 Item: OEM Electrolux Dryer Lint Filter Screen ...\u001b[0m\n"
     ]
    },
    {
     "data": {
      "application/vnd.jupyter.widget-view+json": {
       "model_id": "943e6e7ca277470ab81b81fb2a1661aa",
       "version_major": 2,
       "version_minor": 0
      },
      "text/plain": [
       "Batches:   0%|          | 0/1 [00:00<?, ?it/s]"
      ]
     },
     "metadata": {},
     "output_type": "display_data"
    },
    {
     "name": "stdout",
     "output_type": "stream",
     "text": [
      "\u001b[92m10: Guess: $749.99 Truth: $829.99 Error: $80.00 SLE: 0.01 Item: HP 2023 Newest Pavilion Desktop, AMD Ryz...\u001b[0m\n"
     ]
    },
    {
     "data": {
      "application/vnd.jupyter.widget-view+json": {
       "model_id": "e7bfeb4ac1174360bb681749330f0945",
       "version_major": 2,
       "version_minor": 0
      },
      "text/plain": [
       "Batches:   0%|          | 0/1 [00:00<?, ?it/s]"
      ]
     },
     "metadata": {},
     "output_type": "display_data"
    },
    {
     "name": "stdout",
     "output_type": "stream",
     "text": [
      "\u001b[92m11: Guess: $29.99 Truth: $47.99 Error: $18.00 SLE: 0.21 Item: USB Type-C Adapter 10-in-1 Aluminum Body...\u001b[0m\n"
     ]
    },
    {
     "data": {
      "application/vnd.jupyter.widget-view+json": {
       "model_id": "f7d754c05c0c4de09ee04bf2694b7eac",
       "version_major": 2,
       "version_minor": 0
      },
      "text/plain": [
       "Batches:   0%|          | 0/1 [00:00<?, ?it/s]"
      ]
     },
     "metadata": {},
     "output_type": "display_data"
    },
    {
     "name": "stdout",
     "output_type": "stream",
     "text": [
      "\u001b[92m12: Guess: $79.99 Truth: $42.99 Error: $37.00 SLE: 0.37 Item: OontZ Ultra Bluetooth Speaker with Carry...\u001b[0m\n"
     ]
    },
    {
     "data": {
      "application/vnd.jupyter.widget-view+json": {
       "model_id": "e5005cb3bd6a450696b3d121547625e2",
       "version_major": 2,
       "version_minor": 0
      },
      "text/plain": [
       "Batches:   0%|          | 0/1 [00:00<?, ?it/s]"
      ]
     },
     "metadata": {},
     "output_type": "display_data"
    },
    {
     "name": "stdout",
     "output_type": "stream",
     "text": [
      "\u001b[92m13: Guess: $59.99 Truth: $32.99 Error: $27.00 SLE: 0.34 Item: CMS 16GB (2X8GB) DDR3 10600 1333MHZ Non ...\u001b[0m\n"
     ]
    },
    {
     "data": {
      "application/vnd.jupyter.widget-view+json": {
       "model_id": "3ddd00b7cfbd4ddda97c4cbb4f7c6e42",
       "version_major": 2,
       "version_minor": 0
      },
      "text/plain": [
       "Batches:   0%|          | 0/1 [00:00<?, ?it/s]"
      ]
     },
     "metadata": {},
     "output_type": "display_data"
    },
    {
     "name": "stdout",
     "output_type": "stream",
     "text": [
      "\u001b[92m14: Guess: $109.95 Truth: $124.99 Error: $15.04 SLE: 0.02 Item: Gariz Genuine Leather XS-CHDFBR Camera M...\u001b[0m\n"
     ]
    },
    {
     "data": {
      "application/vnd.jupyter.widget-view+json": {
       "model_id": "72458e4f91c44e068dde6ab59eefa836",
       "version_major": 2,
       "version_minor": 0
      },
      "text/plain": [
       "Batches:   0%|          | 0/1 [00:00<?, ?it/s]"
      ]
     },
     "metadata": {},
     "output_type": "display_data"
    },
    {
     "name": "stdout",
     "output_type": "stream",
     "text": [
      "\u001b[92m15: Guess: $73.00 Truth: $73.00 Error: $0.00 SLE: 0.00 Item: Samsung DA63-01262B Guard-Ref Mid\u001b[0m\n"
     ]
    },
    {
     "data": {
      "application/vnd.jupyter.widget-view+json": {
       "model_id": "7dcdc8da6c3746519115b8e08f094518",
       "version_major": 2,
       "version_minor": 0
      },
      "text/plain": [
       "Batches:   0%|          | 0/1 [00:00<?, ?it/s]"
      ]
     },
     "metadata": {},
     "output_type": "display_data"
    },
    {
     "name": "stdout",
     "output_type": "stream",
     "text": [
      "\u001b[92m16: Guess: $95.00 Truth: $95.31 Error: $0.31 SLE: 0.00 Item: Alphamax Haganai: I Don't Have Many Frie...\u001b[0m\n"
     ]
    },
    {
     "data": {
      "application/vnd.jupyter.widget-view+json": {
       "model_id": "bf061353b1054b67b601533f51843df3",
       "version_major": 2,
       "version_minor": 0
      },
      "text/plain": [
       "Batches:   0%|          | 0/1 [00:00<?, ?it/s]"
      ]
     },
     "metadata": {},
     "output_type": "display_data"
    },
    {
     "name": "stdout",
     "output_type": "stream",
     "text": [
      "\u001b[92m17: Guess: $39.99 Truth: $36.95 Error: $3.04 SLE: 0.01 Item: WORLDS BEST CABLES 0.5 Foot RCA Cable Pa...\u001b[0m\n"
     ]
    },
    {
     "data": {
      "application/vnd.jupyter.widget-view+json": {
       "model_id": "2a448b956c734488b8056b247c42e505",
       "version_major": 2,
       "version_minor": 0
      },
      "text/plain": [
       "Batches:   0%|          | 0/1 [00:00<?, ?it/s]"
      ]
     },
     "metadata": {},
     "output_type": "display_data"
    },
    {
     "name": "stdout",
     "output_type": "stream",
     "text": [
      "\u001b[93m18: Guess: $209.99 Truth: $295.69 Error: $85.70 SLE: 0.12 Item: Poly Voyager Free 60+ UC True Wireless E...\u001b[0m\n"
     ]
    },
    {
     "data": {
      "application/vnd.jupyter.widget-view+json": {
       "model_id": "3e197775ade7452c9dc52c5c74effddf",
       "version_major": 2,
       "version_minor": 0
      },
      "text/plain": [
       "Batches:   0%|          | 0/1 [00:00<?, ?it/s]"
      ]
     },
     "metadata": {},
     "output_type": "display_data"
    },
    {
     "name": "stdout",
     "output_type": "stream",
     "text": [
      "\u001b[92m19: Guess: $149.99 Truth: $168.41 Error: $18.42 SLE: 0.01 Item: Visionis FPC-5008 Two Door Access Contro...\u001b[0m\n"
     ]
    },
    {
     "data": {
      "application/vnd.jupyter.widget-view+json": {
       "model_id": "122a2096a96c4f7f92c082646d32fa5c",
       "version_major": 2,
       "version_minor": 0
      },
      "text/plain": [
       "Batches:   0%|          | 0/1 [00:00<?, ?it/s]"
      ]
     },
     "metadata": {},
     "output_type": "display_data"
    },
    {
     "name": "stdout",
     "output_type": "stream",
     "text": [
      "\u001b[91m20: Guess: $49.99 Truth: $178.86 Error: $128.87 SLE: 1.59 Item: EVGA 512-P3-N800-TR e-GeForce 8800 GT 51...\u001b[0m\n"
     ]
    },
    {
     "data": {
      "application/vnd.jupyter.widget-view+json": {
       "model_id": "9beda4e9427340488dbf1cfd4c987774",
       "version_major": 2,
       "version_minor": 0
      },
      "text/plain": [
       "Batches:   0%|          | 0/1 [00:00<?, ?it/s]"
      ]
     },
     "metadata": {},
     "output_type": "display_data"
    },
    {
     "name": "stdout",
     "output_type": "stream",
     "text": [
      "\u001b[93m21: Guess: $149.99 Truth: $85.90 Error: $64.09 SLE: 0.31 Item: AVUE 3G-SDI/HD-SDI/SDI 1 to 2 Distributi...\u001b[0m\n"
     ]
    },
    {
     "data": {
      "application/vnd.jupyter.widget-view+json": {
       "model_id": "b768381cf39d4877bdc150648033a086",
       "version_major": 2,
       "version_minor": 0
      },
      "text/plain": [
       "Batches:   0%|          | 0/1 [00:00<?, ?it/s]"
      ]
     },
     "metadata": {},
     "output_type": "display_data"
    },
    {
     "name": "stdout",
     "output_type": "stream",
     "text": [
      "\u001b[92m22: Guess: $23.99 Truth: $10.89 Error: $13.10 SLE: 0.55 Item: UpBright 12V AC/DC Adapter Compatible wi...\u001b[0m\n"
     ]
    },
    {
     "data": {
      "application/vnd.jupyter.widget-view+json": {
       "model_id": "21f955baac224842a17ddc3b3ee12f5c",
       "version_major": 2,
       "version_minor": 0
      },
      "text/plain": [
       "Batches:   0%|          | 0/1 [00:00<?, ?it/s]"
      ]
     },
     "metadata": {},
     "output_type": "display_data"
    },
    {
     "name": "stdout",
     "output_type": "stream",
     "text": [
      "\u001b[93m23: Guess: $119.99 Truth: $189.99 Error: $70.00 SLE: 0.21 Item: GOOZEEZOO 1.10D Malachite DSP SDR Radio ...\u001b[0m\n"
     ]
    },
    {
     "data": {
      "application/vnd.jupyter.widget-view+json": {
       "model_id": "c7782034d86b461191c23e66881be74d",
       "version_major": 2,
       "version_minor": 0
      },
      "text/plain": [
       "Batches:   0%|          | 0/1 [00:00<?, ?it/s]"
      ]
     },
     "metadata": {},
     "output_type": "display_data"
    },
    {
     "name": "stdout",
     "output_type": "stream",
     "text": [
      "\u001b[93m24: Guess: $299.99 Truth: $239.00 Error: $60.99 SLE: 0.05 Item: ASUS E14 (L406NA-WH02) Laptop, 14\" HD Di...\u001b[0m\n"
     ]
    },
    {
     "data": {
      "application/vnd.jupyter.widget-view+json": {
       "model_id": "db6ffeb6bc64458cabb4e74ef1ade433",
       "version_major": 2,
       "version_minor": 0
      },
      "text/plain": [
       "Batches:   0%|          | 0/1 [00:00<?, ?it/s]"
      ]
     },
     "metadata": {},
     "output_type": "display_data"
    },
    {
     "name": "stdout",
     "output_type": "stream",
     "text": [
      "\u001b[91m25: Guess: $179.99 Truth: $89.99 Error: $90.00 SLE: 0.47 Item: Battery Charger 36V 13A for EZGO EZ-GO T...\u001b[0m\n"
     ]
    },
    {
     "data": {
      "application/vnd.jupyter.widget-view+json": {
       "model_id": "bb29e2487d7b4340842b9b6a4cdbef31",
       "version_major": 2,
       "version_minor": 0
      },
      "text/plain": [
       "Batches:   0%|          | 0/1 [00:00<?, ?it/s]"
      ]
     },
     "metadata": {},
     "output_type": "display_data"
    },
    {
     "name": "stdout",
     "output_type": "stream",
     "text": [
      "\u001b[92m26: Guess: $199.00 Truth: $175.87 Error: $23.13 SLE: 0.02 Item: Garmin GT23M-TM Transducer, Black\u001b[0m\n"
     ]
    },
    {
     "data": {
      "application/vnd.jupyter.widget-view+json": {
       "model_id": "3a709866580c43e6926644956ef5cfff",
       "version_major": 2,
       "version_minor": 0
      },
      "text/plain": [
       "Batches:   0%|          | 0/1 [00:00<?, ?it/s]"
      ]
     },
     "metadata": {},
     "output_type": "display_data"
    },
    {
     "name": "stdout",
     "output_type": "stream",
     "text": [
      "\u001b[93m27: Guess: $99.95 Truth: $48.71 Error: $51.24 SLE: 0.50 Item: Celestron R/A Single Axis Motor Drive fo...\u001b[0m\n"
     ]
    },
    {
     "data": {
      "application/vnd.jupyter.widget-view+json": {
       "model_id": "3151384cb0314ab08540e9d7d93bcc4b",
       "version_major": 2,
       "version_minor": 0
      },
      "text/plain": [
       "Batches:   0%|          | 0/1 [00:00<?, ?it/s]"
      ]
     },
     "metadata": {},
     "output_type": "display_data"
    },
    {
     "name": "stdout",
     "output_type": "stream",
     "text": [
      "\u001b[92m28: Guess: $29.99 Truth: $25.38 Error: $4.61 SLE: 0.03 Item: Kemo M032S 12 Watt Universal Mono Plug a...\u001b[0m\n"
     ]
    },
    {
     "data": {
      "application/vnd.jupyter.widget-view+json": {
       "model_id": "e38882f87e93498f9cd6f7fa2bb9527c",
       "version_major": 2,
       "version_minor": 0
      },
      "text/plain": [
       "Batches:   0%|          | 0/1 [00:00<?, ?it/s]"
      ]
     },
     "metadata": {},
     "output_type": "display_data"
    },
    {
     "name": "stdout",
     "output_type": "stream",
     "text": [
      "\u001b[92m29: Guess: $34.99 Truth: $34.95 Error: $0.04 SLE: 0.00 Item: Arch Memory Replacement for Dell SNPMKYF...\u001b[0m\n"
     ]
    },
    {
     "data": {
      "application/vnd.jupyter.widget-view+json": {
       "model_id": "a491bebc2c114e7a86730f8c675ef547",
       "version_major": 2,
       "version_minor": 0
      },
      "text/plain": [
       "Batches:   0%|          | 0/1 [00:00<?, ?it/s]"
      ]
     },
     "metadata": {},
     "output_type": "display_data"
    },
    {
     "name": "stdout",
     "output_type": "stream",
     "text": [
      "\u001b[91m30: Guess: $601.14 Truth: $313.89 Error: $287.25 SLE: 0.42 Item: GENUINE Frigidaire 316456224 Glass Cook ...\u001b[0m\n"
     ]
    },
    {
     "data": {
      "application/vnd.jupyter.widget-view+json": {
       "model_id": "e2cdc014f81c43a3b03226e157ad65af",
       "version_major": 2,
       "version_minor": 0
      },
      "text/plain": [
       "Batches:   0%|          | 0/1 [00:00<?, ?it/s]"
      ]
     },
     "metadata": {},
     "output_type": "display_data"
    },
    {
     "name": "stdout",
     "output_type": "stream",
     "text": [
      "\u001b[92m31: Guess: $199.99 Truth: $240.00 Error: $40.01 SLE: 0.03 Item: Vertical Cable Cat6, UTP, Gel Filled (Fl...\u001b[0m\n"
     ]
    },
    {
     "data": {
      "application/vnd.jupyter.widget-view+json": {
       "model_id": "f70a14250de74c6eb1b8c70b426551d9",
       "version_major": 2,
       "version_minor": 0
      },
      "text/plain": [
       "Batches:   0%|          | 0/1 [00:00<?, ?it/s]"
      ]
     },
     "metadata": {},
     "output_type": "display_data"
    },
    {
     "name": "stdout",
     "output_type": "stream",
     "text": [
      "\u001b[93m32: Guess: $99.99 Truth: $151.20 Error: $51.21 SLE: 0.17 Item: Headsets ONLY-GN9350E\u001b[0m\n"
     ]
    },
    {
     "data": {
      "application/vnd.jupyter.widget-view+json": {
       "model_id": "92a797fb68c640f89e623be29ccdb25f",
       "version_major": 2,
       "version_minor": 0
      },
      "text/plain": [
       "Batches:   0%|          | 0/1 [00:00<?, ?it/s]"
      ]
     },
     "metadata": {},
     "output_type": "display_data"
    },
    {
     "name": "stdout",
     "output_type": "stream",
     "text": [
      "\u001b[92m33: Guess: $34.99 Truth: $33.95 Error: $1.04 SLE: 0.00 Item: SparkFun Pro RF - LoRa, 915MHz (SAMD21) ...\u001b[0m\n"
     ]
    },
    {
     "data": {
      "application/vnd.jupyter.widget-view+json": {
       "model_id": "c9c0dad36d4c4890bc465b9ad92ee095",
       "version_major": 2,
       "version_minor": 0
      },
      "text/plain": [
       "Batches:   0%|          | 0/1 [00:00<?, ?it/s]"
      ]
     },
     "metadata": {},
     "output_type": "display_data"
    },
    {
     "name": "stdout",
     "output_type": "stream",
     "text": [
      "\u001b[93m34: Guess: $119.99 Truth: $69.99 Error: $50.00 SLE: 0.28 Item: Telescope for Adults & Kids - NACATIN 70...\u001b[0m\n"
     ]
    },
    {
     "data": {
      "application/vnd.jupyter.widget-view+json": {
       "model_id": "943a924756d94757b7d34eb0d8b5b3fc",
       "version_major": 2,
       "version_minor": 0
      },
      "text/plain": [
       "Batches:   0%|          | 0/1 [00:00<?, ?it/s]"
      ]
     },
     "metadata": {},
     "output_type": "display_data"
    },
    {
     "name": "stdout",
     "output_type": "stream",
     "text": [
      "\u001b[92m35: Guess: $49.99 Truth: $44.99 Error: $5.00 SLE: 0.01 Item: Samsung DVD-P401 Progressive-Scan DVD Pl...\u001b[0m\n"
     ]
    },
    {
     "data": {
      "application/vnd.jupyter.widget-view+json": {
       "model_id": "8bec44180ba64bc1a5e5302ee1f93382",
       "version_major": 2,
       "version_minor": 0
      },
      "text/plain": [
       "Batches:   0%|          | 0/1 [00:00<?, ?it/s]"
      ]
     },
     "metadata": {},
     "output_type": "display_data"
    },
    {
     "name": "stdout",
     "output_type": "stream",
     "text": [
      "\u001b[92m36: Guess: $14.99 Truth: $48.99 Error: $34.00 SLE: 1.30 Item: FOINNEX HDMI to Mini Displayport Adapter...\u001b[0m\n"
     ]
    },
    {
     "data": {
      "application/vnd.jupyter.widget-view+json": {
       "model_id": "2b439ddb43e04d3cba77eb542290e361",
       "version_major": 2,
       "version_minor": 0
      },
      "text/plain": [
       "Batches:   0%|          | 0/1 [00:00<?, ?it/s]"
      ]
     },
     "metadata": {},
     "output_type": "display_data"
    },
    {
     "name": "stdout",
     "output_type": "stream",
     "text": [
      "\u001b[91m37: Guess: $449.00 Truth: $162.20 Error: $286.80 SLE: 1.03 Item: WatchGuard Firebox T10 with 1YR Standard...\u001b[0m\n"
     ]
    },
    {
     "data": {
      "application/vnd.jupyter.widget-view+json": {
       "model_id": "e1263ff115b547fdaa9327a1594d0204",
       "version_major": 2,
       "version_minor": 0
      },
      "text/plain": [
       "Batches:   0%|          | 0/1 [00:00<?, ?it/s]"
      ]
     },
     "metadata": {},
     "output_type": "display_data"
    },
    {
     "name": "stdout",
     "output_type": "stream",
     "text": [
      "\u001b[92m38: Guess: $29.99 Truth: $25.99 Error: $4.00 SLE: 0.02 Item: i-Blason Case for New iPad Pro 11 Inch C...\u001b[0m\n"
     ]
    },
    {
     "data": {
      "application/vnd.jupyter.widget-view+json": {
       "model_id": "1a16a8c092d644e295d00ef08944ff61",
       "version_major": 2,
       "version_minor": 0
      },
      "text/plain": [
       "Batches:   0%|          | 0/1 [00:00<?, ?it/s]"
      ]
     },
     "metadata": {},
     "output_type": "display_data"
    },
    {
     "name": "stdout",
     "output_type": "stream",
     "text": [
      "\u001b[91m39: Guess: $399.00 Truth: $770.00 Error: $371.00 SLE: 0.43 Item: Awoco 72\" Elegant 2 Speeds 1800CFM Comme...\u001b[0m\n"
     ]
    },
    {
     "data": {
      "application/vnd.jupyter.widget-view+json": {
       "model_id": "f7b425b752f2495d97b9405773328c1d",
       "version_major": 2,
       "version_minor": 0
      },
      "text/plain": [
       "Batches:   0%|          | 0/1 [00:00<?, ?it/s]"
      ]
     },
     "metadata": {},
     "output_type": "display_data"
    },
    {
     "name": "stdout",
     "output_type": "stream",
     "text": [
      "\u001b[92m40: Guess: $329.99 Truth: $357.95 Error: $27.96 SLE: 0.01 Item: Dell Optiplex 7060 Mini Tower | Intel Qu...\u001b[0m\n"
     ]
    },
    {
     "data": {
      "application/vnd.jupyter.widget-view+json": {
       "model_id": "4087145e845341bebee7472b8713802e",
       "version_major": 2,
       "version_minor": 0
      },
      "text/plain": [
       "Batches:   0%|          | 0/1 [00:00<?, ?it/s]"
      ]
     },
     "metadata": {},
     "output_type": "display_data"
    },
    {
     "name": "stdout",
     "output_type": "stream",
     "text": [
      "\u001b[92m41: Guess: $114.99 Truth: $129.99 Error: $15.00 SLE: 0.01 Item: AIYIMA A08 PRO TPA3255 Power Amplifier B...\u001b[0m\n"
     ]
    },
    {
     "data": {
      "application/vnd.jupyter.widget-view+json": {
       "model_id": "5700b8da1ddf4cbabf96152c3f46ca5d",
       "version_major": 2,
       "version_minor": 0
      },
      "text/plain": [
       "Batches:   0%|          | 0/1 [00:00<?, ?it/s]"
      ]
     },
     "metadata": {},
     "output_type": "display_data"
    },
    {
     "name": "stdout",
     "output_type": "stream",
     "text": [
      "\u001b[92m42: Guess: $49.99 Truth: $64.36 Error: $14.37 SLE: 0.06 Item: ACER ASPIRE 7741Z-4643 Laptop Screen 17....\u001b[0m\n"
     ]
    },
    {
     "data": {
      "application/vnd.jupyter.widget-view+json": {
       "model_id": "86a1592c3d0f4de8b317387dac6fd39f",
       "version_major": 2,
       "version_minor": 0
      },
      "text/plain": [
       "Batches:   0%|          | 0/1 [00:00<?, ?it/s]"
      ]
     },
     "metadata": {},
     "output_type": "display_data"
    },
    {
     "name": "stdout",
     "output_type": "stream",
     "text": [
      "\u001b[92m43: Guess: $39.99 Truth: $35.99 Error: $4.00 SLE: 0.01 Item: Dentsing PI06 Compatible Laptop Battery ...\u001b[0m\n"
     ]
    },
    {
     "data": {
      "application/vnd.jupyter.widget-view+json": {
       "model_id": "36e019e752e346dca3a87285f96c2dd1",
       "version_major": 2,
       "version_minor": 0
      },
      "text/plain": [
       "Batches:   0%|          | 0/1 [00:00<?, ?it/s]"
      ]
     },
     "metadata": {},
     "output_type": "display_data"
    },
    {
     "name": "stdout",
     "output_type": "stream",
     "text": [
      "\u001b[92m44: Guess: $45.99 Truth: $82.99 Error: $37.00 SLE: 0.34 Item: Brady LAT-40-799-1 0.5\" Width x 0.750\" H...\u001b[0m\n"
     ]
    },
    {
     "data": {
      "application/vnd.jupyter.widget-view+json": {
       "model_id": "aa52f024fc7648b39a78cd09e6d82713",
       "version_major": 2,
       "version_minor": 0
      },
      "text/plain": [
       "Batches:   0%|          | 0/1 [00:00<?, ?it/s]"
      ]
     },
     "metadata": {},
     "output_type": "display_data"
    },
    {
     "name": "stdout",
     "output_type": "stream",
     "text": [
      "\u001b[92m45: Guess: $19.99 Truth: $16.99 Error: $3.00 SLE: 0.02 Item: USA Gear DSLR Camera Case Sleeve with Ac...\u001b[0m\n"
     ]
    },
    {
     "data": {
      "application/vnd.jupyter.widget-view+json": {
       "model_id": "7d93984e6afc49a6819ff6a5c151d00e",
       "version_major": 2,
       "version_minor": 0
      },
      "text/plain": [
       "Batches:   0%|          | 0/1 [00:00<?, ?it/s]"
      ]
     },
     "metadata": {},
     "output_type": "display_data"
    },
    {
     "name": "stdout",
     "output_type": "stream",
     "text": [
      "\u001b[92m46: Guess: $14.99 Truth: $11.85 Error: $3.14 SLE: 0.05 Item: EDO Tech Mini USB AC Adapter Wall Charge...\u001b[0m\n"
     ]
    },
    {
     "data": {
      "application/vnd.jupyter.widget-view+json": {
       "model_id": "5155cf9790ab4041ae262b4dc56370fb",
       "version_major": 2,
       "version_minor": 0
      },
      "text/plain": [
       "Batches:   0%|          | 0/1 [00:00<?, ?it/s]"
      ]
     },
     "metadata": {},
     "output_type": "display_data"
    },
    {
     "name": "stdout",
     "output_type": "stream",
     "text": [
      "\u001b[93m47: Guess: $29.99 Truth: $76.99 Error: $47.00 SLE: 0.85 Item: Vemico EN-EL25 Battery 2-Pack 1350mAh an...\u001b[0m\n"
     ]
    },
    {
     "data": {
      "application/vnd.jupyter.widget-view+json": {
       "model_id": "7f8239c2a9fb4bed9c4491f7bc8dc808",
       "version_major": 2,
       "version_minor": 0
      },
      "text/plain": [
       "Batches:   0%|          | 0/1 [00:00<?, ?it/s]"
      ]
     },
     "metadata": {},
     "output_type": "display_data"
    },
    {
     "name": "stdout",
     "output_type": "stream",
     "text": [
      "\u001b[92m48: Guess: $39.99 Truth: $35.00 Error: $4.99 SLE: 0.02 Item: 5A-75B Colorlight Best Price LED Screen ...\u001b[0m\n"
     ]
    },
    {
     "data": {
      "application/vnd.jupyter.widget-view+json": {
       "model_id": "151b978f3b16435b86c8cc739be63e15",
       "version_major": 2,
       "version_minor": 0
      },
      "text/plain": [
       "Batches:   0%|          | 0/1 [00:00<?, ?it/s]"
      ]
     },
     "metadata": {},
     "output_type": "display_data"
    },
    {
     "name": "stdout",
     "output_type": "stream",
     "text": [
      "\u001b[93m49: Guess: $209.99 Truth: $143.11 Error: $66.88 SLE: 0.15 Item: ASUS Radeon RX 580 O4G Dual-Fan OC Editi...\u001b[0m\n"
     ]
    },
    {
     "data": {
      "application/vnd.jupyter.widget-view+json": {
       "model_id": "5a9aaa2217134d26a42a6179fbc955b4",
       "version_major": 2,
       "version_minor": 0
      },
      "text/plain": [
       "Batches:   0%|          | 0/1 [00:00<?, ?it/s]"
      ]
     },
     "metadata": {},
     "output_type": "display_data"
    },
    {
     "name": "stdout",
     "output_type": "stream",
     "text": [
      "\u001b[92m50: Guess: $75.00 Truth: $75.99 Error: $0.99 SLE: 0.00 Item: Tiffen 67HTCGND6 67MM Digital HT Grad ND...\u001b[0m\n"
     ]
    },
    {
     "data": {
      "application/vnd.jupyter.widget-view+json": {
       "model_id": "403312b3453b4e039244c3b81d409069",
       "version_major": 2,
       "version_minor": 0
      },
      "text/plain": [
       "Batches:   0%|          | 0/1 [00:00<?, ?it/s]"
      ]
     },
     "metadata": {},
     "output_type": "display_data"
    },
    {
     "name": "stdout",
     "output_type": "stream",
     "text": [
      "\u001b[91m51: Guess: $1.00 Truth: $899.00 Error: $898.00 SLE: 37.32 Item: Voigtlander Macro APO-LANTHAR 110mm F/2....\u001b[0m\n"
     ]
    },
    {
     "data": {
      "application/vnd.jupyter.widget-view+json": {
       "model_id": "5808991dd0794cc5a78ab6faf22e7e86",
       "version_major": 2,
       "version_minor": 0
      },
      "text/plain": [
       "Batches:   0%|          | 0/1 [00:00<?, ?it/s]"
      ]
     },
     "metadata": {},
     "output_type": "display_data"
    },
    {
     "name": "stdout",
     "output_type": "stream",
     "text": [
      "\u001b[93m52: Guess: $94.99 Truth: $54.97 Error: $40.02 SLE: 0.29 Item: VIZIO V-Series 2.0 Compact Home Theater ...\u001b[0m\n"
     ]
    },
    {
     "data": {
      "application/vnd.jupyter.widget-view+json": {
       "model_id": "47201aa7da07471c88810e1466cb01ef",
       "version_major": 2,
       "version_minor": 0
      },
      "text/plain": [
       "Batches:   0%|          | 0/1 [00:00<?, ?it/s]"
      ]
     },
     "metadata": {},
     "output_type": "display_data"
    },
    {
     "name": "stdout",
     "output_type": "stream",
     "text": [
      "\u001b[92m53: Guess: $29.99 Truth: $24.36 Error: $5.63 SLE: 0.04 Item: DIY Smartphone Projector 2.0, Mini DIY H...\u001b[0m\n"
     ]
    },
    {
     "data": {
      "application/vnd.jupyter.widget-view+json": {
       "model_id": "e6b9623c0a4141849505621f3284cd8f",
       "version_major": 2,
       "version_minor": 0
      },
      "text/plain": [
       "Batches:   0%|          | 0/1 [00:00<?, ?it/s]"
      ]
     },
     "metadata": {},
     "output_type": "display_data"
    },
    {
     "name": "stdout",
     "output_type": "stream",
     "text": [
      "\u001b[92m54: Guess: $12.99 Truth: $16.49 Error: $3.50 SLE: 0.05 Item: USB Extension, Canjoy 3 Pack 6.6ft USB 3...\u001b[0m\n"
     ]
    },
    {
     "data": {
      "application/vnd.jupyter.widget-view+json": {
       "model_id": "b65749ff110645569a5ebbc57328afc2",
       "version_major": 2,
       "version_minor": 0
      },
      "text/plain": [
       "Batches:   0%|          | 0/1 [00:00<?, ?it/s]"
      ]
     },
     "metadata": {},
     "output_type": "display_data"
    },
    {
     "name": "stdout",
     "output_type": "stream",
     "text": [
      "\u001b[92m55: Guess: $149.00 Truth: $145.00 Error: $4.00 SLE: 0.00 Item: Tiltaing Lightweight Kit Compatible with...\u001b[0m\n"
     ]
    },
    {
     "data": {
      "application/vnd.jupyter.widget-view+json": {
       "model_id": "892bd3e0c4414e2098744046545457fe",
       "version_major": 2,
       "version_minor": 0
      },
      "text/plain": [
       "Batches:   0%|          | 0/1 [00:00<?, ?it/s]"
      ]
     },
     "metadata": {},
     "output_type": "display_data"
    },
    {
     "name": "stdout",
     "output_type": "stream",
     "text": [
      "\u001b[92m56: Guess: $99.00 Truth: $129.99 Error: $30.99 SLE: 0.07 Item: Wireless HDMI Extender Kit HDMI Wireless...\u001b[0m\n"
     ]
    },
    {
     "data": {
      "application/vnd.jupyter.widget-view+json": {
       "model_id": "9c367593d925476a9bc78c5fd7004c9a",
       "version_major": 2,
       "version_minor": 0
      },
      "text/plain": [
       "Batches:   0%|          | 0/1 [00:00<?, ?it/s]"
      ]
     },
     "metadata": {},
     "output_type": "display_data"
    },
    {
     "name": "stdout",
     "output_type": "stream",
     "text": [
      "\u001b[93m57: Guess: $179.00 Truth: $138.99 Error: $40.01 SLE: 0.06 Item: Nitze 15mm Follow Focus Kit with 3 Rever...\u001b[0m\n"
     ]
    },
    {
     "data": {
      "application/vnd.jupyter.widget-view+json": {
       "model_id": "87e07aaad7ec4fff8522e9ec54093a1f",
       "version_major": 2,
       "version_minor": 0
      },
      "text/plain": [
       "Batches:   0%|          | 0/1 [00:00<?, ?it/s]"
      ]
     },
     "metadata": {},
     "output_type": "display_data"
    },
    {
     "name": "stdout",
     "output_type": "stream",
     "text": [
      "\u001b[92m58: Guess: $399.95 Truth: $359.99 Error: $39.96 SLE: 0.01 Item: Hifonics BXX4000.1D Brutus Class D 4000W...\u001b[0m\n"
     ]
    },
    {
     "data": {
      "application/vnd.jupyter.widget-view+json": {
       "model_id": "c0734719c3da4598986d6ff96fa977ac",
       "version_major": 2,
       "version_minor": 0
      },
      "text/plain": [
       "Batches:   0%|          | 0/1 [00:00<?, ?it/s]"
      ]
     },
     "metadata": {},
     "output_type": "display_data"
    },
    {
     "name": "stdout",
     "output_type": "stream",
     "text": [
      "\u001b[92m59: Guess: $12.99 Truth: $17.99 Error: $5.00 SLE: 0.09 Item: SIMTOP Electronic Organizer, Travel cabl...\u001b[0m\n"
     ]
    },
    {
     "data": {
      "application/vnd.jupyter.widget-view+json": {
       "model_id": "814fc33a092a45ee811333876464cfbb",
       "version_major": 2,
       "version_minor": 0
      },
      "text/plain": [
       "Batches:   0%|          | 0/1 [00:00<?, ?it/s]"
      ]
     },
     "metadata": {},
     "output_type": "display_data"
    },
    {
     "name": "stdout",
     "output_type": "stream",
     "text": [
      "\u001b[92m60: Guess: $169.00 Truth: $209.00 Error: $40.00 SLE: 0.04 Item: Audio-Technica ATH-CKR7TW True Wireless ...\u001b[0m\n"
     ]
    },
    {
     "data": {
      "application/vnd.jupyter.widget-view+json": {
       "model_id": "ba54447cb4534556a3e08bc881bceb7b",
       "version_major": 2,
       "version_minor": 0
      },
      "text/plain": [
       "Batches:   0%|          | 0/1 [00:00<?, ?it/s]"
      ]
     },
     "metadata": {},
     "output_type": "display_data"
    },
    {
     "name": "stdout",
     "output_type": "stream",
     "text": [
      "\u001b[92m61: Guess: $39.99 Truth: $49.95 Error: $9.96 SLE: 0.05 Item: Large Flat Screen TV/LED / HDTV Vinyl Pa...\u001b[0m\n"
     ]
    },
    {
     "data": {
      "application/vnd.jupyter.widget-view+json": {
       "model_id": "6a28c30ce7544ae9b87ea614e2c41cdc",
       "version_major": 2,
       "version_minor": 0
      },
      "text/plain": [
       "Batches:   0%|          | 0/1 [00:00<?, ?it/s]"
      ]
     },
     "metadata": {},
     "output_type": "display_data"
    },
    {
     "name": "stdout",
     "output_type": "stream",
     "text": [
      "\u001b[92m62: Guess: $15.99 Truth: $6.88 Error: $9.11 SLE: 0.59 Item: Zahara DC in Power Jack Charging Port Pl...\u001b[0m\n"
     ]
    },
    {
     "data": {
      "application/vnd.jupyter.widget-view+json": {
       "model_id": "5e999db1a7ba43bcab9139ef8e8f619c",
       "version_major": 2,
       "version_minor": 0
      },
      "text/plain": [
       "Batches:   0%|          | 0/1 [00:00<?, ?it/s]"
      ]
     },
     "metadata": {},
     "output_type": "display_data"
    },
    {
     "name": "stdout",
     "output_type": "stream",
     "text": [
      "\u001b[92m63: Guess: $129.99 Truth: $129.99 Error: $0.00 SLE: 0.00 Item: Nictemaw Washing Machine 17.6lbs Portalb...\u001b[0m\n"
     ]
    },
    {
     "data": {
      "application/vnd.jupyter.widget-view+json": {
       "model_id": "3fcae54209d944bc82bff22462db1ae1",
       "version_major": 2,
       "version_minor": 0
      },
      "text/plain": [
       "Batches:   0%|          | 0/1 [00:00<?, ?it/s]"
      ]
     },
     "metadata": {},
     "output_type": "display_data"
    },
    {
     "name": "stdout",
     "output_type": "stream",
     "text": [
      "\u001b[91m64: Guess: $95.00 Truth: $199.98 Error: $104.98 SLE: 0.55 Item: TM-U220B, Impact, two-color printing, 6 ...\u001b[0m\n"
     ]
    },
    {
     "data": {
      "application/vnd.jupyter.widget-view+json": {
       "model_id": "8493216bb669487ba8bdea28edfe1696",
       "version_major": 2,
       "version_minor": 0
      },
      "text/plain": [
       "Batches:   0%|          | 0/1 [00:00<?, ?it/s]"
      ]
     },
     "metadata": {},
     "output_type": "display_data"
    },
    {
     "name": "stdout",
     "output_type": "stream",
     "text": [
      "\u001b[92m65: Guess: $29.99 Truth: $23.56 Error: $6.43 SLE: 0.05 Item: GOTOTOP Car Siren Horn Speaker, Loud Hor...\u001b[0m\n"
     ]
    },
    {
     "data": {
      "application/vnd.jupyter.widget-view+json": {
       "model_id": "bd1e8130f5c44163a58f3758886ab323",
       "version_major": 2,
       "version_minor": 0
      },
      "text/plain": [
       "Batches:   0%|          | 0/1 [00:00<?, ?it/s]"
      ]
     },
     "metadata": {},
     "output_type": "display_data"
    },
    {
     "name": "stdout",
     "output_type": "stream",
     "text": [
      "\u001b[92m66: Guess: $49.99 Truth: $46.99 Error: $3.00 SLE: 0.00 Item: ZLiT for Insta360 X3 Protective Cage,Alu...\u001b[0m\n"
     ]
    },
    {
     "data": {
      "application/vnd.jupyter.widget-view+json": {
       "model_id": "3295819d855545ccbc5f14ffceaa0e40",
       "version_major": 2,
       "version_minor": 0
      },
      "text/plain": [
       "Batches:   0%|          | 0/1 [00:00<?, ?it/s]"
      ]
     },
     "metadata": {},
     "output_type": "display_data"
    },
    {
     "name": "stdout",
     "output_type": "stream",
     "text": [
      "\u001b[92m67: Guess: $41.95 Truth: $41.95 Error: $0.00 SLE: 0.00 Item: pp-Code WiFi Temperature and Humidity Se...\u001b[0m\n"
     ]
    },
    {
     "data": {
      "application/vnd.jupyter.widget-view+json": {
       "model_id": "5405d136620b4819b6d224a7ac7acc4a",
       "version_major": 2,
       "version_minor": 0
      },
      "text/plain": [
       "Batches:   0%|          | 0/1 [00:00<?, ?it/s]"
      ]
     },
     "metadata": {},
     "output_type": "display_data"
    },
    {
     "name": "stdout",
     "output_type": "stream",
     "text": [
      "\u001b[92m68: Guess: $9.99 Truth: $7.99 Error: $2.00 SLE: 0.04 Item: Portable Square Earphone Carrying Case M...\u001b[0m\n"
     ]
    },
    {
     "data": {
      "application/vnd.jupyter.widget-view+json": {
       "model_id": "0a19cc18f89140e79022d841cc19908e",
       "version_major": 2,
       "version_minor": 0
      },
      "text/plain": [
       "Batches:   0%|          | 0/1 [00:00<?, ?it/s]"
      ]
     },
     "metadata": {},
     "output_type": "display_data"
    },
    {
     "name": "stdout",
     "output_type": "stream",
     "text": [
      "\u001b[93m69: Guess: $109.99 Truth: $42.99 Error: $67.00 SLE: 0.86 Item: RECOIL RCK0 True 0 Gauge Complete CCA Am...\u001b[0m\n"
     ]
    },
    {
     "data": {
      "application/vnd.jupyter.widget-view+json": {
       "model_id": "6e30ed7994f54491beeef229c465fdfb",
       "version_major": 2,
       "version_minor": 0
      },
      "text/plain": [
       "Batches:   0%|          | 0/1 [00:00<?, ?it/s]"
      ]
     },
     "metadata": {},
     "output_type": "display_data"
    },
    {
     "name": "stdout",
     "output_type": "stream",
     "text": [
      "\u001b[92m70: Guess: $15.99 Truth: $7.99 Error: $8.00 SLE: 0.41 Item: WANBY Camera Soft Cotton Hand Wrist Stra...\u001b[0m\n"
     ]
    },
    {
     "data": {
      "application/vnd.jupyter.widget-view+json": {
       "model_id": "611ae67de51748c4868edec5b4d8b14e",
       "version_major": 2,
       "version_minor": 0
      },
      "text/plain": [
       "Batches:   0%|          | 0/1 [00:00<?, ?it/s]"
      ]
     },
     "metadata": {},
     "output_type": "display_data"
    },
    {
     "name": "stdout",
     "output_type": "stream",
     "text": [
      "\u001b[93m71: Guess: $399.99 Truth: $666.05 Error: $266.06 SLE: 0.26 Item: Lenovo ThinkPad W541 Mobile Workstation ...\u001b[0m\n"
     ]
    },
    {
     "data": {
      "application/vnd.jupyter.widget-view+json": {
       "model_id": "f3c2fc9a847a408ca2de3c59128b578b",
       "version_major": 2,
       "version_minor": 0
      },
      "text/plain": [
       "Batches:   0%|          | 0/1 [00:00<?, ?it/s]"
      ]
     },
     "metadata": {},
     "output_type": "display_data"
    },
    {
     "name": "stdout",
     "output_type": "stream",
     "text": [
      "\u001b[93m72: Guess: $449.00 Truth: $597.00 Error: $148.00 SLE: 0.08 Item: Lenovo ThinkBook 15 IIL Core i5-1035G1 8...\u001b[0m\n"
     ]
    },
    {
     "data": {
      "application/vnd.jupyter.widget-view+json": {
       "model_id": "9ef987b102cd42239034b8d936defbae",
       "version_major": 2,
       "version_minor": 0
      },
      "text/plain": [
       "Batches:   0%|          | 0/1 [00:00<?, ?it/s]"
      ]
     },
     "metadata": {},
     "output_type": "display_data"
    },
    {
     "name": "stdout",
     "output_type": "stream",
     "text": [
      "\u001b[93m73: Guess: $99.99 Truth: $145.99 Error: $46.00 SLE: 0.14 Item: Liene 4x6'' Photo Printer Bundle (60 pcs...\u001b[0m\n"
     ]
    },
    {
     "data": {
      "application/vnd.jupyter.widget-view+json": {
       "model_id": "dd1e8dd4b6d548b893321352c5f035dd",
       "version_major": 2,
       "version_minor": 0
      },
      "text/plain": [
       "Batches:   0%|          | 0/1 [00:00<?, ?it/s]"
      ]
     },
     "metadata": {},
     "output_type": "display_data"
    },
    {
     "name": "stdout",
     "output_type": "stream",
     "text": [
      "\u001b[92m74: Guess: $29.99 Truth: $22.50 Error: $7.49 SLE: 0.08 Item: PWR+ Laptop Charger for Asus Vivobook Go...\u001b[0m\n"
     ]
    },
    {
     "data": {
      "application/vnd.jupyter.widget-view+json": {
       "model_id": "ca249bdca05c427c91081358f1c38a45",
       "version_major": 2,
       "version_minor": 0
      },
      "text/plain": [
       "Batches:   0%|          | 0/1 [00:00<?, ?it/s]"
      ]
     },
     "metadata": {},
     "output_type": "display_data"
    },
    {
     "name": "stdout",
     "output_type": "stream",
     "text": [
      "\u001b[91m75: Guess: $149.99 Truth: $43.39 Error: $106.60 SLE: 1.50 Item: POA-LMP LP68 Replacement Projector Lamp ...\u001b[0m\n"
     ]
    },
    {
     "data": {
      "application/vnd.jupyter.widget-view+json": {
       "model_id": "8d9ba6cc151c48d9840c451dbd533361",
       "version_major": 2,
       "version_minor": 0
      },
      "text/plain": [
       "Batches:   0%|          | 0/1 [00:00<?, ?it/s]"
      ]
     },
     "metadata": {},
     "output_type": "display_data"
    },
    {
     "name": "stdout",
     "output_type": "stream",
     "text": [
      "\u001b[92m76: Guess: $89.99 Truth: $89.99 Error: $0.00 SLE: 0.00 Item: VIVO Black 1,000ft Bulk Cat5e, CCA Ether...\u001b[0m\n"
     ]
    },
    {
     "data": {
      "application/vnd.jupyter.widget-view+json": {
       "model_id": "67941097380d4e548b0418ea3812aa7f",
       "version_major": 2,
       "version_minor": 0
      },
      "text/plain": [
       "Batches:   0%|          | 0/1 [00:00<?, ?it/s]"
      ]
     },
     "metadata": {},
     "output_type": "display_data"
    },
    {
     "name": "stdout",
     "output_type": "stream",
     "text": [
      "\u001b[92m77: Guess: $19.99 Truth: $19.07 Error: $0.92 SLE: 0.00 Item: Bewinner 10 Inch Universal PU Leather Ke...\u001b[0m\n"
     ]
    },
    {
     "data": {
      "application/vnd.jupyter.widget-view+json": {
       "model_id": "c524f73efc12425d94e65a1c2a027e94",
       "version_major": 2,
       "version_minor": 0
      },
      "text/plain": [
       "Batches:   0%|          | 0/1 [00:00<?, ?it/s]"
      ]
     },
     "metadata": {},
     "output_type": "display_data"
    },
    {
     "name": "stdout",
     "output_type": "stream",
     "text": [
      "\u001b[92m78: Guess: $39.99 Truth: $69.44 Error: $29.45 SLE: 0.29 Item: Logitech LX5 Cordless Optical Mouse\u001b[0m\n"
     ]
    },
    {
     "data": {
      "application/vnd.jupyter.widget-view+json": {
       "model_id": "77c80056de4045b7931df1219ea5bd02",
       "version_major": 2,
       "version_minor": 0
      },
      "text/plain": [
       "Batches:   0%|          | 0/1 [00:00<?, ?it/s]"
      ]
     },
     "metadata": {},
     "output_type": "display_data"
    },
    {
     "name": "stdout",
     "output_type": "stream",
     "text": [
      "\u001b[91m79: Guess: $69.99 Truth: $175.99 Error: $106.00 SLE: 0.83 Item: LUCKYLAKER Boat Transducer Fish Finders ...\u001b[0m\n"
     ]
    },
    {
     "data": {
      "application/vnd.jupyter.widget-view+json": {
       "model_id": "1b452f3302444aadb3911aa2b2f8a6ab",
       "version_major": 2,
       "version_minor": 0
      },
      "text/plain": [
       "Batches:   0%|          | 0/1 [00:00<?, ?it/s]"
      ]
     },
     "metadata": {},
     "output_type": "display_data"
    },
    {
     "name": "stdout",
     "output_type": "stream",
     "text": [
      "\u001b[93m80: Guess: $95.00 Truth: $24.11 Error: $70.89 SLE: 1.80 Item: Panavise In Dash Mount GMC/Chevy W-Serie...\u001b[0m\n"
     ]
    },
    {
     "data": {
      "application/vnd.jupyter.widget-view+json": {
       "model_id": "7cf3a0c29dc3407f83a3ea84ac12faef",
       "version_major": 2,
       "version_minor": 0
      },
      "text/plain": [
       "Batches:   0%|          | 0/1 [00:00<?, ?it/s]"
      ]
     },
     "metadata": {},
     "output_type": "display_data"
    },
    {
     "name": "stdout",
     "output_type": "stream",
     "text": [
      "\u001b[93m81: Guess: $149.99 Truth: $76.10 Error: $73.89 SLE: 0.45 Item: Blaupunkt AMP1904D Universal Car Speaker...\u001b[0m\n"
     ]
    },
    {
     "data": {
      "application/vnd.jupyter.widget-view+json": {
       "model_id": "536dc4199d784fd8882ef006090551ec",
       "version_major": 2,
       "version_minor": 0
      },
      "text/plain": [
       "Batches:   0%|          | 0/1 [00:00<?, ?it/s]"
      ]
     },
     "metadata": {},
     "output_type": "display_data"
    },
    {
     "name": "stdout",
     "output_type": "stream",
     "text": [
      "\u001b[93m82: Guess: $149.00 Truth: $199.00 Error: $50.00 SLE: 0.08 Item: Swarovski Optik VPA Variable Phone Adapt...\u001b[0m\n"
     ]
    },
    {
     "data": {
      "application/vnd.jupyter.widget-view+json": {
       "model_id": "b6541f51996c4eebaa7f941550fc9ab6",
       "version_major": 2,
       "version_minor": 0
      },
      "text/plain": [
       "Batches:   0%|          | 0/1 [00:00<?, ?it/s]"
      ]
     },
     "metadata": {},
     "output_type": "display_data"
    },
    {
     "name": "stdout",
     "output_type": "stream",
     "text": [
      "\u001b[93m83: Guess: $95.99 Truth: $54.00 Error: $41.99 SLE: 0.32 Item: CMS 32GB (4X8GB) DDR3 12800 1600MHz Non ...\u001b[0m\n"
     ]
    },
    {
     "data": {
      "application/vnd.jupyter.widget-view+json": {
       "model_id": "5d7414efdc1940a3817f024c1bb05fb3",
       "version_major": 2,
       "version_minor": 0
      },
      "text/plain": [
       "Batches:   0%|          | 0/1 [00:00<?, ?it/s]"
      ]
     },
     "metadata": {},
     "output_type": "display_data"
    },
    {
     "name": "stdout",
     "output_type": "stream",
     "text": [
      "\u001b[92m84: Guess: $69.99 Truth: $58.99 Error: $11.00 SLE: 0.03 Item: Kodak Professional Ektar Color Negative ...\u001b[0m\n"
     ]
    },
    {
     "data": {
      "application/vnd.jupyter.widget-view+json": {
       "model_id": "f38631f091a14f36880fb53bd7fcdb8d",
       "version_major": 2,
       "version_minor": 0
      },
      "text/plain": [
       "Batches:   0%|          | 0/1 [00:00<?, ?it/s]"
      ]
     },
     "metadata": {},
     "output_type": "display_data"
    },
    {
     "name": "stdout",
     "output_type": "stream",
     "text": [
      "\u001b[92m85: Guess: $36.99 Truth: $26.98 Error: $10.01 SLE: 0.09 Item: SM-T510 Touch Screen Glass Screen Replac...\u001b[0m\n"
     ]
    },
    {
     "data": {
      "application/vnd.jupyter.widget-view+json": {
       "model_id": "cbc8e50e9b384b5a9465b59c14330007",
       "version_major": 2,
       "version_minor": 0
      },
      "text/plain": [
       "Batches:   0%|          | 0/1 [00:00<?, ?it/s]"
      ]
     },
     "metadata": {},
     "output_type": "display_data"
    },
    {
     "name": "stdout",
     "output_type": "stream",
     "text": [
      "\u001b[92m86: Guess: $39.00 Truth: $52.00 Error: $13.00 SLE: 0.08 Item: Apple 35W Dual USB-C Port Compact Power ...\u001b[0m\n"
     ]
    },
    {
     "data": {
      "application/vnd.jupyter.widget-view+json": {
       "model_id": "bfd1f40dfc4844a2b876c3b88bc865b8",
       "version_major": 2,
       "version_minor": 0
      },
      "text/plain": [
       "Batches:   0%|          | 0/1 [00:00<?, ?it/s]"
      ]
     },
     "metadata": {},
     "output_type": "display_data"
    },
    {
     "name": "stdout",
     "output_type": "stream",
     "text": [
      "\u001b[92m87: Guess: $19.99 Truth: $31.34 Error: $11.35 SLE: 0.19 Item: ForestGreen Envelop Pouch Case for iPad ...\u001b[0m\n"
     ]
    },
    {
     "data": {
      "application/vnd.jupyter.widget-view+json": {
       "model_id": "70790bbd3d50448593634f0ca73771e5",
       "version_major": 2,
       "version_minor": 0
      },
      "text/plain": [
       "Batches:   0%|          | 0/1 [00:00<?, ?it/s]"
      ]
     },
     "metadata": {},
     "output_type": "display_data"
    },
    {
     "name": "stdout",
     "output_type": "stream",
     "text": [
      "\u001b[92m88: Guess: $59.00 Truth: $69.99 Error: $10.99 SLE: 0.03 Item: Inateck Surface Pro 7 Keyboard, 7-Color ...\u001b[0m\n"
     ]
    },
    {
     "data": {
      "application/vnd.jupyter.widget-view+json": {
       "model_id": "13d297e0cc9f4d08be3be14d9ac8741d",
       "version_major": 2,
       "version_minor": 0
      },
      "text/plain": [
       "Batches:   0%|          | 0/1 [00:00<?, ?it/s]"
      ]
     },
     "metadata": {},
     "output_type": "display_data"
    },
    {
     "name": "stdout",
     "output_type": "stream",
     "text": [
      "\u001b[92m89: Guess: $219.99 Truth: $209.14 Error: $10.85 SLE: 0.00 Item: Dell Optiplex 990 MiniTower PC - Intel C...\u001b[0m\n"
     ]
    },
    {
     "data": {
      "application/vnd.jupyter.widget-view+json": {
       "model_id": "8283e4c368264a3d9c3cb4415e906fb6",
       "version_major": 2,
       "version_minor": 0
      },
      "text/plain": [
       "Batches:   0%|          | 0/1 [00:00<?, ?it/s]"
      ]
     },
     "metadata": {},
     "output_type": "display_data"
    },
    {
     "name": "stdout",
     "output_type": "stream",
     "text": [
      "\u001b[93m90: Guess: $24.99 Truth: $69.16 Error: $44.17 SLE: 0.99 Item: Western Digital My Passport Essential 16...\u001b[0m\n"
     ]
    },
    {
     "data": {
      "application/vnd.jupyter.widget-view+json": {
       "model_id": "2acba8588fa6406aa5638a1b6016a2e8",
       "version_major": 2,
       "version_minor": 0
      },
      "text/plain": [
       "Batches:   0%|          | 0/1 [00:00<?, ?it/s]"
      ]
     },
     "metadata": {},
     "output_type": "display_data"
    },
    {
     "name": "stdout",
     "output_type": "stream",
     "text": [
      "\u001b[91m91: Guess: $59.99 Truth: $175.95 Error: $115.96 SLE: 1.13 Item: Vis Viva Raspberry Pi 4 Model B Starter ...\u001b[0m\n"
     ]
    },
    {
     "data": {
      "application/vnd.jupyter.widget-view+json": {
       "model_id": "28b1a8386bab4e8a864eba7217f9bb7f",
       "version_major": 2,
       "version_minor": 0
      },
      "text/plain": [
       "Batches:   0%|          | 0/1 [00:00<?, ?it/s]"
      ]
     },
     "metadata": {},
     "output_type": "display_data"
    },
    {
     "name": "stdout",
     "output_type": "stream",
     "text": [
      "\u001b[92m92: Guess: $34.00 Truth: $43.99 Error: $9.99 SLE: 0.06 Item: 2x Pack - KNB-35L Battery Replacement (2...\u001b[0m\n"
     ]
    },
    {
     "data": {
      "application/vnd.jupyter.widget-view+json": {
       "model_id": "9c62502999e84a12ac9137e87026e9c3",
       "version_major": 2,
       "version_minor": 0
      },
      "text/plain": [
       "Batches:   0%|          | 0/1 [00:00<?, ?it/s]"
      ]
     },
     "metadata": {},
     "output_type": "display_data"
    },
    {
     "name": "stdout",
     "output_type": "stream",
     "text": [
      "\u001b[93m93: Guess: $45.99 Truth: $118.95 Error: $72.96 SLE: 0.88 Item: Starcraft Protoss Pylon Desktop Power St...\u001b[0m\n"
     ]
    },
    {
     "data": {
      "application/vnd.jupyter.widget-view+json": {
       "model_id": "1de1c16e3c464e74895b1981cce6afe1",
       "version_major": 2,
       "version_minor": 0
      },
      "text/plain": [
       "Batches:   0%|          | 0/1 [00:00<?, ?it/s]"
      ]
     },
     "metadata": {},
     "output_type": "display_data"
    },
    {
     "name": "stdout",
     "output_type": "stream",
     "text": [
      "\u001b[93m94: Guess: $159.99 Truth: $220.78 Error: $60.79 SLE: 0.10 Item: ASUS TUF Gaming GeForce GTX 1650 Dual Fa...\u001b[0m\n"
     ]
    },
    {
     "data": {
      "application/vnd.jupyter.widget-view+json": {
       "model_id": "e04e563f8ffe4c808619a5ddb7511572",
       "version_major": 2,
       "version_minor": 0
      },
      "text/plain": [
       "Batches:   0%|          | 0/1 [00:00<?, ?it/s]"
      ]
     },
     "metadata": {},
     "output_type": "display_data"
    },
    {
     "name": "stdout",
     "output_type": "stream",
     "text": [
      "\u001b[92m95: Guess: $329.00 Truth: $329.00 Error: $0.00 SLE: 0.00 Item: BornTech Electric Cooler Portable Refrig...\u001b[0m\n"
     ]
    },
    {
     "data": {
      "application/vnd.jupyter.widget-view+json": {
       "model_id": "93a2c3e2854f4b13b4a074141e1fce19",
       "version_major": 2,
       "version_minor": 0
      },
      "text/plain": [
       "Batches:   0%|          | 0/1 [00:00<?, ?it/s]"
      ]
     },
     "metadata": {},
     "output_type": "display_data"
    },
    {
     "name": "stdout",
     "output_type": "stream",
     "text": [
      "\u001b[92m96: Guess: $79.99 Truth: $79.13 Error: $0.86 SLE: 0.00 Item: Sony BDP-S350 1080p Blu-Ray Disc Player\u001b[0m\n"
     ]
    },
    {
     "data": {
      "application/vnd.jupyter.widget-view+json": {
       "model_id": "df34664cfc934b0c8fa0beeaa574b3e4",
       "version_major": 2,
       "version_minor": 0
      },
      "text/plain": [
       "Batches:   0%|          | 0/1 [00:00<?, ?it/s]"
      ]
     },
     "metadata": {},
     "output_type": "display_data"
    },
    {
     "name": "stdout",
     "output_type": "stream",
     "text": [
      "\u001b[92m97: Guess: $69.99 Truth: $97.00 Error: $27.01 SLE: 0.10 Item: Promaster Cityscape 150 Courier Bag - Ha...\u001b[0m\n"
     ]
    },
    {
     "data": {
      "application/vnd.jupyter.widget-view+json": {
       "model_id": "ec3c52fe780248e89cb7d800e6a6df70",
       "version_major": 2,
       "version_minor": 0
      },
      "text/plain": [
       "Batches:   0%|          | 0/1 [00:00<?, ?it/s]"
      ]
     },
     "metadata": {},
     "output_type": "display_data"
    },
    {
     "name": "stdout",
     "output_type": "stream",
     "text": [
      "\u001b[92m98: Guess: $24.99 Truth: $46.95 Error: $21.96 SLE: 0.38 Item: Sescom DSLR-550D-HOCF A/V Out Headphone ...\u001b[0m\n"
     ]
    },
    {
     "data": {
      "application/vnd.jupyter.widget-view+json": {
       "model_id": "1a0df3b4005b4629bbd8d363f4701bb3",
       "version_major": 2,
       "version_minor": 0
      },
      "text/plain": [
       "Batches:   0%|          | 0/1 [00:00<?, ?it/s]"
      ]
     },
     "metadata": {},
     "output_type": "display_data"
    },
    {
     "name": "stdout",
     "output_type": "stream",
     "text": [
      "\u001b[92m99: Guess: $54.80 Truth: $54.80 Error: $0.00 SLE: 0.00 Item: Frigidaire 316032411 Oven Thermostat\u001b[0m\n"
     ]
    },
    {
     "data": {
      "application/vnd.jupyter.widget-view+json": {
       "model_id": "95da354c2f2c455fb139b560ff4ac2dc",
       "version_major": 2,
       "version_minor": 0
      },
      "text/plain": [
       "Batches:   0%|          | 0/1 [00:00<?, ?it/s]"
      ]
     },
     "metadata": {},
     "output_type": "display_data"
    },
    {
     "name": "stdout",
     "output_type": "stream",
     "text": [
      "\u001b[92m100: Guess: $29.99 Truth: $18.59 Error: $11.40 SLE: 0.21 Item: 65W 45W USB Type C Laptop Charger for Le...\u001b[0m\n"
     ]
    },
    {
     "data": {
      "application/vnd.jupyter.widget-view+json": {
       "model_id": "e1731afed12344a0a958a85504d16376",
       "version_major": 2,
       "version_minor": 0
      },
      "text/plain": [
       "Batches:   0%|          | 0/1 [00:00<?, ?it/s]"
      ]
     },
     "metadata": {},
     "output_type": "display_data"
    },
    {
     "name": "stdout",
     "output_type": "stream",
     "text": [
      "\u001b[92m101: Guess: $109.95 Truth: $118.88 Error: $8.93 SLE: 0.01 Item: Xuerebs EF-EOS R ND Lens Adapter with ND...\u001b[0m\n"
     ]
    },
    {
     "data": {
      "application/vnd.jupyter.widget-view+json": {
       "model_id": "340c813284e14eb9b07f0271f8a8c698",
       "version_major": 2,
       "version_minor": 0
      },
      "text/plain": [
       "Batches:   0%|          | 0/1 [00:00<?, ?it/s]"
      ]
     },
     "metadata": {},
     "output_type": "display_data"
    },
    {
     "name": "stdout",
     "output_type": "stream",
     "text": [
      "\u001b[91m102: Guess: $249.00 Truth: $129.00 Error: $120.00 SLE: 0.43 Item: Godox TT685IIC 1/8000s HSS GN Speedlite ...\u001b[0m\n"
     ]
    },
    {
     "data": {
      "application/vnd.jupyter.widget-view+json": {
       "model_id": "8093e29331a24796a80bd0c34e8fc5c3",
       "version_major": 2,
       "version_minor": 0
      },
      "text/plain": [
       "Batches:   0%|          | 0/1 [00:00<?, ?it/s]"
      ]
     },
     "metadata": {},
     "output_type": "display_data"
    },
    {
     "name": "stdout",
     "output_type": "stream",
     "text": [
      "\u001b[92m103: Guess: $39.99 Truth: $25.88 Error: $14.11 SLE: 0.18 Item: AC Charger Fit for Dell XPS 15 7590 9530...\u001b[0m\n"
     ]
    },
    {
     "data": {
      "application/vnd.jupyter.widget-view+json": {
       "model_id": "dbc85e39325749c8a1a095b4506d49b0",
       "version_major": 2,
       "version_minor": 0
      },
      "text/plain": [
       "Batches:   0%|          | 0/1 [00:00<?, ?it/s]"
      ]
     },
     "metadata": {},
     "output_type": "display_data"
    },
    {
     "name": "stdout",
     "output_type": "stream",
     "text": [
      "\u001b[92m104: Guess: $19.99 Truth: $24.99 Error: $5.00 SLE: 0.05 Item: Landalanya Replacement New CPU +GPU Cool...\u001b[0m\n"
     ]
    },
    {
     "data": {
      "application/vnd.jupyter.widget-view+json": {
       "model_id": "78981fda7b4649659454d18d6aeacf4e",
       "version_major": 2,
       "version_minor": 0
      },
      "text/plain": [
       "Batches:   0%|          | 0/1 [00:00<?, ?it/s]"
      ]
     },
     "metadata": {},
     "output_type": "display_data"
    },
    {
     "name": "stdout",
     "output_type": "stream",
     "text": [
      "\u001b[93m105: Guess: $89.99 Truth: $139.95 Error: $49.96 SLE: 0.19 Item: Canon Powershot SX110IS 9MP Digital Came...\u001b[0m\n"
     ]
    },
    {
     "data": {
      "application/vnd.jupyter.widget-view+json": {
       "model_id": "fff7ef6d265146f4b59bb6db369e582a",
       "version_major": 2,
       "version_minor": 0
      },
      "text/plain": [
       "Batches:   0%|          | 0/1 [00:00<?, ?it/s]"
      ]
     },
     "metadata": {},
     "output_type": "display_data"
    },
    {
     "name": "stdout",
     "output_type": "stream",
     "text": [
      "\u001b[91m106: Guess: $49.99 Truth: $169.99 Error: $120.00 SLE: 1.46 Item: for Toyota Tacoma 2005-2014 Tailgate Han...\u001b[0m\n"
     ]
    },
    {
     "data": {
      "application/vnd.jupyter.widget-view+json": {
       "model_id": "a9b420bca922439e9cfb2c97df918739",
       "version_major": 2,
       "version_minor": 0
      },
      "text/plain": [
       "Batches:   0%|          | 0/1 [00:00<?, ?it/s]"
      ]
     },
     "metadata": {},
     "output_type": "display_data"
    },
    {
     "name": "stdout",
     "output_type": "stream",
     "text": [
      "\u001b[92m107: Guess: $59.99 Truth: $75.00 Error: $15.01 SLE: 0.05 Item: MikroTik hAP ac2 RBD52G-5HacD2HnD-TC Dua...\u001b[0m\n"
     ]
    },
    {
     "data": {
      "application/vnd.jupyter.widget-view+json": {
       "model_id": "10c39e7b4be64cacb3cc61e3cb26ff99",
       "version_major": 2,
       "version_minor": 0
      },
      "text/plain": [
       "Batches:   0%|          | 0/1 [00:00<?, ?it/s]"
      ]
     },
     "metadata": {},
     "output_type": "display_data"
    },
    {
     "name": "stdout",
     "output_type": "stream",
     "text": [
      "\u001b[92m108: Guess: $69.99 Truth: $70.19 Error: $0.20 SLE: 0.00 Item: AU Optronics New 17.3\" LED Laptop Screen...\u001b[0m\n"
     ]
    },
    {
     "data": {
      "application/vnd.jupyter.widget-view+json": {
       "model_id": "96f3cd81b34745b2a7f113502afe4391",
       "version_major": 2,
       "version_minor": 0
      },
      "text/plain": [
       "Batches:   0%|          | 0/1 [00:00<?, ?it/s]"
      ]
     },
     "metadata": {},
     "output_type": "display_data"
    },
    {
     "name": "stdout",
     "output_type": "stream",
     "text": [
      "\u001b[91m109: Guess: $114.99 Truth: $199.95 Error: $84.96 SLE: 0.30 Item: Fujifilm INSTAX Wide 300 Instant Camera ...\u001b[0m\n"
     ]
    },
    {
     "data": {
      "application/vnd.jupyter.widget-view+json": {
       "model_id": "03472080c8af403e9c0c5dacfe31c812",
       "version_major": 2,
       "version_minor": 0
      },
      "text/plain": [
       "Batches:   0%|          | 0/1 [00:00<?, ?it/s]"
      ]
     },
     "metadata": {},
     "output_type": "display_data"
    },
    {
     "name": "stdout",
     "output_type": "stream",
     "text": [
      "\u001b[93m110: Guess: $169.99 Truth: $235.99 Error: $66.00 SLE: 0.11 Item: Eonon Apple CarPlay & Android Auto Car S...\u001b[0m\n"
     ]
    },
    {
     "data": {
      "application/vnd.jupyter.widget-view+json": {
       "model_id": "0c76f0b1ba6345b5a5dc619974635396",
       "version_major": 2,
       "version_minor": 0
      },
      "text/plain": [
       "Batches:   0%|          | 0/1 [00:00<?, ?it/s]"
      ]
     },
     "metadata": {},
     "output_type": "display_data"
    },
    {
     "name": "stdout",
     "output_type": "stream",
     "text": [
      "\u001b[92m111: Guess: $22.99 Truth: $9.99 Error: $13.00 SLE: 0.61 Item: YUSTDA (10Ft Extra Long) New AC Adapter ...\u001b[0m\n"
     ]
    },
    {
     "data": {
      "application/vnd.jupyter.widget-view+json": {
       "model_id": "e544d26900154e369ef9fc4f8a653be2",
       "version_major": 2,
       "version_minor": 0
      },
      "text/plain": [
       "Batches:   0%|          | 0/1 [00:00<?, ?it/s]"
      ]
     },
     "metadata": {},
     "output_type": "display_data"
    },
    {
     "name": "stdout",
     "output_type": "stream",
     "text": [
      "\u001b[92m112: Guess: $39.99 Truth: $42.99 Error: $3.00 SLE: 0.00 Item: Leather Laptop Tote Bag Womens Professio...\u001b[0m\n"
     ]
    },
    {
     "data": {
      "application/vnd.jupyter.widget-view+json": {
       "model_id": "043259aab8a646148e36c2792acd296c",
       "version_major": 2,
       "version_minor": 0
      },
      "text/plain": [
       "Batches:   0%|          | 0/1 [00:00<?, ?it/s]"
      ]
     },
     "metadata": {},
     "output_type": "display_data"
    },
    {
     "name": "stdout",
     "output_type": "stream",
     "text": [
      "\u001b[93m113: Guess: $449.00 Truth: $359.00 Error: $90.00 SLE: 0.05 Item: TOKINA ATX-m 56mm F1.4 X Mount Special E...\u001b[0m\n"
     ]
    },
    {
     "data": {
      "application/vnd.jupyter.widget-view+json": {
       "model_id": "df7010abe63e4bc79fd3d7aca55e0ea9",
       "version_major": 2,
       "version_minor": 0
      },
      "text/plain": [
       "Batches:   0%|          | 0/1 [00:00<?, ?it/s]"
      ]
     },
     "metadata": {},
     "output_type": "display_data"
    },
    {
     "name": "stdout",
     "output_type": "stream",
     "text": [
      "\u001b[93m114: Guess: $89.99 Truth: $31.99 Error: $58.00 SLE: 1.03 Item: Sony KDF-60X5955 TV Assembly Cage with P...\u001b[0m\n"
     ]
    },
    {
     "data": {
      "application/vnd.jupyter.widget-view+json": {
       "model_id": "d7fef3b21edf4125825381f08296f412",
       "version_major": 2,
       "version_minor": 0
      },
      "text/plain": [
       "Batches:   0%|          | 0/1 [00:00<?, ?it/s]"
      ]
     },
     "metadata": {},
     "output_type": "display_data"
    },
    {
     "name": "stdout",
     "output_type": "stream",
     "text": [
      "\u001b[92m115: Guess: $249.99 Truth: $299.00 Error: $49.01 SLE: 0.03 Item: Lenovo Monitor, L24q 23.8-Inch Monitor, ...\u001b[0m\n"
     ]
    },
    {
     "data": {
      "application/vnd.jupyter.widget-view+json": {
       "model_id": "ee131e12c3eb46d383808f30838ee501",
       "version_major": 2,
       "version_minor": 0
      },
      "text/plain": [
       "Batches:   0%|          | 0/1 [00:00<?, ?it/s]"
      ]
     },
     "metadata": {},
     "output_type": "display_data"
    },
    {
     "name": "stdout",
     "output_type": "stream",
     "text": [
      "\u001b[92m116: Guess: $45.00 Truth: $79.99 Error: $34.99 SLE: 0.32 Item: Canis LATRANS PVS 14 Mount Night Vision ...\u001b[0m\n"
     ]
    },
    {
     "data": {
      "application/vnd.jupyter.widget-view+json": {
       "model_id": "ed9c35dad95546cdbd15c4c8ec5359b2",
       "version_major": 2,
       "version_minor": 0
      },
      "text/plain": [
       "Batches:   0%|          | 0/1 [00:00<?, ?it/s]"
      ]
     },
     "metadata": {},
     "output_type": "display_data"
    },
    {
     "name": "stdout",
     "output_type": "stream",
     "text": [
      "\u001b[92m117: Guess: $45.99 Truth: $29.99 Error: $16.00 SLE: 0.17 Item: KMC 6-Outlet Surge Protector Power Strip...\u001b[0m\n"
     ]
    },
    {
     "data": {
      "application/vnd.jupyter.widget-view+json": {
       "model_id": "0573155784d7482e9e0cdde72f79d84d",
       "version_major": 2,
       "version_minor": 0
      },
      "text/plain": [
       "Batches:   0%|          | 0/1 [00:00<?, ?it/s]"
      ]
     },
     "metadata": {},
     "output_type": "display_data"
    },
    {
     "name": "stdout",
     "output_type": "stream",
     "text": [
      "\u001b[93m118: Guess: $99.99 Truth: $56.99 Error: $43.00 SLE: 0.31 Item: Amcrest 5MP Turret POE Camera, UltraHD O...\u001b[0m\n"
     ]
    },
    {
     "data": {
      "application/vnd.jupyter.widget-view+json": {
       "model_id": "d7a05fa2c9e94682bd05c88d92b26fba",
       "version_major": 2,
       "version_minor": 0
      },
      "text/plain": [
       "Batches:   0%|          | 0/1 [00:00<?, ?it/s]"
      ]
     },
     "metadata": {},
     "output_type": "display_data"
    },
    {
     "name": "stdout",
     "output_type": "stream",
     "text": [
      "\u001b[92m119: Guess: $299.99 Truth: $271.11 Error: $28.88 SLE: 0.01 Item: KLH Albany II 2-Way Bookshelf Speakers f...\u001b[0m\n"
     ]
    },
    {
     "data": {
      "application/vnd.jupyter.widget-view+json": {
       "model_id": "2361b02ca0eb4365a921b94f1c81116d",
       "version_major": 2,
       "version_minor": 0
      },
      "text/plain": [
       "Batches:   0%|          | 0/1 [00:00<?, ?it/s]"
      ]
     },
     "metadata": {},
     "output_type": "display_data"
    },
    {
     "name": "stdout",
     "output_type": "stream",
     "text": [
      "\u001b[92m120: Guess: $149.95 Truth: $135.58 Error: $14.37 SLE: 0.01 Item: Thule TPCS-101 Perspektiv Perspektiv Com...\u001b[0m\n"
     ]
    },
    {
     "data": {
      "application/vnd.jupyter.widget-view+json": {
       "model_id": "04ba529f92cd4f9691c077a074a3a3e4",
       "version_major": 2,
       "version_minor": 0
      },
      "text/plain": [
       "Batches:   0%|          | 0/1 [00:00<?, ?it/s]"
      ]
     },
     "metadata": {},
     "output_type": "display_data"
    },
    {
     "name": "stdout",
     "output_type": "stream",
     "text": [
      "\u001b[92m121: Guess: $69.99 Truth: $99.02 Error: $29.03 SLE: 0.12 Item: NEEWER Air Cushioned Aluminum Light Stan...\u001b[0m\n"
     ]
    },
    {
     "data": {
      "application/vnd.jupyter.widget-view+json": {
       "model_id": "3925c21cc87445faa0cc1cc1bcb4928a",
       "version_major": 2,
       "version_minor": 0
      },
      "text/plain": [
       "Batches:   0%|          | 0/1 [00:00<?, ?it/s]"
      ]
     },
     "metadata": {},
     "output_type": "display_data"
    },
    {
     "name": "stdout",
     "output_type": "stream",
     "text": [
      "\u001b[92m122: Guess: $9.99 Truth: $5.49 Error: $4.50 SLE: 0.28 Item: Cable Matters 6-Pack BNC Female to Femal...\u001b[0m\n"
     ]
    },
    {
     "data": {
      "application/vnd.jupyter.widget-view+json": {
       "model_id": "fb92d94088af4867a525a7536e98b9b7",
       "version_major": 2,
       "version_minor": 0
      },
      "text/plain": [
       "Batches:   0%|          | 0/1 [00:00<?, ?it/s]"
      ]
     },
     "metadata": {},
     "output_type": "display_data"
    },
    {
     "name": "stdout",
     "output_type": "stream",
     "text": [
      "\u001b[92m123: Guess: $14.99 Truth: $15.99 Error: $1.00 SLE: 0.00 Item: Halloween Party Decorations Black Bat Fr...\u001b[0m\n"
     ]
    },
    {
     "data": {
      "application/vnd.jupyter.widget-view+json": {
       "model_id": "23eab9280f214059978eb696f2ef3e4a",
       "version_major": 2,
       "version_minor": 0
      },
      "text/plain": [
       "Batches:   0%|          | 0/1 [00:00<?, ?it/s]"
      ]
     },
     "metadata": {},
     "output_type": "display_data"
    },
    {
     "name": "stdout",
     "output_type": "stream",
     "text": [
      "\u001b[92m124: Guess: $29.99 Truth: $12.88 Error: $17.11 SLE: 0.65 Item: Sima SIP-3 Ultimate International Travel...\u001b[0m\n"
     ]
    },
    {
     "data": {
      "application/vnd.jupyter.widget-view+json": {
       "model_id": "6dc5b226a3f1469ea9f8ad7758b3a567",
       "version_major": 2,
       "version_minor": 0
      },
      "text/plain": [
       "Batches:   0%|          | 0/1 [00:00<?, ?it/s]"
      ]
     },
     "metadata": {},
     "output_type": "display_data"
    },
    {
     "name": "stdout",
     "output_type": "stream",
     "text": [
      "\u001b[91m125: Guess: $109.99 Truth: $261.87 Error: $151.88 SLE: 0.74 Item: Pyle PLPW15D 15\" 8000W Car Subwoofer Aud...\u001b[0m\n"
     ]
    },
    {
     "data": {
      "application/vnd.jupyter.widget-view+json": {
       "model_id": "28338236b4b9460980864cfb0dab14ff",
       "version_major": 2,
       "version_minor": 0
      },
      "text/plain": [
       "Batches:   0%|          | 0/1 [00:00<?, ?it/s]"
      ]
     },
     "metadata": {},
     "output_type": "display_data"
    },
    {
     "name": "stdout",
     "output_type": "stream",
     "text": [
      "\u001b[92m126: Guess: $549.99 Truth: $580.00 Error: $30.01 SLE: 0.00 Item: Dell XPS13-1000sLV 13-Inch Ultrabook (1....\u001b[0m\n"
     ]
    },
    {
     "data": {
      "application/vnd.jupyter.widget-view+json": {
       "model_id": "e207121da4704318a17f1001c237837c",
       "version_major": 2,
       "version_minor": 0
      },
      "text/plain": [
       "Batches:   0%|          | 0/1 [00:00<?, ?it/s]"
      ]
     },
     "metadata": {},
     "output_type": "display_data"
    },
    {
     "name": "stdout",
     "output_type": "stream",
     "text": [
      "\u001b[92m127: Guess: $12.99 Truth: $11.99 Error: $1.00 SLE: 0.01 Item: Manleno Compatible with Airpods 3 Case C...\u001b[0m\n"
     ]
    },
    {
     "data": {
      "application/vnd.jupyter.widget-view+json": {
       "model_id": "b62c53df33cb44488649b802ff6bf3e1",
       "version_major": 2,
       "version_minor": 0
      },
      "text/plain": [
       "Batches:   0%|          | 0/1 [00:00<?, ?it/s]"
      ]
     },
     "metadata": {},
     "output_type": "display_data"
    },
    {
     "name": "stdout",
     "output_type": "stream",
     "text": [
      "\u001b[92m128: Guess: $89.99 Truth: $109.99 Error: $20.00 SLE: 0.04 Item: Digital Photo Frame WiFi 10 Inch Touch S...\u001b[0m\n"
     ]
    },
    {
     "data": {
      "application/vnd.jupyter.widget-view+json": {
       "model_id": "6a18b84392de4a6e9e04bfbe47ce512a",
       "version_major": 2,
       "version_minor": 0
      },
      "text/plain": [
       "Batches:   0%|          | 0/1 [00:00<?, ?it/s]"
      ]
     },
     "metadata": {},
     "output_type": "display_data"
    },
    {
     "name": "stdout",
     "output_type": "stream",
     "text": [
      "\u001b[92m129: Guess: $40.56 Truth: $40.60 Error: $0.04 SLE: 0.00 Item: General Electric WR17X11459 Cup Drive Ic...\u001b[0m\n"
     ]
    },
    {
     "data": {
      "application/vnd.jupyter.widget-view+json": {
       "model_id": "e7a9046f7c114a02a3cde843b268bb57",
       "version_major": 2,
       "version_minor": 0
      },
      "text/plain": [
       "Batches:   0%|          | 0/1 [00:00<?, ?it/s]"
      ]
     },
     "metadata": {},
     "output_type": "display_data"
    },
    {
     "name": "stdout",
     "output_type": "stream",
     "text": [
      "\u001b[92m130: Guess: $9.99 Truth: $4.99 Error: $5.00 SLE: 0.37 Item: UpBright USB Cable for HP PSC 380 500 70...\u001b[0m\n"
     ]
    },
    {
     "data": {
      "application/vnd.jupyter.widget-view+json": {
       "model_id": "ed2eef6bc86744d9a7262db1ac08cd1a",
       "version_major": 2,
       "version_minor": 0
      },
      "text/plain": [
       "Batches:   0%|          | 0/1 [00:00<?, ?it/s]"
      ]
     },
     "metadata": {},
     "output_type": "display_data"
    },
    {
     "name": "stdout",
     "output_type": "stream",
     "text": [
      "\u001b[92m131: Guess: $39.99 Truth: $59.99 Error: $20.00 SLE: 0.16 Item: HSM shredstar X5 Cross Cut Shredder\u001b[0m\n"
     ]
    },
    {
     "data": {
      "application/vnd.jupyter.widget-view+json": {
       "model_id": "4bded179a1e64cad835336afe5b219ef",
       "version_major": 2,
       "version_minor": 0
      },
      "text/plain": [
       "Batches:   0%|          | 0/1 [00:00<?, ?it/s]"
      ]
     },
     "metadata": {},
     "output_type": "display_data"
    },
    {
     "name": "stdout",
     "output_type": "stream",
     "text": [
      "\u001b[92m132: Guess: $24.99 Truth: $11.98 Error: $13.01 SLE: 0.48 Item: Dudaacvt 7x5FT Kindergarten Graduation B...\u001b[0m\n"
     ]
    },
    {
     "data": {
      "application/vnd.jupyter.widget-view+json": {
       "model_id": "ca9c0d055d8641eab23cbc57708bb52a",
       "version_major": 2,
       "version_minor": 0
      },
      "text/plain": [
       "Batches:   0%|          | 0/1 [00:00<?, ?it/s]"
      ]
     },
     "metadata": {},
     "output_type": "display_data"
    },
    {
     "name": "stdout",
     "output_type": "stream",
     "text": [
      "\u001b[92m133: Guess: $29.99 Truth: $30.95 Error: $0.96 SLE: 0.00 Item: Cell Phone Headset with Microphone Noise...\u001b[0m\n"
     ]
    },
    {
     "data": {
      "application/vnd.jupyter.widget-view+json": {
       "model_id": "6b4eb203493d4c40bb208405f904597d",
       "version_major": 2,
       "version_minor": 0
      },
      "text/plain": [
       "Batches:   0%|          | 0/1 [00:00<?, ?it/s]"
      ]
     },
     "metadata": {},
     "output_type": "display_data"
    },
    {
     "name": "stdout",
     "output_type": "stream",
     "text": [
      "\u001b[91m134: Guess: $79.99 Truth: $179.99 Error: $100.00 SLE: 0.65 Item: FIBBR DisplayPort to DisplayPort Cable, ...\u001b[0m\n"
     ]
    },
    {
     "data": {
      "application/vnd.jupyter.widget-view+json": {
       "model_id": "00da756d21374a5996dd457e59a58311",
       "version_major": 2,
       "version_minor": 0
      },
      "text/plain": [
       "Batches:   0%|          | 0/1 [00:00<?, ?it/s]"
      ]
     },
     "metadata": {},
     "output_type": "display_data"
    },
    {
     "name": "stdout",
     "output_type": "stream",
     "text": [
      "\u001b[92m135: Guess: $89.00 Truth: $62.99 Error: $26.01 SLE: 0.12 Item: Mcoplus LED-520 Video Lighting Kits, Hig...\u001b[0m\n"
     ]
    },
    {
     "data": {
      "application/vnd.jupyter.widget-view+json": {
       "model_id": "eaf10e144f7241fa8d269a3390ee0d62",
       "version_major": 2,
       "version_minor": 0
      },
      "text/plain": [
       "Batches:   0%|          | 0/1 [00:00<?, ?it/s]"
      ]
     },
     "metadata": {},
     "output_type": "display_data"
    },
    {
     "name": "stdout",
     "output_type": "stream",
     "text": [
      "\u001b[91m136: Guess: $299.99 Truth: $157.00 Error: $142.99 SLE: 0.42 Item: HP ProBook 640 G2 Laptop, 14 Display, In...\u001b[0m\n"
     ]
    },
    {
     "data": {
      "application/vnd.jupyter.widget-view+json": {
       "model_id": "acc2e6c41931407f9f2e4f488e0338fb",
       "version_major": 2,
       "version_minor": 0
      },
      "text/plain": [
       "Batches:   0%|          | 0/1 [00:00<?, ?it/s]"
      ]
     },
     "metadata": {},
     "output_type": "display_data"
    },
    {
     "name": "stdout",
     "output_type": "stream",
     "text": [
      "\u001b[92m137: Guess: $12.95 Truth: $14.95 Error: $2.00 SLE: 0.02 Item: HQRP Battery Compatible with GolfBuddy L...\u001b[0m\n"
     ]
    },
    {
     "data": {
      "application/vnd.jupyter.widget-view+json": {
       "model_id": "92e9c98202ff486aa750fa1f3ec0c8a6",
       "version_major": 2,
       "version_minor": 0
      },
      "text/plain": [
       "Batches:   0%|          | 0/1 [00:00<?, ?it/s]"
      ]
     },
     "metadata": {},
     "output_type": "display_data"
    },
    {
     "name": "stdout",
     "output_type": "stream",
     "text": [
      "\u001b[92m138: Guess: $99.99 Truth: $94.99 Error: $5.00 SLE: 0.00 Item: BaseQi NinjaDrive Aluminum 256GB Storage...\u001b[0m\n"
     ]
    },
    {
     "data": {
      "application/vnd.jupyter.widget-view+json": {
       "model_id": "007c645e92314f7897cb07ea2813dfc4",
       "version_major": 2,
       "version_minor": 0
      },
      "text/plain": [
       "Batches:   0%|          | 0/1 [00:00<?, ?it/s]"
      ]
     },
     "metadata": {},
     "output_type": "display_data"
    },
    {
     "name": "stdout",
     "output_type": "stream",
     "text": [
      "\u001b[92m139: Guess: $114.99 Truth: $110.16 Error: $4.83 SLE: 0.00 Item: Legacy LXR7A 3Way Stereo Electronic Cros...\u001b[0m\n"
     ]
    },
    {
     "data": {
      "application/vnd.jupyter.widget-view+json": {
       "model_id": "50a2e33c30d24d58bae890ba254dbd6d",
       "version_major": 2,
       "version_minor": 0
      },
      "text/plain": [
       "Batches:   0%|          | 0/1 [00:00<?, ?it/s]"
      ]
     },
     "metadata": {},
     "output_type": "display_data"
    },
    {
     "name": "stdout",
     "output_type": "stream",
     "text": [
      "\u001b[92m140: Guess: $39.99 Truth: $78.99 Error: $39.00 SLE: 0.45 Item: Sony DVP-NS70H HDMI Single Disc DVD Play...\u001b[0m\n"
     ]
    },
    {
     "data": {
      "application/vnd.jupyter.widget-view+json": {
       "model_id": "8f5034c63e5743d485ddf4ec4b5178f5",
       "version_major": 2,
       "version_minor": 0
      },
      "text/plain": [
       "Batches:   0%|          | 0/1 [00:00<?, ?it/s]"
      ]
     },
     "metadata": {},
     "output_type": "display_data"
    },
    {
     "name": "stdout",
     "output_type": "stream",
     "text": [
      "\u001b[91m141: Guess: $64.99 Truth: $150.00 Error: $85.01 SLE: 0.69 Item: B+W 72mm Slim-Line Circular Polarizer wi...\u001b[0m\n"
     ]
    },
    {
     "data": {
      "application/vnd.jupyter.widget-view+json": {
       "model_id": "67e0a7c91d2b481d80b2246cda83e8f0",
       "version_major": 2,
       "version_minor": 0
      },
      "text/plain": [
       "Batches:   0%|          | 0/1 [00:00<?, ?it/s]"
      ]
     },
     "metadata": {},
     "output_type": "display_data"
    },
    {
     "name": "stdout",
     "output_type": "stream",
     "text": [
      "\u001b[92m142: Guess: $24.99 Truth: $24.89 Error: $0.10 SLE: 0.00 Item: 2022 Bluetooth 5.3 FM Transmitter for Ca...\u001b[0m\n"
     ]
    },
    {
     "data": {
      "application/vnd.jupyter.widget-view+json": {
       "model_id": "0ac18d898fe042cc82794ef257d30705",
       "version_major": 2,
       "version_minor": 0
      },
      "text/plain": [
       "Batches:   0%|          | 0/1 [00:00<?, ?it/s]"
      ]
     },
     "metadata": {},
     "output_type": "display_data"
    },
    {
     "name": "stdout",
     "output_type": "stream",
     "text": [
      "\u001b[92m143: Guess: $21.99 Truth: $15.99 Error: $6.00 SLE: 0.09 Item: YongFoto 6x4ft Spring Scenery Backdrop M...\u001b[0m\n"
     ]
    },
    {
     "data": {
      "application/vnd.jupyter.widget-view+json": {
       "model_id": "7fce07289c2841c6ae368e9400b77e1e",
       "version_major": 2,
       "version_minor": 0
      },
      "text/plain": [
       "Batches:   0%|          | 0/1 [00:00<?, ?it/s]"
      ]
     },
     "metadata": {},
     "output_type": "display_data"
    },
    {
     "name": "stdout",
     "output_type": "stream",
     "text": [
      "\u001b[92m144: Guess: $39.99 Truth: $41.74 Error: $1.75 SLE: 0.00 Item: Dentsing F7HVR 58Wh Battery for DELL Ins...\u001b[0m\n"
     ]
    },
    {
     "data": {
      "application/vnd.jupyter.widget-view+json": {
       "model_id": "8a679ea0eef544f1aa81850be1250218",
       "version_major": 2,
       "version_minor": 0
      },
      "text/plain": [
       "Batches:   0%|          | 0/1 [00:00<?, ?it/s]"
      ]
     },
     "metadata": {},
     "output_type": "display_data"
    },
    {
     "name": "stdout",
     "output_type": "stream",
     "text": [
      "\u001b[92m145: Guess: $99.99 Truth: $100.03 Error: $0.04 SLE: 0.00 Item: A-Tech 32GB Kit 4x8GB Memory Ram For DEL...\u001b[0m\n"
     ]
    },
    {
     "data": {
      "application/vnd.jupyter.widget-view+json": {
       "model_id": "fa8e7685ccde4044a94c863b7c09e04c",
       "version_major": 2,
       "version_minor": 0
      },
      "text/plain": [
       "Batches:   0%|          | 0/1 [00:00<?, ?it/s]"
      ]
     },
     "metadata": {},
     "output_type": "display_data"
    },
    {
     "name": "stdout",
     "output_type": "stream",
     "text": [
      "\u001b[92m146: Guess: $5.99 Truth: $3.99 Error: $2.00 SLE: 0.11 Item: Leyland Designs Rezero Rem Waifu Sticker...\u001b[0m\n"
     ]
    },
    {
     "data": {
      "application/vnd.jupyter.widget-view+json": {
       "model_id": "9221fa25c166475691d55f13b24972fd",
       "version_major": 2,
       "version_minor": 0
      },
      "text/plain": [
       "Batches:   0%|          | 0/1 [00:00<?, ?it/s]"
      ]
     },
     "metadata": {},
     "output_type": "display_data"
    },
    {
     "name": "stdout",
     "output_type": "stream",
     "text": [
      "\u001b[91m147: Guess: $150.00 Truth: $289.98 Error: $139.98 SLE: 0.43 Item: Olympus Xa Film Camera with A16 Electron...\u001b[0m\n"
     ]
    },
    {
     "data": {
      "application/vnd.jupyter.widget-view+json": {
       "model_id": "4c6764be932d4210a317e7f134906617",
       "version_major": 2,
       "version_minor": 0
      },
      "text/plain": [
       "Batches:   0%|          | 0/1 [00:00<?, ?it/s]"
      ]
     },
     "metadata": {},
     "output_type": "display_data"
    },
    {
     "name": "stdout",
     "output_type": "stream",
     "text": [
      "\u001b[93m148: Guess: $169.99 Truth: $118.99 Error: $51.00 SLE: 0.13 Item: AUTO-VOX Solar 1 Wireless Backup Camera ...\u001b[0m\n"
     ]
    },
    {
     "data": {
      "application/vnd.jupyter.widget-view+json": {
       "model_id": "96526573b5da41d8bb414971dba745d5",
       "version_major": 2,
       "version_minor": 0
      },
      "text/plain": [
       "Batches:   0%|          | 0/1 [00:00<?, ?it/s]"
      ]
     },
     "metadata": {},
     "output_type": "display_data"
    },
    {
     "name": "stdout",
     "output_type": "stream",
     "text": [
      "\u001b[92m149: Guess: $99.99 Truth: $114.99 Error: $15.00 SLE: 0.02 Item: WD 2TB My Passport SSD Portable External...\u001b[0m\n"
     ]
    },
    {
     "data": {
      "application/vnd.jupyter.widget-view+json": {
       "model_id": "627a57b070194252849d8430f147d569",
       "version_major": 2,
       "version_minor": 0
      },
      "text/plain": [
       "Batches:   0%|          | 0/1 [00:00<?, ?it/s]"
      ]
     },
     "metadata": {},
     "output_type": "display_data"
    },
    {
     "name": "stdout",
     "output_type": "stream",
     "text": [
      "\u001b[92m150: Guess: $89.14 Truth: $89.14 Error: $0.00 SLE: 0.00 Item: GLOB PRO SOLUTIONS WPW10415587 Washer Pr...\u001b[0m\n"
     ]
    },
    {
     "data": {
      "application/vnd.jupyter.widget-view+json": {
       "model_id": "90b5cc49f73047f690052c964f77991f",
       "version_major": 2,
       "version_minor": 0
      },
      "text/plain": [
       "Batches:   0%|          | 0/1 [00:00<?, ?it/s]"
      ]
     },
     "metadata": {},
     "output_type": "display_data"
    },
    {
     "name": "stdout",
     "output_type": "stream",
     "text": [
      "\u001b[92m151: Guess: $49.99 Truth: $54.99 Error: $5.00 SLE: 0.01 Item: UGREEN USB C Hub 9 in 1 USB Type C HDMI ...\u001b[0m\n"
     ]
    },
    {
     "data": {
      "application/vnd.jupyter.widget-view+json": {
       "model_id": "61f266b33ba142539d4038f9f2df9520",
       "version_major": 2,
       "version_minor": 0
      },
      "text/plain": [
       "Batches:   0%|          | 0/1 [00:00<?, ?it/s]"
      ]
     },
     "metadata": {},
     "output_type": "display_data"
    },
    {
     "name": "stdout",
     "output_type": "stream",
     "text": [
      "\u001b[93m152: Guess: $10.50 Truth: $58.93 Error: $48.43 SLE: 2.73 Item: UV Polyethylene Spiral Wrap Cable Harnes...\u001b[0m\n"
     ]
    },
    {
     "data": {
      "application/vnd.jupyter.widget-view+json": {
       "model_id": "95c7f6b56a8a4a2d9f4dc0b01e2c5181",
       "version_major": 2,
       "version_minor": 0
      },
      "text/plain": [
       "Batches:   0%|          | 0/1 [00:00<?, ?it/s]"
      ]
     },
     "metadata": {},
     "output_type": "display_data"
    },
    {
     "name": "stdout",
     "output_type": "stream",
     "text": [
      "\u001b[91m153: Guess: $39.99 Truth: $217.00 Error: $177.01 SLE: 2.79 Item: 50 4GB Flash Drive - Bulk Pack - USB 2.0...\u001b[0m\n"
     ]
    },
    {
     "data": {
      "application/vnd.jupyter.widget-view+json": {
       "model_id": "055500ce461d49158d2f610916b66fdf",
       "version_major": 2,
       "version_minor": 0
      },
      "text/plain": [
       "Batches:   0%|          | 0/1 [00:00<?, ?it/s]"
      ]
     },
     "metadata": {},
     "output_type": "display_data"
    },
    {
     "name": "stdout",
     "output_type": "stream",
     "text": [
      "\u001b[91m154: Guess: $89.99 Truth: $199.99 Error: $110.00 SLE: 0.63 Item: RCA Voyager Pro 7 16GB Tablet with Keybo...\u001b[0m\n"
     ]
    },
    {
     "data": {
      "application/vnd.jupyter.widget-view+json": {
       "model_id": "c8fcf34a582f433aa5003db8a06b39a2",
       "version_major": 2,
       "version_minor": 0
      },
      "text/plain": [
       "Batches:   0%|          | 0/1 [00:00<?, ?it/s]"
      ]
     },
     "metadata": {},
     "output_type": "display_data"
    },
    {
     "name": "stdout",
     "output_type": "stream",
     "text": [
      "\u001b[92m155: Guess: $114.99 Truth: $128.89 Error: $13.90 SLE: 0.01 Item: McKlein, R Series, Walton, Tech-Lite Bal...\u001b[0m\n"
     ]
    },
    {
     "data": {
      "application/vnd.jupyter.widget-view+json": {
       "model_id": "6c490c1149704fe89926f5bbeb2d0061",
       "version_major": 2,
       "version_minor": 0
      },
      "text/plain": [
       "Batches:   0%|          | 0/1 [00:00<?, ?it/s]"
      ]
     },
     "metadata": {},
     "output_type": "display_data"
    },
    {
     "name": "stdout",
     "output_type": "stream",
     "text": [
      "\u001b[91m156: Guess: $549.99 Truth: $312.99 Error: $237.00 SLE: 0.32 Item: HP EliteBook x360 1030 G2 Notebook 2-in-...\u001b[0m\n"
     ]
    },
    {
     "data": {
      "application/vnd.jupyter.widget-view+json": {
       "model_id": "c7e1bd0813f44c7d8c8b9beb9b47cd32",
       "version_major": 2,
       "version_minor": 0
      },
      "text/plain": [
       "Batches:   0%|          | 0/1 [00:00<?, ?it/s]"
      ]
     },
     "metadata": {},
     "output_type": "display_data"
    },
    {
     "name": "stdout",
     "output_type": "stream",
     "text": [
      "\u001b[92m157: Guess: $24.99 Truth: $10.99 Error: $14.00 SLE: 0.60 Item: Padarsey Keyboard with Frame Compatible ...\u001b[0m\n"
     ]
    },
    {
     "data": {
      "application/vnd.jupyter.widget-view+json": {
       "model_id": "ece6c6f9e3ca460b8a0e09d01dc89b9c",
       "version_major": 2,
       "version_minor": 0
      },
      "text/plain": [
       "Batches:   0%|          | 0/1 [00:00<?, ?it/s]"
      ]
     },
     "metadata": {},
     "output_type": "display_data"
    },
    {
     "name": "stdout",
     "output_type": "stream",
     "text": [
      "\u001b[92m158: Guess: $39.99 Truth: $53.64 Error: $13.65 SLE: 0.08 Item: BULGIN PX0441/2M00 Cable Assy, USB IP68,...\u001b[0m\n"
     ]
    },
    {
     "data": {
      "application/vnd.jupyter.widget-view+json": {
       "model_id": "bd3665483ad84742af73a4193587ec64",
       "version_major": 2,
       "version_minor": 0
      },
      "text/plain": [
       "Batches:   0%|          | 0/1 [00:00<?, ?it/s]"
      ]
     },
     "metadata": {},
     "output_type": "display_data"
    },
    {
     "name": "stdout",
     "output_type": "stream",
     "text": [
      "\u001b[92m159: Guess: $19.99 Truth: $29.99 Error: $10.00 SLE: 0.15 Item: UFBOSS Powered 5-Port Mini USB 3.0 HUB a...\u001b[0m\n"
     ]
    },
    {
     "data": {
      "application/vnd.jupyter.widget-view+json": {
       "model_id": "62930876d2b04abf89acaf7a2383e85d",
       "version_major": 2,
       "version_minor": 0
      },
      "text/plain": [
       "Batches:   0%|          | 0/1 [00:00<?, ?it/s]"
      ]
     },
     "metadata": {},
     "output_type": "display_data"
    },
    {
     "name": "stdout",
     "output_type": "stream",
     "text": [
      "\u001b[92m160: Guess: $19.99 Truth: $18.99 Error: $1.00 SLE: 0.00 Item: TKDY 24V 2.5A Power Supply Cord, DC 24V ...\u001b[0m\n"
     ]
    },
    {
     "data": {
      "application/vnd.jupyter.widget-view+json": {
       "model_id": "5f3438405f584ceabd3a17643a917aad",
       "version_major": 2,
       "version_minor": 0
      },
      "text/plain": [
       "Batches:   0%|          | 0/1 [00:00<?, ?it/s]"
      ]
     },
     "metadata": {},
     "output_type": "display_data"
    },
    {
     "name": "stdout",
     "output_type": "stream",
     "text": [
      "\u001b[92m161: Guess: $39.99 Truth: $37.99 Error: $2.00 SLE: 0.00 Item: VASCHY Laptop Backpack, Vintage Water Re...\u001b[0m\n"
     ]
    },
    {
     "data": {
      "application/vnd.jupyter.widget-view+json": {
       "model_id": "f90f6ee08df742b180bb11a20bf42bbe",
       "version_major": 2,
       "version_minor": 0
      },
      "text/plain": [
       "Batches:   0%|          | 0/1 [00:00<?, ?it/s]"
      ]
     },
     "metadata": {},
     "output_type": "display_data"
    },
    {
     "name": "stdout",
     "output_type": "stream",
     "text": [
      "\u001b[92m162: Guess: $29.00 Truth: $22.56 Error: $6.44 SLE: 0.06 Item: LDG Electronics Y-Acc One-Touch-Tune Cab...\u001b[0m\n"
     ]
    },
    {
     "data": {
      "application/vnd.jupyter.widget-view+json": {
       "model_id": "0d9abefbd0f54f3b83cd1a5755eb2525",
       "version_major": 2,
       "version_minor": 0
      },
      "text/plain": [
       "Batches:   0%|          | 0/1 [00:00<?, ?it/s]"
      ]
     },
     "metadata": {},
     "output_type": "display_data"
    },
    {
     "name": "stdout",
     "output_type": "stream",
     "text": [
      "\u001b[92m163: Guess: $16.99 Truth: $14.99 Error: $2.00 SLE: 0.01 Item: Divufus Case for iPad 10th Generation 20...\u001b[0m\n"
     ]
    },
    {
     "data": {
      "application/vnd.jupyter.widget-view+json": {
       "model_id": "a875c3f50d5e40ab8266bb63354fe978",
       "version_major": 2,
       "version_minor": 0
      },
      "text/plain": [
       "Batches:   0%|          | 0/1 [00:00<?, ?it/s]"
      ]
     },
     "metadata": {},
     "output_type": "display_data"
    },
    {
     "name": "stdout",
     "output_type": "stream",
     "text": [
      "\u001b[92m164: Guess: $12.99 Truth: $7.99 Error: $5.00 SLE: 0.20 Item: HDMI Cable, HDMI to HDMI Cable 6FT HDMI ...\u001b[0m\n"
     ]
    },
    {
     "data": {
      "application/vnd.jupyter.widget-view+json": {
       "model_id": "2512c1024f5a421b84a81f0fa4f90d2c",
       "version_major": 2,
       "version_minor": 0
      },
      "text/plain": [
       "Batches:   0%|          | 0/1 [00:00<?, ?it/s]"
      ]
     },
     "metadata": {},
     "output_type": "display_data"
    },
    {
     "name": "stdout",
     "output_type": "stream",
     "text": [
      "\u001b[92m165: Guess: $139.99 Truth: $165.90 Error: $25.91 SLE: 0.03 Item: LimoStudio Photo Shooting Kit with Backg...\u001b[0m\n"
     ]
    },
    {
     "data": {
      "application/vnd.jupyter.widget-view+json": {
       "model_id": "442ee992f7f94c018ac76a82577d39c8",
       "version_major": 2,
       "version_minor": 0
      },
      "text/plain": [
       "Batches:   0%|          | 0/1 [00:00<?, ?it/s]"
      ]
     },
     "metadata": {},
     "output_type": "display_data"
    },
    {
     "name": "stdout",
     "output_type": "stream",
     "text": [
      "\u001b[92m166: Guess: $29.99 Truth: $42.98 Error: $12.99 SLE: 0.12 Item: Maxtek 2 Pack 4.5 hours BP-827 Li-Ion Re...\u001b[0m\n"
     ]
    },
    {
     "data": {
      "application/vnd.jupyter.widget-view+json": {
       "model_id": "7e209e8eca3442fabacaac8b774209b5",
       "version_major": 2,
       "version_minor": 0
      },
      "text/plain": [
       "Batches:   0%|          | 0/1 [00:00<?, ?it/s]"
      ]
     },
     "metadata": {},
     "output_type": "display_data"
    },
    {
     "name": "stdout",
     "output_type": "stream",
     "text": [
      "\u001b[92m167: Guess: $229.99 Truth: $199.99 Error: $30.00 SLE: 0.02 Item: Ikan E-Image 2 Stage Aluminum Video Trip...\u001b[0m\n"
     ]
    },
    {
     "data": {
      "application/vnd.jupyter.widget-view+json": {
       "model_id": "2ed6c071c4894855a5e09d168c02bb73",
       "version_major": 2,
       "version_minor": 0
      },
      "text/plain": [
       "Batches:   0%|          | 0/1 [00:00<?, ?it/s]"
      ]
     },
     "metadata": {},
     "output_type": "display_data"
    },
    {
     "name": "stdout",
     "output_type": "stream",
     "text": [
      "\u001b[92m168: Guess: $39.99 Truth: $36.95 Error: $3.04 SLE: 0.01 Item: Samsung ram Memory 16GB kit (2 x 8GB) DD...\u001b[0m\n"
     ]
    },
    {
     "data": {
      "application/vnd.jupyter.widget-view+json": {
       "model_id": "a10eb055db7e46c886f086d7921f58b5",
       "version_major": 2,
       "version_minor": 0
      },
      "text/plain": [
       "Batches:   0%|          | 0/1 [00:00<?, ?it/s]"
      ]
     },
     "metadata": {},
     "output_type": "display_data"
    },
    {
     "name": "stdout",
     "output_type": "stream",
     "text": [
      "\u001b[92m169: Guess: $399.99 Truth: $399.00 Error: $0.99 SLE: 0.00 Item: Dell Optiplex 9020 Small Form Factor Des...\u001b[0m\n"
     ]
    },
    {
     "data": {
      "application/vnd.jupyter.widget-view+json": {
       "model_id": "74d98bafe8d64907adf94ed6f193937a",
       "version_major": 2,
       "version_minor": 0
      },
      "text/plain": [
       "Batches:   0%|          | 0/1 [00:00<?, ?it/s]"
      ]
     },
     "metadata": {},
     "output_type": "display_data"
    },
    {
     "name": "stdout",
     "output_type": "stream",
     "text": [
      "\u001b[92m170: Guess: $29.99 Truth: $42.50 Error: $12.51 SLE: 0.11 Item: U-810 USB 3.0 Hub with Gigabit Ethernet\u001b[0m\n"
     ]
    },
    {
     "data": {
      "application/vnd.jupyter.widget-view+json": {
       "model_id": "23f01fb54b114e2097208ca6880dcf5a",
       "version_major": 2,
       "version_minor": 0
      },
      "text/plain": [
       "Batches:   0%|          | 0/1 [00:00<?, ?it/s]"
      ]
     },
     "metadata": {},
     "output_type": "display_data"
    },
    {
     "name": "stdout",
     "output_type": "stream",
     "text": [
      "\u001b[92m171: Guess: $199.99 Truth: $199.99 Error: $0.00 SLE: 0.00 Item: DS18 SXE-2500.1D/RD Car Amplifier Class ...\u001b[0m\n"
     ]
    },
    {
     "data": {
      "application/vnd.jupyter.widget-view+json": {
       "model_id": "94c2750e7b6f4b74b6c9b8acfacaf9de",
       "version_major": 2,
       "version_minor": 0
      },
      "text/plain": [
       "Batches:   0%|          | 0/1 [00:00<?, ?it/s]"
      ]
     },
     "metadata": {},
     "output_type": "display_data"
    },
    {
     "name": "stdout",
     "output_type": "stream",
     "text": [
      "\u001b[92m172: Guess: $29.99 Truth: $17.99 Error: $12.00 SLE: 0.24 Item: KIQ Guardian Series for Apple iPad 6th G...\u001b[0m\n"
     ]
    },
    {
     "data": {
      "application/vnd.jupyter.widget-view+json": {
       "model_id": "78b3972204764851bc043b52b4d52e5f",
       "version_major": 2,
       "version_minor": 0
      },
      "text/plain": [
       "Batches:   0%|          | 0/1 [00:00<?, ?it/s]"
      ]
     },
     "metadata": {},
     "output_type": "display_data"
    },
    {
     "name": "stdout",
     "output_type": "stream",
     "text": [
      "\u001b[92m173: Guess: $119.99 Truth: $95.00 Error: $24.99 SLE: 0.05 Item: HP USB-C Dock G5 (Refurbished)\u001b[0m\n"
     ]
    },
    {
     "data": {
      "application/vnd.jupyter.widget-view+json": {
       "model_id": "d2023cce312a4d5c9281955ed5a91f06",
       "version_major": 2,
       "version_minor": 0
      },
      "text/plain": [
       "Batches:   0%|          | 0/1 [00:00<?, ?it/s]"
      ]
     },
     "metadata": {},
     "output_type": "display_data"
    },
    {
     "name": "stdout",
     "output_type": "stream",
     "text": [
      "\u001b[93m174: Guess: $95.99 Truth: $42.69 Error: $53.30 SLE: 0.64 Item: Extreme Battery XTAZ10S Powersports Repl...\u001b[0m\n"
     ]
    },
    {
     "data": {
      "application/vnd.jupyter.widget-view+json": {
       "model_id": "5aa8998f07f74644ba848925c5cfb768",
       "version_major": 2,
       "version_minor": 0
      },
      "text/plain": [
       "Batches:   0%|          | 0/1 [00:00<?, ?it/s]"
      ]
     },
     "metadata": {},
     "output_type": "display_data"
    },
    {
     "name": "stdout",
     "output_type": "stream",
     "text": [
      "\u001b[92m175: Guess: $799.00 Truth: $694.50 Error: $104.50 SLE: 0.02 Item: Samyang SYXP14-C XP 14mm f/2.4 High Spee...\u001b[0m\n"
     ]
    },
    {
     "data": {
      "application/vnd.jupyter.widget-view+json": {
       "model_id": "351775a4acb74efabd34bc3583561a9c",
       "version_major": 2,
       "version_minor": 0
      },
      "text/plain": [
       "Batches:   0%|          | 0/1 [00:00<?, ?it/s]"
      ]
     },
     "metadata": {},
     "output_type": "display_data"
    },
    {
     "name": "stdout",
     "output_type": "stream",
     "text": [
      "\u001b[92m176: Guess: $24.99 Truth: $22.47 Error: $2.52 SLE: 0.01 Item: Intel Centrino Advanced-N 6235 6235ANHMW...\u001b[0m\n"
     ]
    },
    {
     "data": {
      "application/vnd.jupyter.widget-view+json": {
       "model_id": "0bdc7c67cd5d4132ab72afaec85293cb",
       "version_major": 2,
       "version_minor": 0
      },
      "text/plain": [
       "Batches:   0%|          | 0/1 [00:00<?, ?it/s]"
      ]
     },
     "metadata": {},
     "output_type": "display_data"
    },
    {
     "name": "stdout",
     "output_type": "stream",
     "text": [
      "\u001b[92m177: Guess: $29.99 Truth: $27.00 Error: $2.99 SLE: 0.01 Item: CMS 8GB (2X4GB) DDR3 10600 1333MHZ Non E...\u001b[0m\n"
     ]
    },
    {
     "data": {
      "application/vnd.jupyter.widget-view+json": {
       "model_id": "1d1838e2a1944bacb719bba2fd141760",
       "version_major": 2,
       "version_minor": 0
      },
      "text/plain": [
       "Batches:   0%|          | 0/1 [00:00<?, ?it/s]"
      ]
     },
     "metadata": {},
     "output_type": "display_data"
    },
    {
     "name": "stdout",
     "output_type": "stream",
     "text": [
      "\u001b[92m178: Guess: $24.99 Truth: $37.00 Error: $12.01 SLE: 0.14 Item: Nikon AF-S Nikkor 35mm f/1.8G DX Pro Dig...\u001b[0m\n"
     ]
    },
    {
     "data": {
      "application/vnd.jupyter.widget-view+json": {
       "model_id": "1ddf0a2ab3ac4846904ca62387802ff8",
       "version_major": 2,
       "version_minor": 0
      },
      "text/plain": [
       "Batches:   0%|          | 0/1 [00:00<?, ?it/s]"
      ]
     },
     "metadata": {},
     "output_type": "display_data"
    },
    {
     "name": "stdout",
     "output_type": "stream",
     "text": [
      "\u001b[91m179: Guess: $249.00 Truth: $39.90 Error: $209.10 SLE: 3.28 Item: Hoya SOLAS IRND 2.7 62mm Infrared Neutra...\u001b[0m\n"
     ]
    },
    {
     "data": {
      "application/vnd.jupyter.widget-view+json": {
       "model_id": "076a86506ef04adbb822b688da5f73d2",
       "version_major": 2,
       "version_minor": 0
      },
      "text/plain": [
       "Batches:   0%|          | 0/1 [00:00<?, ?it/s]"
      ]
     },
     "metadata": {},
     "output_type": "display_data"
    },
    {
     "name": "stdout",
     "output_type": "stream",
     "text": [
      "\u001b[92m180: Guess: $199.99 Truth: $233.73 Error: $33.74 SLE: 0.02 Item: Direct Burial/Outdoor Rated Cat6 Black E...\u001b[0m\n"
     ]
    },
    {
     "data": {
      "application/vnd.jupyter.widget-view+json": {
       "model_id": "8cd3fc77ae014f57944e7d64930218f9",
       "version_major": 2,
       "version_minor": 0
      },
      "text/plain": [
       "Batches:   0%|          | 0/1 [00:00<?, ?it/s]"
      ]
     },
     "metadata": {},
     "output_type": "display_data"
    },
    {
     "name": "stdout",
     "output_type": "stream",
     "text": [
      "\u001b[91m181: Guess: $499.99 Truth: $325.94 Error: $174.05 SLE: 0.18 Item: LG 24” 24CK550Z-BP FHD (1920x1080) IPS Z...\u001b[0m\n"
     ]
    },
    {
     "data": {
      "application/vnd.jupyter.widget-view+json": {
       "model_id": "10aab7ebff2746649b6b8784162377f3",
       "version_major": 2,
       "version_minor": 0
      },
      "text/plain": [
       "Batches:   0%|          | 0/1 [00:00<?, ?it/s]"
      ]
     },
     "metadata": {},
     "output_type": "display_data"
    },
    {
     "name": "stdout",
     "output_type": "stream",
     "text": [
      "\u001b[92m182: Guess: $19.99 Truth: $1.99 Error: $18.00 SLE: 3.80 Item: FitSand Hard Case Compatible for Valoin ...\u001b[0m\n"
     ]
    },
    {
     "data": {
      "application/vnd.jupyter.widget-view+json": {
       "model_id": "da11b713d6ad44bc9d1ab3dcf3c03e91",
       "version_major": 2,
       "version_minor": 0
      },
      "text/plain": [
       "Batches:   0%|          | 0/1 [00:00<?, ?it/s]"
      ]
     },
     "metadata": {},
     "output_type": "display_data"
    },
    {
     "name": "stdout",
     "output_type": "stream",
     "text": [
      "\u001b[92m183: Guess: $109.99 Truth: $119.95 Error: $9.96 SLE: 0.01 Item: Razer Nommo Chroma - Computer Speakers, ...\u001b[0m\n"
     ]
    },
    {
     "data": {
      "application/vnd.jupyter.widget-view+json": {
       "model_id": "6db0f51a31954ac2bf0194f009871ed9",
       "version_major": 2,
       "version_minor": 0
      },
      "text/plain": [
       "Batches:   0%|          | 0/1 [00:00<?, ?it/s]"
      ]
     },
     "metadata": {},
     "output_type": "display_data"
    },
    {
     "name": "stdout",
     "output_type": "stream",
     "text": [
      "\u001b[92m184: Guess: $39.99 Truth: $38.00 Error: $1.99 SLE: 0.00 Item: Auto Wayfeng WF® IR Control 4 Cameras Vi...\u001b[0m\n"
     ]
    },
    {
     "data": {
      "application/vnd.jupyter.widget-view+json": {
       "model_id": "68dac8d947b04bbf9c284c2e7955c1f4",
       "version_major": 2,
       "version_minor": 0
      },
      "text/plain": [
       "Batches:   0%|          | 0/1 [00:00<?, ?it/s]"
      ]
     },
     "metadata": {},
     "output_type": "display_data"
    },
    {
     "name": "stdout",
     "output_type": "stream",
     "text": [
      "\u001b[92m185: Guess: $749.99 Truth: $629.95 Error: $120.04 SLE: 0.03 Item: Sigma 105mm f/2.8 EX DG OS HSM Macro Len...\u001b[0m\n"
     ]
    },
    {
     "data": {
      "application/vnd.jupyter.widget-view+json": {
       "model_id": "dc645cf3a55e414bbefc9f32c5ff7197",
       "version_major": 2,
       "version_minor": 0
      },
      "text/plain": [
       "Batches:   0%|          | 0/1 [00:00<?, ?it/s]"
      ]
     },
     "metadata": {},
     "output_type": "display_data"
    },
    {
     "name": "stdout",
     "output_type": "stream",
     "text": [
      "\u001b[93m186: Guess: $149.00 Truth: $199.00 Error: $50.00 SLE: 0.08 Item: Saregama Carvaan 2.0 Portable Digital Mu...\u001b[0m\n"
     ]
    },
    {
     "data": {
      "application/vnd.jupyter.widget-view+json": {
       "model_id": "57a8df4373a84757b30740135eed967d",
       "version_major": 2,
       "version_minor": 0
      },
      "text/plain": [
       "Batches:   0%|          | 0/1 [00:00<?, ?it/s]"
      ]
     },
     "metadata": {},
     "output_type": "display_data"
    },
    {
     "name": "stdout",
     "output_type": "stream",
     "text": [
      "\u001b[91m187: Guess: $49.95 Truth: $179.99 Error: $130.04 SLE: 1.61 Item: Greenlee 468 Wiremap Tester\u001b[0m\n"
     ]
    },
    {
     "data": {
      "application/vnd.jupyter.widget-view+json": {
       "model_id": "166f774c35a34933a68102afe229f6dd",
       "version_major": 2,
       "version_minor": 0
      },
      "text/plain": [
       "Batches:   0%|          | 0/1 [00:00<?, ?it/s]"
      ]
     },
     "metadata": {},
     "output_type": "display_data"
    },
    {
     "name": "stdout",
     "output_type": "stream",
     "text": [
      "\u001b[91m188: Guess: $399.99 Truth: $699.99 Error: $300.00 SLE: 0.31 Item: EVGA GeForce GTX 1080 FTW GAMING ACX 3.0...\u001b[0m\n"
     ]
    },
    {
     "data": {
      "application/vnd.jupyter.widget-view+json": {
       "model_id": "f328487090eb4187b0369d9929d2cd64",
       "version_major": 2,
       "version_minor": 0
      },
      "text/plain": [
       "Batches:   0%|          | 0/1 [00:00<?, ?it/s]"
      ]
     },
     "metadata": {},
     "output_type": "display_data"
    },
    {
     "name": "stdout",
     "output_type": "stream",
     "text": [
      "\u001b[92m189: Guess: $45.99 Truth: $43.99 Error: $2.00 SLE: 0.00 Item: Kastar Charger + 3 Battery for Hewlett P...\u001b[0m\n"
     ]
    },
    {
     "data": {
      "application/vnd.jupyter.widget-view+json": {
       "model_id": "21cc831d55ae4b31bff4565d24e2b04d",
       "version_major": 2,
       "version_minor": 0
      },
      "text/plain": [
       "Batches:   0%|          | 0/1 [00:00<?, ?it/s]"
      ]
     },
     "metadata": {},
     "output_type": "display_data"
    },
    {
     "name": "stdout",
     "output_type": "stream",
     "text": [
      "\u001b[92m190: Guess: $12.99 Truth: $4.99 Error: $8.00 SLE: 0.72 Item: 100 Pcs no-Repeating Stickers for Water ...\u001b[0m\n"
     ]
    },
    {
     "data": {
      "application/vnd.jupyter.widget-view+json": {
       "model_id": "08a9b10dff304f27a2e00cdecad35289",
       "version_major": 2,
       "version_minor": 0
      },
      "text/plain": [
       "Batches:   0%|          | 0/1 [00:00<?, ?it/s]"
      ]
     },
     "metadata": {},
     "output_type": "display_data"
    },
    {
     "name": "stdout",
     "output_type": "stream",
     "text": [
      "\u001b[92m191: Guess: $29.95 Truth: $35.96 Error: $6.01 SLE: 0.03 Item: 3ft. HD PTTL Off-Camera Cord for Pentax ...\u001b[0m\n"
     ]
    },
    {
     "data": {
      "application/vnd.jupyter.widget-view+json": {
       "model_id": "4fa9ab89f9e645aeab7f1ba03bd5a9c2",
       "version_major": 2,
       "version_minor": 0
      },
      "text/plain": [
       "Batches:   0%|          | 0/1 [00:00<?, ?it/s]"
      ]
     },
     "metadata": {},
     "output_type": "display_data"
    },
    {
     "name": "stdout",
     "output_type": "stream",
     "text": [
      "\u001b[92m192: Guess: $249.99 Truth: $269.00 Error: $19.01 SLE: 0.01 Item: 5G WiFi 8 Core 1280 * 720 Resolution Car...\u001b[0m\n"
     ]
    },
    {
     "data": {
      "application/vnd.jupyter.widget-view+json": {
       "model_id": "90488a02bedf495a83cb4af1e1e41ea7",
       "version_major": 2,
       "version_minor": 0
      },
      "text/plain": [
       "Batches:   0%|          | 0/1 [00:00<?, ?it/s]"
      ]
     },
     "metadata": {},
     "output_type": "display_data"
    },
    {
     "name": "stdout",
     "output_type": "stream",
     "text": [
      "\u001b[92m193: Guess: $29.99 Truth: $22.29 Error: $7.70 SLE: 0.08 Item: Pyle Water Resistant Marine Stereo Cover...\u001b[0m\n"
     ]
    },
    {
     "data": {
      "application/vnd.jupyter.widget-view+json": {
       "model_id": "5b0e60f8f1a5486290524e23bcd31ca8",
       "version_major": 2,
       "version_minor": 0
      },
      "text/plain": [
       "Batches:   0%|          | 0/1 [00:00<?, ?it/s]"
      ]
     },
     "metadata": {},
     "output_type": "display_data"
    },
    {
     "name": "stdout",
     "output_type": "stream",
     "text": [
      "\u001b[91m194: Guess: $289.99 Truth: $185.00 Error: $104.99 SLE: 0.20 Item: Lenovo 14w Laptop Gen 2, 14\" HD (1366X76...\u001b[0m\n"
     ]
    },
    {
     "data": {
      "application/vnd.jupyter.widget-view+json": {
       "model_id": "40b7bcd7c1eb417888da95be7a15f20d",
       "version_major": 2,
       "version_minor": 0
      },
      "text/plain": [
       "Batches:   0%|          | 0/1 [00:00<?, ?it/s]"
      ]
     },
     "metadata": {},
     "output_type": "display_data"
    },
    {
     "name": "stdout",
     "output_type": "stream",
     "text": [
      "\u001b[92m195: Guess: $89.99 Truth: $64.99 Error: $25.00 SLE: 0.10 Item: SoundXtreme ST-X6400BT MP5 7\" digital TF...\u001b[0m\n"
     ]
    },
    {
     "data": {
      "application/vnd.jupyter.widget-view+json": {
       "model_id": "f9c3edb57aed43db856c79af3e69f4ff",
       "version_major": 2,
       "version_minor": 0
      },
      "text/plain": [
       "Batches:   0%|          | 0/1 [00:00<?, ?it/s]"
      ]
     },
     "metadata": {},
     "output_type": "display_data"
    },
    {
     "name": "stdout",
     "output_type": "stream",
     "text": [
      "\u001b[92m196: Guess: $9.99 Truth: $0.69 Error: $9.30 SLE: 3.51 Item: Yxflzer USB 2.0 Type A Female to Micro U...\u001b[0m\n"
     ]
    },
    {
     "data": {
      "application/vnd.jupyter.widget-view+json": {
       "model_id": "2fb9f8c712aa4627816bda400457693e",
       "version_major": 2,
       "version_minor": 0
      },
      "text/plain": [
       "Batches:   0%|          | 0/1 [00:00<?, ?it/s]"
      ]
     },
     "metadata": {},
     "output_type": "display_data"
    },
    {
     "name": "stdout",
     "output_type": "stream",
     "text": [
      "\u001b[91m197: Guess: $99.99 Truth: $269.95 Error: $169.96 SLE: 0.97 Item: Sharp GXBT9 Portable Bluetooth Boom Box ...\u001b[0m\n"
     ]
    },
    {
     "data": {
      "application/vnd.jupyter.widget-view+json": {
       "model_id": "7f9ba4d5d00a493dbed217455f046c3c",
       "version_major": 2,
       "version_minor": 0
      },
      "text/plain": [
       "Batches:   0%|          | 0/1 [00:00<?, ?it/s]"
      ]
     },
     "metadata": {},
     "output_type": "display_data"
    },
    {
     "name": "stdout",
     "output_type": "stream",
     "text": [
      "\u001b[93m198: Guess: $109.99 Truth: $58.99 Error: $51.00 SLE: 0.38 Item: Polk Audio DB402 DB+ Series 4\" Coaxial S...\u001b[0m\n"
     ]
    },
    {
     "data": {
      "application/vnd.jupyter.widget-view+json": {
       "model_id": "4e8adb1ee69c401e822db4984d74d7a3",
       "version_major": 2,
       "version_minor": 0
      },
      "text/plain": [
       "Batches:   0%|          | 0/1 [00:00<?, ?it/s]"
      ]
     },
     "metadata": {},
     "output_type": "display_data"
    },
    {
     "name": "stdout",
     "output_type": "stream",
     "text": [
      "\u001b[92m199: Guess: $49.99 Truth: $64.52 Error: $14.53 SLE: 0.06 Item: DJI Phantom 4 - Part 9 100W Battery Char...\u001b[0m\n"
     ]
    },
    {
     "data": {
      "application/vnd.jupyter.widget-view+json": {
       "model_id": "7325a9a3022b4de09a4b1346d50ec836",
       "version_major": 2,
       "version_minor": 0
      },
      "text/plain": [
       "Batches:   0%|          | 0/1 [00:00<?, ?it/s]"
      ]
     },
     "metadata": {},
     "output_type": "display_data"
    },
    {
     "name": "stdout",
     "output_type": "stream",
     "text": [
      "\u001b[92m200: Guess: $199.99 Truth: $169.00 Error: $30.99 SLE: 0.03 Item: Feniex Industries C-4014 Storm Pro 100W ...\u001b[0m\n"
     ]
    },
    {
     "data": {
      "application/vnd.jupyter.widget-view+json": {
       "model_id": "301af20dceee4bf9afeb57289958b0b5",
       "version_major": 2,
       "version_minor": 0
      },
      "text/plain": [
       "Batches:   0%|          | 0/1 [00:00<?, ?it/s]"
      ]
     },
     "metadata": {},
     "output_type": "display_data"
    },
    {
     "name": "stdout",
     "output_type": "stream",
     "text": [
      "\u001b[92m201: Guess: $28.99 Truth: $25.01 Error: $3.98 SLE: 0.02 Item: UpBright 25V AC/DC Adapter Compatible wi...\u001b[0m\n"
     ]
    },
    {
     "data": {
      "application/vnd.jupyter.widget-view+json": {
       "model_id": "c75ece1a10ff4484889dafde501aee68",
       "version_major": 2,
       "version_minor": 0
      },
      "text/plain": [
       "Batches:   0%|          | 0/1 [00:00<?, ?it/s]"
      ]
     },
     "metadata": {},
     "output_type": "display_data"
    },
    {
     "name": "stdout",
     "output_type": "stream",
     "text": [
      "\u001b[92m202: Guess: $49.99 Truth: $55.77 Error: $5.78 SLE: 0.01 Item: BOWEIRUI AA-PBTN2TP Laptop Battery Repla...\u001b[0m\n"
     ]
    },
    {
     "data": {
      "application/vnd.jupyter.widget-view+json": {
       "model_id": "a6efb830d1ee42f888683c3fd41bbf2f",
       "version_major": 2,
       "version_minor": 0
      },
      "text/plain": [
       "Batches:   0%|          | 0/1 [00:00<?, ?it/s]"
      ]
     },
     "metadata": {},
     "output_type": "display_data"
    },
    {
     "name": "stdout",
     "output_type": "stream",
     "text": [
      "\u001b[92m203: Guess: $39.99 Truth: $34.90 Error: $5.09 SLE: 0.02 Item: Verbatim 128GB Vx460 External SSD USB 3....\u001b[0m\n"
     ]
    },
    {
     "data": {
      "application/vnd.jupyter.widget-view+json": {
       "model_id": "f8dabe05c45942cc8ac15eb3b5fc64e8",
       "version_major": 2,
       "version_minor": 0
      },
      "text/plain": [
       "Batches:   0%|          | 0/1 [00:00<?, ?it/s]"
      ]
     },
     "metadata": {},
     "output_type": "display_data"
    },
    {
     "name": "stdout",
     "output_type": "stream",
     "text": [
      "\u001b[92m204: Guess: $249.99 Truth: $299.95 Error: $49.96 SLE: 0.03 Item: Kicker 46CXA4001 Car Audio Class D Mono ...\u001b[0m\n"
     ]
    },
    {
     "data": {
      "application/vnd.jupyter.widget-view+json": {
       "model_id": "90609d75250f4fb5b5666391e5394242",
       "version_major": 2,
       "version_minor": 0
      },
      "text/plain": [
       "Batches:   0%|          | 0/1 [00:00<?, ?it/s]"
      ]
     },
     "metadata": {},
     "output_type": "display_data"
    },
    {
     "name": "stdout",
     "output_type": "stream",
     "text": [
      "\u001b[91m205: Guess: $499.00 Truth: $279.00 Error: $220.00 SLE: 0.34 Item: Definitive Technology Dt Series Dt8Lcr i...\u001b[0m\n"
     ]
    },
    {
     "data": {
      "application/vnd.jupyter.widget-view+json": {
       "model_id": "ef7aef33213947e8bfd5f0d6810a5904",
       "version_major": 2,
       "version_minor": 0
      },
      "text/plain": [
       "Batches:   0%|          | 0/1 [00:00<?, ?it/s]"
      ]
     },
     "metadata": {},
     "output_type": "display_data"
    },
    {
     "name": "stdout",
     "output_type": "stream",
     "text": [
      "\u001b[91m206: Guess: $329.00 Truth: $172.12 Error: $156.88 SLE: 0.42 Item: Lenovo 14\" FHD Laptop - AMD A6-9220C Dua...\u001b[0m\n"
     ]
    },
    {
     "data": {
      "application/vnd.jupyter.widget-view+json": {
       "model_id": "efd24e6432e943a3b0aaaf6b1fbc1b51",
       "version_major": 2,
       "version_minor": 0
      },
      "text/plain": [
       "Batches:   0%|          | 0/1 [00:00<?, ?it/s]"
      ]
     },
     "metadata": {},
     "output_type": "display_data"
    },
    {
     "name": "stdout",
     "output_type": "stream",
     "text": [
      "\u001b[92m207: Guess: $29.99 Truth: $38.19 Error: $8.20 SLE: 0.06 Item: SureCall J-Bar Outdoor Antenna Mounting ...\u001b[0m\n"
     ]
    },
    {
     "data": {
      "application/vnd.jupyter.widget-view+json": {
       "model_id": "57cbbbff1dd642c48367ff2bdebcab99",
       "version_major": 2,
       "version_minor": 0
      },
      "text/plain": [
       "Batches:   0%|          | 0/1 [00:00<?, ?it/s]"
      ]
     },
     "metadata": {},
     "output_type": "display_data"
    },
    {
     "name": "stdout",
     "output_type": "stream",
     "text": [
      "\u001b[93m208: Guess: $599.99 Truth: $899.00 Error: $299.01 SLE: 0.16 Item: 2020 HUION Kamvas Pro 24 Drawing Monitor...\u001b[0m\n"
     ]
    },
    {
     "data": {
      "application/vnd.jupyter.widget-view+json": {
       "model_id": "13d4a4fd8e0e400c926fbf200fdd5958",
       "version_major": 2,
       "version_minor": 0
      },
      "text/plain": [
       "Batches:   0%|          | 0/1 [00:00<?, ?it/s]"
      ]
     },
     "metadata": {},
     "output_type": "display_data"
    },
    {
     "name": "stdout",
     "output_type": "stream",
     "text": [
      "\u001b[92m209: Guess: $99.00 Truth: $78.95 Error: $20.05 SLE: 0.05 Item: RYOBI 18V ONE+ Bluetooth Speaker (Tool-O...\u001b[0m\n"
     ]
    },
    {
     "data": {
      "application/vnd.jupyter.widget-view+json": {
       "model_id": "a9133894e370421bba5d2b566a832596",
       "version_major": 2,
       "version_minor": 0
      },
      "text/plain": [
       "Batches:   0%|          | 0/1 [00:00<?, ?it/s]"
      ]
     },
     "metadata": {},
     "output_type": "display_data"
    },
    {
     "name": "stdout",
     "output_type": "stream",
     "text": [
      "\u001b[93m210: Guess: $109.99 Truth: $164.49 Error: $54.50 SLE: 0.16 Item: MikroTik PowerBox Pro Router, 5 Gigabit ...\u001b[0m\n"
     ]
    },
    {
     "data": {
      "application/vnd.jupyter.widget-view+json": {
       "model_id": "f269cc5fe8174c7bb901b8a851ea746b",
       "version_major": 2,
       "version_minor": 0
      },
      "text/plain": [
       "Batches:   0%|          | 0/1 [00:00<?, ?it/s]"
      ]
     },
     "metadata": {},
     "output_type": "display_data"
    },
    {
     "name": "stdout",
     "output_type": "stream",
     "text": [
      "\u001b[92m211: Guess: $19.99 Truth: $14.90 Error: $5.09 SLE: 0.08 Item: Geekria QuickFit Replacement Ear Pads fo...\u001b[0m\n"
     ]
    },
    {
     "data": {
      "application/vnd.jupyter.widget-view+json": {
       "model_id": "641d9357c4374f89950a3df4ee3b09b6",
       "version_major": 2,
       "version_minor": 0
      },
      "text/plain": [
       "Batches:   0%|          | 0/1 [00:00<?, ?it/s]"
      ]
     },
     "metadata": {},
     "output_type": "display_data"
    },
    {
     "name": "stdout",
     "output_type": "stream",
     "text": [
      "\u001b[92m212: Guess: $149.99 Truth: $148.02 Error: $1.97 SLE: 0.00 Item: ASUS P6T Deluxe V2 Desktop Board\u001b[0m\n"
     ]
    },
    {
     "data": {
      "application/vnd.jupyter.widget-view+json": {
       "model_id": "08def90118e9437eaad4c6b5c94b30e9",
       "version_major": 2,
       "version_minor": 0
      },
      "text/plain": [
       "Batches:   0%|          | 0/1 [00:00<?, ?it/s]"
      ]
     },
     "metadata": {},
     "output_type": "display_data"
    },
    {
     "name": "stdout",
     "output_type": "stream",
     "text": [
      "\u001b[91m213: Guess: $499.99 Truth: $349.00 Error: $150.99 SLE: 0.13 Item: Apple iPad Pro (32GB, Wi-Fi, Space Gray)...\u001b[0m\n"
     ]
    },
    {
     "data": {
      "application/vnd.jupyter.widget-view+json": {
       "model_id": "a13274c6478d43bebde632f0a41161dc",
       "version_major": 2,
       "version_minor": 0
      },
      "text/plain": [
       "Batches:   0%|          | 0/1 [00:00<?, ?it/s]"
      ]
     },
     "metadata": {},
     "output_type": "display_data"
    },
    {
     "name": "stdout",
     "output_type": "stream",
     "text": [
      "\u001b[92m214: Guess: $9.99 Truth: $7.97 Error: $2.02 SLE: 0.04 Item: 3 ft. USB 2.0 A Male to A Male and Mini-...\u001b[0m\n"
     ]
    },
    {
     "data": {
      "application/vnd.jupyter.widget-view+json": {
       "model_id": "27d6d8688a3a440696726f4e7ba25794",
       "version_major": 2,
       "version_minor": 0
      },
      "text/plain": [
       "Batches:   0%|          | 0/1 [00:00<?, ?it/s]"
      ]
     },
     "metadata": {},
     "output_type": "display_data"
    },
    {
     "name": "stdout",
     "output_type": "stream",
     "text": [
      "\u001b[93m215: Guess: $499.99 Truth: $749.99 Error: $250.00 SLE: 0.16 Item: HP 2022 17.3\" FHD IPS Display Laptop PC ...\u001b[0m\n"
     ]
    },
    {
     "data": {
      "application/vnd.jupyter.widget-view+json": {
       "model_id": "add167353b8c40ebb1820b9478facbae",
       "version_major": 2,
       "version_minor": 0
      },
      "text/plain": [
       "Batches:   0%|          | 0/1 [00:00<?, ?it/s]"
      ]
     },
     "metadata": {},
     "output_type": "display_data"
    },
    {
     "name": "stdout",
     "output_type": "stream",
     "text": [
      "\u001b[92m216: Guess: $39.99 Truth: $79.99 Error: $40.00 SLE: 0.46 Item: JB Live 500 BT, Around-Ear Wireless Head...\u001b[0m\n"
     ]
    },
    {
     "data": {
      "application/vnd.jupyter.widget-view+json": {
       "model_id": "5134b8858d7e4c869994fadb57223a07",
       "version_major": 2,
       "version_minor": 0
      },
      "text/plain": [
       "Batches:   0%|          | 0/1 [00:00<?, ?it/s]"
      ]
     },
     "metadata": {},
     "output_type": "display_data"
    },
    {
     "name": "stdout",
     "output_type": "stream",
     "text": [
      "\u001b[93m217: Guess: $199.00 Truth: $319.99 Error: $120.99 SLE: 0.22 Item: nixplay Smart Digital Picture Frame 15.6...\u001b[0m\n"
     ]
    },
    {
     "data": {
      "application/vnd.jupyter.widget-view+json": {
       "model_id": "11205b79c0a849679b487f7d88c497e1",
       "version_major": 2,
       "version_minor": 0
      },
      "text/plain": [
       "Batches:   0%|          | 0/1 [00:00<?, ?it/s]"
      ]
     },
     "metadata": {},
     "output_type": "display_data"
    },
    {
     "name": "stdout",
     "output_type": "stream",
     "text": [
      "\u001b[92m218: Guess: $9.99 Truth: $6.99 Error: $3.00 SLE: 0.10 Item: Keenso Multipurpose Car Wiring Harness T...\u001b[0m\n"
     ]
    },
    {
     "data": {
      "application/vnd.jupyter.widget-view+json": {
       "model_id": "92dc6b07da10484fa776bbb54c65b3a1",
       "version_major": 2,
       "version_minor": 0
      },
      "text/plain": [
       "Batches:   0%|          | 0/1 [00:00<?, ?it/s]"
      ]
     },
     "metadata": {},
     "output_type": "display_data"
    },
    {
     "name": "stdout",
     "output_type": "stream",
     "text": [
      "\u001b[91m219: Guess: $249.99 Truth: $117.27 Error: $132.72 SLE: 0.57 Item: HP 8000 Elite Desktop C2D 3.00 8GB 2TB D...\u001b[0m\n"
     ]
    },
    {
     "data": {
      "application/vnd.jupyter.widget-view+json": {
       "model_id": "5977fc97daee4862b665ed66f25cbeff",
       "version_major": 2,
       "version_minor": 0
      },
      "text/plain": [
       "Batches:   0%|          | 0/1 [00:00<?, ?it/s]"
      ]
     },
     "metadata": {},
     "output_type": "display_data"
    },
    {
     "name": "stdout",
     "output_type": "stream",
     "text": [
      "\u001b[92m220: Guess: $129.99 Truth: $93.04 Error: $36.95 SLE: 0.11 Item: Plantronics - Voyager 5200 UC (Poly) - B...\u001b[0m\n"
     ]
    },
    {
     "data": {
      "application/vnd.jupyter.widget-view+json": {
       "model_id": "a16a9ec3442b4bb2b8220a681040dfd6",
       "version_major": 2,
       "version_minor": 0
      },
      "text/plain": [
       "Batches:   0%|          | 0/1 [00:00<?, ?it/s]"
      ]
     },
     "metadata": {},
     "output_type": "display_data"
    },
    {
     "name": "stdout",
     "output_type": "stream",
     "text": [
      "\u001b[92m221: Guess: $6.99 Truth: $1.60 Error: $5.39 SLE: 1.26 Item: 6ft Cat 5E Non-Booted Unshielded (UTP) E...\u001b[0m\n"
     ]
    },
    {
     "data": {
      "application/vnd.jupyter.widget-view+json": {
       "model_id": "a7cfa6b8f5f042f98ca5fe8c858ba5d4",
       "version_major": 2,
       "version_minor": 0
      },
      "text/plain": [
       "Batches:   0%|          | 0/1 [00:00<?, ?it/s]"
      ]
     },
     "metadata": {},
     "output_type": "display_data"
    },
    {
     "name": "stdout",
     "output_type": "stream",
     "text": [
      "\u001b[92m222: Guess: $29.99 Truth: $22.99 Error: $7.00 SLE: 0.07 Item: PWR+ Laptop Power Adapter Charger for HP...\u001b[0m\n"
     ]
    },
    {
     "data": {
      "application/vnd.jupyter.widget-view+json": {
       "model_id": "bcb1d12557bb492fa5fe5a25c350ce15",
       "version_major": 2,
       "version_minor": 0
      },
      "text/plain": [
       "Batches:   0%|          | 0/1 [00:00<?, ?it/s]"
      ]
     },
     "metadata": {},
     "output_type": "display_data"
    },
    {
     "name": "stdout",
     "output_type": "stream",
     "text": [
      "\u001b[92m223: Guess: $24.99 Truth: $14.99 Error: $10.00 SLE: 0.24 Item: Se7enline Compatible with MacBook Air 13...\u001b[0m\n"
     ]
    },
    {
     "data": {
      "application/vnd.jupyter.widget-view+json": {
       "model_id": "4b49bb897d11438e97ed84869f13f326",
       "version_major": 2,
       "version_minor": 0
      },
      "text/plain": [
       "Batches:   0%|          | 0/1 [00:00<?, ?it/s]"
      ]
     },
     "metadata": {},
     "output_type": "display_data"
    },
    {
     "name": "stdout",
     "output_type": "stream",
     "text": [
      "\u001b[92m224: Guess: $24.99 Truth: $42.09 Error: $17.10 SLE: 0.26 Item: Gadget Guard GEGEAP000013 Black Ice Edit...\u001b[0m\n"
     ]
    },
    {
     "data": {
      "application/vnd.jupyter.widget-view+json": {
       "model_id": "d3846c4d3f194c85926d84b6206074ee",
       "version_major": 2,
       "version_minor": 0
      },
      "text/plain": [
       "Batches:   0%|          | 0/1 [00:00<?, ?it/s]"
      ]
     },
     "metadata": {},
     "output_type": "display_data"
    },
    {
     "name": "stdout",
     "output_type": "stream",
     "text": [
      "\u001b[92m225: Guess: $23.99 Truth: $30.59 Error: $6.60 SLE: 0.05 Item: AN-MR650A AN-MR18BA AN-MR19BA Voice Magi...\u001b[0m\n"
     ]
    },
    {
     "data": {
      "application/vnd.jupyter.widget-view+json": {
       "model_id": "611ca22f8e9c43579d22fb85acb075f3",
       "version_major": 2,
       "version_minor": 0
      },
      "text/plain": [
       "Batches:   0%|          | 0/1 [00:00<?, ?it/s]"
      ]
     },
     "metadata": {},
     "output_type": "display_data"
    },
    {
     "name": "stdout",
     "output_type": "stream",
     "text": [
      "\u001b[92m226: Guess: $29.99 Truth: $49.00 Error: $19.01 SLE: 0.23 Item: [Intel Thunderbolt 3 Certified 40Gbps Th...\u001b[0m\n"
     ]
    },
    {
     "data": {
      "application/vnd.jupyter.widget-view+json": {
       "model_id": "99a03355a30c437aaddc4dfd06c20030",
       "version_major": 2,
       "version_minor": 0
      },
      "text/plain": [
       "Batches:   0%|          | 0/1 [00:00<?, ?it/s]"
      ]
     },
     "metadata": {},
     "output_type": "display_data"
    },
    {
     "name": "stdout",
     "output_type": "stream",
     "text": [
      "\u001b[92m227: Guess: $89.00 Truth: $52.99 Error: $36.01 SLE: 0.26 Item: DKNKD X8VWF 4XKN5 CJ2K1 Laptop Battery f...\u001b[0m\n"
     ]
    },
    {
     "data": {
      "application/vnd.jupyter.widget-view+json": {
       "model_id": "5e7ff055f5044ab98f76b07b2eef3045",
       "version_major": 2,
       "version_minor": 0
      },
      "text/plain": [
       "Batches:   0%|          | 0/1 [00:00<?, ?it/s]"
      ]
     },
     "metadata": {},
     "output_type": "display_data"
    },
    {
     "name": "stdout",
     "output_type": "stream",
     "text": [
      "\u001b[92m228: Guess: $169.99 Truth: $144.99 Error: $25.00 SLE: 0.02 Item: Hawke Endurance ED Monocular\u001b[0m\n"
     ]
    },
    {
     "data": {
      "application/vnd.jupyter.widget-view+json": {
       "model_id": "6924051de38b4ec59b2773b678eaddc4",
       "version_major": 2,
       "version_minor": 0
      },
      "text/plain": [
       "Batches:   0%|          | 0/1 [00:00<?, ?it/s]"
      ]
     },
     "metadata": {},
     "output_type": "display_data"
    },
    {
     "name": "stdout",
     "output_type": "stream",
     "text": [
      "\u001b[92m229: Guess: $299.99 Truth: $359.00 Error: $59.01 SLE: 0.03 Item: Radio for Chevrolet Chevy Cruze Stereo 2...\u001b[0m\n"
     ]
    },
    {
     "data": {
      "application/vnd.jupyter.widget-view+json": {
       "model_id": "8a1f24b3690549f48dfa62933d5023e4",
       "version_major": 2,
       "version_minor": 0
      },
      "text/plain": [
       "Batches:   0%|          | 0/1 [00:00<?, ?it/s]"
      ]
     },
     "metadata": {},
     "output_type": "display_data"
    },
    {
     "name": "stdout",
     "output_type": "stream",
     "text": [
      "\u001b[92m230: Guess: $15.99 Truth: $4.98 Error: $11.01 SLE: 1.09 Item: FONVOi AUX Cord for iPhone【Apple MFi Cer...\u001b[0m\n"
     ]
    },
    {
     "data": {
      "application/vnd.jupyter.widget-view+json": {
       "model_id": "2d9eb631c187412ebe93e944eca1efa0",
       "version_major": 2,
       "version_minor": 0
      },
      "text/plain": [
       "Batches:   0%|          | 0/1 [00:00<?, ?it/s]"
      ]
     },
     "metadata": {},
     "output_type": "display_data"
    },
    {
     "name": "stdout",
     "output_type": "stream",
     "text": [
      "\u001b[92m231: Guess: $29.99 Truth: $69.95 Error: $39.96 SLE: 0.69 Item: American-Wholesaler Inc. New! - Empty Ma...\u001b[0m\n"
     ]
    },
    {
     "data": {
      "application/vnd.jupyter.widget-view+json": {
       "model_id": "4164f1de0dac4b8ea586cac9de3d44ff",
       "version_major": 2,
       "version_minor": 0
      },
      "text/plain": [
       "Batches:   0%|          | 0/1 [00:00<?, ?it/s]"
      ]
     },
     "metadata": {},
     "output_type": "display_data"
    },
    {
     "name": "stdout",
     "output_type": "stream",
     "text": [
      "\u001b[92m232: Guess: $29.99 Truth: $62.99 Error: $33.00 SLE: 0.53 Item: KENUCO PM DS-1275ZJ Universal Vertical P...\u001b[0m\n"
     ]
    },
    {
     "data": {
      "application/vnd.jupyter.widget-view+json": {
       "model_id": "2d3b57f734ee4f95ab45dc7acd3698ba",
       "version_major": 2,
       "version_minor": 0
      },
      "text/plain": [
       "Batches:   0%|          | 0/1 [00:00<?, ?it/s]"
      ]
     },
     "metadata": {},
     "output_type": "display_data"
    },
    {
     "name": "stdout",
     "output_type": "stream",
     "text": [
      "\u001b[93m233: Guess: $39.99 Truth: $84.55 Error: $44.56 SLE: 0.54 Item: Starter Tethering Kit w/TetherPro USB 2....\u001b[0m\n"
     ]
    },
    {
     "data": {
      "application/vnd.jupyter.widget-view+json": {
       "model_id": "abfd135218d440bb9efeac14ea41696a",
       "version_major": 2,
       "version_minor": 0
      },
      "text/plain": [
       "Batches:   0%|          | 0/1 [00:00<?, ?it/s]"
      ]
     },
     "metadata": {},
     "output_type": "display_data"
    },
    {
     "name": "stdout",
     "output_type": "stream",
     "text": [
      "\u001b[92m234: Guess: $24.99 Truth: $56.59 Error: $31.60 SLE: 0.63 Item: USB 3.0 Data Transfer Cable 6.6FT - HBAV...\u001b[0m\n"
     ]
    },
    {
     "data": {
      "application/vnd.jupyter.widget-view+json": {
       "model_id": "bcb24d2f31f34136ad4a52e4dd6bf2dd",
       "version_major": 2,
       "version_minor": 0
      },
      "text/plain": [
       "Batches:   0%|          | 0/1 [00:00<?, ?it/s]"
      ]
     },
     "metadata": {},
     "output_type": "display_data"
    },
    {
     "name": "stdout",
     "output_type": "stream",
     "text": [
      "\u001b[92m235: Guess: $29.99 Truth: $15.97 Error: $14.02 SLE: 0.36 Item: Battery Replacement for Magellan RoadMat...\u001b[0m\n"
     ]
    },
    {
     "data": {
      "application/vnd.jupyter.widget-view+json": {
       "model_id": "6a15b7d5dab44cfd93e01990df94ea95",
       "version_major": 2,
       "version_minor": 0
      },
      "text/plain": [
       "Batches:   0%|          | 0/1 [00:00<?, ?it/s]"
      ]
     },
     "metadata": {},
     "output_type": "display_data"
    },
    {
     "name": "stdout",
     "output_type": "stream",
     "text": [
      "\u001b[92m236: Guess: $7.99 Truth: $3.99 Error: $4.00 SLE: 0.35 Item: Leyland Designs Fujiwara Chika Sticker O...\u001b[0m\n"
     ]
    },
    {
     "data": {
      "application/vnd.jupyter.widget-view+json": {
       "model_id": "82ee6eac596b4d939a86148a0c4ff381",
       "version_major": 2,
       "version_minor": 0
      },
      "text/plain": [
       "Batches:   0%|          | 0/1 [00:00<?, ?it/s]"
      ]
     },
     "metadata": {},
     "output_type": "display_data"
    },
    {
     "name": "stdout",
     "output_type": "stream",
     "text": [
      "\u001b[92m237: Guess: $53.99 Truth: $53.99 Error: $0.00 SLE: 0.00 Item: everydrop by Whirlpool Ice and Water Ref...\u001b[0m\n"
     ]
    },
    {
     "data": {
      "application/vnd.jupyter.widget-view+json": {
       "model_id": "c3d1354eee024ba59c78e3b810618560",
       "version_major": 2,
       "version_minor": 0
      },
      "text/plain": [
       "Batches:   0%|          | 0/1 [00:00<?, ?it/s]"
      ]
     },
     "metadata": {},
     "output_type": "display_data"
    },
    {
     "name": "stdout",
     "output_type": "stream",
     "text": [
      "\u001b[92m238: Guess: $59.00 Truth: $30.99 Error: $28.01 SLE: 0.40 Item: ELECOM EX-G Trackball Mouse, Wired, Thum...\u001b[0m\n"
     ]
    },
    {
     "data": {
      "application/vnd.jupyter.widget-view+json": {
       "model_id": "be3cf081739841aa8e6b024f40af4883",
       "version_major": 2,
       "version_minor": 0
      },
      "text/plain": [
       "Batches:   0%|          | 0/1 [00:00<?, ?it/s]"
      ]
     },
     "metadata": {},
     "output_type": "display_data"
    },
    {
     "name": "stdout",
     "output_type": "stream",
     "text": [
      "\u001b[92m239: Guess: $6.99 Truth: $9.49 Error: $2.50 SLE: 0.07 Item: uxcell Polyolefin 13M Length 2mm Dia Hea...\u001b[0m\n"
     ]
    },
    {
     "data": {
      "application/vnd.jupyter.widget-view+json": {
       "model_id": "89f5d7ec7149428cb4b4c1a6a7f4fb57",
       "version_major": 2,
       "version_minor": 0
      },
      "text/plain": [
       "Batches:   0%|          | 0/1 [00:00<?, ?it/s]"
      ]
     },
     "metadata": {},
     "output_type": "display_data"
    },
    {
     "name": "stdout",
     "output_type": "stream",
     "text": [
      "\u001b[92m240: Guess: $24.99 Truth: $28.95 Error: $3.96 SLE: 0.02 Item: Decalrus - Protective Decal Skin Sticker...\u001b[0m\n"
     ]
    },
    {
     "data": {
      "application/vnd.jupyter.widget-view+json": {
       "model_id": "9da1a021b20d4bef8151c3bfd760110f",
       "version_major": 2,
       "version_minor": 0
      },
      "text/plain": [
       "Batches:   0%|          | 0/1 [00:00<?, ?it/s]"
      ]
     },
     "metadata": {},
     "output_type": "display_data"
    },
    {
     "name": "stdout",
     "output_type": "stream",
     "text": [
      "\u001b[91m241: Guess: $120.00 Truth: $550.00 Error: $430.00 SLE: 2.30 Item: Genuine Dell NX380 LCD Screen Dell 15.4\"...\u001b[0m\n"
     ]
    },
    {
     "data": {
      "application/vnd.jupyter.widget-view+json": {
       "model_id": "6dc8470d8ba04d6d81714ce17a476e07",
       "version_major": 2,
       "version_minor": 0
      },
      "text/plain": [
       "Batches:   0%|          | 0/1 [00:00<?, ?it/s]"
      ]
     },
     "metadata": {},
     "output_type": "display_data"
    },
    {
     "name": "stdout",
     "output_type": "stream",
     "text": [
      "\u001b[91m242: Guess: $149.99 Truth: $65.99 Error: $84.00 SLE: 0.66 Item: cjc Ultrasonic Inverter, Electro Fisher ...\u001b[0m\n"
     ]
    },
    {
     "data": {
      "application/vnd.jupyter.widget-view+json": {
       "model_id": "8508c64a034e4d83bad7d067c4119f3b",
       "version_major": 2,
       "version_minor": 0
      },
      "text/plain": [
       "Batches:   0%|          | 0/1 [00:00<?, ?it/s]"
      ]
     },
     "metadata": {},
     "output_type": "display_data"
    },
    {
     "name": "stdout",
     "output_type": "stream",
     "text": [
      "\u001b[92m243: Guess: $109.99 Truth: $109.99 Error: $0.00 SLE: 0.00 Item: IET Replacement Lamp Assembly with Genui...\u001b[0m\n"
     ]
    },
    {
     "data": {
      "application/vnd.jupyter.widget-view+json": {
       "model_id": "131b14d526544a54acaa5f7ac437849e",
       "version_major": 2,
       "version_minor": 0
      },
      "text/plain": [
       "Batches:   0%|          | 0/1 [00:00<?, ?it/s]"
      ]
     },
     "metadata": {},
     "output_type": "display_data"
    },
    {
     "name": "stdout",
     "output_type": "stream",
     "text": [
      "\u001b[92m244: Guess: $14.99 Truth: $36.91 Error: $21.92 SLE: 0.75 Item: Replacement Remote Control for NAXA NX55...\u001b[0m\n"
     ]
    },
    {
     "data": {
      "application/vnd.jupyter.widget-view+json": {
       "model_id": "d9a3f227ac68498cb618f58d2fff9a1b",
       "version_major": 2,
       "version_minor": 0
      },
      "text/plain": [
       "Batches:   0%|          | 0/1 [00:00<?, ?it/s]"
      ]
     },
     "metadata": {},
     "output_type": "display_data"
    },
    {
     "name": "stdout",
     "output_type": "stream",
     "text": [
      "\u001b[92m245: Guess: $139.99 Truth: $139.00 Error: $0.99 SLE: 0.00 Item: Samsung DVD-R135 DVD Recorder\u001b[0m\n"
     ]
    },
    {
     "data": {
      "application/vnd.jupyter.widget-view+json": {
       "model_id": "62da5b805874423796896f2b5895a50b",
       "version_major": 2,
       "version_minor": 0
      },
      "text/plain": [
       "Batches:   0%|          | 0/1 [00:00<?, ?it/s]"
      ]
     },
     "metadata": {},
     "output_type": "display_data"
    },
    {
     "name": "stdout",
     "output_type": "stream",
     "text": [
      "\u001b[92m246: Guess: $59.99 Truth: $79.95 Error: $19.96 SLE: 0.08 Item: Glow Speed Ring Adapter to Fit Profoto M...\u001b[0m\n"
     ]
    },
    {
     "data": {
      "application/vnd.jupyter.widget-view+json": {
       "model_id": "07926b24d06847f68aefcf72b769a499",
       "version_major": 2,
       "version_minor": 0
      },
      "text/plain": [
       "Batches:   0%|          | 0/1 [00:00<?, ?it/s]"
      ]
     },
     "metadata": {},
     "output_type": "display_data"
    },
    {
     "name": "stdout",
     "output_type": "stream",
     "text": [
      "\u001b[92m247: Guess: $14.99 Truth: $7.99 Error: $7.00 SLE: 0.33 Item: BingoBuy US Layout Clear Non-Toxic Ultra...\u001b[0m\n"
     ]
    },
    {
     "data": {
      "application/vnd.jupyter.widget-view+json": {
       "model_id": "d89c52225e9141aeb372f65e4a9afec8",
       "version_major": 2,
       "version_minor": 0
      },
      "text/plain": [
       "Batches:   0%|          | 0/1 [00:00<?, ?it/s]"
      ]
     },
     "metadata": {},
     "output_type": "display_data"
    },
    {
     "name": "stdout",
     "output_type": "stream",
     "text": [
      "\u001b[93m248: Guess: $29.99 Truth: $76.21 Error: $46.22 SLE: 0.83 Item: E-Z-GO Part Number 614029 Adapter\u001b[0m\n"
     ]
    },
    {
     "data": {
      "application/vnd.jupyter.widget-view+json": {
       "model_id": "8f8cbb30dc2c44018e3cceff1299d93f",
       "version_major": 2,
       "version_minor": 0
      },
      "text/plain": [
       "Batches:   0%|          | 0/1 [00:00<?, ?it/s]"
      ]
     },
     "metadata": {},
     "output_type": "display_data"
    },
    {
     "name": "stdout",
     "output_type": "stream",
     "text": [
      "\u001b[92m249: Guess: $169.99 Truth: $192.05 Error: $22.06 SLE: 0.01 Item: Anker Docking Station, KVM Switch for a ...\u001b[0m\n"
     ]
    },
    {
     "data": {
      "application/vnd.jupyter.widget-view+json": {
       "model_id": "2df1c43de76e4cfe99af5494ae71c3e7",
       "version_major": 2,
       "version_minor": 0
      },
      "text/plain": [
       "Batches:   0%|          | 0/1 [00:00<?, ?it/s]"
      ]
     },
     "metadata": {},
     "output_type": "display_data"
    },
    {
     "name": "stdout",
     "output_type": "stream",
     "text": [
      "\u001b[93m250: Guess: $449.95 Truth: $599.00 Error: $149.05 SLE: 0.08 Item: SeaLife DC1400 Pro 14MP HD Underwater Di...\u001b[0m\n"
     ]
    },
    {
     "data": {
      "image/png": "[encoded data removed]",
      "text/plain": [
       "<Figure size 1200x800 with 1 Axes>"
      ]
     },
     "metadata": {},
     "output_type": "display_data"
    }
   ],
   "source": [
    "# Plot on results \n",
    "Tester.test(gpt_4o_mini_rag, test)"
   ]
  },
  {
   "cell_type": "markdown",
   "id": "0aca56f4",
   "metadata": {},
   "source": [
    "# Josh tries Langchain"
   ]
  },
  {
   "cell_type": "code",
   "execution_count": 7,
   "id": "bdc98be4",
   "metadata": {},
   "outputs": [
    {
     "name": "stdout",
     "output_type": "stream",
     "text": [
      "20000\n",
      "PROMPT: How much does this cost to the nearest dollar?\n",
      "\n",
      "GOLDEN ICEPURE Replacement for Kenmore 6, WF293, Refrigerator Water Filter 3 PACK\n",
      "💦𝐂𝐞𝐫𝐭𝐢𝐟𝐢𝐜𝐚𝐭𝐢𝐨𝐧 - The GOLDEN ICEPURE Refrigerator water filter is certified by the NSF/ANSI 42 and meets the requirements of NSF/ANSI/CAN 372. We guarantee the quality, health, and environmental friendliness of our products and services. 💦𝐏𝐞𝐫𝐟𝐨𝐫𝐦𝐚𝐧𝐜𝐞 - Using multi-stage filtration technology and high-grade coconut shell carbon\n",
      "\n",
      "Price is $23.00\n",
      "PROMPT STRIPPED GOLDEN ICEPURE Replacement for Kenmore 6, WF293, Refrigerator Water Filter 3 PACK\n",
      "💦𝐂𝐞𝐫𝐭𝐢𝐟𝐢𝐜𝐚𝐭𝐢𝐨𝐧 - The GOLDEN ICEPURE Refrigerator water filter is certified by the NSF/ANSI 42 and meets the requirements of NSF/ANSI/CAN 372. We guarantee the quality, health, and environmental friendliness of our products and services. 💦𝐏𝐞𝐫𝐟𝐨𝐫𝐦𝐚𝐧𝐜𝐞 - Using multi-stage filtration technology and high-grade coconut shell carbon\n"
     ]
    }
   ],
   "source": [
    "with open('train_small.pkl', 'rb') as file:\n",
    "    train = pickle.load(file)\n",
    "\n",
    "print(len(train))\n",
    "print('PROMPT:', train[0].prompt)\n",
    "\n",
    "def description(item):\n",
    "    text = item.prompt.replace(\"How much does this cost to the nearest dollar?\\n\\n\", \"\")\n",
    "    return text.split(\"\\n\\nPrice is $\")[0]\n",
    "\n",
    "print('PROMPT STRIPPED', description(train[0]))"
   ]
  },
  {
   "cell_type": "code",
   "execution_count": 19,
   "id": "c0e1a0aa",
   "metadata": {},
   "outputs": [
    {
     "name": "stdout",
     "output_type": "stream",
     "text": [
      "Collection has 20000 documents\n",
      "Collection has 20000 documents\n",
      "Search results for: I love green eggs and ham!\n",
      "* 2 pcs Portable Egg Storage Eggs Holder Box Container Hiking Outdoor Camping Carrier For 2 Egg Case (Blue)\n",
      "Description Eating eggs once a day, get weakness away! This eggs box aims at bringing customers convenience and health, and has two bright colors for you to select. We hope deliver warmth and kindness to you via our products. Features 1. It is made of ABS material, it is a brand new non-toxic plastics with better gloss and toughness. 2. Two-eggs capacity is no more no less, keeps you vigorous the whole day. 3. The two-case design can separate egg from egg, which avoids collisions between the eggs and the objects. 4. You can bring it for outdoor picnic, barbecue and other outdoor activities, and enjoy a delicious and happy feast\n",
      "  Price: $2.0\n",
      "\n",
      "Search results for: How much does this cost to the nearest dollar?\n",
      "\n",
      "Sony a5100 Mirrorless Digital Camera with 3-Inch Flip Up LCD (Black) (Renewed)\n",
      "Sony a5100 Interchangeable Lens Camera with Lens, Black. Exposure Modes- AUTO (iAUTO, Superior Auto), Programmed AE (P), Aperture priority (A), Shutter-speed priority (S), Manual (M), Scene Selection, Sweep Panorama, Movie Ultra-fast auto focus with 179 AF points and 6Fps Capture life in high resolution with 24MP APS-C sensor.Lens compatibility Sony E-mount lenses Instant sharing via smartphone with Wi-Fi and NFC1 Record Full HD video3 up to 50MB/s Contains- Rechargeable Battery AC Charger Lens cap Shoulder strap Micro USB cable. BIONZ X engine for superb detail and noise reduction\n",
      "\n",
      "Price is $699.00\n",
      "* Hitachi LCD Projector - 720p - HDTV - 4 3\n",
      "Hitachi XGA 10000 1 Contrast Ratio - Overview Projector Hardware - LCD ProjectorSpecification From the classroom to the conference room, Hitachi's LCD projector combines superior image clarity, high quality value, and long-life reliability. Bright, vivid colors with razor-sharp text and bold graphics will truly enhance any lesson or mee XGA 10000 1 Contrast Ratio Projector Hardware - LCD Projector XGA 10000 1 Contrast Ratio Hitachi Manufacturer Hitachi, Part Weight 6.61 pounds, Dimensions 14.5 x 12.5 x 6.2 inches, model number Is Discontinued No, Wattage 210 watts, Quantity 1, Lumin\n",
      "  Price: $720.0\n",
      "\n"
     ]
    },
    {
     "data": {
      "text/plain": [
       "[Document(id='1b5fffc8-81b4-4beb-8652-fe3398aa2877', metadata={'price': 720.0}, page_content=\"Hitachi LCD Projector - 720p - HDTV - 4 3\\nHitachi XGA 10000 1 Contrast Ratio - Overview Projector Hardware - LCD ProjectorSpecification From the classroom to the conference room, Hitachi's LCD projector combines superior image clarity, high quality value, and long-life reliability. Bright, vivid colors with razor-sharp text and bold graphics will truly enhance any lesson or mee XGA 10000 1 Contrast Ratio Projector Hardware - LCD Projector XGA 10000 1 Contrast Ratio Hitachi Manufacturer Hitachi, Part Weight 6.61 pounds, Dimensions 14.5 x 12.5 x 6.2 inches, model number Is Discontinued No, Wattage 210 watts, Quantity 1, Lumin\")]"
      ]
     },
     "execution_count": 19,
     "metadata": {},
     "output_type": "execute_result"
    }
   ],
   "source": [
    "import chromadb\n",
    "from langchain_chroma import Chroma\n",
    "from langchain.embeddings import HuggingFaceEmbeddings\n",
    "from langchain_core.documents import Document\n",
    "\n",
    "# 1. Set up your embedding function\n",
    "embedding_function = HuggingFaceEmbeddings(\n",
    "    model_name=\"sentence-transformers/all-MiniLM-L6-v2\"\n",
    ")\n",
    "\n",
    "# 2. Create or connect to a persistent Chroma database\n",
    "DB_PATH = \"./chroma_langchain_db\"  # Define your database path\n",
    "\n",
    "# 3. Initialize your vector store\n",
    "vector_store = Chroma(\n",
    "    collection_name=\"products_langchain\",\n",
    "    embedding_function=embedding_function,\n",
    "    persist_directory=DB_PATH\n",
    ")\n",
    "\n",
    "# 4. Check if you have any documents in the collection\n",
    "print(f\"Collection has {len(vector_store.get()['ids'])} documents\")\n",
    "\n",
    "# 5. If you need to add documents (only do this once to avoid duplicates)\n",
    "# Convert your test data to Documents and add them\n",
    "def add_documents_to_vector_store(train):\n",
    "    documents = []\n",
    "    for item in train:  # Assuming test is a list of your products\n",
    "        # Create a proper Document object with the product description\n",
    "        text = description(item)  # Using your description function\n",
    "        metadata = {\"price\": get_price(item.prompt)}  # Using your get_price function\n",
    "        doc = Document(page_content=text, metadata=metadata)\n",
    "        documents.append(doc)\n",
    "    \n",
    "    # Add the documents to the vector store\n",
    "    vector_store.add_documents(documents)\n",
    "    print(f\"Added {len(documents)} documents to the vector store\")\n",
    "    # Persist to save to disk\n",
    "    vector_store.persist()\n",
    "\n",
    "# JUST NEED TO RUN THE ADD DOCUMENTS FUNCTION ONCE\n",
    "#add_documents_to_vector_store(train)\n",
    "print(f\"Collection has {len(vector_store.get()['ids'])} documents\")\n",
    "\n",
    "# 6. Now you can search properly\n",
    "def search_products(query_text):\n",
    "    results = vector_store.similarity_search(\n",
    "        query_text,\n",
    "        k=1\n",
    "    )\n",
    "    print(f\"Search results for: {query_text}\")\n",
    "    for doc in results:\n",
    "        print(f\"* {doc.page_content}\")\n",
    "        print(f\"  Price: ${doc.metadata.get('price', 'N/A')}\")\n",
    "        print()\n",
    "    return results\n",
    "\n",
    "\n",
    "# Search by vector\n",
    "# results_vector = vector_store.similarity_search_by_vector(\n",
    "#     embedding=embedding_function.embed_query(\"I love green eggs and ham!\"), \n",
    "#     k=1\n",
    "# )\n",
    "\n",
    "# If you want to search using your test data\n",
    "# if len(test) > 0:\n",
    "#     test_query = test[1].prompt\n",
    "#     print(f\"TEST PROMPT: {test_query}\")\n",
    "#     results_test = search_products(test_query)\n",
    "\n",
    "# Search by text\n",
    "results_text = search_products(\"I love green eggs and ham!\")\n",
    "\n",
    "search_products(test[1].prompt)"
   ]
  },
  {
   "cell_type": "code",
   "execution_count": 31,
   "id": "fed8cd2a",
   "metadata": {},
   "outputs": [
    {
     "name": "stdout",
     "output_type": "stream",
     "text": [
      "\u001b[92m1: Guess: $14.00 Truth: $13.99 Error: $0.01 SLE: 0.00 Item: Kastar NP-FH50 Battery (1-Pack) and Char...\u001b[0m\n",
      "\u001b[91m2: Guess: $5,100.00 Truth: $699.00 Error: $4,401.00 SLE: 3.94 Item: Sony a5100 16-50mm Mirrorless Digital Ca...\u001b[0m\n",
      "\u001b[92m3: Guess: $70.00 Truth: $69.99 Error: $0.01 SLE: 0.00 Item: 1Mii 2.4Ghz Wireless Audio Transmitter R...\u001b[0m\n",
      "\u001b[92m4: Guess: $65.00 Truth: $64.95 Error: $0.05 SLE: 0.00 Item: Fotodiox Pro Lens Mount Adapter - Bronic...\u001b[0m\n",
      "\u001b[92m5: Guess: $111.00 Truth: $110.90 Error: $0.10 SLE: 0.00 Item: FOSA 10\" Car Digital TV, ATSC Portable H...\u001b[0m\n",
      "\u001b[92m6: Guess: $6.00 Truth: $5.99 Error: $0.01 SLE: 0.00 Item: Pineapple Vinyl Decal - Laptop, Decor, W...\u001b[0m\n",
      "\u001b[91m7: Guess: $50.00 Truth: $529.00 Error: $479.00 SLE: 5.48 Item: Canon EOS 50D 15.1MP Digital SLR Camera ...\u001b[0m\n",
      "\u001b[92m8: Guess: $5.00 Truth: $14.98 Error: $9.98 SLE: 0.96 Item: UpBright New Global 5V AC/DC Adapter Com...\u001b[0m\n",
      "\u001b[92m9: Guess: $114.00 Truth: $113.99 Error: $0.01 SLE: 0.00 Item: OEM Electrolux Dryer Lint Filter Screen ...\u001b[0m\n",
      "\u001b[92m10: Guess: $830.00 Truth: $829.99 Error: $0.01 SLE: 0.00 Item: HP 2023 Newest Pavilion Desktop, AMD Ryz...\u001b[0m\n",
      "\u001b[92m11: Guess: $48.00 Truth: $47.99 Error: $0.01 SLE: 0.00 Item: USB Type-C Adapter 10-in-1 Aluminum Body...\u001b[0m\n",
      "\u001b[92m12: Guess: $43.00 Truth: $42.99 Error: $0.01 SLE: 0.00 Item: OontZ Ultra Bluetooth Speaker with Carry...\u001b[0m\n",
      "\u001b[92m13: Guess: $33.00 Truth: $32.99 Error: $0.01 SLE: 0.00 Item: CMS 16GB (2X8GB) DDR3 10600 1333MHZ Non ...\u001b[0m\n",
      "\u001b[92m14: Guess: $125.00 Truth: $124.99 Error: $0.01 SLE: 0.00 Item: Gariz Genuine Leather XS-CHDFBR Camera M...\u001b[0m\n",
      "\u001b[92m15: Guess: $73.00 Truth: $73.00 Error: $0.00 SLE: 0.00 Item: Samsung DA63-01262B Guard-Ref Mid\u001b[0m\n",
      "\u001b[92m16: Guess: $95.00 Truth: $95.31 Error: $0.31 SLE: 0.00 Item: Alphamax Haganai: I Don't Have Many Frie...\u001b[0m\n",
      "\u001b[92m17: Guess: $37.00 Truth: $36.95 Error: $0.05 SLE: 0.00 Item: WORLDS BEST CABLES 0.5 Foot RCA Cable Pa...\u001b[0m\n",
      "\u001b[91m18: Guess: $60.00 Truth: $295.69 Error: $235.69 SLE: 2.50 Item: Poly Voyager Free 60+ UC True Wireless E...\u001b[0m\n",
      "\u001b[92m19: Guess: $168.00 Truth: $168.41 Error: $0.41 SLE: 0.00 Item: Visionis FPC-5008 Two Door Access Contro...\u001b[0m\n",
      "\u001b[92m20: Guess: $179.00 Truth: $178.86 Error: $0.14 SLE: 0.00 Item: EVGA 512-P3-N800-TR e-GeForce 8800 GT 51...\u001b[0m\n",
      "\u001b[92m21: Guess: $86.00 Truth: $85.90 Error: $0.10 SLE: 0.00 Item: AVUE 3G-SDI/HD-SDI/SDI 1 to 2 Distributi...\u001b[0m\n",
      "\u001b[92m22: Guess: $11.00 Truth: $10.89 Error: $0.11 SLE: 0.00 Item: UpBright 12V AC/DC Adapter Compatible wi...\u001b[0m\n",
      "\u001b[91m23: Guess: $1.10 Truth: $189.99 Error: $188.89 SLE: 20.34 Item: GOOZEEZOO 1.10D Malachite DSP SDR Radio ...\u001b[0m\n",
      "\u001b[91m24: Guess: $14.00 Truth: $239.00 Error: $225.00 SLE: 7.69 Item: ASUS E14 (L406NA-WH02) Laptop, 14\" HD Di...\u001b[0m\n",
      "\u001b[92m25: Guess: $90.00 Truth: $89.99 Error: $0.01 SLE: 0.00 Item: Battery Charger 36V 13A for EZGO EZ-GO T...\u001b[0m\n",
      "\u001b[92m26: Guess: $176.00 Truth: $175.87 Error: $0.13 SLE: 0.00 Item: Garmin GT23M-TM Transducer, Black\u001b[0m\n",
      "\u001b[92m27: Guess: $49.00 Truth: $48.71 Error: $0.29 SLE: 0.00 Item: Celestron R/A Single Axis Motor Drive fo...\u001b[0m\n",
      "\u001b[92m28: Guess: $32.00 Truth: $25.38 Error: $6.62 SLE: 0.05 Item: Kemo M032S 12 Watt Universal Mono Plug a...\u001b[0m\n",
      "\u001b[92m29: Guess: $35.00 Truth: $34.95 Error: $0.05 SLE: 0.00 Item: Arch Memory Replacement for Dell SNPMKYF...\u001b[0m\n",
      "\u001b[92m30: Guess: $314.00 Truth: $313.89 Error: $0.11 SLE: 0.00 Item: GENUINE Frigidaire 316456224 Glass Cook ...\u001b[0m\n",
      "\u001b[92m31: Guess: $240.00 Truth: $240.00 Error: $0.00 SLE: 0.00 Item: Vertical Cable Cat6, UTP, Gel Filled (Fl...\u001b[0m\n",
      "\u001b[92m32: Guess: $151.00 Truth: $151.20 Error: $0.20 SLE: 0.00 Item: Headsets ONLY-GN9350E\u001b[0m\n",
      "\u001b[92m33: Guess: $34.00 Truth: $33.95 Error: $0.05 SLE: 0.00 Item: SparkFun Pro RF - LoRa, 915MHz (SAMD21) ...\u001b[0m\n",
      "\u001b[92m34: Guess: $70.00 Truth: $69.99 Error: $0.01 SLE: 0.00 Item: Telescope for Adults & Kids - NACATIN 70...\u001b[0m\n",
      "\u001b[92m35: Guess: $45.00 Truth: $44.99 Error: $0.01 SLE: 0.00 Item: Samsung DVD-P401 Progressive-Scan DVD Pl...\u001b[0m\n",
      "\u001b[92m36: Guess: $49.00 Truth: $48.99 Error: $0.01 SLE: 0.00 Item: FOINNEX HDMI to Mini Displayport Adapter...\u001b[0m\n",
      "\u001b[92m37: Guess: $162.00 Truth: $162.20 Error: $0.20 SLE: 0.00 Item: WatchGuard Firebox T10 with 1YR Standard...\u001b[0m\n",
      "\u001b[92m38: Guess: $26.00 Truth: $25.99 Error: $0.01 SLE: 0.00 Item: i-Blason Case for New iPad Pro 11 Inch C...\u001b[0m\n",
      "\u001b[92m39: Guess: $770.00 Truth: $770.00 Error: $0.00 SLE: 0.00 Item: Awoco 72\" Elegant 2 Speeds 1800CFM Comme...\u001b[0m\n",
      "\u001b[92m40: Guess: $358.00 Truth: $357.95 Error: $0.05 SLE: 0.00 Item: Dell Optiplex 7060 Mini Tower | Intel Qu...\u001b[0m\n",
      "\u001b[92m41: Guess: $130.00 Truth: $129.99 Error: $0.01 SLE: 0.00 Item: AIYIMA A08 PRO TPA3255 Power Amplifier B...\u001b[0m\n",
      "\u001b[92m42: Guess: $64.00 Truth: $64.36 Error: $0.36 SLE: 0.00 Item: ACER ASPIRE 7741Z-4643 Laptop Screen 17....\u001b[0m\n",
      "\u001b[92m43: Guess: $36.00 Truth: $35.99 Error: $0.01 SLE: 0.00 Item: Dentsing PI06 Compatible Laptop Battery ...\u001b[0m\n",
      "\u001b[92m44: Guess: $83.00 Truth: $82.99 Error: $0.01 SLE: 0.00 Item: Brady LAT-40-799-1 0.5\" Width x 0.750\" H...\u001b[0m\n",
      "\u001b[92m45: Guess: $17.00 Truth: $16.99 Error: $0.01 SLE: 0.00 Item: USA Gear DSLR Camera Case Sleeve with Ac...\u001b[0m\n",
      "\u001b[92m46: Guess: $12.00 Truth: $11.85 Error: $0.15 SLE: 0.00 Item: EDO Tech Mini USB AC Adapter Wall Charge...\u001b[0m\n",
      "\u001b[92m47: Guess: $77.00 Truth: $76.99 Error: $0.01 SLE: 0.00 Item: Vemico EN-EL25 Battery 2-Pack 1350mAh an...\u001b[0m\n",
      "\u001b[92m48: Guess: $35.00 Truth: $35.00 Error: $0.00 SLE: 0.00 Item: 5A-75B Colorlight Best Price LED Screen ...\u001b[0m\n",
      "\u001b[92m49: Guess: $143.00 Truth: $143.11 Error: $0.11 SLE: 0.00 Item: ASUS Radeon RX 580 O4G Dual-Fan OC Editi...\u001b[0m\n",
      "\u001b[92m50: Guess: $67.00 Truth: $75.99 Error: $8.99 SLE: 0.02 Item: Tiffen 67HTCGND6 67MM Digital HT Grad ND...\u001b[0m\n",
      "\u001b[91m51: Guess: $110.00 Truth: $899.00 Error: $789.00 SLE: 4.38 Item: Voigtlander Macro APO-LANTHAR 110mm F/2....\u001b[0m\n",
      "\u001b[92m52: Guess: $55.00 Truth: $54.97 Error: $0.03 SLE: 0.00 Item: VIZIO V-Series 2.0 Compact Home Theater ...\u001b[0m\n",
      "\u001b[92m53: Guess: $2.00 Truth: $24.36 Error: $22.36 SLE: 4.56 Item: DIY Smartphone Projector 2.0, Mini DIY H...\u001b[0m\n",
      "\u001b[92m54: Guess: $16.00 Truth: $16.49 Error: $0.49 SLE: 0.00 Item: USB Extension, Canjoy 3 Pack 6.6ft USB 3...\u001b[0m\n",
      "\u001b[92m55: Guess: $145.00 Truth: $145.00 Error: $0.00 SLE: 0.00 Item: Tiltaing Lightweight Kit Compatible with...\u001b[0m\n",
      "\u001b[92m56: Guess: $130.00 Truth: $129.99 Error: $0.01 SLE: 0.00 Item: Wireless HDMI Extender Kit HDMI Wireless...\u001b[0m\n",
      "\u001b[92m57: Guess: $139.00 Truth: $138.99 Error: $0.01 SLE: 0.00 Item: Nitze 15mm Follow Focus Kit with 3 Rever...\u001b[0m\n",
      "\u001b[92m58: Guess: $360.00 Truth: $359.99 Error: $0.01 SLE: 0.00 Item: Hifonics BXX4000.1D Brutus Class D 4000W...\u001b[0m\n",
      "\u001b[92m59: Guess: $18.00 Truth: $17.99 Error: $0.01 SLE: 0.00 Item: SIMTOP Electronic Organizer, Travel cabl...\u001b[0m\n",
      "\u001b[92m60: Guess: $209.00 Truth: $209.00 Error: $0.00 SLE: 0.00 Item: Audio-Technica ATH-CKR7TW True Wireless ...\u001b[0m\n",
      "\u001b[92m61: Guess: $50.00 Truth: $49.95 Error: $0.05 SLE: 0.00 Item: Large Flat Screen TV/LED / HDTV Vinyl Pa...\u001b[0m\n",
      "\u001b[92m62: Guess: $7.00 Truth: $6.88 Error: $0.12 SLE: 0.00 Item: Zahara DC in Power Jack Charging Port Pl...\u001b[0m\n",
      "\u001b[92m63: Guess: $130.00 Truth: $129.99 Error: $0.01 SLE: 0.00 Item: Nictemaw Washing Machine 17.6lbs Portalb...\u001b[0m\n",
      "\u001b[92m64: Guess: $200.00 Truth: $199.98 Error: $0.02 SLE: 0.00 Item: TM-U220B, Impact, two-color printing, 6 ...\u001b[0m\n",
      "\u001b[92m65: Guess: $24.00 Truth: $23.56 Error: $0.44 SLE: 0.00 Item: GOTOTOP Car Siren Horn Speaker, Loud Hor...\u001b[0m\n",
      "\u001b[92m66: Guess: $47.00 Truth: $46.99 Error: $0.01 SLE: 0.00 Item: ZLiT for Insta360 X3 Protective Cage,Alu...\u001b[0m\n",
      "\u001b[92m67: Guess: $42.00 Truth: $41.95 Error: $0.05 SLE: 0.00 Item: pp-Code WiFi Temperature and Humidity Se...\u001b[0m\n",
      "\u001b[92m68: Guess: $2.00 Truth: $7.99 Error: $5.99 SLE: 1.20 Item: Portable Square Earphone Carrying Case M...\u001b[0m\n",
      "\u001b[92m69: Guess: $43.00 Truth: $42.99 Error: $0.01 SLE: 0.00 Item: RECOIL RCK0 True 0 Gauge Complete CCA Am...\u001b[0m\n",
      "\u001b[92m70: Guess: $8.00 Truth: $7.99 Error: $0.01 SLE: 0.00 Item: WANBY Camera Soft Cotton Hand Wrist Stra...\u001b[0m\n",
      "\u001b[92m71: Guess: $666.00 Truth: $666.05 Error: $0.05 SLE: 0.00 Item: Lenovo ThinkPad W541 Mobile Workstation ...\u001b[0m\n",
      "\u001b[92m72: Guess: $597.00 Truth: $597.00 Error: $0.00 SLE: 0.00 Item: Lenovo ThinkBook 15 IIL Core i5-1035G1 8...\u001b[0m\n",
      "\u001b[92m73: Guess: $146.00 Truth: $145.99 Error: $0.01 SLE: 0.00 Item: Liene 4x6'' Photo Printer Bundle (60 pcs...\u001b[0m\n",
      "\u001b[92m74: Guess: $22.00 Truth: $22.50 Error: $0.50 SLE: 0.00 Item: PWR+ Laptop Charger for Asus Vivobook Go...\u001b[0m\n",
      "\u001b[92m75: Guess: $43.00 Truth: $43.39 Error: $0.39 SLE: 0.00 Item: POA-LMP LP68 Replacement Projector Lamp ...\u001b[0m\n",
      "\u001b[92m76: Guess: $90.00 Truth: $89.99 Error: $0.01 SLE: 0.00 Item: VIVO Black 1,000ft Bulk Cat5e, CCA Ether...\u001b[0m\n",
      "\u001b[92m77: Guess: $19.00 Truth: $19.07 Error: $0.07 SLE: 0.00 Item: Bewinner 10 Inch Universal PU Leather Ke...\u001b[0m\n",
      "\u001b[93m78: Guess: $5.00 Truth: $69.44 Error: $64.44 SLE: 6.07 Item: Logitech LX5 Cordless Optical Mouse\u001b[0m\n",
      "\u001b[92m79: Guess: $176.00 Truth: $175.99 Error: $0.01 SLE: 0.00 Item: LUCKYLAKER Boat Transducer Fish Finders ...\u001b[0m\n",
      "\u001b[92m80: Guess: $24.00 Truth: $24.11 Error: $0.11 SLE: 0.00 Item: Panavise In Dash Mount GMC/Chevy W-Serie...\u001b[0m\n",
      "\u001b[92m81: Guess: $76.00 Truth: $76.10 Error: $0.10 SLE: 0.00 Item: Blaupunkt AMP1904D Universal Car Speaker...\u001b[0m\n",
      "\u001b[92m82: Guess: $199.00 Truth: $199.00 Error: $0.00 SLE: 0.00 Item: Swarovski Optik VPA Variable Phone Adapt...\u001b[0m\n",
      "\u001b[92m83: Guess: $54.00 Truth: $54.00 Error: $0.00 SLE: 0.00 Item: CMS 32GB (4X8GB) DDR3 12800 1600MHz Non ...\u001b[0m\n",
      "\u001b[92m84: Guess: $59.00 Truth: $58.99 Error: $0.01 SLE: 0.00 Item: Kodak Professional Ektar Color Negative ...\u001b[0m\n",
      "\u001b[92m85: Guess: $27.00 Truth: $26.98 Error: $0.02 SLE: 0.00 Item: SM-T510 Touch Screen Glass Screen Replac...\u001b[0m\n",
      "\u001b[92m86: Guess: $52.00 Truth: $52.00 Error: $0.00 SLE: 0.00 Item: Apple 35W Dual USB-C Port Compact Power ...\u001b[0m\n",
      "\u001b[92m87: Guess: $31.00 Truth: $31.34 Error: $0.34 SLE: 0.00 Item: ForestGreen Envelop Pouch Case for iPad ...\u001b[0m\n",
      "\u001b[92m88: Guess: $70.00 Truth: $69.99 Error: $0.01 SLE: 0.00 Item: Inateck Surface Pro 7 Keyboard, 7-Color ...\u001b[0m\n",
      "\u001b[92m89: Guess: $209.00 Truth: $209.14 Error: $0.14 SLE: 0.00 Item: Dell Optiplex 990 MiniTower PC - Intel C...\u001b[0m\n",
      "\u001b[91m90: Guess: $160.00 Truth: $69.16 Error: $90.84 SLE: 0.69 Item: Western Digital My Passport Essential 16...\u001b[0m\n",
      "\u001b[92m91: Guess: $176.00 Truth: $175.95 Error: $0.05 SLE: 0.00 Item: Vis Viva Raspberry Pi 4 Model B Starter ...\u001b[0m\n",
      "\u001b[92m92: Guess: $44.00 Truth: $43.99 Error: $0.01 SLE: 0.00 Item: 2x Pack - KNB-35L Battery Replacement (2...\u001b[0m\n",
      "\u001b[92m93: Guess: $119.00 Truth: $118.95 Error: $0.05 SLE: 0.00 Item: Starcraft Protoss Pylon Desktop Power St...\u001b[0m\n",
      "\u001b[91m94: Guess: $1,650.00 Truth: $220.78 Error: $1,429.22 SLE: 4.03 Item: ASUS TUF Gaming GeForce GTX 1650 Dual Fa...\u001b[0m\n",
      "\u001b[92m95: Guess: $329.00 Truth: $329.00 Error: $0.00 SLE: 0.00 Item: BornTech Electric Cooler Portable Refrig...\u001b[0m\n",
      "\u001b[92m96: Guess: $79.00 Truth: $79.13 Error: $0.13 SLE: 0.00 Item: Sony BDP-S350 1080p Blu-Ray Disc Player\u001b[0m\n",
      "\u001b[93m97: Guess: $150.00 Truth: $97.00 Error: $53.00 SLE: 0.19 Item: Promaster Cityscape 150 Courier Bag - Ha...\u001b[0m\n",
      "\u001b[92m98: Guess: $47.00 Truth: $46.95 Error: $0.05 SLE: 0.00 Item: Sescom DSLR-550D-HOCF A/V Out Headphone ...\u001b[0m\n",
      "\u001b[92m99: Guess: $55.00 Truth: $54.80 Error: $0.20 SLE: 0.00 Item: Frigidaire 316032411 Oven Thermostat\u001b[0m\n",
      "\u001b[92m100: Guess: $19.00 Truth: $18.59 Error: $0.41 SLE: 0.00 Item: 65W 45W USB Type C Laptop Charger for Le...\u001b[0m\n",
      "\u001b[92m101: Guess: $119.00 Truth: $118.88 Error: $0.12 SLE: 0.00 Item: Xuerebs EF-EOS R ND Lens Adapter with ND...\u001b[0m\n",
      "\u001b[92m102: Guess: $129.00 Truth: $129.00 Error: $0.00 SLE: 0.00 Item: Godox TT685IIC 1/8000s HSS GN Speedlite ...\u001b[0m\n",
      "\u001b[92m103: Guess: $26.00 Truth: $25.88 Error: $0.12 SLE: 0.00 Item: AC Charger Fit for Dell XPS 15 7590 9530...\u001b[0m\n",
      "\u001b[92m104: Guess: $25.00 Truth: $24.99 Error: $0.01 SLE: 0.00 Item: Landalanya Replacement New CPU +GPU Cool...\u001b[0m\n",
      "\u001b[91m105: Guess: $9.00 Truth: $139.95 Error: $130.95 SLE: 7.00 Item: Canon Powershot SX110IS 9MP Digital Came...\u001b[0m\n",
      "\u001b[92m106: Guess: $170.00 Truth: $169.99 Error: $0.01 SLE: 0.00 Item: for Toyota Tacoma 2005-2014 Tailgate Han...\u001b[0m\n",
      "\u001b[92m107: Guess: $75.00 Truth: $75.00 Error: $0.00 SLE: 0.00 Item: MikroTik hAP ac2 RBD52G-5HacD2HnD-TC Dua...\u001b[0m\n",
      "\u001b[92m108: Guess: $70.00 Truth: $70.19 Error: $0.19 SLE: 0.00 Item: AU Optronics New 17.3\" LED Laptop Screen...\u001b[0m\n",
      "\u001b[92m109: Guess: $200.00 Truth: $199.95 Error: $0.05 SLE: 0.00 Item: Fujifilm INSTAX Wide 300 Instant Camera ...\u001b[0m\n",
      "\u001b[92m110: Guess: $236.00 Truth: $235.99 Error: $0.01 SLE: 0.00 Item: Eonon Apple CarPlay & Android Auto Car S...\u001b[0m\n",
      "\u001b[92m111: Guess: $10.00 Truth: $9.99 Error: $0.01 SLE: 0.00 Item: YUSTDA (10Ft Extra Long) New AC Adapter ...\u001b[0m\n",
      "\u001b[92m112: Guess: $43.00 Truth: $42.99 Error: $0.01 SLE: 0.00 Item: Leather Laptop Tote Bag Womens Professio...\u001b[0m\n",
      "\u001b[92m113: Guess: $359.00 Truth: $359.00 Error: $0.00 SLE: 0.00 Item: TOKINA ATX-m 56mm F1.4 X Mount Special E...\u001b[0m\n",
      "\u001b[92m114: Guess: $32.00 Truth: $31.99 Error: $0.01 SLE: 0.00 Item: Sony KDF-60X5955 TV Assembly Cage with P...\u001b[0m\n",
      "\u001b[92m115: Guess: $299.00 Truth: $299.00 Error: $0.00 SLE: 0.00 Item: Lenovo Monitor, L24q 23.8-Inch Monitor, ...\u001b[0m\n",
      "\u001b[92m116: Guess: $80.00 Truth: $79.99 Error: $0.01 SLE: 0.00 Item: Canis LATRANS PVS 14 Mount Night Vision ...\u001b[0m\n",
      "\u001b[92m117: Guess: $30.00 Truth: $29.99 Error: $0.01 SLE: 0.00 Item: KMC 6-Outlet Surge Protector Power Strip...\u001b[0m\n",
      "\u001b[92m118: Guess: $57.00 Truth: $56.99 Error: $0.01 SLE: 0.00 Item: Amcrest 5MP Turret POE Camera, UltraHD O...\u001b[0m\n",
      "\u001b[92m119: Guess: $271.00 Truth: $271.11 Error: $0.11 SLE: 0.00 Item: KLH Albany II 2-Way Bookshelf Speakers f...\u001b[0m\n",
      "\u001b[92m120: Guess: $136.00 Truth: $135.58 Error: $0.42 SLE: 0.00 Item: Thule TPCS-101 Perspektiv Perspektiv Com...\u001b[0m\n",
      "\u001b[92m121: Guess: $99.00 Truth: $99.02 Error: $0.02 SLE: 0.00 Item: NEEWER Air Cushioned Aluminum Light Stan...\u001b[0m\n",
      "\u001b[92m122: Guess: $5.00 Truth: $5.49 Error: $0.49 SLE: 0.01 Item: Cable Matters 6-Pack BNC Female to Femal...\u001b[0m\n",
      "\u001b[92m123: Guess: $16.00 Truth: $15.99 Error: $0.01 SLE: 0.00 Item: Halloween Party Decorations Black Bat Fr...\u001b[0m\n",
      "\u001b[92m124: Guess: $13.00 Truth: $12.88 Error: $0.12 SLE: 0.00 Item: Sima SIP-3 Ultimate International Travel...\u001b[0m\n",
      "\u001b[92m125: Guess: $262.00 Truth: $261.87 Error: $0.13 SLE: 0.00 Item: Pyle PLPW15D 15\" 8000W Car Subwoofer Aud...\u001b[0m\n",
      "\u001b[92m126: Guess: $580.00 Truth: $580.00 Error: $0.00 SLE: 0.00 Item: Dell XPS13-1000sLV 13-Inch Ultrabook (1....\u001b[0m\n",
      "\u001b[92m127: Guess: $12.00 Truth: $11.99 Error: $0.01 SLE: 0.00 Item: Manleno Compatible with Airpods 3 Case C...\u001b[0m\n",
      "\u001b[92m128: Guess: $110.00 Truth: $109.99 Error: $0.01 SLE: 0.00 Item: Digital Photo Frame WiFi 10 Inch Touch S...\u001b[0m\n",
      "\u001b[92m129: Guess: $41.00 Truth: $40.60 Error: $0.40 SLE: 0.00 Item: General Electric WR17X11459 Cup Drive Ic...\u001b[0m\n",
      "\u001b[92m130: Guess: $5.00 Truth: $4.99 Error: $0.01 SLE: 0.00 Item: UpBright USB Cable for HP PSC 380 500 70...\u001b[0m\n",
      "\u001b[93m131: Guess: $5.00 Truth: $59.99 Error: $54.99 SLE: 5.38 Item: HSM shredstar X5 Cross Cut Shredder\u001b[0m\n",
      "\u001b[92m132: Guess: $12.00 Truth: $11.98 Error: $0.02 SLE: 0.00 Item: Dudaacvt 7x5FT Kindergarten Graduation B...\u001b[0m\n",
      "\u001b[92m133: Guess: $31.00 Truth: $30.95 Error: $0.05 SLE: 0.00 Item: Cell Phone Headset with Microphone Noise...\u001b[0m\n",
      "\u001b[92m134: Guess: $180.00 Truth: $179.99 Error: $0.01 SLE: 0.00 Item: FIBBR DisplayPort to DisplayPort Cable, ...\u001b[0m\n",
      "\u001b[92m135: Guess: $63.00 Truth: $62.99 Error: $0.01 SLE: 0.00 Item: Mcoplus LED-520 Video Lighting Kits, Hig...\u001b[0m\n",
      "\u001b[92m136: Guess: $157.00 Truth: $157.00 Error: $0.00 SLE: 0.00 Item: HP ProBook 640 G2 Laptop, 14 Display, In...\u001b[0m\n",
      "\u001b[92m137: Guess: $15.00 Truth: $14.95 Error: $0.05 SLE: 0.00 Item: HQRP Battery Compatible with GolfBuddy L...\u001b[0m\n",
      "\u001b[92m138: Guess: $95.00 Truth: $94.99 Error: $0.01 SLE: 0.00 Item: BaseQi NinjaDrive Aluminum 256GB Storage...\u001b[0m\n",
      "\u001b[92m139: Guess: $110.00 Truth: $110.16 Error: $0.16 SLE: 0.00 Item: Legacy LXR7A 3Way Stereo Electronic Cros...\u001b[0m\n",
      "\u001b[92m140: Guess: $79.00 Truth: $78.99 Error: $0.01 SLE: 0.00 Item: Sony DVP-NS70H HDMI Single Disc DVD Play...\u001b[0m\n",
      "\u001b[92m141: Guess: $150.00 Truth: $150.00 Error: $0.00 SLE: 0.00 Item: B+W 72mm Slim-Line Circular Polarizer wi...\u001b[0m\n",
      "\u001b[92m142: Guess: $25.00 Truth: $24.89 Error: $0.11 SLE: 0.00 Item: 2022 Bluetooth 5.3 FM Transmitter for Ca...\u001b[0m\n",
      "\u001b[92m143: Guess: $16.00 Truth: $15.99 Error: $0.01 SLE: 0.00 Item: YongFoto 6x4ft Spring Scenery Backdrop M...\u001b[0m\n",
      "\u001b[92m144: Guess: $42.00 Truth: $41.74 Error: $0.26 SLE: 0.00 Item: Dentsing F7HVR 58Wh Battery for DELL Ins...\u001b[0m\n",
      "\u001b[92m145: Guess: $100.00 Truth: $100.03 Error: $0.03 SLE: 0.00 Item: A-Tech 32GB Kit 4x8GB Memory Ram For DEL...\u001b[0m\n",
      "\u001b[92m146: Guess: $4.00 Truth: $3.99 Error: $0.01 SLE: 0.00 Item: Leyland Designs Rezero Rem Waifu Sticker...\u001b[0m\n",
      "\u001b[92m147: Guess: $290.00 Truth: $289.98 Error: $0.02 SLE: 0.00 Item: Olympus Xa Film Camera with A16 Electron...\u001b[0m\n",
      "\u001b[92m148: Guess: $119.00 Truth: $118.99 Error: $0.01 SLE: 0.00 Item: AUTO-VOX Solar 1 Wireless Backup Camera ...\u001b[0m\n",
      "\u001b[92m149: Guess: $115.00 Truth: $114.99 Error: $0.01 SLE: 0.00 Item: WD 2TB My Passport SSD Portable External...\u001b[0m\n",
      "\u001b[92m150: Guess: $89.00 Truth: $89.14 Error: $0.14 SLE: 0.00 Item: GLOB PRO SOLUTIONS WPW10415587 Washer Pr...\u001b[0m\n",
      "\u001b[92m151: Guess: $55.00 Truth: $54.99 Error: $0.01 SLE: 0.00 Item: UGREEN USB C Hub 9 in 1 USB Type C HDMI ...\u001b[0m\n",
      "\u001b[92m152: Guess: $59.00 Truth: $58.93 Error: $0.07 SLE: 0.00 Item: UV Polyethylene Spiral Wrap Cable Harnes...\u001b[0m\n",
      "\u001b[92m153: Guess: $217.00 Truth: $217.00 Error: $0.00 SLE: 0.00 Item: 50 4GB Flash Drive - Bulk Pack - USB 2.0...\u001b[0m\n",
      "\u001b[91m154: Guess: $7.00 Truth: $199.99 Error: $192.99 SLE: 10.39 Item: RCA Voyager Pro 7 16GB Tablet with Keybo...\u001b[0m\n",
      "\u001b[92m155: Guess: $129.00 Truth: $128.89 Error: $0.11 SLE: 0.00 Item: McKlein, R Series, Walton, Tech-Lite Bal...\u001b[0m\n",
      "\u001b[92m156: Guess: $313.00 Truth: $312.99 Error: $0.01 SLE: 0.00 Item: HP EliteBook x360 1030 G2 Notebook 2-in-...\u001b[0m\n",
      "\u001b[92m157: Guess: $11.00 Truth: $10.99 Error: $0.01 SLE: 0.00 Item: Padarsey Keyboard with Frame Compatible ...\u001b[0m\n",
      "\u001b[92m158: Guess: $68.00 Truth: $53.64 Error: $14.36 SLE: 0.05 Item: BULGIN PX0441/2M00 Cable Assy, USB IP68,...\u001b[0m\n",
      "\u001b[92m159: Guess: $30.00 Truth: $29.99 Error: $0.01 SLE: 0.00 Item: UFBOSS Powered 5-Port Mini USB 3.0 HUB a...\u001b[0m\n",
      "\u001b[92m160: Guess: $19.00 Truth: $18.99 Error: $0.01 SLE: 0.00 Item: TKDY 24V 2.5A Power Supply Cord, DC 24V ...\u001b[0m\n",
      "\u001b[92m161: Guess: $38.00 Truth: $37.99 Error: $0.01 SLE: 0.00 Item: VASCHY Laptop Backpack, Vintage Water Re...\u001b[0m\n",
      "\u001b[92m162: Guess: $23.00 Truth: $22.56 Error: $0.44 SLE: 0.00 Item: LDG Electronics Y-Acc One-Touch-Tune Cab...\u001b[0m\n",
      "\u001b[92m163: Guess: $15.00 Truth: $14.99 Error: $0.01 SLE: 0.00 Item: Divufus Case for iPad 10th Generation 20...\u001b[0m\n",
      "\u001b[92m164: Guess: $8.00 Truth: $7.99 Error: $0.01 SLE: 0.00 Item: HDMI Cable, HDMI to HDMI Cable 6FT HDMI ...\u001b[0m\n",
      "\u001b[92m165: Guess: $166.00 Truth: $165.90 Error: $0.10 SLE: 0.00 Item: LimoStudio Photo Shooting Kit with Backg...\u001b[0m\n",
      "\u001b[92m166: Guess: $43.00 Truth: $42.98 Error: $0.02 SLE: 0.00 Item: Maxtek 2 Pack 4.5 hours BP-827 Li-Ion Re...\u001b[0m\n",
      "\u001b[92m167: Guess: $200.00 Truth: $199.99 Error: $0.01 SLE: 0.00 Item: Ikan E-Image 2 Stage Aluminum Video Trip...\u001b[0m\n",
      "\u001b[92m168: Guess: $37.00 Truth: $36.95 Error: $0.05 SLE: 0.00 Item: Samsung ram Memory 16GB kit (2 x 8GB) DD...\u001b[0m\n",
      "\u001b[92m169: Guess: $399.00 Truth: $399.00 Error: $0.00 SLE: 0.00 Item: Dell Optiplex 9020 Small Form Factor Des...\u001b[0m\n",
      "\u001b[92m170: Guess: $42.00 Truth: $42.50 Error: $0.50 SLE: 0.00 Item: U-810 USB 3.0 Hub with Gigabit Ethernet\u001b[0m\n",
      "\u001b[92m171: Guess: $200.00 Truth: $199.99 Error: $0.01 SLE: 0.00 Item: DS18 SXE-2500.1D/RD Car Amplifier Class ...\u001b[0m\n",
      "\u001b[92m172: Guess: $18.00 Truth: $17.99 Error: $0.01 SLE: 0.00 Item: KIQ Guardian Series for Apple iPad 6th G...\u001b[0m\n",
      "\u001b[92m173: Guess: $95.00 Truth: $95.00 Error: $0.00 SLE: 0.00 Item: HP USB-C Dock G5 (Refurbished)\u001b[0m\n",
      "\u001b[92m174: Guess: $43.00 Truth: $42.69 Error: $0.31 SLE: 0.00 Item: Extreme Battery XTAZ10S Powersports Repl...\u001b[0m\n",
      "\u001b[92m175: Guess: $694.00 Truth: $694.50 Error: $0.50 SLE: 0.00 Item: Samyang SYXP14-C XP 14mm f/2.4 High Spee...\u001b[0m\n",
      "\u001b[92m176: Guess: $22.00 Truth: $22.47 Error: $0.47 SLE: 0.00 Item: Intel Centrino Advanced-N 6235 6235ANHMW...\u001b[0m\n",
      "\u001b[92m177: Guess: $27.00 Truth: $27.00 Error: $0.00 SLE: 0.00 Item: CMS 8GB (2X4GB) DDR3 10600 1333MHZ Non E...\u001b[0m\n",
      "\u001b[92m178: Guess: $37.00 Truth: $37.00 Error: $0.00 SLE: 0.00 Item: Nikon AF-S Nikkor 35mm f/1.8G DX Pro Dig...\u001b[0m\n",
      "\u001b[92m179: Guess: $40.00 Truth: $39.90 Error: $0.10 SLE: 0.00 Item: Hoya SOLAS IRND 2.7 62mm Infrared Neutra...\u001b[0m\n",
      "\u001b[91m180: Guess: $6.00 Truth: $233.73 Error: $227.73 SLE: 12.34 Item: Direct Burial/Outdoor Rated Cat6 Black E...\u001b[0m\n",
      "\u001b[92m181: Guess: $326.00 Truth: $325.94 Error: $0.06 SLE: 0.00 Item: LG 24” 24CK550Z-BP FHD (1920x1080) IPS Z...\u001b[0m\n",
      "\u001b[92m182: Guess: $2.00 Truth: $1.99 Error: $0.01 SLE: 0.00 Item: FitSand Hard Case Compatible for Valoin ...\u001b[0m\n",
      "\u001b[92m183: Guess: $120.00 Truth: $119.95 Error: $0.05 SLE: 0.00 Item: Razer Nommo Chroma - Computer Speakers, ...\u001b[0m\n",
      "\u001b[92m184: Guess: $38.00 Truth: $38.00 Error: $0.00 SLE: 0.00 Item: Auto Wayfeng WF® IR Control 4 Cameras Vi...\u001b[0m\n",
      "\u001b[92m185: Guess: $630.00 Truth: $629.95 Error: $0.05 SLE: 0.00 Item: Sigma 105mm f/2.8 EX DG OS HSM Macro Len...\u001b[0m\n",
      "\u001b[92m186: Guess: $199.00 Truth: $199.00 Error: $0.00 SLE: 0.00 Item: Saregama Carvaan 2.0 Portable Digital Mu...\u001b[0m\n",
      "\u001b[91m187: Guess: $468.00 Truth: $179.99 Error: $288.01 SLE: 0.91 Item: Greenlee 468 Wiremap Tester\u001b[0m\n",
      "\u001b[92m188: Guess: $700.00 Truth: $699.99 Error: $0.01 SLE: 0.00 Item: EVGA GeForce GTX 1080 FTW GAMING ACX 3.0...\u001b[0m\n",
      "\u001b[92m189: Guess: $44.00 Truth: $43.99 Error: $0.01 SLE: 0.00 Item: Kastar Charger + 3 Battery for Hewlett P...\u001b[0m\n",
      "\u001b[92m190: Guess: $5.00 Truth: $4.99 Error: $0.01 SLE: 0.00 Item: 100 Pcs no-Repeating Stickers for Water ...\u001b[0m\n",
      "\u001b[92m191: Guess: $36.00 Truth: $35.96 Error: $0.04 SLE: 0.00 Item: 3ft. HD PTTL Off-Camera Cord for Pentax ...\u001b[0m\n",
      "\u001b[92m192: Guess: $269.00 Truth: $269.00 Error: $0.00 SLE: 0.00 Item: 5G WiFi 8 Core 1280 * 720 Resolution Car...\u001b[0m\n",
      "\u001b[92m193: Guess: $22.00 Truth: $22.29 Error: $0.29 SLE: 0.00 Item: Pyle Water Resistant Marine Stereo Cover...\u001b[0m\n",
      "\u001b[92m194: Guess: $185.00 Truth: $185.00 Error: $0.00 SLE: 0.00 Item: Lenovo 14w Laptop Gen 2, 14\" HD (1366X76...\u001b[0m\n",
      "\u001b[92m195: Guess: $65.00 Truth: $64.99 Error: $0.01 SLE: 0.00 Item: SoundXtreme ST-X6400BT MP5 7\" digital TF...\u001b[0m\n",
      "\u001b[92m196: Guess: $2.00 Truth: $0.69 Error: $1.31 SLE: 0.33 Item: Yxflzer USB 2.0 Type A Female to Micro U...\u001b[0m\n",
      "\u001b[92m197: Guess: $270.00 Truth: $269.95 Error: $0.05 SLE: 0.00 Item: Sharp GXBT9 Portable Bluetooth Boom Box ...\u001b[0m\n",
      "\u001b[92m198: Guess: $59.00 Truth: $58.99 Error: $0.01 SLE: 0.00 Item: Polk Audio DB402 DB+ Series 4\" Coaxial S...\u001b[0m\n",
      "\u001b[92m199: Guess: $65.00 Truth: $64.52 Error: $0.48 SLE: 0.00 Item: DJI Phantom 4 - Part 9 100W Battery Char...\u001b[0m\n",
      "\u001b[92m200: Guess: $169.00 Truth: $169.00 Error: $0.00 SLE: 0.00 Item: Feniex Industries C-4014 Storm Pro 100W ...\u001b[0m\n",
      "\u001b[92m201: Guess: $25.00 Truth: $25.01 Error: $0.01 SLE: 0.00 Item: UpBright 25V AC/DC Adapter Compatible wi...\u001b[0m\n",
      "\u001b[92m202: Guess: $56.00 Truth: $55.77 Error: $0.23 SLE: 0.00 Item: BOWEIRUI AA-PBTN2TP Laptop Battery Repla...\u001b[0m\n",
      "\u001b[91m203: Guess: $128.00 Truth: $34.90 Error: $93.10 SLE: 1.64 Item: Verbatim 128GB Vx460 External SSD USB 3....\u001b[0m\n",
      "\u001b[92m204: Guess: $300.00 Truth: $299.95 Error: $0.05 SLE: 0.00 Item: Kicker 46CXA4001 Car Audio Class D Mono ...\u001b[0m\n",
      "\u001b[92m205: Guess: $279.00 Truth: $279.00 Error: $0.00 SLE: 0.00 Item: Definitive Technology Dt Series Dt8Lcr i...\u001b[0m\n",
      "\u001b[91m206: Guess: $14.00 Truth: $172.12 Error: $158.12 SLE: 5.98 Item: Lenovo 14\" FHD Laptop - AMD A6-9220C Dua...\u001b[0m\n",
      "\u001b[92m207: Guess: $38.00 Truth: $38.19 Error: $0.19 SLE: 0.00 Item: SureCall J-Bar Outdoor Antenna Mounting ...\u001b[0m\n",
      "\u001b[91m208: Guess: $2,020.00 Truth: $899.00 Error: $1,121.00 SLE: 0.65 Item: 2020 HUION Kamvas Pro 24 Drawing Monitor...\u001b[0m\n",
      "\u001b[93m209: Guess: $18.00 Truth: $78.95 Error: $60.95 SLE: 2.06 Item: RYOBI 18V ONE+ Bluetooth Speaker (Tool-O...\u001b[0m\n",
      "\u001b[92m210: Guess: $164.00 Truth: $164.49 Error: $0.49 SLE: 0.00 Item: MikroTik PowerBox Pro Router, 5 Gigabit ...\u001b[0m\n",
      "\u001b[92m211: Guess: $15.00 Truth: $14.90 Error: $0.10 SLE: 0.00 Item: Geekria QuickFit Replacement Ear Pads fo...\u001b[0m\n",
      "\u001b[92m212: Guess: $148.00 Truth: $148.02 Error: $0.02 SLE: 0.00 Item: ASUS P6T Deluxe V2 Desktop Board\u001b[0m\n",
      "\u001b[91m213: Guess: $32.00 Truth: $349.00 Error: $317.00 SLE: 5.58 Item: Apple iPad Pro (32GB, Wi-Fi, Space Gray)...\u001b[0m\n",
      "\u001b[92m214: Guess: $8.00 Truth: $7.97 Error: $0.03 SLE: 0.00 Item: 3 ft. USB 2.0 A Male to A Male and Mini-...\u001b[0m\n",
      "\u001b[92m215: Guess: $750.00 Truth: $749.99 Error: $0.01 SLE: 0.00 Item: HP 2022 17.3\" FHD IPS Display Laptop PC ...\u001b[0m\n",
      "\u001b[92m216: Guess: $80.00 Truth: $79.99 Error: $0.01 SLE: 0.00 Item: JB Live 500 BT, Around-Ear Wireless Head...\u001b[0m\n",
      "\u001b[92m217: Guess: $320.00 Truth: $319.99 Error: $0.01 SLE: 0.00 Item: nixplay Smart Digital Picture Frame 15.6...\u001b[0m\n",
      "\u001b[92m218: Guess: $7.00 Truth: $6.99 Error: $0.01 SLE: 0.00 Item: Keenso Multipurpose Car Wiring Harness T...\u001b[0m\n",
      "\u001b[92m219: Guess: $117.00 Truth: $117.27 Error: $0.27 SLE: 0.00 Item: HP 8000 Elite Desktop C2D 3.00 8GB 2TB D...\u001b[0m\n",
      "\u001b[92m220: Guess: $93.00 Truth: $93.04 Error: $0.04 SLE: 0.00 Item: Plantronics - Voyager 5200 UC (Poly) - B...\u001b[0m\n",
      "\u001b[92m221: Guess: $6.00 Truth: $1.60 Error: $4.40 SLE: 0.98 Item: 6ft Cat 5E Non-Booted Unshielded (UTP) E...\u001b[0m\n",
      "\u001b[92m222: Guess: $23.00 Truth: $22.99 Error: $0.01 SLE: 0.00 Item: PWR+ Laptop Power Adapter Charger for HP...\u001b[0m\n",
      "\u001b[92m223: Guess: $15.00 Truth: $14.99 Error: $0.01 SLE: 0.00 Item: Se7enline Compatible with MacBook Air 13...\u001b[0m\n",
      "\u001b[92m224: Guess: $42.00 Truth: $42.09 Error: $0.09 SLE: 0.00 Item: Gadget Guard GEGEAP000013 Black Ice Edit...\u001b[0m\n",
      "\u001b[92m225: Guess: $31.00 Truth: $30.59 Error: $0.41 SLE: 0.00 Item: AN-MR650A AN-MR18BA AN-MR19BA Voice Magi...\u001b[0m\n",
      "\u001b[92m226: Guess: $49.00 Truth: $49.00 Error: $0.00 SLE: 0.00 Item: [Intel Thunderbolt 3 Certified 40Gbps Th...\u001b[0m\n",
      "\u001b[92m227: Guess: $53.00 Truth: $52.99 Error: $0.01 SLE: 0.00 Item: DKNKD X8VWF 4XKN5 CJ2K1 Laptop Battery f...\u001b[0m\n",
      "\u001b[92m228: Guess: $145.00 Truth: $144.99 Error: $0.01 SLE: 0.00 Item: Hawke Endurance ED Monocular\u001b[0m\n",
      "\u001b[92m229: Guess: $359.00 Truth: $359.00 Error: $0.00 SLE: 0.00 Item: Radio for Chevrolet Chevy Cruze Stereo 2...\u001b[0m\n",
      "\u001b[92m230: Guess: $5.00 Truth: $4.98 Error: $0.02 SLE: 0.00 Item: FONVOi AUX Cord for iPhone【Apple MFi Cer...\u001b[0m\n",
      "\u001b[92m231: Guess: $70.00 Truth: $69.95 Error: $0.05 SLE: 0.00 Item: American-Wholesaler Inc. New! - Empty Ma...\u001b[0m\n",
      "\u001b[92m232: Guess: $63.00 Truth: $62.99 Error: $0.01 SLE: 0.00 Item: KENUCO PM DS-1275ZJ Universal Vertical P...\u001b[0m\n",
      "\u001b[92m233: Guess: $85.00 Truth: $84.55 Error: $0.45 SLE: 0.00 Item: Starter Tethering Kit w/TetherPro USB 2....\u001b[0m\n",
      "\u001b[92m234: Guess: $57.00 Truth: $56.59 Error: $0.41 SLE: 0.00 Item: USB 3.0 Data Transfer Cable 6.6FT - HBAV...\u001b[0m\n",
      "\u001b[92m235: Guess: $16.00 Truth: $15.97 Error: $0.03 SLE: 0.00 Item: Battery Replacement for Magellan RoadMat...\u001b[0m\n",
      "\u001b[92m236: Guess: $4.00 Truth: $3.99 Error: $0.01 SLE: 0.00 Item: Leyland Designs Fujiwara Chika Sticker O...\u001b[0m\n",
      "\u001b[93m237: Guess: $1.00 Truth: $53.99 Error: $52.99 SLE: 10.98 Item: everydrop by Whirlpool Ice and Water Ref...\u001b[0m\n",
      "\u001b[92m238: Guess: $31.00 Truth: $30.99 Error: $0.01 SLE: 0.00 Item: ELECOM EX-G Trackball Mouse, Wired, Thum...\u001b[0m\n",
      "\u001b[92m239: Guess: $13.00 Truth: $9.49 Error: $3.51 SLE: 0.08 Item: uxcell Polyolefin 13M Length 2mm Dia Hea...\u001b[0m\n",
      "\u001b[92m240: Guess: $29.00 Truth: $28.95 Error: $0.05 SLE: 0.00 Item: Decalrus - Protective Decal Skin Sticker...\u001b[0m\n",
      "\u001b[92m241: Guess: $550.00 Truth: $550.00 Error: $0.00 SLE: 0.00 Item: Genuine Dell NX380 LCD Screen Dell 15.4\"...\u001b[0m\n",
      "\u001b[92m242: Guess: $66.00 Truth: $65.99 Error: $0.01 SLE: 0.00 Item: cjc Ultrasonic Inverter, Electro Fisher ...\u001b[0m\n",
      "\u001b[92m243: Guess: $110.00 Truth: $109.99 Error: $0.01 SLE: 0.00 Item: IET Replacement Lamp Assembly with Genui...\u001b[0m\n",
      "\u001b[92m244: Guess: $37.00 Truth: $36.91 Error: $0.09 SLE: 0.00 Item: Replacement Remote Control for NAXA NX55...\u001b[0m\n",
      "\u001b[92m245: Guess: $139.00 Truth: $139.00 Error: $0.00 SLE: 0.00 Item: Samsung DVD-R135 DVD Recorder\u001b[0m\n",
      "\u001b[92m246: Guess: $80.00 Truth: $79.95 Error: $0.05 SLE: 0.00 Item: Glow Speed Ring Adapter to Fit Profoto M...\u001b[0m\n",
      "\u001b[92m247: Guess: $8.00 Truth: $7.99 Error: $0.01 SLE: 0.00 Item: BingoBuy US Layout Clear Non-Toxic Ultra...\u001b[0m\n",
      "\u001b[92m248: Guess: $76.00 Truth: $76.21 Error: $0.21 SLE: 0.00 Item: E-Z-GO Part Number 614029 Adapter\u001b[0m\n",
      "\u001b[92m249: Guess: $192.00 Truth: $192.05 Error: $0.05 SLE: 0.00 Item: Anker Docking Station, KVM Switch for a ...\u001b[0m\n",
      "\u001b[91m250: Guess: $1,400.00 Truth: $599.00 Error: $801.00 SLE: 0.72 Item: SeaLife DC1400 Pro 14MP HD Underwater Di...\u001b[0m\n"
     ]
    },
    {
     "data": {
      "image/png": "[encoded data removed]",
      "text/plain": [
       "<Figure size 1200x800 with 1 Axes>"
      ]
     },
     "metadata": {},
     "output_type": "display_data"
    }
   ],
   "source": [
    "from langchain.prompts import PromptTemplate\n",
    "from langchain.chains import RetrievalQA\n",
    "from langchain.chains import ConversationalRetrievalChain\n",
    "from langchain_openai import ChatOpenAI\n",
    "\n",
    "def gpt_4o_mini_rag_langchain(item):\n",
    "    template = \"\"\"\n",
    "    Role: You are a pricing assistant. You are given a question and some context. Answer the question based on the context.\n",
    "    Input: \"How much does this cost to the nearest dollar?\n",
    "    Context: {context}\n",
    "    Here is the question:{question}\n",
    "    Answer:\n",
    "\n",
    "    \"\"\"\n",
    "    # {context} is data derived from the database vectors that have similarities with the question\n",
    "    # {question} is the question that will be asked to the application\n",
    "\n",
    "    PROMPT = PromptTemplate(\n",
    "        template = template,\n",
    "        input_variables=[\"context\", \"question\"]\n",
    "    )\n",
    "    llm = ChatOpenAI(temperature=0.0, model_name=\"gpt-4o-mini\")\n",
    "    qa_with_source = RetrievalQA.from_chain_type(\n",
    "        llm = llm,\n",
    "        chain_type = 'stuff',\n",
    "        retriever = vector_store.as_retriever(search_kwargs={\"k\": 5}),\n",
    "        chain_type_kwargs={\"prompt\":PROMPT,},\n",
    "        return_source_documents=True,\n",
    "    )\n",
    "    product_price_stripped = item.prompt.replace(\"How much does this cost to the nearest dollar?\\n\\n\", \"\")\n",
    "    rsp = qa_with_source.invoke(\"How much does this cost to the nearest dollar?\\n\\n\" + product_price_stripped)\n",
    "\n",
    "    '''\n",
    "    {'query': 'How much does this cost to the nearest dollar?\\n\\nSony a5100 Mirrorless Digital Camera with 3-Inch Flip Up LCD (Black) (Renewed)\\nSony a5100 Interchangeable Lens Camera with Lens, Black. Exposure Modes- AUTO (iAUTO, Superior Auto), Programmed AE (P), Aperture priority (A), Shutter-speed priority (S), Manual (M), Scene Selection, Sweep Panorama, Movie Ultra-fast auto focus with 179 AF points and 6Fps Capture life in high resolution with 24MP APS-C sensor.Lens compatibility Sony E-mount lenses Instant sharing via smartphone with Wi-Fi and NFC1 Record Full HD video3 up to 50MB/s Contains- Rechargeable Battery AC Charger Lens cap Shoulder strap Micro USB cable. BIONZ X engine for superb detail and noise reduction\\n\\nPrice is $699.00',\n",
    "    'result': 'The cost is $699.',\n",
    "    'source_documents': [Document(id='1b5fffc8-81b4-4beb-8652-fe3398aa2877', metadata={'price': 720.0}, page_content=\"Hitachi LCD Projector - 720p - HDTV - 4 3\\nHitachi XGA 10000 1 Contrast Ratio - Overview Projector Hardware - LCD ProjectorSpecification From the classroom to the conference room, Hitachi's LCD projector combines superior image clarity, high quality value, and long-life reliability. Bright, vivid colors with razor-sharp text and bold graphics will truly enhance any lesson or mee XGA 10000 1 Contrast Ratio Projector Hardware - LCD Projector XGA 10000 1 Contrast Ratio Hitachi Manufacturer Hitachi, Part Weight 6.61 pounds, Dimensions 14.5 x 12.5 x 6.2 inches, model number Is Discontinued No, Wattage 210 watts, Quantity 1, Lumin\"),\n",
    "    Document(id='2ff754c1-ca8a-4daf-ab3c-5efdfd03478c', metadata={'price': 101.0}, page_content='Extech RH101 Combination Humidity Meter and Infrared Thermometer\\nItem is a Class II laser product, 1mW power output. Combination humidity meter + IR thermometer features a large backlit dual display Primary display is user selectable for IR or humidity; Secondary displays ambient temperature IR thermometer offers non-contact temperature measurements from -58 to 932?F (-50 to 500?C) IR thermometer has built-in laser pointer and an 8 1 distance to target ratio Brand Extech, Age Range (Description) Adult, Included Components & Instructions Guide, Display Type Digital, Connectivity Technology Infrared, Care Instructions Wipe Clean, Power Source Battery Powered, Batteries 1 Lithium Ion batteries required. (included), Response Time 500 Milliseconds, Reusability Reusable'),\n",
    "    Document(id='d8ed5510-1032-40ab-8bd9-0b6839117524', metadata={'price': 1.0}, page_content='BNP White Clock Temperature Humidity Digital Thermometer for Home HTC-1\\nSpecifications Temperature range accuracy ±1°C resolution 0.1°C range RHHumidity accuracy ± 5% RHHumidity resolution 1% RHPower source 1*AAA (1.5V) batteryMaterial ABSColor White+BalckDimensions ( 4 3/16 H x 3 7/8 W x 7/8 Thick)Weight 153g Packaging & Delivery Blister box Carton size Gross weight Large character LCD display, easy to read Temperature, Humidity and Clock display simultaneously Hourly chime, Daily alarm function Calendar display function (Month and date) Max/Min temperature and humidity memory function Dimensions 5 x 6.5 x 1 inches, Weight'),\n",
    "    Document(id='a28fba9a-29f1-4e67-b888-127331d0ef1a', metadata={'price': 98.0}, page_content=\"Nexia Z-Wave One Touch Control, Entirely Customizable White\\nConveniently control the smart products in your home with the tap of a button! The Nexia One Touch provides quick access to the Nexia Automations and Modes that you assign to the device. No need to have your smart phone or computer near you at all times when you're enjoying the comforts of your home. Install the One Touch near your door to easily control your home when leaving or entering. Or, leave the One Touch on your coffee table or night stand for convenient access to your smart products at any time of the day or night. Simply tap a One Touch button to run any automation mode you've already set up in your Nexia account Home to turn on the lights, adjust the temperature and turn down\"),\n",
    "    Document(id='a03a5831-7c21-4ef2-925a-899439f1473e', metadata={'price': 436.0}, page_content='Ancona WPP436 36 Wall-Mounted Classic Pyramid Style Convertible Range Hood in Stainless Steel\\nMade with high-quality 430 stainless steel, this Ancona range hood’s classic pyramid design adds sophistication and performance to your home at an affordable price. This range hood features easy-to-use electronic controls, eco-friendly LED lights, and easy-to-clean filters. This range hood is guaranteed to make a statement in any kitchen! wide; wall-mounted classic pyramid style 400 CFM - Independently tested, cETLus electronic controls, low speed 50-dBA 2 x LED lights – Designed by Ancona, powerful and bright, known to last up to 10 times longer than conventional lights Aluminum mesh filter; dishwasher safe; top 6-inch round ventilation, damper included;')]}\n",
    "    '''\n",
    "    return get_price(rsp['result'])\n",
    "\n",
    "Tester.test(gpt_4o_mini_rag_langchain, test)"
   ]
  },
  {
   "cell_type": "code",
   "execution_count": null,
   "id": "238bea7c",
   "metadata": {},
   "outputs": [],
   "source": []
  },
  {
   "cell_type": "code",
   "execution_count": null,
   "id": "0f2fc2e6",
   "metadata": {},
   "outputs": [],
   "source": []
  },
  {
   "cell_type": "code",
   "execution_count": null,
   "id": "76d5b1e7",
   "metadata": {},
   "outputs": [],
   "source": []
  },
  {
   "cell_type": "code",
   "execution_count": null,
   "id": "10127565",
   "metadata": {},
   "outputs": [],
   "source": []
  },
  {
   "cell_type": "markdown",
   "id": "d793c6d0-ce3f-4680-b37d-4643f0cd1d8e",
   "metadata": {},
   "source": [
    "## Optional Extra: Trying a DeepSeek API call instead of OpenAI\n",
    "\n",
    "If you have a DeepSeek API key, we will use it here as an alternative implementation; otherwise skip to the next section.."
   ]
  },
  {
   "cell_type": "code",
   "execution_count": null,
   "id": "21b6a22f-0195-47b6-8f6d-cab6ebe05742",
   "metadata": {},
   "outputs": [],
   "source": [
    "# Connect to DeepSeek using the OpenAI client python library\n",
    "\n",
    "deepseek_api_key = os.getenv(\"DEEPSEEK_API_KEY\")\n",
    "deepseek_via_openai_client = OpenAI(api_key=deepseek_api_key,base_url=\"https://api.deepseek.com\")"
   ]
  },
  {
   "cell_type": "code",
   "execution_count": null,
   "id": "ea7267d6-9489-4dac-a6e0-aec108e788c2",
   "metadata": {},
   "outputs": [],
   "source": [
    "# Added some retry logic here because DeepSeek is very oversubscribed and sometimes fails..\n",
    "\n",
    "def deepseek_api_rag(item):\n",
    "    documents, prices = find_similars(item)\n",
    "    retries = 8\n",
    "    done = False\n",
    "    while not done and retries > 0:\n",
    "        try:\n",
    "            response = deepseek_via_openai_client.chat.completions.create(\n",
    "                model=\"deepseek-chat\", \n",
    "                messages=messages_for(item, documents, prices),\n",
    "                seed=42,\n",
    "                max_tokens=8\n",
    "            )\n",
    "            reply = response.choices[0].message.content\n",
    "            done = True\n",
    "        except Exception as e:\n",
    "            print(f\"Error: {e}\")\n",
    "            retries -= 1\n",
    "    return get_price(reply)"
   ]
  },
  {
   "cell_type": "code",
   "execution_count": null,
   "id": "6560faf2-4dec-41e5-95e2-b2c46cdb3ba8",
   "metadata": {},
   "outputs": [],
   "source": [
    "deepseek_api_rag(test[1])"
   ]
  },
  {
   "cell_type": "code",
   "execution_count": null,
   "id": "0578b116-869f-429d-8382-701f1c0882f3",
   "metadata": {},
   "outputs": [],
   "source": [
    "Tester.test(deepseek_api_rag, test)"
   ]
  },
  {
   "cell_type": "markdown",
   "id": "6739870f-1eec-4547-965d-4b594e685697",
   "metadata": {},
   "source": [
    "## And now to wrap this in an \"Agent\" class"
   ]
  },
  {
   "cell_type": "code",
   "execution_count": 12,
   "id": "e6d5deb3-6a2a-4484-872c-37176c5e1f07",
   "metadata": {},
   "outputs": [],
   "source": [
    "#from agents.frontier_agent import FrontierAgent\n",
    "# from jupyter_notebook_ai_clone.llm_udemy.llm_engineering.week6.testing import Tester\n",
    "from jupyter_notebook_ai_clone.llm_udemy.llm_engineering.week8.agents.frontier_agent import FrontierAgent"
   ]
  },
  {
   "cell_type": "code",
   "execution_count": 13,
   "id": "2efa7ba9-c2d7-4f95-8bb5-c4295bbeb01f",
   "metadata": {},
   "outputs": [],
   "source": [
    "# Let's print the logs so we can see what's going on\n",
    "\n",
    "import logging\n",
    "root = logging.getLogger()\n",
    "root.setLevel(logging.INFO)"
   ]
  },
  {
   "cell_type": "code",
   "execution_count": 14,
   "id": "56e8dd5d-ed36-49d8-95f7-dc82e548255b",
   "metadata": {},
   "outputs": [
    {
     "ename": "NameError",
     "evalue": "name 'collection' is not defined",
     "output_type": "error",
     "traceback": [
      "\u001b[0;31m---------------------------------------------------------------------------\u001b[0m",
      "\u001b[0;31mNameError\u001b[0m                                 Traceback (most recent call last)",
      "Cell \u001b[0;32mIn[14], line 1\u001b[0m\n\u001b[0;32m----> 1\u001b[0m agent \u001b[38;5;241m=\u001b[39m FrontierAgent(\u001b[43mcollection\u001b[49m)\n",
      "\u001b[0;31mNameError\u001b[0m: name 'collection' is not defined"
     ]
    }
   ],
   "source": [
    "agent = FrontierAgent(collection)"
   ]
  },
  {
   "cell_type": "code",
   "execution_count": 53,
   "id": "980dd126-f675-4499-8817-0cc0bb73e247",
   "metadata": {},
   "outputs": [
    {
     "name": "stderr",
     "output_type": "stream",
     "text": [
      "INFO:root:\u001b[40m\u001b[34m[Frontier Agent] Frontier Agent is performing a RAG search of the Chroma datastore to find 5 similar products\u001b[0m\n"
     ]
    },
    {
     "data": {
      "application/vnd.jupyter.widget-view+json": {
       "model_id": "ec0828be7618433088f36ec6730d01cd",
       "version_major": 2,
       "version_minor": 0
      },
      "text/plain": [
       "Batches:   0%|          | 0/1 [00:00<?, ?it/s]"
      ]
     },
     "metadata": {},
     "output_type": "display_data"
    },
    {
     "name": "stderr",
     "output_type": "stream",
     "text": [
      "INFO:root:\u001b[40m\u001b[34m[Frontier Agent] Frontier Agent has found similar products\u001b[0m\n",
      "INFO:root:\u001b[40m\u001b[34m[Frontier Agent] Frontier Agent is about to call gpt-4o-mini with context including 5 similar products\u001b[0m\n",
      "INFO:httpx:HTTP Request: POST https://api.openai.com/v1/chat/completions \"HTTP/1.1 200 OK\"\n",
      "INFO:root:\u001b[40m\u001b[34m[Frontier Agent] Frontier Agent completed - predicting $139.99\u001b[0m\n"
     ]
    },
    {
     "data": {
      "text/plain": [
       "139.99"
      ]
     },
     "execution_count": 53,
     "metadata": {},
     "output_type": "execute_result"
    }
   ],
   "source": [
    "agent.price(\"Quadcast HyperX condenser mic for high quality podcasting\")"
   ]
  },
  {
   "cell_type": "code",
   "execution_count": 56,
   "id": "66c18a06-d0f1-4ec9-8aff-ec3ca294dd09",
   "metadata": {},
   "outputs": [],
   "source": [
    "#from agents.specialist_agent import SpecialistAgent\n",
    "from jupyter_notebook_ai_clone.llm_udemy.llm_engineering.week8.agents.specialist_agent import SpecialistAgent"
   ]
  },
  {
   "cell_type": "code",
   "execution_count": 57,
   "id": "ba672fb4-2c3e-42ee-9ea0-21bfcfc5260c",
   "metadata": {},
   "outputs": [
    {
     "name": "stderr",
     "output_type": "stream",
     "text": [
      "INFO:root:\u001b[40m\u001b[31m[Specialist Agent] Specialist Agent is initializing - connecting to modal\u001b[0m\n",
      "/opt/conda/lib/python3.11/asyncio/events.py:80: DeprecationError: 2025-01-27: `modal.Cls.lookup` is deprecated and will be removed in a future release. It can be replaced with `modal.Cls.from_name`.\n",
      "\n",
      "See https://modal.com/docs/guide/modal-1-0-migration for more information.\n",
      "  self._context.run(self._callback, *self._args)\n"
     ]
    },
    {
     "ename": "AuthError",
     "evalue": "Token missing. Could not authenticate client. If you have token credentials, see modal.com/docs/reference/modal.config for setup help. If you are a new user, register an account at modal.com, then run `modal token new`.",
     "output_type": "error",
     "traceback": [
      "\u001b[0;31m---------------------------------------------------------------------------\u001b[0m",
      "\u001b[0;31mAuthError\u001b[0m                                 Traceback (most recent call last)",
      "Cell \u001b[0;32mIn[57], line 1\u001b[0m\n\u001b[0;32m----> 1\u001b[0m agent2 \u001b[38;5;241m=\u001b[39m \u001b[43mSpecialistAgent\u001b[49m\u001b[43m(\u001b[49m\u001b[43m)\u001b[49m\n",
      "File \u001b[0;32m/app/jupyter_notebook_ai_clone/llm_udemy/llm_engineering/week8/agents/specialist_agent.py:20\u001b[0m, in \u001b[0;36mSpecialistAgent.__init__\u001b[0;34m(self)\u001b[0m\n\u001b[1;32m     16\u001b[0m \u001b[38;5;250m\u001b[39m\u001b[38;5;124;03m\"\"\"\u001b[39;00m\n\u001b[1;32m     17\u001b[0m \u001b[38;5;124;03mSet up this Agent by creating an instance of the modal class\u001b[39;00m\n\u001b[1;32m     18\u001b[0m \u001b[38;5;124;03m\"\"\"\u001b[39;00m\n\u001b[1;32m     19\u001b[0m \u001b[38;5;28mself\u001b[39m\u001b[38;5;241m.\u001b[39mlog(\u001b[38;5;124m\"\u001b[39m\u001b[38;5;124mSpecialist Agent is initializing - connecting to modal\u001b[39m\u001b[38;5;124m\"\u001b[39m)\n\u001b[0;32m---> 20\u001b[0m Pricer \u001b[38;5;241m=\u001b[39m \u001b[43mmodal\u001b[49m\u001b[38;5;241;43m.\u001b[39;49m\u001b[43mCls\u001b[49m\u001b[38;5;241;43m.\u001b[39;49m\u001b[43mlookup\u001b[49m\u001b[43m(\u001b[49m\u001b[38;5;124;43m\"\u001b[39;49m\u001b[38;5;124;43mpricer-service\u001b[39;49m\u001b[38;5;124;43m\"\u001b[39;49m\u001b[43m,\u001b[49m\u001b[43m \u001b[49m\u001b[38;5;124;43m\"\u001b[39;49m\u001b[38;5;124;43mPricer\u001b[39;49m\u001b[38;5;124;43m\"\u001b[39;49m\u001b[43m)\u001b[49m\n\u001b[1;32m     21\u001b[0m \u001b[38;5;28mself\u001b[39m\u001b[38;5;241m.\u001b[39mpricer \u001b[38;5;241m=\u001b[39m Pricer()\n\u001b[1;32m     22\u001b[0m \u001b[38;5;28mself\u001b[39m\u001b[38;5;241m.\u001b[39mlog(\u001b[38;5;124m\"\u001b[39m\u001b[38;5;124mSpecialist Agent is ready\u001b[39m\u001b[38;5;124m\"\u001b[39m)\n",
      "File \u001b[0;32m/opt/conda/lib/python3.11/site-packages/synchronicity/combined_types.py:29\u001b[0m, in \u001b[0;36mFunctionWithAio.__call__\u001b[0;34m(self, *args, **kwargs)\u001b[0m\n\u001b[1;32m     27\u001b[0m \u001b[38;5;28;01mexcept\u001b[39;00m UserCodeException \u001b[38;5;28;01mas\u001b[39;00m uc_exc:\n\u001b[1;32m     28\u001b[0m     uc_exc\u001b[38;5;241m.\u001b[39mexc\u001b[38;5;241m.\u001b[39m__suppress_context__ \u001b[38;5;241m=\u001b[39m \u001b[38;5;28;01mTrue\u001b[39;00m\n\u001b[0;32m---> 29\u001b[0m     \u001b[38;5;28;01mraise\u001b[39;00m uc_exc\u001b[38;5;241m.\u001b[39mexc\n",
      "File \u001b[0;32m/opt/conda/lib/python3.11/site-packages/modal/cls.py:660\u001b[0m, in \u001b[0;36m_Cls.lookup\u001b[0;34m(app_name, name, namespace, client, environment_name, workspace)\u001b[0m\n\u001b[1;32m    656\u001b[0m obj \u001b[38;5;241m=\u001b[39m _Cls\u001b[38;5;241m.\u001b[39mfrom_name(\n\u001b[1;32m    657\u001b[0m     app_name, name, namespace\u001b[38;5;241m=\u001b[39mnamespace, environment_name\u001b[38;5;241m=\u001b[39menvironment_name, workspace\u001b[38;5;241m=\u001b[39mworkspace\n\u001b[1;32m    658\u001b[0m )\n\u001b[1;32m    659\u001b[0m \u001b[38;5;28;01mif\u001b[39;00m client \u001b[38;5;129;01mis\u001b[39;00m \u001b[38;5;28;01mNone\u001b[39;00m:\n\u001b[0;32m--> 660\u001b[0m     client \u001b[38;5;241m=\u001b[39m \u001b[38;5;28;01mawait\u001b[39;00m _Client\u001b[38;5;241m.\u001b[39mfrom_env()\n\u001b[1;32m    661\u001b[0m resolver \u001b[38;5;241m=\u001b[39m Resolver(client\u001b[38;5;241m=\u001b[39mclient)\n\u001b[1;32m    662\u001b[0m \u001b[38;5;28;01mawait\u001b[39;00m resolver\u001b[38;5;241m.\u001b[39mload(obj)\n",
      "File \u001b[0;32m/opt/conda/lib/python3.11/site-packages/modal/client.py:199\u001b[0m, in \u001b[0;36m_Client.from_env\u001b[0;34m(cls, _override_config)\u001b[0m\n\u001b[1;32m    197\u001b[0m     credentials \u001b[38;5;241m=\u001b[39m (token_id, token_secret)\n\u001b[1;32m    198\u001b[0m \u001b[38;5;28;01melse\u001b[39;00m:\n\u001b[0;32m--> 199\u001b[0m     \u001b[38;5;28;01mraise\u001b[39;00m AuthError(\n\u001b[1;32m    200\u001b[0m         \u001b[38;5;124m\"\u001b[39m\u001b[38;5;124mToken missing. Could not authenticate client.\u001b[39m\u001b[38;5;124m\"\u001b[39m\n\u001b[1;32m    201\u001b[0m         \u001b[38;5;124m\"\u001b[39m\u001b[38;5;124m If you have token credentials, see modal.com/docs/reference/modal.config for setup help.\u001b[39m\u001b[38;5;124m\"\u001b[39m\n\u001b[1;32m    202\u001b[0m         \u001b[38;5;124m\"\u001b[39m\u001b[38;5;124m If you are a new user, register an account at modal.com, then run `modal token new`.\u001b[39m\u001b[38;5;124m\"\u001b[39m\n\u001b[1;32m    203\u001b[0m     )\n\u001b[1;32m    205\u001b[0m server_url \u001b[38;5;241m=\u001b[39m c[\u001b[38;5;124m\"\u001b[39m\u001b[38;5;124mserver_url\u001b[39m\u001b[38;5;124m\"\u001b[39m]\n\u001b[1;32m    206\u001b[0m client \u001b[38;5;241m=\u001b[39m _Client(server_url, client_type, credentials)\n",
      "\u001b[0;31mAuthError\u001b[0m: Token missing. Could not authenticate client. If you have token credentials, see modal.com/docs/reference/modal.config for setup help. If you are a new user, register an account at modal.com, then run `modal token new`."
     ]
    }
   ],
   "source": [
    "agent2 = SpecialistAgent()"
   ]
  },
  {
   "cell_type": "code",
   "execution_count": null,
   "id": "a5a97004-95b4-46ea-b12d-a4ead22fcb2a",
   "metadata": {},
   "outputs": [],
   "source": [
    "agent2.price(\"Quadcast HyperX condenser mic for high quality podcasting\")"
   ]
  },
  {
   "cell_type": "code",
   "execution_count": null,
   "id": "26d5ddc6-baa6-4760-a430-05671847ac47",
   "metadata": {},
   "outputs": [],
   "source": []
  }
 ],
 "metadata": {
  "kernelspec": {
   "display_name": "Python 3 (ipykernel)",
   "language": "python",
   "name": "python3"
  },
  "language_info": {
   "codemirror_mode": {
    "name": "ipython",
    "version": 3
   },
   "file_extension": ".py",
   "mimetype": "text/x-python",
   "name": "python",
   "nbconvert_exporter": "python",
   "pygments_lexer": "ipython3",
   "version": "3.11.6"
  }
 },
 "nbformat": 4,
 "nbformat_minor": 5
}
