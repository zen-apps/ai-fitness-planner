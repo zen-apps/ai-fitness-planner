{
 "cells": [
  {
   "cell_type": "markdown",
   "id": "40d49349-faaa-420c-9b65-0bdc9edfabce",
   "metadata": {},
   "source": [
    "# The Price is Right\n",
    "\n",
    "Today we build a more complex solution for estimating prices of goods.\n",
    "\n",
    "1. Day 2.0 notebook: create a RAG database with our 400,000 training data\n",
    "2. Day 2.1 notebook: visualize in 2D\n",
    "3. Day 2.2 notebook: visualize in 3D\n",
    "4. Day 2.3 notebook: build and test a RAG pipeline with GPT-4o-mini\n",
    "5. Day 2.4 notebook: (a) bring back our Random Forest pricer (b) Create a Ensemble pricer that allows contributions from all the pricers\n",
    "\n",
    "Phew! That's a lot to get through in one day!\n",
    "\n",
    "## PLEASE NOTE:\n",
    "\n",
    "We already have a very powerful product estimator with our proprietary, fine-tuned LLM. Most people would be very satisfied with that! The main reason we're adding these extra steps is to deepen your expertise with RAG and with Agentic workflows.\n",
    "\n",
    "## Finishing off with Random Forests & Ensemble"
   ]
  },
  {
   "cell_type": "code",
   "execution_count": 1,
   "id": "fbcdfea8-7241-46d7-a771-c0381a3e7063",
   "metadata": {},
   "outputs": [],
   "source": [
    "# imports\n",
    "\n",
    "import os\n",
    "import re\n",
    "import math\n",
    "import json\n",
    "from tqdm import tqdm\n",
    "import random\n",
    "from dotenv import load_dotenv\n",
    "from huggingface_hub import login\n",
    "import numpy as np\n",
    "import pickle\n",
    "from openai import OpenAI\n",
    "from sentence_transformers import SentenceTransformer\n",
    "from datasets import load_dataset\n",
    "import chromadb\n",
    "from jupyter_notebook_ai_clone.llm_udemy.llm_engineering.week6.items import Item \n",
    "#from loaders import ItemLoader\n",
    "from jupyter_notebook_ai_clone.llm_udemy.llm_engineering.week6.loaders import ItemLoader\n",
    "#from testing import Tester\n",
    "from jupyter_notebook_ai_clone.llm_udemy.llm_engineering.week6.testing import Tester\n",
    "import pandas as pd\n",
    "import numpy as np\n",
    "from sklearn.ensemble import RandomForestRegressor\n",
    "from sklearn.linear_model import LinearRegression\n",
    "from sklearn.metrics import mean_squared_error, r2_score\n",
    "import joblib\n"
   ]
  },
  {
   "cell_type": "code",
   "execution_count": 2,
   "id": "e6e88bd1-f89c-4b98-92fa-aa4bc1575bca",
   "metadata": {},
   "outputs": [],
   "source": [
    "# CONSTANTS\n",
    "\n",
    "QUESTION = \"How much does this cost to the nearest dollar?\\n\\n\"\n",
    "DB = \"products_vectorstore\""
   ]
  },
  {
   "cell_type": "code",
   "execution_count": 3,
   "id": "98666e73-938e-469d-8987-e6e55ba5e034",
   "metadata": {},
   "outputs": [],
   "source": [
    "# environment\n",
    "\n",
    "load_dotenv()\n",
    "os.environ['OPENAI_API_KEY'] = os.getenv('OPENAI_API_KEY', 'your-key-if-not-using-env')\n",
    "os.environ['HF_TOKEN'] = os.getenv('HF_TOKEN', 'your-key-if-not-using-env')"
   ]
  },
  {
   "cell_type": "code",
   "execution_count": 7,
   "id": "dc696493-0b6f-48aa-9fa8-b1ae0ecaf3cd",
   "metadata": {},
   "outputs": [
    {
     "name": "stdout",
     "output_type": "stream",
     "text": [
      "49163\n"
     ]
    }
   ],
   "source": [
    "# Load in the test pickle file:\n",
    "\n",
    "with open('test.pkl', 'rb') as file:\n",
    "    test = pickle.load(file)\n",
    "    print(len(test))"
   ]
  },
  {
   "cell_type": "code",
   "execution_count": 5,
   "id": "d26a1104-cd11-4361-ab25-85fb576e0582",
   "metadata": {},
   "outputs": [],
   "source": [
    "client = chromadb.PersistentClient(path=DB)\n",
    "collection = client.get_or_create_collection('products')"
   ]
  },
  {
   "cell_type": "code",
   "execution_count": 6,
   "id": "e00b82a9-a8dc-46f1-8ea9-2f07cbc8e60d",
   "metadata": {},
   "outputs": [],
   "source": [
    "result = collection.get(include=['embeddings', 'documents', 'metadatas'])\n",
    "vectors = np.array(result['embeddings'])\n",
    "documents = result['documents']\n",
    "prices = [metadata['price'] for metadata in result['metadatas']]"
   ]
  },
  {
   "cell_type": "markdown",
   "id": "bf6492cb-b11a-4ad5-859b-a71a78ffb949",
   "metadata": {},
   "source": [
    "# Random Forest\n",
    "\n",
    "We will now train a Random Forest model.\n",
    "\n",
    "Can you spot the difference from what we did in Week 6? In week 6 we used the word2vec model to form vectors; this time we'll use the vectors we already have in Chroma, from the SentenceTransformer model."
   ]
  },
  {
   "cell_type": "code",
   "execution_count": 8,
   "id": "48894777-101f-4fe5-998c-47079407f340",
   "metadata": {},
   "outputs": [
    {
     "data": {
      "text/html": [
       "<style>#sk-container-id-1 {color: black;}#sk-container-id-1 pre{padding: 0;}#sk-container-id-1 div.sk-toggleable {background-color: white;}#sk-container-id-1 label.sk-toggleable__label {cursor: pointer;display: block;width: 100%;margin-bottom: 0;padding: 0.3em;box-sizing: border-box;text-align: center;}#sk-container-id-1 label.sk-toggleable__label-arrow:before {content: \"▸\";float: left;margin-right: 0.25em;color: #696969;}#sk-container-id-1 label.sk-toggleable__label-arrow:hover:before {color: black;}#sk-container-id-1 div.sk-estimator:hover label.sk-toggleable__label-arrow:before {color: black;}#sk-container-id-1 div.sk-toggleable__content {max-height: 0;max-width: 0;overflow: hidden;text-align: left;background-color: #f0f8ff;}#sk-container-id-1 div.sk-toggleable__content pre {margin: 0.2em;color: black;border-radius: 0.25em;background-color: #f0f8ff;}#sk-container-id-1 input.sk-toggleable__control:checked~div.sk-toggleable__content {max-height: 200px;max-width: 100%;overflow: auto;}#sk-container-id-1 input.sk-toggleable__control:checked~label.sk-toggleable__label-arrow:before {content: \"▾\";}#sk-container-id-1 div.sk-estimator input.sk-toggleable__control:checked~label.sk-toggleable__label {background-color: #d4ebff;}#sk-container-id-1 div.sk-label input.sk-toggleable__control:checked~label.sk-toggleable__label {background-color: #d4ebff;}#sk-container-id-1 input.sk-hidden--visually {border: 0;clip: rect(1px 1px 1px 1px);clip: rect(1px, 1px, 1px, 1px);height: 1px;margin: -1px;overflow: hidden;padding: 0;position: absolute;width: 1px;}#sk-container-id-1 div.sk-estimator {font-family: monospace;background-color: #f0f8ff;border: 1px dotted black;border-radius: 0.25em;box-sizing: border-box;margin-bottom: 0.5em;}#sk-container-id-1 div.sk-estimator:hover {background-color: #d4ebff;}#sk-container-id-1 div.sk-parallel-item::after {content: \"\";width: 100%;border-bottom: 1px solid gray;flex-grow: 1;}#sk-container-id-1 div.sk-label:hover label.sk-toggleable__label {background-color: #d4ebff;}#sk-container-id-1 div.sk-serial::before {content: \"\";position: absolute;border-left: 1px solid gray;box-sizing: border-box;top: 0;bottom: 0;left: 50%;z-index: 0;}#sk-container-id-1 div.sk-serial {display: flex;flex-direction: column;align-items: center;background-color: white;padding-right: 0.2em;padding-left: 0.2em;position: relative;}#sk-container-id-1 div.sk-item {position: relative;z-index: 1;}#sk-container-id-1 div.sk-parallel {display: flex;align-items: stretch;justify-content: center;background-color: white;position: relative;}#sk-container-id-1 div.sk-item::before, #sk-container-id-1 div.sk-parallel-item::before {content: \"\";position: absolute;border-left: 1px solid gray;box-sizing: border-box;top: 0;bottom: 0;left: 50%;z-index: -1;}#sk-container-id-1 div.sk-parallel-item {display: flex;flex-direction: column;z-index: 1;position: relative;background-color: white;}#sk-container-id-1 div.sk-parallel-item:first-child::after {align-self: flex-end;width: 50%;}#sk-container-id-1 div.sk-parallel-item:last-child::after {align-self: flex-start;width: 50%;}#sk-container-id-1 div.sk-parallel-item:only-child::after {width: 0;}#sk-container-id-1 div.sk-dashed-wrapped {border: 1px dashed gray;margin: 0 0.4em 0.5em 0.4em;box-sizing: border-box;padding-bottom: 0.4em;background-color: white;}#sk-container-id-1 div.sk-label label {font-family: monospace;font-weight: bold;display: inline-block;line-height: 1.2em;}#sk-container-id-1 div.sk-label-container {text-align: center;}#sk-container-id-1 div.sk-container {/* jupyter's `normalize.less` sets `[hidden] { display: none; }` but bootstrap.min.css set `[hidden] { display: none !important; }` so we also need the `!important` here to be able to override the default hidden behavior on the sphinx rendered scikit-learn.org. See: https://github.com/scikit-learn/scikit-learn/issues/21755 */display: inline-block !important;position: relative;}#sk-container-id-1 div.sk-text-repr-fallback {display: none;}</style><div id=\"sk-container-id-1\" class=\"sk-top-container\"><div class=\"sk-text-repr-fallback\"><pre>RandomForestRegressor(n_jobs=-1, random_state=42)</pre><b>In a Jupyter environment, please rerun this cell to show the HTML representation or trust the notebook. <br />On GitHub, the HTML representation is unable to render, please try loading this page with nbviewer.org.</b></div><div class=\"sk-container\" hidden><div class=\"sk-item\"><div class=\"sk-estimator sk-toggleable\"><input class=\"sk-toggleable__control sk-hidden--visually\" id=\"sk-estimator-id-1\" type=\"checkbox\" checked><label for=\"sk-estimator-id-1\" class=\"sk-toggleable__label sk-toggleable__label-arrow\">RandomForestRegressor</label><div class=\"sk-toggleable__content\"><pre>RandomForestRegressor(n_jobs=-1, random_state=42)</pre></div></div></div></div></div>"
      ],
      "text/plain": [
       "RandomForestRegressor(n_jobs=-1, random_state=42)"
      ]
     },
     "execution_count": 8,
     "metadata": {},
     "output_type": "execute_result"
    }
   ],
   "source": [
    "# This next line takes an hour on my M1 Mac!\n",
    "\n",
    "rf_model = RandomForestRegressor(n_estimators=100, random_state=42, n_jobs=-1)\n",
    "rf_model.fit(vectors, prices)"
   ]
  },
  {
   "cell_type": "code",
   "execution_count": 9,
   "id": "62eb7ddf-e1da-481e-84c6-1256547566bd",
   "metadata": {},
   "outputs": [
    {
     "data": {
      "text/plain": [
       "['random_forest_model.pkl']"
      ]
     },
     "execution_count": 9,
     "metadata": {},
     "output_type": "execute_result"
    }
   ],
   "source": [
    "# Save the model to a file\n",
    "\n",
    "joblib.dump(rf_model, 'random_forest_model.pkl')"
   ]
  },
  {
   "cell_type": "code",
   "execution_count": 10,
   "id": "d281dc5e-761e-4a5e-86b3-29d9c0a33d4a",
   "metadata": {},
   "outputs": [],
   "source": [
    "# Load it back in again\n",
    "\n",
    "rf_model = joblib.load('random_forest_model.pkl')"
   ]
  },
  {
   "cell_type": "code",
   "execution_count": 13,
   "id": "5d438dec-8e5b-4e60-bb6f-c3f82e522dd9",
   "metadata": {},
   "outputs": [],
   "source": [
    "# from agents.specialist_agent import SpecialistAgent\n",
    "# from agents.frontier_agent import FrontierAgent\n",
    "# from agents.random_forest_agent import RandomForestAgent\n",
    "from jupyter_notebook_ai_clone.llm_udemy.llm_engineering.week8.agents.specialist_agent import SpecialistAgent\n",
    "from jupyter_notebook_ai_clone.llm_udemy.llm_engineering.week8.agents.frontier_agent import FrontierAgent\n",
    "from jupyter_notebook_ai_clone.llm_udemy.llm_engineering.week8.agents.random_forest_agent import RandomForestAgent"
   ]
  },
  {
   "cell_type": "code",
   "execution_count": 15,
   "id": "afc39369-b97b-4a90-b17e-b20ef501d3c9",
   "metadata": {},
   "outputs": [],
   "source": [
    "#specialist = SpecialistAgent()\n",
    "frontier = FrontierAgent(collection)\n",
    "random_forest = RandomForestAgent()"
   ]
  },
  {
   "cell_type": "code",
   "execution_count": 16,
   "id": "8e2d0d0a-8bb8-4b39-b046-322828c39244",
   "metadata": {},
   "outputs": [],
   "source": [
    "def description(item):\n",
    "    return item.prompt.split(\"to the nearest dollar?\\n\\n\")[1].split(\"\\n\\nPrice is $\")[0]"
   ]
  },
  {
   "cell_type": "code",
   "execution_count": 18,
   "id": "bfe0434f-b29e-4cc0-bad9-b07624665727",
   "metadata": {},
   "outputs": [],
   "source": [
    "def rf(item):\n",
    "    return random_forest.price(description(item))"
   ]
  },
  {
   "cell_type": "code",
   "execution_count": 19,
   "id": "cdf233ec-264f-4b34-9f2b-27c39692137b",
   "metadata": {},
   "outputs": [
    {
     "name": "stdout",
     "output_type": "stream",
     "text": [
      "\u001b[93m1: Guess: $79.33 Truth: $13.99 Error: $65.34 SLE: 2.82 Item: Kastar NP-FH50 Battery (1-Pack) and Char...\u001b[0m\n",
      "\u001b[91m2: Guess: $96.62 Truth: $699.00 Error: $602.38 SLE: 3.88 Item: Sony a5100 16-50mm Mirrorless Digital Ca...\u001b[0m\n",
      "\u001b[93m3: Guess: $147.87 Truth: $69.99 Error: $77.88 SLE: 0.55 Item: 1Mii 2.4Ghz Wireless Audio Transmitter R...\u001b[0m\n",
      "\u001b[91m4: Guess: $201.19 Truth: $64.95 Error: $136.24 SLE: 1.26 Item: Fotodiox Pro Lens Mount Adapter - Bronic...\u001b[0m\n",
      "\u001b[92m5: Guess: $128.49 Truth: $110.90 Error: $17.59 SLE: 0.02 Item: FOSA 10\" Car Digital TV, ATSC Portable H...\u001b[0m\n",
      "\u001b[91m6: Guess: $101.04 Truth: $5.99 Error: $95.05 SLE: 7.19 Item: Pineapple Vinyl Decal - Laptop, Decor, W...\u001b[0m\n",
      "\u001b[91m7: Guess: $170.26 Truth: $529.00 Error: $358.74 SLE: 1.28 Item: Canon EOS 50D 15.1MP Digital SLR Camera ...\u001b[0m\n",
      "\u001b[92m8: Guess: $48.59 Truth: $14.98 Error: $33.61 SLE: 1.28 Item: UpBright New Global 5V AC/DC Adapter Com...\u001b[0m\n",
      "\u001b[92m9: Guess: $91.61 Truth: $113.99 Error: $22.38 SLE: 0.05 Item: OEM Electrolux Dryer Lint Filter Screen ...\u001b[0m\n",
      "\u001b[91m10: Guess: $210.93 Truth: $829.99 Error: $619.06 SLE: 1.87 Item: HP 2023 Newest Pavilion Desktop, AMD Ryz...\u001b[0m\n",
      "\u001b[93m11: Guess: $103.29 Truth: $47.99 Error: $55.30 SLE: 0.57 Item: USB Type-C Adapter 10-in-1 Aluminum Body...\u001b[0m\n",
      "\u001b[91m12: Guess: $178.51 Truth: $42.99 Error: $135.52 SLE: 1.98 Item: OontZ Ultra Bluetooth Speaker with Carry...\u001b[0m\n",
      "\u001b[91m13: Guess: $150.02 Truth: $32.99 Error: $117.03 SLE: 2.22 Item: CMS 16GB (2X8GB) DDR3 10600 1333MHZ Non ...\u001b[0m\n",
      "\u001b[92m14: Guess: $101.41 Truth: $124.99 Error: $23.58 SLE: 0.04 Item: Gariz Genuine Leather XS-CHDFBR Camera M...\u001b[0m\n",
      "\u001b[92m15: Guess: $52.06 Truth: $73.00 Error: $20.94 SLE: 0.11 Item: Samsung DA63-01262B Guard-Ref Mid\u001b[0m\n",
      "\u001b[92m16: Guess: $116.42 Truth: $95.31 Error: $21.11 SLE: 0.04 Item: Alphamax Haganai: I Don't Have Many Frie...\u001b[0m\n",
      "\u001b[93m17: Guess: $100.68 Truth: $36.95 Error: $63.73 SLE: 0.97 Item: WORLDS BEST CABLES 0.5 Foot RCA Cable Pa...\u001b[0m\n",
      "\u001b[93m18: Guess: $217.07 Truth: $295.69 Error: $78.62 SLE: 0.09 Item: Poly Voyager Free 60+ UC True Wireless E...\u001b[0m\n",
      "\u001b[93m19: Guess: $214.38 Truth: $168.41 Error: $45.97 SLE: 0.06 Item: Visionis FPC-5008 Two Door Access Contro...\u001b[0m\n",
      "\u001b[93m20: Guess: $232.00 Truth: $178.86 Error: $53.14 SLE: 0.07 Item: EVGA 512-P3-N800-TR e-GeForce 8800 GT 51...\u001b[0m\n",
      "\u001b[92m21: Guess: $48.14 Truth: $85.90 Error: $37.76 SLE: 0.32 Item: AVUE 3G-SDI/HD-SDI/SDI 1 to 2 Distributi...\u001b[0m\n",
      "\u001b[93m22: Guess: $57.44 Truth: $10.89 Error: $46.55 SLE: 2.54 Item: UpBright 12V AC/DC Adapter Compatible wi...\u001b[0m\n",
      "\u001b[93m23: Guess: $145.57 Truth: $189.99 Error: $44.42 SLE: 0.07 Item: GOOZEEZOO 1.10D Malachite DSP SDR Radio ...\u001b[0m\n",
      "\u001b[93m24: Guess: $162.07 Truth: $239.00 Error: $76.93 SLE: 0.15 Item: ASUS E14 (L406NA-WH02) Laptop, 14\" HD Di...\u001b[0m\n",
      "\u001b[93m25: Guess: $154.58 Truth: $89.99 Error: $64.59 SLE: 0.29 Item: Battery Charger 36V 13A for EZGO EZ-GO T...\u001b[0m\n",
      "\u001b[92m26: Guess: $137.63 Truth: $175.87 Error: $38.24 SLE: 0.06 Item: Garmin GT23M-TM Transducer, Black\u001b[0m\n",
      "\u001b[91m27: Guess: $255.49 Truth: $48.71 Error: $206.78 SLE: 2.69 Item: Celestron R/A Single Axis Motor Drive fo...\u001b[0m\n",
      "\u001b[93m28: Guess: $67.61 Truth: $25.38 Error: $42.23 SLE: 0.91 Item: Kemo M032S 12 Watt Universal Mono Plug a...\u001b[0m\n",
      "\u001b[93m29: Guess: $75.18 Truth: $34.95 Error: $40.23 SLE: 0.56 Item: Arch Memory Replacement for Dell SNPMKYF...\u001b[0m\n",
      "\u001b[92m30: Guess: $262.49 Truth: $313.89 Error: $51.40 SLE: 0.03 Item: GENUINE Frigidaire 316456224 Glass Cook ...\u001b[0m\n",
      "\u001b[91m31: Guess: $70.55 Truth: $240.00 Error: $169.45 SLE: 1.47 Item: Vertical Cable Cat6, UTP, Gel Filled (Fl...\u001b[0m\n",
      "\u001b[91m32: Guess: $69.38 Truth: $151.20 Error: $81.82 SLE: 0.59 Item: Headsets ONLY-GN9350E\u001b[0m\n",
      "\u001b[91m33: Guess: $240.06 Truth: $33.95 Error: $206.11 SLE: 3.73 Item: SparkFun Pro RF - LoRa, 915MHz (SAMD21) ...\u001b[0m\n",
      "\u001b[92m34: Guess: $92.66 Truth: $69.99 Error: $22.67 SLE: 0.08 Item: Telescope for Adults & Kids - NACATIN 70...\u001b[0m\n",
      "\u001b[91m35: Guess: $260.75 Truth: $44.99 Error: $215.76 SLE: 3.02 Item: Samsung DVD-P401 Progressive-Scan DVD Pl...\u001b[0m\n",
      "\u001b[93m36: Guess: $100.69 Truth: $48.99 Error: $51.70 SLE: 0.50 Item: FOINNEX HDMI to Mini Displayport Adapter...\u001b[0m\n",
      "\u001b[92m37: Guess: $193.20 Truth: $162.20 Error: $31.00 SLE: 0.03 Item: WatchGuard Firebox T10 with 1YR Standard...\u001b[0m\n",
      "\u001b[93m38: Guess: $99.20 Truth: $25.99 Error: $73.21 SLE: 1.72 Item: i-Blason Case for New iPad Pro 11 Inch C...\u001b[0m\n",
      "\u001b[91m39: Guess: $202.02 Truth: $770.00 Error: $567.98 SLE: 1.78 Item: Awoco 72\" Elegant 2 Speeds 1800CFM Comme...\u001b[0m\n",
      "\u001b[91m40: Guess: $148.16 Truth: $357.95 Error: $209.79 SLE: 0.77 Item: Dell Optiplex 7060 Mini Tower | Intel Qu...\u001b[0m\n",
      "\u001b[92m41: Guess: $105.23 Truth: $129.99 Error: $24.76 SLE: 0.04 Item: AIYIMA A08 PRO TPA3255 Power Amplifier B...\u001b[0m\n",
      "\u001b[92m42: Guess: $64.85 Truth: $64.36 Error: $0.49 SLE: 0.00 Item: ACER ASPIRE 7741Z-4643 Laptop Screen 17....\u001b[0m\n",
      "\u001b[93m43: Guess: $93.51 Truth: $35.99 Error: $57.52 SLE: 0.88 Item: Dentsing PI06 Compatible Laptop Battery ...\u001b[0m\n",
      "\u001b[92m44: Guess: $45.77 Truth: $82.99 Error: $37.22 SLE: 0.34 Item: Brady LAT-40-799-1 0.5\" Width x 0.750\" H...\u001b[0m\n",
      "\u001b[92m45: Guess: $54.84 Truth: $16.99 Error: $37.85 SLE: 1.28 Item: USA Gear DSLR Camera Case Sleeve with Ac...\u001b[0m\n",
      "\u001b[91m46: Guess: $149.06 Truth: $11.85 Error: $137.21 SLE: 6.04 Item: EDO Tech Mini USB AC Adapter Wall Charge...\u001b[0m\n",
      "\u001b[91m47: Guess: $215.72 Truth: $76.99 Error: $138.73 SLE: 1.04 Item: Vemico EN-EL25 Battery 2-Pack 1350mAh an...\u001b[0m\n",
      "\u001b[93m48: Guess: $93.53 Truth: $35.00 Error: $58.53 SLE: 0.93 Item: 5A-75B Colorlight Best Price LED Screen ...\u001b[0m\n",
      "\u001b[91m49: Guess: $263.01 Truth: $143.11 Error: $119.90 SLE: 0.37 Item: ASUS Radeon RX 580 O4G Dual-Fan OC Editi...\u001b[0m\n",
      "\u001b[93m50: Guess: $33.26 Truth: $75.99 Error: $42.73 SLE: 0.66 Item: Tiffen 67HTCGND6 67MM Digital HT Grad ND...\u001b[0m\n",
      "\u001b[91m51: Guess: $66.02 Truth: $899.00 Error: $832.98 SLE: 6.75 Item: Voigtlander Macro APO-LANTHAR 110mm F/2....\u001b[0m\n",
      "\u001b[92m52: Guess: $83.49 Truth: $54.97 Error: $28.52 SLE: 0.17 Item: VIZIO V-Series 2.0 Compact Home Theater ...\u001b[0m\n",
      "\u001b[93m53: Guess: $86.90 Truth: $24.36 Error: $62.54 SLE: 1.55 Item: DIY Smartphone Projector 2.0, Mini DIY H...\u001b[0m\n",
      "\u001b[93m54: Guess: $92.41 Truth: $16.49 Error: $75.92 SLE: 2.81 Item: USB Extension, Canjoy 3 Pack 6.6ft USB 3...\u001b[0m\n",
      "\u001b[91m55: Guess: $61.55 Truth: $145.00 Error: $83.45 SLE: 0.72 Item: Tiltaing Lightweight Kit Compatible with...\u001b[0m\n",
      "\u001b[93m56: Guess: $194.52 Truth: $129.99 Error: $64.53 SLE: 0.16 Item: Wireless HDMI Extender Kit HDMI Wireless...\u001b[0m\n",
      "\u001b[93m57: Guess: $91.49 Truth: $138.99 Error: $47.50 SLE: 0.17 Item: Nitze 15mm Follow Focus Kit with 3 Rever...\u001b[0m\n",
      "\u001b[91m58: Guess: $50.59 Truth: $359.99 Error: $309.40 SLE: 3.79 Item: Hifonics BXX4000.1D Brutus Class D 4000W...\u001b[0m\n",
      "\u001b[92m59: Guess: $52.32 Truth: $17.99 Error: $34.33 SLE: 1.07 Item: SIMTOP Electronic Organizer, Travel cabl...\u001b[0m\n",
      "\u001b[93m60: Guess: $161.70 Truth: $209.00 Error: $47.30 SLE: 0.07 Item: Audio-Technica ATH-CKR7TW True Wireless ...\u001b[0m\n",
      "\u001b[93m61: Guess: $100.00 Truth: $49.95 Error: $50.05 SLE: 0.47 Item: Large Flat Screen TV/LED / HDTV Vinyl Pa...\u001b[0m\n",
      "\u001b[93m62: Guess: $55.40 Truth: $6.88 Error: $48.52 SLE: 3.87 Item: Zahara DC in Power Jack Charging Port Pl...\u001b[0m\n",
      "\u001b[92m63: Guess: $139.13 Truth: $129.99 Error: $9.14 SLE: 0.00 Item: Nictemaw Washing Machine 17.6lbs Portalb...\u001b[0m\n",
      "\u001b[91m64: Guess: $78.22 Truth: $199.98 Error: $121.76 SLE: 0.87 Item: TM-U220B, Impact, two-color printing, 6 ...\u001b[0m\n",
      "\u001b[91m65: Guess: $107.44 Truth: $23.56 Error: $83.88 SLE: 2.21 Item: GOTOTOP Car Siren Horn Speaker, Loud Hor...\u001b[0m\n",
      "\u001b[91m66: Guess: $138.65 Truth: $46.99 Error: $91.66 SLE: 1.14 Item: ZLiT for Insta360 X3 Protective Cage,Alu...\u001b[0m\n",
      "\u001b[93m67: Guess: $120.41 Truth: $41.95 Error: $78.46 SLE: 1.08 Item: pp-Code WiFi Temperature and Humidity Se...\u001b[0m\n",
      "\u001b[93m68: Guess: $57.38 Truth: $7.99 Error: $49.39 SLE: 3.50 Item: Portable Square Earphone Carrying Case M...\u001b[0m\n",
      "\u001b[93m69: Guess: $120.39 Truth: $42.99 Error: $77.40 SLE: 1.03 Item: RECOIL RCK0 True 0 Gauge Complete CCA Am...\u001b[0m\n",
      "\u001b[91m70: Guess: $199.60 Truth: $7.99 Error: $191.61 SLE: 9.64 Item: WANBY Camera Soft Cotton Hand Wrist Stra...\u001b[0m\n",
      "\u001b[91m71: Guess: $97.44 Truth: $666.05 Error: $568.61 SLE: 3.66 Item: Lenovo ThinkPad W541 Mobile Workstation ...\u001b[0m\n",
      "\u001b[91m72: Guess: $168.91 Truth: $597.00 Error: $428.09 SLE: 1.58 Item: Lenovo ThinkBook 15 IIL Core i5-1035G1 8...\u001b[0m\n",
      "\u001b[93m73: Guess: $92.38 Truth: $145.99 Error: $53.61 SLE: 0.21 Item: Liene 4x6'' Photo Printer Bundle (60 pcs...\u001b[0m\n",
      "\u001b[92m74: Guess: $60.52 Truth: $22.50 Error: $38.02 SLE: 0.93 Item: PWR+ Laptop Charger for Asus Vivobook Go...\u001b[0m\n",
      "\u001b[92m75: Guess: $71.44 Truth: $43.39 Error: $28.05 SLE: 0.24 Item: POA-LMP LP68 Replacement Projector Lamp ...\u001b[0m\n",
      "\u001b[92m76: Guess: $82.89 Truth: $89.99 Error: $7.10 SLE: 0.01 Item: VIVO Black 1,000ft Bulk Cat5e, CCA Ether...\u001b[0m\n",
      "\u001b[93m77: Guess: $97.04 Truth: $19.07 Error: $77.97 SLE: 2.52 Item: Bewinner 10 Inch Universal PU Leather Ke...\u001b[0m\n",
      "\u001b[92m78: Guess: $105.31 Truth: $69.44 Error: $35.87 SLE: 0.17 Item: Logitech LX5 Cordless Optical Mouse\u001b[0m\n",
      "\u001b[93m79: Guess: $110.72 Truth: $175.99 Error: $65.27 SLE: 0.21 Item: LUCKYLAKER Boat Transducer Fish Finders ...\u001b[0m\n",
      "\u001b[93m80: Guess: $85.16 Truth: $24.11 Error: $61.05 SLE: 1.52 Item: Panavise In Dash Mount GMC/Chevy W-Serie...\u001b[0m\n",
      "\u001b[93m81: Guess: $130.34 Truth: $76.10 Error: $54.24 SLE: 0.28 Item: Blaupunkt AMP1904D Universal Car Speaker...\u001b[0m\n",
      "\u001b[91m82: Guess: $78.29 Truth: $199.00 Error: $120.71 SLE: 0.86 Item: Swarovski Optik VPA Variable Phone Adapt...\u001b[0m\n",
      "\u001b[93m83: Guess: $117.01 Truth: $54.00 Error: $63.01 SLE: 0.58 Item: CMS 32GB (4X8GB) DDR3 12800 1600MHz Non ...\u001b[0m\n",
      "\u001b[91m84: Guess: $139.70 Truth: $58.99 Error: $80.71 SLE: 0.73 Item: Kodak Professional Ektar Color Negative ...\u001b[0m\n",
      "\u001b[92m85: Guess: $57.37 Truth: $26.98 Error: $30.39 SLE: 0.54 Item: SM-T510 Touch Screen Glass Screen Replac...\u001b[0m\n",
      "\u001b[91m86: Guess: $173.08 Truth: $52.00 Error: $121.08 SLE: 1.41 Item: Apple 35W Dual USB-C Port Compact Power ...\u001b[0m\n",
      "\u001b[92m87: Guess: $63.34 Truth: $31.34 Error: $32.00 SLE: 0.47 Item: ForestGreen Envelop Pouch Case for iPad ...\u001b[0m\n",
      "\u001b[92m88: Guess: $70.27 Truth: $69.99 Error: $0.28 SLE: 0.00 Item: Inateck Surface Pro 7 Keyboard, 7-Color ...\u001b[0m\n",
      "\u001b[93m89: Guess: $138.13 Truth: $209.14 Error: $71.01 SLE: 0.17 Item: Dell Optiplex 990 MiniTower PC - Intel C...\u001b[0m\n",
      "\u001b[93m90: Guess: $135.17 Truth: $69.16 Error: $66.01 SLE: 0.44 Item: Western Digital My Passport Essential 16...\u001b[0m\n",
      "\u001b[92m91: Guess: $145.78 Truth: $175.95 Error: $30.17 SLE: 0.03 Item: Vis Viva Raspberry Pi 4 Model B Starter ...\u001b[0m\n",
      "\u001b[92m92: Guess: $39.47 Truth: $43.99 Error: $4.52 SLE: 0.01 Item: 2x Pack - KNB-35L Battery Replacement (2...\u001b[0m\n",
      "\u001b[92m93: Guess: $113.68 Truth: $118.95 Error: $5.27 SLE: 0.00 Item: Starcraft Protoss Pylon Desktop Power St...\u001b[0m\n",
      "\u001b[93m94: Guess: $153.23 Truth: $220.78 Error: $67.55 SLE: 0.13 Item: ASUS TUF Gaming GeForce GTX 1650 Dual Fa...\u001b[0m\n",
      "\u001b[92m95: Guess: $271.52 Truth: $329.00 Error: $57.48 SLE: 0.04 Item: BornTech Electric Cooler Portable Refrig...\u001b[0m\n",
      "\u001b[91m96: Guess: $190.01 Truth: $79.13 Error: $110.88 SLE: 0.75 Item: Sony BDP-S350 1080p Blu-Ray Disc Player\u001b[0m\n",
      "\u001b[92m97: Guess: $80.64 Truth: $97.00 Error: $16.36 SLE: 0.03 Item: Promaster Cityscape 150 Courier Bag - Ha...\u001b[0m\n",
      "\u001b[91m98: Guess: $184.12 Truth: $46.95 Error: $137.17 SLE: 1.82 Item: Sescom DSLR-550D-HOCF A/V Out Headphone ...\u001b[0m\n",
      "\u001b[92m99: Guess: $65.30 Truth: $54.80 Error: $10.50 SLE: 0.03 Item: Frigidaire 316032411 Oven Thermostat\u001b[0m\n",
      "\u001b[92m100: Guess: $50.71 Truth: $18.59 Error: $32.12 SLE: 0.94 Item: 65W 45W USB Type C Laptop Charger for Le...\u001b[0m\n",
      "\u001b[92m101: Guess: $104.64 Truth: $118.88 Error: $14.24 SLE: 0.02 Item: Xuerebs EF-EOS R ND Lens Adapter with ND...\u001b[0m\n",
      "\u001b[93m102: Guess: $185.63 Truth: $129.00 Error: $56.63 SLE: 0.13 Item: Godox TT685IIC 1/8000s HSS GN Speedlite ...\u001b[0m\n",
      "\u001b[93m103: Guess: $74.87 Truth: $25.88 Error: $48.99 SLE: 1.08 Item: AC Charger Fit for Dell XPS 15 7590 9530...\u001b[0m\n",
      "\u001b[91m104: Guess: $138.93 Truth: $24.99 Error: $113.94 SLE: 2.83 Item: Landalanya Replacement New CPU +GPU Cool...\u001b[0m\n",
      "\u001b[92m105: Guess: $127.41 Truth: $139.95 Error: $12.54 SLE: 0.01 Item: Canon Powershot SX110IS 9MP Digital Came...\u001b[0m\n",
      "\u001b[93m106: Guess: $97.33 Truth: $169.99 Error: $72.66 SLE: 0.31 Item: for Toyota Tacoma 2005-2014 Tailgate Han...\u001b[0m\n",
      "\u001b[91m107: Guess: $165.49 Truth: $75.00 Error: $90.49 SLE: 0.61 Item: MikroTik hAP ac2 RBD52G-5HacD2HnD-TC Dua...\u001b[0m\n",
      "\u001b[92m108: Guess: $106.66 Truth: $70.19 Error: $36.47 SLE: 0.17 Item: AU Optronics New 17.3\" LED Laptop Screen...\u001b[0m\n",
      "\u001b[91m109: Guess: $82.00 Truth: $199.95 Error: $117.95 SLE: 0.78 Item: Fujifilm INSTAX Wide 300 Instant Camera ...\u001b[0m\n",
      "\u001b[93m110: Guess: $172.32 Truth: $235.99 Error: $63.67 SLE: 0.10 Item: Eonon Apple CarPlay & Android Auto Car S...\u001b[0m\n",
      "\u001b[91m111: Guess: $163.78 Truth: $9.99 Error: $153.79 SLE: 7.33 Item: YUSTDA (10Ft Extra Long) New AC Adapter ...\u001b[0m\n",
      "\u001b[92m112: Guess: $78.10 Truth: $42.99 Error: $35.11 SLE: 0.34 Item: Leather Laptop Tote Bag Womens Professio...\u001b[0m\n",
      "\u001b[91m113: Guess: $193.90 Truth: $359.00 Error: $165.10 SLE: 0.38 Item: TOKINA ATX-m 56mm F1.4 X Mount Special E...\u001b[0m\n",
      "\u001b[91m114: Guess: $143.77 Truth: $31.99 Error: $111.78 SLE: 2.19 Item: Sony KDF-60X5955 TV Assembly Cage with P...\u001b[0m\n",
      "\u001b[92m115: Guess: $314.69 Truth: $299.00 Error: $15.69 SLE: 0.00 Item: Lenovo Monitor, L24q 23.8-Inch Monitor, ...\u001b[0m\n",
      "\u001b[92m116: Guess: $77.44 Truth: $79.99 Error: $2.55 SLE: 0.00 Item: Canis LATRANS PVS 14 Mount Night Vision ...\u001b[0m\n",
      "\u001b[91m117: Guess: $124.90 Truth: $29.99 Error: $94.91 SLE: 1.97 Item: KMC 6-Outlet Surge Protector Power Strip...\u001b[0m\n",
      "\u001b[91m118: Guess: $164.32 Truth: $56.99 Error: $107.33 SLE: 1.10 Item: Amcrest 5MP Turret POE Camera, UltraHD O...\u001b[0m\n",
      "\u001b[91m119: Guess: $132.32 Truth: $271.11 Error: $138.79 SLE: 0.51 Item: KLH Albany II 2-Way Bookshelf Speakers f...\u001b[0m\n",
      "\u001b[92m120: Guess: $170.21 Truth: $135.58 Error: $34.63 SLE: 0.05 Item: Thule TPCS-101 Perspektiv Perspektiv Com...\u001b[0m\n",
      "\u001b[92m121: Guess: $121.66 Truth: $99.02 Error: $22.64 SLE: 0.04 Item: NEEWER Air Cushioned Aluminum Light Stan...\u001b[0m\n",
      "\u001b[93m122: Guess: $61.56 Truth: $5.49 Error: $56.07 SLE: 5.13 Item: Cable Matters 6-Pack BNC Female to Femal...\u001b[0m\n",
      "\u001b[93m123: Guess: $82.54 Truth: $15.99 Error: $66.55 SLE: 2.54 Item: Halloween Party Decorations Black Bat Fr...\u001b[0m\n",
      "\u001b[93m124: Guess: $86.80 Truth: $12.88 Error: $73.92 SLE: 3.40 Item: Sima SIP-3 Ultimate International Travel...\u001b[0m\n",
      "\u001b[91m125: Guess: $145.83 Truth: $261.87 Error: $116.04 SLE: 0.34 Item: Pyle PLPW15D 15\" 8000W Car Subwoofer Aud...\u001b[0m\n",
      "\u001b[93m126: Guess: $361.78 Truth: $580.00 Error: $218.22 SLE: 0.22 Item: Dell XPS13-1000sLV 13-Inch Ultrabook (1....\u001b[0m\n",
      "\u001b[93m127: Guess: $65.63 Truth: $11.99 Error: $53.64 SLE: 2.67 Item: Manleno Compatible with Airpods 3 Case C...\u001b[0m\n",
      "\u001b[93m128: Guess: $167.45 Truth: $109.99 Error: $57.46 SLE: 0.17 Item: Digital Photo Frame WiFi 10 Inch Touch S...\u001b[0m\n",
      "\u001b[92m129: Guess: $40.69 Truth: $40.60 Error: $0.09 SLE: 0.00 Item: General Electric WR17X11459 Cup Drive Ic...\u001b[0m\n",
      "\u001b[91m130: Guess: $187.18 Truth: $4.99 Error: $182.19 SLE: 11.88 Item: UpBright USB Cable for HP PSC 380 500 70...\u001b[0m\n",
      "\u001b[92m131: Guess: $92.07 Truth: $59.99 Error: $32.08 SLE: 0.18 Item: HSM shredstar X5 Cross Cut Shredder\u001b[0m\n",
      "\u001b[93m132: Guess: $86.87 Truth: $11.98 Error: $74.89 SLE: 3.66 Item: Dudaacvt 7x5FT Kindergarten Graduation B...\u001b[0m\n",
      "\u001b[91m133: Guess: $203.72 Truth: $30.95 Error: $172.77 SLE: 3.45 Item: Cell Phone Headset with Microphone Noise...\u001b[0m\n",
      "\u001b[91m134: Guess: $76.90 Truth: $179.99 Error: $103.09 SLE: 0.71 Item: FIBBR DisplayPort to DisplayPort Cable, ...\u001b[0m\n",
      "\u001b[91m135: Guess: $154.38 Truth: $62.99 Error: $91.39 SLE: 0.79 Item: Mcoplus LED-520 Video Lighting Kits, Hig...\u001b[0m\n",
      "\u001b[92m136: Guess: $164.33 Truth: $157.00 Error: $7.33 SLE: 0.00 Item: HP ProBook 640 G2 Laptop, 14 Display, In...\u001b[0m\n",
      "\u001b[91m137: Guess: $97.93 Truth: $14.95 Error: $82.98 SLE: 3.33 Item: HQRP Battery Compatible with GolfBuddy L...\u001b[0m\n",
      "\u001b[92m138: Guess: $108.75 Truth: $94.99 Error: $13.76 SLE: 0.02 Item: BaseQi NinjaDrive Aluminum 256GB Storage...\u001b[0m\n",
      "\u001b[92m139: Guess: $85.88 Truth: $110.16 Error: $24.28 SLE: 0.06 Item: Legacy LXR7A 3Way Stereo Electronic Cros...\u001b[0m\n",
      "\u001b[91m140: Guess: $224.39 Truth: $78.99 Error: $145.40 SLE: 1.07 Item: Sony DVP-NS70H HDMI Single Disc DVD Play...\u001b[0m\n",
      "\u001b[93m141: Guess: $80.03 Truth: $150.00 Error: $69.97 SLE: 0.39 Item: B+W 72mm Slim-Line Circular Polarizer wi...\u001b[0m\n",
      "\u001b[91m142: Guess: $156.01 Truth: $24.89 Error: $131.12 SLE: 3.25 Item: 2022 Bluetooth 5.3 FM Transmitter for Ca...\u001b[0m\n",
      "\u001b[93m143: Guess: $87.14 Truth: $15.99 Error: $71.15 SLE: 2.71 Item: YongFoto 6x4ft Spring Scenery Backdrop M...\u001b[0m\n",
      "\u001b[93m144: Guess: $88.77 Truth: $41.74 Error: $47.03 SLE: 0.55 Item: Dentsing F7HVR 58Wh Battery for DELL Ins...\u001b[0m\n",
      "\u001b[92m145: Guess: $111.38 Truth: $100.03 Error: $11.35 SLE: 0.01 Item: A-Tech 32GB Kit 4x8GB Memory Ram For DEL...\u001b[0m\n",
      "\u001b[93m146: Guess: $57.50 Truth: $3.99 Error: $53.51 SLE: 6.06 Item: Leyland Designs Rezero Rem Waifu Sticker...\u001b[0m\n",
      "\u001b[91m147: Guess: $82.68 Truth: $289.98 Error: $207.30 SLE: 1.55 Item: Olympus Xa Film Camera with A16 Electron...\u001b[0m\n",
      "\u001b[92m148: Guess: $123.57 Truth: $118.99 Error: $4.58 SLE: 0.00 Item: AUTO-VOX Solar 1 Wireless Backup Camera ...\u001b[0m\n",
      "\u001b[91m149: Guess: $271.82 Truth: $114.99 Error: $156.83 SLE: 0.73 Item: WD 2TB My Passport SSD Portable External...\u001b[0m\n",
      "\u001b[92m150: Guess: $78.97 Truth: $89.14 Error: $10.17 SLE: 0.01 Item: GLOB PRO SOLUTIONS WPW10415587 Washer Pr...\u001b[0m\n",
      "\u001b[93m151: Guess: $113.66 Truth: $54.99 Error: $58.67 SLE: 0.51 Item: UGREEN USB C Hub 9 in 1 USB Type C HDMI ...\u001b[0m\n",
      "\u001b[92m152: Guess: $56.54 Truth: $58.93 Error: $2.39 SLE: 0.00 Item: UV Polyethylene Spiral Wrap Cable Harnes...\u001b[0m\n",
      "\u001b[91m153: Guess: $48.26 Truth: $217.00 Error: $168.74 SLE: 2.21 Item: 50 4GB Flash Drive - Bulk Pack - USB 2.0...\u001b[0m\n",
      "\u001b[92m154: Guess: $179.07 Truth: $199.99 Error: $20.92 SLE: 0.01 Item: RCA Voyager Pro 7 16GB Tablet with Keybo...\u001b[0m\n",
      "\u001b[92m155: Guess: $140.49 Truth: $128.89 Error: $11.60 SLE: 0.01 Item: McKlein, R Series, Walton, Tech-Lite Bal...\u001b[0m\n",
      "\u001b[91m156: Guess: $163.09 Truth: $312.99 Error: $149.90 SLE: 0.42 Item: HP EliteBook x360 1030 G2 Notebook 2-in-...\u001b[0m\n",
      "\u001b[93m157: Guess: $82.84 Truth: $10.99 Error: $71.85 SLE: 3.78 Item: Padarsey Keyboard with Frame Compatible ...\u001b[0m\n",
      "\u001b[92m158: Guess: $46.53 Truth: $53.64 Error: $7.11 SLE: 0.02 Item: BULGIN PX0441/2M00 Cable Assy, USB IP68,...\u001b[0m\n",
      "\u001b[93m159: Guess: $88.11 Truth: $29.99 Error: $58.12 SLE: 1.12 Item: UFBOSS Powered 5-Port Mini USB 3.0 HUB a...\u001b[0m\n",
      "\u001b[93m160: Guess: $74.77 Truth: $18.99 Error: $55.78 SLE: 1.78 Item: TKDY 24V 2.5A Power Supply Cord, DC 24V ...\u001b[0m\n",
      "\u001b[93m161: Guess: $105.80 Truth: $37.99 Error: $67.81 SLE: 1.02 Item: VASCHY Laptop Backpack, Vintage Water Re...\u001b[0m\n",
      "\u001b[93m162: Guess: $87.43 Truth: $22.56 Error: $64.87 SLE: 1.75 Item: LDG Electronics Y-Acc One-Touch-Tune Cab...\u001b[0m\n",
      "\u001b[93m163: Guess: $58.51 Truth: $14.99 Error: $43.52 SLE: 1.73 Item: Divufus Case for iPad 10th Generation 20...\u001b[0m\n",
      "\u001b[91m164: Guess: $100.54 Truth: $7.99 Error: $92.55 SLE: 5.88 Item: HDMI Cable, HDMI to HDMI Cable 6FT HDMI ...\u001b[0m\n",
      "\u001b[93m165: Guess: $119.30 Truth: $165.90 Error: $46.60 SLE: 0.11 Item: LimoStudio Photo Shooting Kit with Backg...\u001b[0m\n",
      "\u001b[91m166: Guess: $257.05 Truth: $42.98 Error: $214.07 SLE: 3.13 Item: Maxtek 2 Pack 4.5 hours BP-827 Li-Ion Re...\u001b[0m\n",
      "\u001b[91m167: Guess: $117.62 Truth: $199.99 Error: $82.37 SLE: 0.28 Item: Ikan E-Image 2 Stage Aluminum Video Trip...\u001b[0m\n",
      "\u001b[91m168: Guess: $152.00 Truth: $36.95 Error: $115.05 SLE: 1.94 Item: Samsung ram Memory 16GB kit (2 x 8GB) DD...\u001b[0m\n",
      "\u001b[91m169: Guess: $164.43 Truth: $399.00 Error: $234.57 SLE: 0.78 Item: Dell Optiplex 9020 Small Form Factor Des...\u001b[0m\n",
      "\u001b[92m170: Guess: $82.15 Truth: $42.50 Error: $39.65 SLE: 0.42 Item: U-810 USB 3.0 Hub with Gigabit Ethernet\u001b[0m\n",
      "\u001b[93m171: Guess: $132.91 Truth: $199.99 Error: $67.08 SLE: 0.16 Item: DS18 SXE-2500.1D/RD Car Amplifier Class ...\u001b[0m\n",
      "\u001b[93m172: Guess: $60.44 Truth: $17.99 Error: $42.45 SLE: 1.38 Item: KIQ Guardian Series for Apple iPad 6th G...\u001b[0m\n",
      "\u001b[92m173: Guess: $103.31 Truth: $95.00 Error: $8.31 SLE: 0.01 Item: HP USB-C Dock G5 (Refurbished)\u001b[0m\n",
      "\u001b[93m174: Guess: $117.54 Truth: $42.69 Error: $74.85 SLE: 1.00 Item: Extreme Battery XTAZ10S Powersports Repl...\u001b[0m\n",
      "\u001b[91m175: Guess: $90.53 Truth: $694.50 Error: $603.97 SLE: 4.11 Item: Samyang SYXP14-C XP 14mm f/2.4 High Spee...\u001b[0m\n",
      "\u001b[91m176: Guess: $129.80 Truth: $22.47 Error: $107.33 SLE: 2.95 Item: Intel Centrino Advanced-N 6235 6235ANHMW...\u001b[0m\n",
      "\u001b[91m177: Guess: $108.56 Truth: $27.00 Error: $81.56 SLE: 1.86 Item: CMS 8GB (2X4GB) DDR3 10600 1333MHZ Non E...\u001b[0m\n",
      "\u001b[93m178: Guess: $87.34 Truth: $37.00 Error: $50.34 SLE: 0.71 Item: Nikon AF-S Nikkor 35mm f/1.8G DX Pro Dig...\u001b[0m\n",
      "\u001b[93m179: Guess: $115.17 Truth: $39.90 Error: $75.27 SLE: 1.09 Item: Hoya SOLAS IRND 2.7 62mm Infrared Neutra...\u001b[0m\n",
      "\u001b[91m180: Guess: $65.87 Truth: $233.73 Error: $167.86 SLE: 1.58 Item: Direct Burial/Outdoor Rated Cat6 Black E...\u001b[0m\n",
      "\u001b[93m181: Guess: $234.68 Truth: $325.94 Error: $91.26 SLE: 0.11 Item: LG 24” 24CK550Z-BP FHD (1920x1080) IPS Z...\u001b[0m\n",
      "\u001b[93m182: Guess: $80.51 Truth: $1.99 Error: $78.52 SLE: 10.93 Item: FitSand Hard Case Compatible for Valoin ...\u001b[0m\n",
      "\u001b[92m183: Guess: $136.84 Truth: $119.95 Error: $16.89 SLE: 0.02 Item: Razer Nommo Chroma - Computer Speakers, ...\u001b[0m\n",
      "\u001b[93m184: Guess: $86.95 Truth: $38.00 Error: $48.95 SLE: 0.66 Item: Auto Wayfeng WF® IR Control 4 Cameras Vi...\u001b[0m\n",
      "\u001b[91m185: Guess: $143.74 Truth: $629.95 Error: $486.21 SLE: 2.17 Item: Sigma 105mm f/2.8 EX DG OS HSM Macro Len...\u001b[0m\n",
      "\u001b[93m186: Guess: $126.36 Truth: $199.00 Error: $72.64 SLE: 0.20 Item: Saregama Carvaan 2.0 Portable Digital Mu...\u001b[0m\n",
      "\u001b[92m187: Guess: $169.63 Truth: $179.99 Error: $10.36 SLE: 0.00 Item: Greenlee 468 Wiremap Tester\u001b[0m\n",
      "\u001b[91m188: Guess: $273.58 Truth: $699.99 Error: $426.41 SLE: 0.88 Item: EVGA GeForce GTX 1080 FTW GAMING ACX 3.0...\u001b[0m\n",
      "\u001b[92m189: Guess: $49.53 Truth: $43.99 Error: $5.54 SLE: 0.01 Item: Kastar Charger + 3 Battery for Hewlett P...\u001b[0m\n",
      "\u001b[91m190: Guess: $98.58 Truth: $4.99 Error: $93.59 SLE: 7.90 Item: 100 Pcs no-Repeating Stickers for Water ...\u001b[0m\n",
      "\u001b[92m191: Guess: $60.06 Truth: $35.96 Error: $24.10 SLE: 0.25 Item: 3ft. HD PTTL Off-Camera Cord for Pentax ...\u001b[0m\n",
      "\u001b[91m192: Guess: $117.46 Truth: $269.00 Error: $151.54 SLE: 0.68 Item: 5G WiFi 8 Core 1280 * 720 Resolution Car...\u001b[0m\n",
      "\u001b[93m193: Guess: $93.19 Truth: $22.29 Error: $70.90 SLE: 1.95 Item: Pyle Water Resistant Marine Stereo Cover...\u001b[0m\n",
      "\u001b[93m194: Guess: $136.14 Truth: $185.00 Error: $48.86 SLE: 0.09 Item: Lenovo 14w Laptop Gen 2, 14\" HD (1366X76...\u001b[0m\n",
      "\u001b[91m195: Guess: $163.19 Truth: $64.99 Error: $98.20 SLE: 0.83 Item: SoundXtreme ST-X6400BT MP5 7\" digital TF...\u001b[0m\n",
      "\u001b[93m196: Guess: $58.33 Truth: $0.69 Error: $57.64 SLE: 12.66 Item: Yxflzer USB 2.0 Type A Female to Micro U...\u001b[0m\n",
      "\u001b[91m197: Guess: $142.59 Truth: $269.95 Error: $127.36 SLE: 0.40 Item: Sharp GXBT9 Portable Bluetooth Boom Box ...\u001b[0m\n",
      "\u001b[92m198: Guess: $96.21 Truth: $58.99 Error: $37.22 SLE: 0.23 Item: Polk Audio DB402 DB+ Series 4\" Coaxial S...\u001b[0m\n",
      "\u001b[93m199: Guess: $109.24 Truth: $64.52 Error: $44.72 SLE: 0.27 Item: DJI Phantom 4 - Part 9 100W Battery Char...\u001b[0m\n",
      "\u001b[91m200: Guess: $84.98 Truth: $169.00 Error: $84.02 SLE: 0.46 Item: Feniex Industries C-4014 Storm Pro 100W ...\u001b[0m\n",
      "\u001b[91m201: Guess: $165.23 Truth: $25.01 Error: $140.22 SLE: 3.44 Item: UpBright 25V AC/DC Adapter Compatible wi...\u001b[0m\n",
      "\u001b[92m202: Guess: $41.29 Truth: $55.77 Error: $14.48 SLE: 0.09 Item: BOWEIRUI AA-PBTN2TP Laptop Battery Repla...\u001b[0m\n",
      "\u001b[91m203: Guess: $205.76 Truth: $34.90 Error: $170.86 SLE: 3.07 Item: Verbatim 128GB Vx460 External SSD USB 3....\u001b[0m\n",
      "\u001b[93m204: Guess: $194.85 Truth: $299.95 Error: $105.10 SLE: 0.18 Item: Kicker 46CXA4001 Car Audio Class D Mono ...\u001b[0m\n",
      "\u001b[91m205: Guess: $50.77 Truth: $279.00 Error: $228.23 SLE: 2.85 Item: Definitive Technology Dt Series Dt8Lcr i...\u001b[0m\n",
      "\u001b[92m206: Guess: $190.98 Truth: $172.12 Error: $18.86 SLE: 0.01 Item: Lenovo 14\" FHD Laptop - AMD A6-9220C Dua...\u001b[0m\n",
      "\u001b[92m207: Guess: $42.83 Truth: $38.19 Error: $4.64 SLE: 0.01 Item: SureCall J-Bar Outdoor Antenna Mounting ...\u001b[0m\n",
      "\u001b[91m208: Guess: $188.63 Truth: $899.00 Error: $710.37 SLE: 2.43 Item: 2020 HUION Kamvas Pro 24 Drawing Monitor...\u001b[0m\n",
      "\u001b[93m209: Guess: $133.31 Truth: $78.95 Error: $54.36 SLE: 0.27 Item: RYOBI 18V ONE+ Bluetooth Speaker (Tool-O...\u001b[0m\n",
      "\u001b[93m210: Guess: $110.32 Truth: $164.49 Error: $54.17 SLE: 0.16 Item: MikroTik PowerBox Pro Router, 5 Gigabit ...\u001b[0m\n",
      "\u001b[93m211: Guess: $91.90 Truth: $14.90 Error: $77.00 SLE: 3.12 Item: Geekria QuickFit Replacement Ear Pads fo...\u001b[0m\n",
      "\u001b[93m212: Guess: $209.57 Truth: $148.02 Error: $61.55 SLE: 0.12 Item: ASUS P6T Deluxe V2 Desktop Board\u001b[0m\n",
      "\u001b[93m213: Guess: $212.76 Truth: $349.00 Error: $136.24 SLE: 0.24 Item: Apple iPad Pro (32GB, Wi-Fi, Space Gray)...\u001b[0m\n",
      "\u001b[91m214: Guess: $92.95 Truth: $7.97 Error: $84.98 SLE: 5.52 Item: 3 ft. USB 2.0 A Male to A Male and Mini-...\u001b[0m\n",
      "\u001b[91m215: Guess: $151.53 Truth: $749.99 Error: $598.46 SLE: 2.54 Item: HP 2022 17.3\" FHD IPS Display Laptop PC ...\u001b[0m\n",
      "\u001b[92m216: Guess: $100.55 Truth: $79.99 Error: $20.56 SLE: 0.05 Item: JB Live 500 BT, Around-Ear Wireless Head...\u001b[0m\n",
      "\u001b[91m217: Guess: $146.11 Truth: $319.99 Error: $173.88 SLE: 0.61 Item: nixplay Smart Digital Picture Frame 15.6...\u001b[0m\n",
      "\u001b[93m218: Guess: $82.23 Truth: $6.99 Error: $75.24 SLE: 5.49 Item: Keenso Multipurpose Car Wiring Harness T...\u001b[0m\n",
      "\u001b[92m219: Guess: $122.37 Truth: $117.27 Error: $5.10 SLE: 0.00 Item: HP 8000 Elite Desktop C2D 3.00 8GB 2TB D...\u001b[0m\n",
      "\u001b[93m220: Guess: $142.19 Truth: $93.04 Error: $49.15 SLE: 0.18 Item: Plantronics - Voyager 5200 UC (Poly) - B...\u001b[0m\n",
      "\u001b[91m221: Guess: $98.40 Truth: $1.60 Error: $96.80 SLE: 13.28 Item: 6ft Cat 5E Non-Booted Unshielded (UTP) E...\u001b[0m\n",
      "\u001b[92m222: Guess: $61.14 Truth: $22.99 Error: $38.15 SLE: 0.91 Item: PWR+ Laptop Power Adapter Charger for HP...\u001b[0m\n",
      "\u001b[92m223: Guess: $52.59 Truth: $14.99 Error: $37.60 SLE: 1.46 Item: Se7enline Compatible with MacBook Air 13...\u001b[0m\n",
      "\u001b[92m224: Guess: $54.73 Truth: $42.09 Error: $12.64 SLE: 0.07 Item: Gadget Guard GEGEAP000013 Black Ice Edit...\u001b[0m\n",
      "\u001b[91m225: Guess: $124.64 Truth: $30.59 Error: $94.05 SLE: 1.91 Item: AN-MR650A AN-MR18BA AN-MR19BA Voice Magi...\u001b[0m\n",
      "\u001b[91m226: Guess: $220.44 Truth: $49.00 Error: $171.44 SLE: 2.21 Item: [Intel Thunderbolt 3 Certified 40Gbps Th...\u001b[0m\n",
      "\u001b[92m227: Guess: $39.48 Truth: $52.99 Error: $13.51 SLE: 0.08 Item: DKNKD X8VWF 4XKN5 CJ2K1 Laptop Battery f...\u001b[0m\n",
      "\u001b[92m228: Guess: $128.97 Truth: $144.99 Error: $16.02 SLE: 0.01 Item: Hawke Endurance ED Monocular\u001b[0m\n",
      "\u001b[91m229: Guess: $125.53 Truth: $359.00 Error: $233.47 SLE: 1.09 Item: Radio for Chevrolet Chevy Cruze Stereo 2...\u001b[0m\n",
      "\u001b[91m230: Guess: $91.55 Truth: $4.98 Error: $86.57 SLE: 7.50 Item: FONVOi AUX Cord for iPhone【Apple MFi Cer...\u001b[0m\n",
      "\u001b[92m231: Guess: $101.39 Truth: $69.95 Error: $31.44 SLE: 0.13 Item: American-Wholesaler Inc. New! - Empty Ma...\u001b[0m\n",
      "\u001b[92m232: Guess: $44.68 Truth: $62.99 Error: $18.31 SLE: 0.11 Item: KENUCO PM DS-1275ZJ Universal Vertical P...\u001b[0m\n",
      "\u001b[92m233: Guess: $64.10 Truth: $84.55 Error: $20.45 SLE: 0.07 Item: Starter Tethering Kit w/TetherPro USB 2....\u001b[0m\n",
      "\u001b[92m234: Guess: $76.88 Truth: $56.59 Error: $20.29 SLE: 0.09 Item: USB 3.0 Data Transfer Cable 6.6FT - HBAV...\u001b[0m\n",
      "\u001b[93m235: Guess: $86.00 Truth: $15.97 Error: $70.03 SLE: 2.67 Item: Battery Replacement for Magellan RoadMat...\u001b[0m\n",
      "\u001b[93m236: Guess: $56.69 Truth: $3.99 Error: $52.70 SLE: 5.99 Item: Leyland Designs Fujiwara Chika Sticker O...\u001b[0m\n",
      "\u001b[92m237: Guess: $44.36 Truth: $53.99 Error: $9.63 SLE: 0.04 Item: everydrop by Whirlpool Ice and Water Ref...\u001b[0m\n",
      "\u001b[93m238: Guess: $98.82 Truth: $30.99 Error: $67.83 SLE: 1.29 Item: ELECOM EX-G Trackball Mouse, Wired, Thum...\u001b[0m\n",
      "\u001b[92m239: Guess: $41.86 Truth: $9.49 Error: $32.37 SLE: 1.98 Item: uxcell Polyolefin 13M Length 2mm Dia Hea...\u001b[0m\n",
      "\u001b[92m240: Guess: $57.12 Truth: $28.95 Error: $28.17 SLE: 0.44 Item: Decalrus - Protective Decal Skin Sticker...\u001b[0m\n",
      "\u001b[91m241: Guess: $58.79 Truth: $550.00 Error: $491.21 SLE: 4.93 Item: Genuine Dell NX380 LCD Screen Dell 15.4\"...\u001b[0m\n",
      "\u001b[91m242: Guess: $166.87 Truth: $65.99 Error: $100.88 SLE: 0.84 Item: cjc Ultrasonic Inverter, Electro Fisher ...\u001b[0m\n",
      "\u001b[92m243: Guess: $72.19 Truth: $109.99 Error: $37.80 SLE: 0.17 Item: IET Replacement Lamp Assembly with Genui...\u001b[0m\n",
      "\u001b[93m244: Guess: $89.03 Truth: $36.91 Error: $52.12 SLE: 0.75 Item: Replacement Remote Control for NAXA NX55...\u001b[0m\n",
      "\u001b[93m245: Guess: $191.02 Truth: $139.00 Error: $52.02 SLE: 0.10 Item: Samsung DVD-R135 DVD Recorder\u001b[0m\n",
      "\u001b[92m246: Guess: $70.59 Truth: $79.95 Error: $9.36 SLE: 0.02 Item: Glow Speed Ring Adapter to Fit Profoto M...\u001b[0m\n",
      "\u001b[91m247: Guess: $162.33 Truth: $7.99 Error: $154.34 SLE: 8.41 Item: BingoBuy US Layout Clear Non-Toxic Ultra...\u001b[0m\n",
      "\u001b[91m248: Guess: $168.13 Truth: $76.21 Error: $91.92 SLE: 0.61 Item: E-Z-GO Part Number 614029 Adapter\u001b[0m\n",
      "\u001b[92m249: Guess: $170.52 Truth: $192.05 Error: $21.53 SLE: 0.01 Item: Anker Docking Station, KVM Switch for a ...\u001b[0m\n",
      "\u001b[91m250: Guess: $125.59 Truth: $599.00 Error: $473.41 SLE: 2.42 Item: SeaLife DC1400 Pro 14MP HD Underwater Di...\u001b[0m\n"
     ]
    },
    {
     "data": {
      "image/png": "[encoded data removed]",
      "text/plain": [
       "<Figure size 1200x800 with 1 Axes>"
      ]
     },
     "metadata": {},
     "output_type": "display_data"
    }
   ],
   "source": [
    "Tester.test(rf, test)"
   ]
  },
  {
   "cell_type": "code",
   "execution_count": 20,
   "id": "9f759bd2-7a7e-4c1a-80a0-e12470feca89",
   "metadata": {},
   "outputs": [],
   "source": [
    "product = \"Quadcast HyperX condenser mic for high quality audio for podcasting\""
   ]
  },
  {
   "cell_type": "code",
   "execution_count": 21,
   "id": "e44dbd25-fb95-4b6b-bbbb-8da5fc817105",
   "metadata": {},
   "outputs": [
    {
     "name": "stdout",
     "output_type": "stream",
     "text": [
      "139.0\n",
      "133.08434999999994\n"
     ]
    }
   ],
   "source": [
    "#print(specialist.price(product))\n",
    "print(frontier.price(product))\n",
    "print(random_forest.price(product))"
   ]
  },
  {
   "cell_type": "code",
   "execution_count": 22,
   "id": "1779b353-e2bb-4fc7-be7c-93057e4d688a",
   "metadata": {},
   "outputs": [
    {
     "name": "stderr",
     "output_type": "stream",
     "text": [
      "100%|██████████| 250/250 [03:26<00:00,  1.21it/s]\n"
     ]
    }
   ],
   "source": [
    "#specialists = []\n",
    "frontiers = []\n",
    "random_forests = []\n",
    "prices = []\n",
    "for item in tqdm(test[1000:1250]):\n",
    "    text = description(item)\n",
    "    #specialists.append(specialist.price(text))\n",
    "    frontiers.append(frontier.price(text))\n",
    "    random_forests.append(random_forest.price(text))\n",
    "    prices.append(item.price)"
   ]
  },
  {
   "cell_type": "code",
   "execution_count": 25,
   "id": "f0bca725-4e34-405b-8d90-41d67086a25d",
   "metadata": {},
   "outputs": [],
   "source": [
    "#mins = [min(s,f,r) for s,f,r in zip(specialists, frontiers, random_forests)]\n",
    "#maxes = [max(s,f,r) for s,f,r in zip(specialists, frontiers, random_forests)]\n",
    "mins = [min(f,r) for f,r in zip(frontiers, random_forests)]\n",
    "maxes = [max(f,r) for f,r in zip(frontiers, random_forests)]\n",
    "\n",
    "X = pd.DataFrame({\n",
    "    #'Specialist': specialists,\n",
    "    'Frontier': frontiers,\n",
    "    'RandomForest': random_forests,\n",
    "    'Min': mins,\n",
    "    'Max': maxes,\n",
    "})\n",
    "\n",
    "# Convert y to a Series\n",
    "y = pd.Series(prices)"
   ]
  },
  {
   "cell_type": "code",
   "execution_count": 26,
   "id": "1be5be8a-3e7f-42a2-be54-0c7e380f7cc4",
   "metadata": {},
   "outputs": [
    {
     "name": "stdout",
     "output_type": "stream",
     "text": [
      "Frontier: 0.63\n",
      "RandomForest: -0.12\n",
      "Min: 0.57\n",
      "Max: -0.06\n",
      "Intercept=33.19\n"
     ]
    }
   ],
   "source": [
    "# Train a Linear Regression\n",
    "np.random.seed(42)\n",
    "\n",
    "lr = LinearRegression()\n",
    "lr.fit(X, y)\n",
    "\n",
    "feature_columns = X.columns.tolist()\n",
    "\n",
    "for feature, coef in zip(feature_columns, lr.coef_):\n",
    "    print(f\"{feature}: {coef:.2f}\")\n",
    "print(f\"Intercept={lr.intercept_:.2f}\")"
   ]
  },
  {
   "cell_type": "code",
   "execution_count": 27,
   "id": "0bdf6e68-28a3-4ed2-b17e-de0ede923d34",
   "metadata": {},
   "outputs": [
    {
     "data": {
      "text/plain": [
       "['ensemble_model.pkl']"
      ]
     },
     "execution_count": 27,
     "metadata": {},
     "output_type": "execute_result"
    }
   ],
   "source": [
    "joblib.dump(lr, 'ensemble_model.pkl')"
   ]
  },
  {
   "cell_type": "code",
   "execution_count": 30,
   "id": "e762441a-9470-4dd7-8a8f-ec0430e908c7",
   "metadata": {},
   "outputs": [],
   "source": [
    "#from agents.ensemble_agent import EnsembleAgent\n",
    "#from jupyter_notebook_ai_clone.llm_udemy.llm_engineering.week8.agents.ensemble_agent import EnsembleAgent\n",
    "#ensemble = EnsembleAgent(collection)"
   ]
  },
  {
   "cell_type": "code",
   "execution_count": null,
   "id": "1a29f03c-8010-43b7-ae7d-1bc85ca6e8e2",
   "metadata": {},
   "outputs": [],
   "source": [
    "ensemble.price(product)"
   ]
  },
  {
   "cell_type": "code",
   "execution_count": null,
   "id": "e6a5e226-a508-43d5-aa42-cefbde72ffdf",
   "metadata": {},
   "outputs": [],
   "source": [
    "def ensemble_pricer(item):\n",
    "    return ensemble.price(description(item))"
   ]
  },
  {
   "cell_type": "code",
   "execution_count": null,
   "id": "8397b1ef-2ea3-4af8-bb34-36594e0600cc",
   "metadata": {},
   "outputs": [],
   "source": [
    "Tester.test(ensemble_pricer, test)"
   ]
  },
  {
   "cell_type": "markdown",
   "id": "347c5350-d4b5-42ae-96f6-ec94f6ab41d7",
   "metadata": {},
   "source": [
    "# WHAT A DAY!\n",
    "\n",
    "We got so much done - a Fronter RAG pipeline, a Random Forest model using transformer-based encodings, and an Ensemble model.\n",
    "\n",
    "You can do better, for sure!\n",
    "\n",
    "Tweak this, and try adding components into the ensemble, to beat my performance."
   ]
  },
  {
   "cell_type": "code",
   "execution_count": null,
   "id": "85009065-851e-44a2-b39f-4c116f7fbd22",
   "metadata": {},
   "outputs": [],
   "source": []
  }
 ],
 "metadata": {
  "kernelspec": {
   "display_name": "Python 3 (ipykernel)",
   "language": "python",
   "name": "python3"
  },
  "language_info": {
   "codemirror_mode": {
    "name": "ipython",
    "version": 3
   },
   "file_extension": ".py",
   "mimetype": "text/x-python",
   "name": "python",
   "nbconvert_exporter": "python",
   "pygments_lexer": "ipython3",
   "version": "3.11.6"
  }
 },
 "nbformat": 4,
 "nbformat_minor": 5
}
