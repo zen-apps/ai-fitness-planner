{
 "cells": [
  {
   "cell_type": "markdown",
   "id": "0df0d850-49eb-4a0b-a27a-146969db710d",
   "metadata": {},
   "source": [
    "# The Price is Right\n",
    "\n",
    "Today we'll build another piece of the puzzle: a ScanningAgent that looks for promising deals by subscribing to RSS feeds."
   ]
  },
  {
   "cell_type": "code",
   "execution_count": 1,
   "id": "d3763a79-8a5a-4300-8de4-93e85475af10",
   "metadata": {},
   "outputs": [],
   "source": [
    "# imports\n",
    "\n",
    "import os\n",
    "import json\n",
    "from dotenv import load_dotenv\n",
    "from openai import OpenAI\n",
    "#from agents.deals import ScrapedDeal, DealSelection\n",
    "from jupyter_notebook_ai_clone.llm_udemy.llm_engineering.week8.agents.deals import ScrapedDeal, DealSelection"
   ]
  },
  {
   "cell_type": "code",
   "execution_count": 2,
   "id": "c6469e32-16c3-4443-9475-ade710ef6933",
   "metadata": {},
   "outputs": [],
   "source": [
    "# Initialize and constants\n",
    "\n",
    "load_dotenv()\n",
    "os.environ['OPENAI_API_KEY'] = os.getenv('OPENAI_API_KEY', 'your-key-if-not-using-env')\n",
    "MODEL = 'gpt-4o-mini'\n",
    "openai = OpenAI()"
   ]
  },
  {
   "cell_type": "code",
   "execution_count": 3,
   "id": "afece9db-8cd4-46be-ac57-0b472e84da7d",
   "metadata": {},
   "outputs": [
    {
     "name": "stderr",
     "output_type": "stream",
     "text": [
      " 20%|██        | 1/5 [01:34<06:17, 94.42s/it]/app/jupyter_notebook_ai_clone/llm_udemy/llm_engineering/week8/agents/deals.py:27: MarkupResemblesLocatorWarning: The input looks more like a filename than markup. You may want to open this file and pass the filehandle into Beautiful Soup.\n",
      "  description = BeautifulSoup(description, 'html.parser').get_text()\n",
      "100%|██████████| 5/5 [10:00<00:00, 120.15s/it]\n"
     ]
    }
   ],
   "source": [
    "deals = ScrapedDeal.fetch(show_progress=True)"
   ]
  },
  {
   "cell_type": "code",
   "execution_count": 4,
   "id": "8cd15c4d-eb44-4601-bf0c-f945c1d8e3ec",
   "metadata": {},
   "outputs": [
    {
     "data": {
      "text/plain": [
       "50"
      ]
     },
     "execution_count": 4,
     "metadata": {},
     "output_type": "execute_result"
    }
   ],
   "source": [
    "len(deals)"
   ]
  },
  {
   "cell_type": "code",
   "execution_count": 5,
   "id": "4259f30a-6455-49ed-8863-2f9ddd4776cb",
   "metadata": {},
   "outputs": [
    {
     "data": {
      "text/plain": [
       "\"Title: All-Clad VIP Factory Seconds Sale: Up to 73% off + $9.95 shipping\\nDetails: Shop factory seconds deals on All-Clad cookware, small appliances, knives, and more. Factory seconds deals may have cosmetic scratches, dents, or misprints that do not affect the performance of the cookware. You'll need to enter your email address to access this sale and all sales are final. Shipping adds $9.95 to all orders. Shop Now at Home & Cook\\nFeatures: \\nURL: https://www.dealnews.com/All-Clad-VIP-Factory-Seconds-Sale-Up-to-73-off-9-95-shipping/21721268.html?iref=rss-c196\""
      ]
     },
     "execution_count": 5,
     "metadata": {},
     "output_type": "execute_result"
    }
   ],
   "source": [
    "deals[44].describe()"
   ]
  },
  {
   "cell_type": "code",
   "execution_count": 6,
   "id": "8100e5ac-38f5-40c1-a712-08ae12c85038",
   "metadata": {},
   "outputs": [],
   "source": [
    "system_prompt = \"\"\"You identify and summarize the 5 most detailed deals from a list, by selecting deals that have the most detailed, high quality description and the most clear price.\n",
    "Respond strictly in JSON with no explanation, using this format. You should provide the price as a number derived from the description. If the price of a deal isn't clear, do not include that deal in your response.\n",
    "Most important is that you respond with the 5 deals that have the most detailed product description with price. It's not important to mention the terms of the deal; most important is a thorough description of the product.\n",
    "Be careful with products that are described as \"$XXX off\" or \"reduced by $XXX\" - this isn't the actual price of the product. Only respond with products when you are highly confident about the price. \n",
    "\n",
    "{\"deals\": [\n",
    "    {\n",
    "        \"product_description\": \"Your clearly expressed summary of the product in 4-5 sentences. Details of the item are much more important than why it's a good deal. Avoid mentioning discounts and coupons; focus on the item itself. There should be a paragpraph of text for each item you choose.\",\n",
    "        \"price\": 99.99,\n",
    "        \"url\": \"the url as provided\"\n",
    "    },\n",
    "    ...\n",
    "]}\"\"\""
   ]
  },
  {
   "cell_type": "code",
   "execution_count": 7,
   "id": "f4bca170-af71-40c9-9597-1d72980c74d8",
   "metadata": {},
   "outputs": [],
   "source": [
    "user_prompt = \"\"\"Respond with the most promising 5 deals from this list, selecting those which have the most detailed, high quality product description and a clear price.\n",
    "Respond strictly in JSON, and only JSON. You should rephrase the description to be a summary of the product itself, not the terms of the deal.\n",
    "Remember to respond with a paragraph of text in the product_description field for each of the 5 items that you select.\n",
    "Be careful with products that are described as \"$XXX off\" or \"reduced by $XXX\" - this isn't the actual price of the product. Only respond with products when you are highly confident about the price. \n",
    "\n",
    "Deals:\n",
    "\n",
    "\"\"\"\n",
    "user_prompt += '\\n\\n'.join([deal.describe() for deal in deals])"
   ]
  },
  {
   "cell_type": "code",
   "execution_count": 8,
   "id": "020947a6-561b-417b-98a0-a085e31d2ce3",
   "metadata": {},
   "outputs": [
    {
     "name": "stdout",
     "output_type": "stream",
     "text": [
      "Respond with the most promising 5 deals from this list, selecting those which have the most detailed, high quality product description and a clear price.\n",
      "Respond strictly in JSON, and only JSON. You should rephrase the description to be a summary of the product itself, not the terms of the deal.\n",
      "Remember to respond with a paragraph of text in the product_description field for each of the 5 items that you select.\n",
      "Be careful with products that are described as \"$XXX off\" or \"reduced by $XXX\" - this isn't the actual price of the product. Only respond with products when you are highly confident about the price. \n",
      "\n",
      "Deals:\n",
      "\n",
      "Title: Samsung Q80D OLED TV Deals: Up to 48% off, up to a $300 drop from last week + free shipping\n",
      "Details: Starting prices are as low as $750 for the 50\" version (a $50 drop from last week). The 85\" is $1,700 ($300 under last week's mention and almost half off at a discount of $1,600 off list).  Buy Now at Samsung\n",
      "Features: \n",
      "URL: https://www.dealnews.com/Samsung-Q80-D-OLED-TV-Deals-Up-to-48-off-up-to-a-300-drop-from-last-week-free-shipping/21721289.html?iref=rss-c142\n",
      "\n",
      "Title: Samsung QNX1D 4K Neo QLED Smart TV Deals: Up to $540 trade-in, up to $1,850 off\n",
      "Details: Shop four TVs, from 55\" to 85\", marked between $650 and $1,850 off. Get up to $540 in trade-in credit with a qualifying TV, mobile phone, or tablet. Shop Now at Samsung\n",
      "Features: \n",
      "URL: https://www.dealnews.com/Samsung-QNX1-D-4-K-Neo-QLED-Smart-TV-Deals-Up-to-540-trade-in-up-to-1-850-off/21721286.html?iref=rss-c142\n",
      "\n",
      "Title: Waterproof 32GB Wireless Bone Conduction Earphones MP3 Player for $26 + free shipping\n",
      "Details: Apply coupon code \"USV28\" for a savings of $33. Shipping insurance is added at checkout, but can be removed. It is not included in this price. Buy Now at LightInTheBox\n",
      "Features: 32GB of storage built-in Mic IPX8 for swimming\n",
      "URL: https://www.dealnews.com/Waterproof-32-GB-Wireless-Bone-Conduction-Earphones-MP3-Player-for-26-free-shipping/21721270.html?iref=rss-c142\n",
      "\n",
      "Title: JLab JBuds \n"
     ]
    }
   ],
   "source": [
    "print(user_prompt[:2000])"
   ]
  },
  {
   "cell_type": "code",
   "execution_count": 9,
   "id": "7de46f74-868c-4127-8a68-cf2da7d600bb",
   "metadata": {},
   "outputs": [],
   "source": [
    "def get_recommendations():\n",
    "    completion = openai.beta.chat.completions.parse(\n",
    "        model=\"gpt-4o-mini\",\n",
    "        messages=[\n",
    "            {\"role\": \"system\", \"content\": system_prompt},\n",
    "            {\"role\": \"user\", \"content\": user_prompt}\n",
    "      ],\n",
    "        response_format=DealSelection\n",
    "    )\n",
    "    result = completion.choices[0].message.parsed\n",
    "    return result"
   ]
  },
  {
   "cell_type": "code",
   "execution_count": 10,
   "id": "4c06270d-8c17-4d5a-9cfe-b6cefe788d5e",
   "metadata": {},
   "outputs": [],
   "source": [
    "result = get_recommendations()"
   ]
  },
  {
   "cell_type": "code",
   "execution_count": 11,
   "id": "84e62845-3338-441a-8161-c70097af4773",
   "metadata": {},
   "outputs": [
    {
     "data": {
      "text/plain": [
       "5"
      ]
     },
     "execution_count": 11,
     "metadata": {},
     "output_type": "execute_result"
    }
   ],
   "source": [
    "len(result.deals)"
   ]
  },
  {
   "cell_type": "code",
   "execution_count": 12,
   "id": "e5554a0a-ae40-4684-ad3e-faa3d22e030c",
   "metadata": {},
   "outputs": [
    {
     "data": {
      "text/plain": [
       "Deal(product_description='The JLab JBuds Open Sport Air Conduction Wireless Earbuds are designed for active use, featuring IP55 sweatproof rating and secure earhooks that make them perfect for workouts and outdoor activities. These earbuds provide high-quality sound while allowing ambient noise, ensuring you stay aware of your surroundings. They are lightweight and comfortable, making them an excellent choice for anyone looking for reliable, workout-friendly audio gear.', price=50.0, url='https://www.dealnews.com/JLab-JBuds-Open-Sport-Air-Conduction-Wireless-Earbuds-for-50-free-shipping/21721263.html?iref=rss-c142')"
      ]
     },
     "execution_count": 12,
     "metadata": {},
     "output_type": "execute_result"
    }
   ],
   "source": [
    "result.deals[1]"
   ]
  },
  {
   "cell_type": "code",
   "execution_count": 16,
   "id": "8bdc57fb-7497-47af-a643-6ba5a21cc17e",
   "metadata": {},
   "outputs": [],
   "source": [
    "#from agents.scanner_agent import ScannerAgent\n",
    "from jupyter_notebook_ai_clone.llm_udemy.llm_engineering.week8.agents.scanner_agent import ScannerAgent"
   ]
  },
  {
   "cell_type": "code",
   "execution_count": 17,
   "id": "132278bc-217a-43a6-b6c4-724140c6a225",
   "metadata": {},
   "outputs": [
    {
     "name": "stderr",
     "output_type": "stream",
     "text": [
      "/app/jupyter_notebook_ai_clone/llm_udemy/llm_engineering/week8/agents/deals.py:27: MarkupResemblesLocatorWarning: The input looks more like a filename than markup. You may want to open this file and pass the filehandle into Beautiful Soup.\n",
      "  description = BeautifulSoup(description, 'html.parser').get_text()\n"
     ]
    }
   ],
   "source": [
    "agent = ScannerAgent()\n",
    "result = agent.scan()"
   ]
  },
  {
   "cell_type": "code",
   "execution_count": 18,
   "id": "2e1d013a-c930-4dad-901b-41433379e14b",
   "metadata": {},
   "outputs": [
    {
     "data": {
      "text/plain": [
       "DealSelection(deals=[Deal(product_description='The Samsung Q80D OLED TV offers stunning picture quality with its high contrast ratio and impressive colors. This model supports 4K resolution and is equipped with Quantum Dot technology, ensuring vivid imagery and sharp details. The sleek design fits well in any living room, and it includes Smart TV capabilities, allowing users to access popular streaming services effortlessly. The 50\" version is priced at $750, offering a great entry point for high-end display technology.', price=750.0, url='https://www.dealnews.com/Samsung-Q80-D-OLED-TV-Deals-Up-to-48-off-up-to-a-300-drop-from-last-week-free-shipping/21721289.html?iref=rss-c142'), Deal(product_description='The Jackery Explorer 3000 Pro is a robust portable power station with a massive 3,024Wh capacity, making it ideal for camping or emergency backup. This unit comes with multiple outputs, including AC and USB ports, allowing you to power several devices simultaneously. Additionally, it includes a solar panel for renewable energy solutions and has built-in battery management systems for safe and efficient charging. The price for this versatile power station is set at $1,919, providing excellent value for outdoor enthusiasts.', price=1919.0, url='https://www.dealnews.com/products/Jackery/Jackery-Explorer-3000-Pro-3-024-Wh-Portable-Power-Station/474044.html?iref=rss-c142'), Deal(product_description='The 2nd-Gen Apple HomePod Smart Speaker delivers exceptional sound quality with its high-excursion woofer and five tweeters for immersive auditory experiences. It features Spatial Audio technology which enhances sound based on your environment, and integrates seamlessly with Siri for smart home control. The device also supports Apple Music, allowing users to enjoy their favorite tracks effortlessly. This latest model is available for $299, making it a worthwhile investment for music lovers.', price=299.0, url='https://www.dealnews.com/products/Apple/2-nd-Gen-Apple-Home-Pod-Smart-Speaker-2023/467409.html?iref=rss-f1912'), Deal(product_description='The Etekcity Non-Dimmable Smart WiFi Switch 4-Pack allows users to control their devices from anywhere using a smartphone app, making it a convenient choice for home automation. Each switch is easy to install and compatible with both iOS and Android devices, enhancing the functionality of your home. This package is priced at $24, representing a significant discount compared to other brands, while providing reliable smart home connectivity.', price=24.0, url='https://www.dealnews.com/Etekcity-Non-Dimmable-Smart-Wi-Fi-Switch-4-Pack-for-24-free-shipping/21718404.html?iref=rss-f1912'), Deal(product_description='The Imagebon 10.26\" Portable Wireless Apple Carplay & Android Auto Screen is designed to enhance your driving experience with its IPS touchscreen. This device supports 4K resolution and offers features like phone mirroring, audio output, and ADAS assistance, ensuring safety and convenience on the road. It is a smart addition for those looking to integrate modern technology into their vehicles, priced at $73.', price=73.0, url='https://www.dealnews.com/Imagebon-10-26-Portable-Wireless-Apple-Carplay-Android-Auto-Screen-for-73-free-shipping/21720995.html?iref=rss-c238')])"
      ]
     },
     "execution_count": 18,
     "metadata": {},
     "output_type": "execute_result"
    }
   ],
   "source": [
    "result"
   ]
  },
  {
   "cell_type": "code",
   "execution_count": null,
   "id": "5ee2e837-1f1d-42d4-8bc4-51cccc343006",
   "metadata": {},
   "outputs": [],
   "source": []
  }
 ],
 "metadata": {
  "kernelspec": {
   "display_name": "Python 3 (ipykernel)",
   "language": "python",
   "name": "python3"
  }
 },
 "nbformat": 4,
 "nbformat_minor": 5
}
