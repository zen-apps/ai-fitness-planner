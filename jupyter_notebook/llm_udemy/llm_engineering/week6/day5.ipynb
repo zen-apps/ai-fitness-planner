{
 "cells": [
  {
   "cell_type": "markdown",
   "id": "db8736a7-ed94-441c-9556-831fa57b5a10",
   "metadata": {},
   "source": [
    "# The Product Pricer Continued\n",
    "\n",
    "A model that can estimate how much something costs, from its description.\n",
    "\n",
    "## AT LAST - it's time for Fine Tuning!\n",
    "\n",
    "After all this data preparation, and old school machine learning, we've finally arrived at the moment you've been waiting for. Fine-tuning a model."
   ]
  },
  {
   "cell_type": "code",
   "execution_count": 39,
   "id": "681c717b-4c24-4ac3-a5f3-3c5881d6e70a",
   "metadata": {},
   "outputs": [],
   "source": [
    "# imports\n",
    "\n",
    "import os\n",
    "import re\n",
    "import math\n",
    "import json\n",
    "import random\n",
    "from dotenv import load_dotenv\n",
    "from huggingface_hub import login\n",
    "#from items import Item\n",
    "from jupyter_notebook_ai_clone.llm_udemy.llm_engineering.week6.items import Item \n",
    "#from loaders import ItemLoader\n",
    "from jupyter_notebook_ai_clone.llm_udemy.llm_engineering.week6.loaders import ItemLoader\n",
    "import matplotlib.pyplot as plt\n",
    "import numpy as np\n",
    "import pickle\n",
    "from collections import Counter\n",
    "from openai import OpenAI\n",
    "from anthropic import Anthropic"
   ]
  },
  {
   "cell_type": "code",
   "execution_count": 40,
   "id": "21a3833e-4093-43b0-8f7b-839c50b911ea",
   "metadata": {},
   "outputs": [],
   "source": [
    "# moved our Tester into a separate package\n",
    "# call it with Tester.test(function_name, test_dataset)\n",
    "\n",
    "#from testing import Tester\n",
    "from jupyter_notebook_ai_clone.llm_udemy.llm_engineering.week6.testing import Tester"
   ]
  },
  {
   "cell_type": "code",
   "execution_count": 41,
   "id": "36d05bdc-0155-4c72-a7ee-aa4e614ffd3c",
   "metadata": {},
   "outputs": [],
   "source": [
    "# environment\n",
    "\n",
    "load_dotenv()\n",
    "os.environ['OPENAI_API_KEY'] = os.getenv('OPENAI_API_KEY', 'your-key-if-not-using-env')\n",
    "os.environ['ANTHROPIC_API_KEY'] = os.getenv('ANTHROPIC_API_KEY', 'your-key-if-not-using-env')\n",
    "os.environ['HF_TOKEN'] = os.getenv('HF_TOKEN', 'your-key-if-not-using-env')"
   ]
  },
  {
   "cell_type": "code",
   "execution_count": 42,
   "id": "4dd3aad2-6f99-433c-8792-e461d2f06622",
   "metadata": {},
   "outputs": [
    {
     "name": "stderr",
     "output_type": "stream",
     "text": [
      "Token has not been saved to git credential helper.\n",
      "Note: Environment variable`HF_TOKEN` is set and is the current active token independently from the token you've just configured.\n"
     ]
    },
    {
     "name": "stdout",
     "output_type": "stream",
     "text": [
      "\u001b[1m\u001b[31mCannot authenticate through git-credential as no helper is defined on your machine.\n",
      "You might have to re-authenticate when pushing to the Hugging Face Hub.\n",
      "Run the following command in your terminal in case you want to set the 'store' credential helper as default.\n",
      "\n",
      "git config --global credential.helper store\n",
      "\n",
      "Read https://git-scm.com/book/en/v2/Git-Tools-Credential-Storage for more details.\u001b[0m\n"
     ]
    }
   ],
   "source": [
    "# Log in to HuggingFace\n",
    "\n",
    "hf_token = os.environ['HF_TOKEN']\n",
    "login(hf_token, add_to_git_credential=True)"
   ]
  },
  {
   "cell_type": "code",
   "execution_count": 43,
   "id": "b0a6fb86-74a4-403c-ab25-6db2d74e9d2b",
   "metadata": {},
   "outputs": [],
   "source": [
    "openai = OpenAI()"
   ]
  },
  {
   "cell_type": "code",
   "execution_count": 44,
   "id": "c830ed3e-24ee-4af6-a07b-a1bfdcd39278",
   "metadata": {},
   "outputs": [],
   "source": [
    "%matplotlib inline"
   ]
  },
  {
   "cell_type": "code",
   "execution_count": 45,
   "id": "5c9b05f4-c9eb-462c-8d86-de9140a2d985",
   "metadata": {},
   "outputs": [],
   "source": [
    "# Let's avoid curating all our data again! Load in the pickle files:\n",
    "\n",
    "with open('train.pkl', 'rb') as file:\n",
    "    train = pickle.load(file)\n",
    "\n",
    "with open('test.pkl', 'rb') as file:\n",
    "    test = pickle.load(file)"
   ]
  },
  {
   "cell_type": "code",
   "execution_count": 46,
   "id": "e8367135-f40e-43e1-8f3c-09e990ab1194",
   "metadata": {},
   "outputs": [],
   "source": [
    "# OpenAI recommends fine-tuning with populations of 50-100 examples\n",
    "# But as our examples are very small, I'm suggesting we go with 200 examples (and 1 epoch)\n",
    "\n",
    "fine_tune_train = train[:200]\n",
    "fine_tune_validation = train[200:250]"
   ]
  },
  {
   "cell_type": "markdown",
   "id": "8be4a889-81c3-42b1-a2fc-034cdc7321a6",
   "metadata": {},
   "source": [
    "# Step 1\n",
    "\n",
    "Prepare our data for fine-tuning in JSONL (JSON Lines) format and upload to OpenAI"
   ]
  },
  {
   "cell_type": "code",
   "execution_count": 47,
   "id": "8ae2fb3c-1cff-4ce3-911e-627c970edd7b",
   "metadata": {},
   "outputs": [],
   "source": [
    "# First let's work on a good prompt for a Frontier model\n",
    "# Notice that I'm removing the \" to the nearest dollar\"\n",
    "# When we train our own models, we'll need to make the problem as easy as possible, \n",
    "# but a Frontier model needs no such simplification.\n",
    "\n",
    "def messages_for(item):\n",
    "    system_message = \"You estimate prices of items. Reply only with the price, no explanation\"\n",
    "    user_prompt = item.test_prompt().replace(\" to the nearest dollar\",\"\").replace(\"\\n\\nPrice is $\",\"\")\n",
    "    return [\n",
    "        {\"role\": \"system\", \"content\": system_message},\n",
    "        {\"role\": \"user\", \"content\": user_prompt},\n",
    "        {\"role\": \"assistant\", \"content\": f\"Price is ${item.price:.2f}\"}\n",
    "    ]"
   ]
  },
  {
   "cell_type": "code",
   "execution_count": 48,
   "id": "1aa280f6-1227-426a-a2e2-1ce985feba1e",
   "metadata": {},
   "outputs": [
    {
     "data": {
      "text/plain": [
       "[{'role': 'system',\n",
       "  'content': 'You estimate prices of items. Reply only with the price, no explanation'},\n",
       " {'role': 'user',\n",
       "  'content': 'How much does this cost?\\n\\nDell Optiplex Small form factor (SFF) Business Desktop PC, Intel Quad-Core 3.4 GHz Processor, 512GB SSD, 8GB DDR4, Ethernet, USB 3.0, DVD±RW, Display Port/HDMI, Win 10 Pro, With Keyboard+Mouse\\nThe DELL OptiPlex 3050 is one of the world’s most secure, manageable and reliable desktops. Though small in size, it’s loaded with enterprise-level power and features, like the state-of-the-art 7th Intel Core processors, best-in-class security and manageability, flexibility for dual orientation, expandability options as well as multiple display support. 512GB SSD with nvme PCIe technology gives you the fastest read/write speed. SSD is resulting'},\n",
       " {'role': 'assistant', 'content': 'Price is $456.35'}]"
      ]
     },
     "execution_count": 48,
     "metadata": {},
     "output_type": "execute_result"
    }
   ],
   "source": [
    "messages_for(train[0])"
   ]
  },
  {
   "cell_type": "code",
   "execution_count": 11,
   "id": "c0e5b56c-8a0b-4d8e-a112-ce87efb4e152",
   "metadata": {},
   "outputs": [],
   "source": [
    "# Convert the items into a list of json objects - a \"jsonl\" string\n",
    "# Each row represents a message in the form:\n",
    "# {\"messages\" : [{\"role\": \"system\", \"content\": \"You estimate prices...\n",
    "\n",
    "\n",
    "def make_jsonl(items):\n",
    "    result = \"\"\n",
    "    for item in items:\n",
    "        messages = messages_for(item)\n",
    "        messages_str = json.dumps(messages)\n",
    "        result += '{\"messages\": ' + messages_str +'}\\n'\n",
    "    return result.strip()"
   ]
  },
  {
   "cell_type": "code",
   "execution_count": 12,
   "id": "5e72de93-a6a6-4b35-855e-15786b97bf5f",
   "metadata": {},
   "outputs": [
    {
     "name": "stdout",
     "output_type": "stream",
     "text": [
      "{\"messages\": [{\"role\": \"system\", \"content\": \"You estimate prices of items. Reply only with the price, no explanation\"}, {\"role\": \"user\", \"content\": \"How much does this cost?\\n\\nDell Optiplex Small form factor (SFF) Business Desktop PC, Intel Quad-Core 3.4 GHz Processor, 512GB SSD, 8GB DDR4, Ethernet, USB 3.0, DVD\\u00b1RW, Display Port/HDMI, Win 10 Pro, With Keyboard+Mouse\\nThe DELL OptiPlex 3050 is one of the world\\u2019s most secure, manageable and reliable desktops. Though small in size, it\\u2019s loaded with enterprise-level power and features, like the state-of-the-art 7th Intel Core processors, best-in-class security and manageability, flexibility for dual orientation, expandability options as well as multiple display support. 512GB SSD with nvme PCIe technology gives you the fastest read/write speed. SSD is resulting\"}, {\"role\": \"assistant\", \"content\": \"Price is $456.35\"}]}\n",
      "{\"messages\": [{\"role\": \"system\", \"content\": \"You estimate prices of items. Reply only with the price, no explanation\"}, {\"role\": \"user\", \"content\": \"How much does this cost?\\n\\nDell Latitude 7400 Laptop, 14.0 inches FHD (1920 x 1080) Touchscreen, Intel Core 8th Gen 16GB RAM, 256GB SSD, Windows 11 Pro(Renewed), Silver\\nSet the pace of business with the Latitude 7400 - featuring Dell powerful processors in a stunningly small design. This Certified Refurbished product is tested and certified to look and work like. The refurbishing process includes functionality testing, basic cleaning, inspection, and repackaging. The product ships with all relevant accessories, a minimum and may arrive in a generic box. Only select sellers who maintain a high performance bar may offer Certified Refurbished products on.com. Intel Core 8th Generation Processor 1.9GHz (\"}, {\"role\": \"assistant\", \"content\": \"Price is $465.90\"}]}\n",
      "{\"messages\": [{\"role\": \"system\", \"content\": \"You estimate prices of items. Reply only with the price, no explanation\"}, {\"role\": \"user\", \"content\": \"How much does this cost?\\n\\n1690i 6GHz Wi-Fi 6E M.2 CNVio2 Tri Band Wireless WiFi Adapter w/Bluetooth 5.3 9TY45 for Intel AX411 Windows 10/11\\nThe Wi-Fi 6E AX411 module supports legacy Wi-Fi 4, 5, 6, and Wi-Fi 6E, and is designed to support Wi-Fi 6 R2 features. By implementing Wi-Fi 6E technology supporting the 6GHz band that includes of contiguous spectrum (>2x compared to 5GHz) with more Gigabit Wi-Fi options and exclusivity to Wi-Fi 6 products, the Wi-Fi 6E AX411 module maximizes Wi-Fi 6 and Gigabit Wi-Fi benefits enabling greater network flexibility, faster downloads,\"}, {\"role\": \"assistant\", \"content\": \"Price is $38.99\"}]}\n"
     ]
    }
   ],
   "source": [
    "print(make_jsonl(train[:3]))"
   ]
  },
  {
   "cell_type": "code",
   "execution_count": 13,
   "id": "7734bff0-95c4-4e67-a87e-7e2254e2c67d",
   "metadata": {},
   "outputs": [],
   "source": [
    "# Convert the items into jsonl and write them to a file\n",
    "\n",
    "def write_jsonl(items, filename):\n",
    "    with open(filename, \"w\") as f:\n",
    "        jsonl = make_jsonl(items)\n",
    "        f.write(jsonl)"
   ]
  },
  {
   "cell_type": "code",
   "execution_count": 14,
   "id": "393d3ad8-999a-4f99-8c04-339d9166d604",
   "metadata": {},
   "outputs": [],
   "source": [
    "write_jsonl(fine_tune_train, \"fine_tune_train.jsonl\")"
   ]
  },
  {
   "cell_type": "code",
   "execution_count": 15,
   "id": "8e23927f-d73e-4668-ac20-abe6f14a56cb",
   "metadata": {},
   "outputs": [],
   "source": [
    "write_jsonl(fine_tune_validation, \"fine_tune_validation.jsonl\")"
   ]
  },
  {
   "cell_type": "code",
   "execution_count": 16,
   "id": "d59ad8d2-c61a-448e-b7ed-232f1606970f",
   "metadata": {},
   "outputs": [],
   "source": [
    "with open(\"fine_tune_train.jsonl\", \"rb\") as f:\n",
    "    train_file = openai.files.create(file=f, purpose=\"fine-tune\")"
   ]
  },
  {
   "cell_type": "code",
   "execution_count": 17,
   "id": "083fefba-fd54-47ce-9ff3-aabbc200846f",
   "metadata": {},
   "outputs": [
    {
     "data": {
      "text/plain": [
       "FileObject(id='file-FLBZu1yYupBsMihSkaBR5U', bytes=184753, created_at=1740422371, filename='fine_tune_train.jsonl', object='file', purpose='fine-tune', status='processed', status_details=None, expires_at=None)"
      ]
     },
     "execution_count": 17,
     "metadata": {},
     "output_type": "execute_result"
    }
   ],
   "source": [
    "train_file"
   ]
  },
  {
   "cell_type": "code",
   "execution_count": 18,
   "id": "97df3360-0760-4422-a556-5f26d23de6dc",
   "metadata": {},
   "outputs": [],
   "source": [
    "with open(\"fine_tune_validation.jsonl\", \"rb\") as f:\n",
    "    validation_file = openai.files.create(file=f, purpose=\"fine-tune\")"
   ]
  },
  {
   "cell_type": "code",
   "execution_count": 19,
   "id": "a1abb8f3-9e52-4061-970c-fcf399d8ffa3",
   "metadata": {},
   "outputs": [
    {
     "data": {
      "text/plain": [
       "FileObject(id='file-MJGowqDuMohB5zFiQH5D6L', bytes=47382, created_at=1740422373, filename='fine_tune_validation.jsonl', object='file', purpose='fine-tune', status='processed', status_details=None, expires_at=None)"
      ]
     },
     "execution_count": 19,
     "metadata": {},
     "output_type": "execute_result"
    }
   ],
   "source": [
    "validation_file"
   ]
  },
  {
   "cell_type": "markdown",
   "id": "466052b9-9fb9-48f6-8cf9-c74e6ddc1394",
   "metadata": {},
   "source": [
    "# Step 2\n",
    "\n",
    "I love Weights and Biases - a beautiful, free platform for monitoring training runs.  \n",
    "Weights and Biases is integrated with OpenAI for fine-tuning.\n",
    "\n",
    "First set up your weights & biases free account at:\n",
    "\n",
    "https://wandb.ai\n",
    "\n",
    "From the Avatar >> Settings menu, near the bottom, you can create an API key.\n",
    "\n",
    "Then visit the OpenAI dashboard at:\n",
    "\n",
    "https://platform.openai.com/account/organization\n",
    "\n",
    "In the integrations section, you can add your Weights & Biases key.\n",
    "\n",
    "## And now time to Fine-tune!"
   ]
  },
  {
   "cell_type": "code",
   "execution_count": 20,
   "id": "c7add1a7-a746-4d6e-a5f8-e25629b8b527",
   "metadata": {},
   "outputs": [],
   "source": [
    "wandb_integration = {\"type\": \"wandb\", \"wandb\": {\"project\": \"gpt-pricer\"}}"
   ]
  },
  {
   "cell_type": "code",
   "execution_count": 21,
   "id": "49801e69-9277-4deb-9f33-99efb6b45ac2",
   "metadata": {},
   "outputs": [
    {
     "data": {
      "text/plain": [
       "'file-FLBZu1yYupBsMihSkaBR5U'"
      ]
     },
     "execution_count": 21,
     "metadata": {},
     "output_type": "execute_result"
    }
   ],
   "source": [
    "train_file.id"
   ]
  },
  {
   "cell_type": "code",
   "execution_count": 23,
   "id": "45421b86-5531-4e42-ab19-d6abbb8f4c13",
   "metadata": {},
   "outputs": [
    {
     "data": {
      "text/plain": [
       "FineTuningJob(id='ftjob-1FdxPAJn3SxhHPqtYQ4FqJl1', created_at=1740422478, error=Error(code=None, message=None, param=None), fine_tuned_model=None, finished_at=None, hyperparameters=Hyperparameters(batch_size='auto', learning_rate_multiplier='auto', n_epochs=1), model='gpt-4o-mini-2024-07-18', object='fine_tuning.job', organization_id='org-wYQlBqrGuxYaYvF8WtbVzhs2', result_files=[], seed=42, status='validating_files', trained_tokens=None, training_file='file-FLBZu1yYupBsMihSkaBR5U', validation_file='file-MJGowqDuMohB5zFiQH5D6L', estimated_finish=None, integrations=[FineTuningJobWandbIntegrationObject(type='wandb', wandb=FineTuningJobWandbIntegration(project='gpt-pricer', entity=None, name=None, tags=None, run_id='ftjob-1FdxPAJn3SxhHPqtYQ4FqJl1'))], method=Method(dpo=None, supervised=MethodSupervised(hyperparameters=MethodSupervisedHyperparameters(batch_size='auto', learning_rate_multiplier='auto', n_epochs=1)), type='supervised'), user_provided_suffix='pricer')"
      ]
     },
     "execution_count": 23,
     "metadata": {},
     "output_type": "execute_result"
    }
   ],
   "source": [
    "openai.fine_tuning.jobs.create(\n",
    "    training_file=train_file.id,\n",
    "    validation_file=validation_file.id,\n",
    "    model=\"gpt-4o-mini-2024-07-18\",\n",
    "    seed=42,\n",
    "    hyperparameters={\"n_epochs\": 1},\n",
    "    integrations = [wandb_integration],\n",
    "    suffix=\"pricer\"\n",
    ")"
   ]
  },
  {
   "cell_type": "code",
   "execution_count": 24,
   "id": "aeb9de2e-542c-4e83-81c7-b6745133e48b",
   "metadata": {},
   "outputs": [
    {
     "data": {
      "text/plain": [
       "SyncCursorPage[FineTuningJob](data=[FineTuningJob(id='ftjob-1FdxPAJn3SxhHPqtYQ4FqJl1', created_at=1740422478, error=Error(code=None, message=None, param=None), fine_tuned_model=None, finished_at=None, hyperparameters=Hyperparameters(batch_size='auto', learning_rate_multiplier='auto', n_epochs=1), model='gpt-4o-mini-2024-07-18', object='fine_tuning.job', organization_id='org-wYQlBqrGuxYaYvF8WtbVzhs2', result_files=[], seed=42, status='validating_files', trained_tokens=None, training_file='file-FLBZu1yYupBsMihSkaBR5U', validation_file='file-MJGowqDuMohB5zFiQH5D6L', estimated_finish=None, integrations=[FineTuningJobWandbIntegrationObject(type='wandb', wandb=FineTuningJobWandbIntegration(project='gpt-pricer', entity=None, name=None, tags=None, run_id='ftjob-1FdxPAJn3SxhHPqtYQ4FqJl1'))], method=Method(dpo=None, supervised=MethodSupervised(hyperparameters=MethodSupervisedHyperparameters(batch_size='auto', learning_rate_multiplier='auto', n_epochs=1)), type='supervised'), user_provided_suffix='pricer')], object='list', has_more=False)"
      ]
     },
     "execution_count": 24,
     "metadata": {},
     "output_type": "execute_result"
    }
   ],
   "source": [
    "openai.fine_tuning.jobs.list(limit=1)"
   ]
  },
  {
   "cell_type": "code",
   "execution_count": 25,
   "id": "40d24873-8ff5-413f-b0d4-8f77c28f18e1",
   "metadata": {},
   "outputs": [],
   "source": [
    "job_id = openai.fine_tuning.jobs.list(limit=1).data[0].id"
   ]
  },
  {
   "cell_type": "code",
   "execution_count": 26,
   "id": "a32aef35-4b38-436c-ad00-d082f758efa7",
   "metadata": {},
   "outputs": [
    {
     "data": {
      "text/plain": [
       "'ftjob-1FdxPAJn3SxhHPqtYQ4FqJl1'"
      ]
     },
     "execution_count": 26,
     "metadata": {},
     "output_type": "execute_result"
    }
   ],
   "source": [
    "job_id"
   ]
  },
  {
   "cell_type": "code",
   "execution_count": 27,
   "id": "a7e01247-c133-48e1-93d3-c79c399e6178",
   "metadata": {},
   "outputs": [
    {
     "data": {
      "text/plain": [
       "FineTuningJob(id='ftjob-1FdxPAJn3SxhHPqtYQ4FqJl1', created_at=1740422478, error=Error(code=None, message=None, param=None), fine_tuned_model=None, finished_at=None, hyperparameters=Hyperparameters(batch_size='auto', learning_rate_multiplier='auto', n_epochs=1), model='gpt-4o-mini-2024-07-18', object='fine_tuning.job', organization_id='org-wYQlBqrGuxYaYvF8WtbVzhs2', result_files=[], seed=42, status='validating_files', trained_tokens=None, training_file='file-FLBZu1yYupBsMihSkaBR5U', validation_file='file-MJGowqDuMohB5zFiQH5D6L', estimated_finish=None, integrations=[FineTuningJobWandbIntegrationObject(type='wandb', wandb=FineTuningJobWandbIntegration(project='gpt-pricer', entity=None, name=None, tags=None, run_id='ftjob-1FdxPAJn3SxhHPqtYQ4FqJl1'))], method=Method(dpo=None, supervised=MethodSupervised(hyperparameters=MethodSupervisedHyperparameters(batch_size='auto', learning_rate_multiplier='auto', n_epochs=1)), type='supervised'), user_provided_suffix='pricer')"
      ]
     },
     "execution_count": 27,
     "metadata": {},
     "output_type": "execute_result"
    }
   ],
   "source": [
    "openai.fine_tuning.jobs.retrieve(job_id)"
   ]
  },
  {
   "cell_type": "code",
   "execution_count": 28,
   "id": "0f5150e1-b8de-485f-8eba-cf1e5b00c117",
   "metadata": {},
   "outputs": [
    {
     "data": {
      "text/plain": [
       "[FineTuningJobEvent(id='ftevent-1wqlP3rURoDKDBw1xVaYR1HR', created_at=1740422479, level='info', message='Validating training file: file-FLBZu1yYupBsMihSkaBR5U and validation file: file-MJGowqDuMohB5zFiQH5D6L', object='fine_tuning.job.event', data={}, type='message'),\n",
       " FineTuningJobEvent(id='ftevent-i2YshLEhRqubrTzS7IfXOMXg', created_at=1740422478, level='info', message='Created fine-tuning job: ftjob-1FdxPAJn3SxhHPqtYQ4FqJl1', object='fine_tuning.job.event', data={}, type='message')]"
      ]
     },
     "execution_count": 28,
     "metadata": {},
     "output_type": "execute_result"
    }
   ],
   "source": [
    "openai.fine_tuning.jobs.list_events(fine_tuning_job_id=job_id, limit=10).data"
   ]
  },
  {
   "cell_type": "markdown",
   "id": "066fef03-8338-4526-9df3-89b649ad4f0a",
   "metadata": {},
   "source": [
    "# Step 3\n",
    "\n",
    "Test our fine tuned model"
   ]
  },
  {
   "cell_type": "code",
   "execution_count": 49,
   "id": "fa4488cb-3c17-4eda-abd1-53c1c68a491b",
   "metadata": {},
   "outputs": [],
   "source": [
    "fine_tuned_model_name = openai.fine_tuning.jobs.retrieve(job_id).fine_tuned_model"
   ]
  },
  {
   "cell_type": "code",
   "execution_count": 57,
   "id": "e9370937-5a6f-4724-8265-b208663b4450",
   "metadata": {},
   "outputs": [
    {
     "data": {
      "text/plain": [
       "'ft:gpt-4o-mini-2024-07-18:personal:pricer:B4Xq5qrz'"
      ]
     },
     "execution_count": 57,
     "metadata": {},
     "output_type": "execute_result"
    }
   ],
   "source": [
    "# gpt-4o-mini-2024-07-18:personal:pricer:B4Xq5qrz\n",
    "fine_tuned_model_name"
   ]
  },
  {
   "cell_type": "code",
   "execution_count": 58,
   "id": "66ea68e8-ab1b-4f0d-aba4-a59574d8f85e",
   "metadata": {},
   "outputs": [],
   "source": [
    "# The prompt\n",
    "\n",
    "def messages_for(item):\n",
    "    system_message = \"You estimate prices of items. Reply only with the price, no explanation\"\n",
    "    user_prompt = item.test_prompt().replace(\" to the nearest dollar\",\"\").replace(\"\\n\\nPrice is $\",\"\")\n",
    "    return [\n",
    "        {\"role\": \"system\", \"content\": system_message},\n",
    "        {\"role\": \"user\", \"content\": user_prompt},\n",
    "        {\"role\": \"assistant\", \"content\": \"Price is $\"}\n",
    "    ]"
   ]
  },
  {
   "cell_type": "code",
   "execution_count": 59,
   "id": "4ff92d61-0d27-4b0d-8b32-c9891016509b",
   "metadata": {},
   "outputs": [
    {
     "data": {
      "text/plain": [
       "[{'role': 'system',\n",
       "  'content': 'You estimate prices of items. Reply only with the price, no explanation'},\n",
       " {'role': 'user',\n",
       "  'content': 'How much does this cost?\\n\\nKastar Battery and Charger Replacement for Sony\\nBullet Point 1 Kastar Mini Rapid A/C Charger Features a Fold-out US Plug, Worldwide Input Voltage, Car Charging Adapter, and European Plug. Bullet Point 2 Kastar Battery Utra-high Capacity. Use high quality Japanese Cells for longer battery life with no Memory Effect. Bullet Point 3 Charge indication Green lights for standby, Red is for charging and with automatic constant current control prevents battery from overcharging, short circuit, and electronic shock. Bullet Point 4 All Items 100% decoded and 100% Compatible with the Original Camera, Battery, and Power Accessories. Bullet Point 5 All Items Include 30-day Money Back and 3-YEAR Manufacturer Warranty. Description Details Package Includes 1 x Battery 1 x Travel'},\n",
       " {'role': 'assistant', 'content': 'Price is $'}]"
      ]
     },
     "execution_count": 59,
     "metadata": {},
     "output_type": "execute_result"
    }
   ],
   "source": [
    "# Try this out\n",
    "\n",
    "messages_for(test[0])"
   ]
  },
  {
   "cell_type": "code",
   "execution_count": 60,
   "id": "b1af1888-f94a-4106-b0d8-8a70939eec4e",
   "metadata": {},
   "outputs": [],
   "source": [
    "# A utility function to extract the price from a string\n",
    "\n",
    "def get_price(s):\n",
    "    s = s.replace('$','').replace(',','')\n",
    "    match = re.search(r\"[-+]?\\d*\\.\\d+|\\d+\", s)\n",
    "    return float(match.group()) if match else 0"
   ]
  },
  {
   "cell_type": "code",
   "execution_count": 61,
   "id": "f138c5b7-bcc1-4085-aced-68dad1bf36b4",
   "metadata": {},
   "outputs": [
    {
     "data": {
      "text/plain": [
       "99.99"
      ]
     },
     "execution_count": 61,
     "metadata": {},
     "output_type": "execute_result"
    }
   ],
   "source": [
    "get_price(\"The price is roughly $99.99 because blah blah\")"
   ]
  },
  {
   "cell_type": "code",
   "execution_count": 62,
   "id": "501a2a7a-69c8-451b-bbc0-398bcb9e1612",
   "metadata": {},
   "outputs": [],
   "source": [
    "# The function for gpt-4o-mini\n",
    "\n",
    "def gpt_fine_tuned(item):\n",
    "    response = openai.chat.completions.create(\n",
    "        model=fine_tuned_model_name, \n",
    "        messages=messages_for(item),\n",
    "        seed=42,\n",
    "        max_tokens=7\n",
    "    )\n",
    "    reply = response.choices[0].message.content\n",
    "    return get_price(reply)"
   ]
  },
  {
   "cell_type": "code",
   "execution_count": 65,
   "id": "843d88b4-364a-431b-b48b-8a7c1f68b786",
   "metadata": {},
   "outputs": [
    {
     "name": "stdout",
     "output_type": "stream",
     "text": [
      "13.99\n",
      "49.65\n"
     ]
    }
   ],
   "source": [
    "print(test[0].price)\n",
    "print(gpt_fine_tuned(test[0]))"
   ]
  },
  {
   "cell_type": "code",
   "execution_count": null,
   "id": "edd7ada0-15b7-42ec-bbbb-1250e0eb9af1",
   "metadata": {},
   "outputs": [
    {
     "name": "stdout",
     "output_type": "stream",
     "text": [
      "How much does this cost to the nearest dollar?\n",
      "\n",
      "Kastar Battery and Charger Replacement for Sony\n",
      "Bullet Point 1 Kastar Mini Rapid A/C Charger Features a Fold-out US Plug, Worldwide Input Voltage, Car Charging Adapter, and European Plug. Bullet Point 2 Kastar Battery Utra-high Capacity. Use high quality Japanese Cells for longer battery life with no Memory Effect. Bullet Point 3 Charge indication Green lights for standby, Red is for charging and with automatic constant current control prevents battery from overcharging, short circuit, and electronic shock. Bullet Point 4 All Items 100% decoded and 100% Compatible with the Original Camera, Battery, and Power Accessories. Bullet Point 5 All Items Include 30-day Money Back and 3-YEAR Manufacturer Warranty. Description Details Package Includes 1 x Battery 1 x Travel\n",
      "\n",
      "Price is $\n"
     ]
    },
    {
     "ename": "",
     "evalue": "",
     "output_type": "error",
     "traceback": [
      "\u001b[1;31mnotebook controller is DISPOSED. \n",
      "\u001b[1;31mView Jupyter <a href='command:jupyter.viewOutput'>log</a> for further details."
     ]
    }
   ],
   "source": [
    "print(test[0].test_prompt())"
   ]
  },
  {
   "cell_type": "code",
   "execution_count": 66,
   "id": "36bdd2c9-1859-4f99-a09f-3ec83b845b30",
   "metadata": {},
   "outputs": [
    {
     "name": "stdout",
     "output_type": "stream",
     "text": [
      "\u001b[92m1: Guess: $49.65 Truth: $13.99 Error: $35.66 SLE: 1.48 Item: Kastar NP-FH50 Battery (1-Pack) and Char...\u001b[0m\n",
      "\u001b[91m2: Guess: $219.98 Truth: $699.00 Error: $479.02 SLE: 1.33 Item: Sony a5100 16-50mm Mirrorless Digital Ca...\u001b[0m\n",
      "\u001b[91m3: Guess: $209.00 Truth: $69.99 Error: $139.01 SLE: 1.18 Item: 1Mii 2.4Ghz Wireless Audio Transmitter R...\u001b[0m\n",
      "\u001b[92m4: Guess: $66.47 Truth: $64.95 Error: $1.52 SLE: 0.00 Item: Fotodiox Pro Lens Mount Adapter - Bronic...\u001b[0m\n",
      "\u001b[93m5: Guess: $47.99 Truth: $110.90 Error: $62.91 SLE: 0.68 Item: FOSA 10\" Car Digital TV, ATSC Portable H...\u001b[0m\n",
      "\u001b[92m6: Guess: $10.99 Truth: $5.99 Error: $5.00 SLE: 0.29 Item: Pineapple Vinyl Decal - Laptop, Decor, W...\u001b[0m\n",
      "\u001b[92m7: Guess: $594.00 Truth: $529.00 Error: $65.00 SLE: 0.01 Item: Canon EOS 50D 15.1MP Digital SLR Camera ...\u001b[0m\n",
      "\u001b[92m8: Guess: $14.65 Truth: $14.98 Error: $0.33 SLE: 0.00 Item: UpBright New Global 5V AC/DC Adapter Com...\u001b[0m\n",
      "\u001b[91m9: Guess: $21.32 Truth: $113.99 Error: $92.67 SLE: 2.69 Item: OEM Electrolux Dryer Lint Filter Screen ...\u001b[0m\n",
      "\u001b[93m10: Guess: $499.00 Truth: $829.99 Error: $330.99 SLE: 0.26 Item: HP 2023 Newest Pavilion Desktop, AMD Ryz...\u001b[0m\n",
      "\u001b[92m11: Guess: $22.69 Truth: $47.99 Error: $25.30 SLE: 0.53 Item: USB Type-C Adapter 10-in-1 Aluminum Body...\u001b[0m\n",
      "\u001b[92m12: Guess: $69.99 Truth: $42.99 Error: $27.00 SLE: 0.23 Item: OontZ Ultra Bluetooth Speaker with Carry...\u001b[0m\n",
      "\u001b[92m13: Guess: $57.65 Truth: $32.99 Error: $24.66 SLE: 0.30 Item: CMS 16GB (2X8GB) DDR3 10600 1333MHZ Non ...\u001b[0m\n",
      "\u001b[92m14: Guess: $127.22 Truth: $124.99 Error: $2.23 SLE: 0.00 Item: Gariz Genuine Leather XS-CHDFBR Camera M...\u001b[0m\n",
      "\u001b[92m15: Guess: $57.65 Truth: $73.00 Error: $15.35 SLE: 0.05 Item: Samsung DA63-01262B Guard-Ref Mid\u001b[0m\n",
      "\u001b[93m16: Guess: $174.99 Truth: $95.31 Error: $79.68 SLE: 0.36 Item: Alphamax Haganai: I Don't Have Many Frie...\u001b[0m\n",
      "\u001b[92m17: Guess: $34.65 Truth: $36.95 Error: $2.30 SLE: 0.00 Item: WORLDS BEST CABLES 0.5 Foot RCA Cable Pa...\u001b[0m\n",
      "\u001b[91m18: Guess: $174.99 Truth: $295.69 Error: $120.70 SLE: 0.27 Item: Poly Voyager Free 60+ UC True Wireless E...\u001b[0m\n",
      "\u001b[93m19: Guess: $127.22 Truth: $168.41 Error: $41.19 SLE: 0.08 Item: Visionis FPC-5008 Two Door Access Contro...\u001b[0m\n",
      "\u001b[93m20: Guess: $127.22 Truth: $178.86 Error: $51.64 SLE: 0.11 Item: EVGA 512-P3-N800-TR e-GeForce 8800 GT 51...\u001b[0m\n",
      "\u001b[92m21: Guess: $83.00 Truth: $85.90 Error: $2.90 SLE: 0.00 Item: AVUE 3G-SDI/HD-SDI/SDI 1 to 2 Distributi...\u001b[0m\n",
      "\u001b[92m22: Guess: $30.65 Truth: $10.89 Error: $19.76 SLE: 0.96 Item: UpBright 12V AC/DC Adapter Compatible wi...\u001b[0m\n",
      "\u001b[93m23: Guess: $127.99 Truth: $189.99 Error: $62.00 SLE: 0.15 Item: GOOZEEZOO 1.10D Malachite DSP SDR Radio ...\u001b[0m\n",
      "\u001b[92m24: Guess: $249.99 Truth: $239.00 Error: $10.99 SLE: 0.00 Item: ASUS E14 (L406NA-WH02) Laptop, 14\" HD Di...\u001b[0m\n",
      "\u001b[93m25: Guess: $47.99 Truth: $89.99 Error: $42.00 SLE: 0.38 Item: Battery Charger 36V 13A for EZGO EZ-GO T...\u001b[0m\n",
      "\u001b[93m26: Guess: $128.66 Truth: $175.87 Error: $47.21 SLE: 0.10 Item: Garmin GT23M-TM Transducer, Black\u001b[0m\n",
      "\u001b[93m27: Guess: $127.22 Truth: $48.71 Error: $78.51 SLE: 0.90 Item: Celestron R/A Single Axis Motor Drive fo...\u001b[0m\n",
      "\u001b[92m28: Guess: $49.00 Truth: $25.38 Error: $23.62 SLE: 0.41 Item: Kemo M032S 12 Watt Universal Mono Plug a...\u001b[0m\n",
      "\u001b[92m29: Guess: $22.99 Truth: $34.95 Error: $11.96 SLE: 0.16 Item: Arch Memory Replacement for Dell SNPMKYF...\u001b[0m\n",
      "\u001b[92m30: Guess: $276.00 Truth: $313.89 Error: $37.89 SLE: 0.02 Item: GENUINE Frigidaire 316456224 Glass Cook ...\u001b[0m\n",
      "\u001b[92m31: Guess: $196.43 Truth: $240.00 Error: $43.57 SLE: 0.04 Item: Vertical Cable Cat6, UTP, Gel Filled (Fl...\u001b[0m\n",
      "\u001b[91m32: Guess: $65.69 Truth: $151.20 Error: $85.51 SLE: 0.68 Item: Headsets ONLY-GN9350E\u001b[0m\n",
      "\u001b[92m33: Guess: $22.22 Truth: $33.95 Error: $11.73 SLE: 0.17 Item: SparkFun Pro RF - LoRa, 915MHz (SAMD21) ...\u001b[0m\n",
      "\u001b[93m34: Guess: $109.99 Truth: $69.99 Error: $40.00 SLE: 0.20 Item: Telescope for Adults & Kids - NACATIN 70...\u001b[0m\n",
      "\u001b[92m35: Guess: $65.65 Truth: $44.99 Error: $20.66 SLE: 0.14 Item: Samsung DVD-P401 Progressive-Scan DVD Pl...\u001b[0m\n",
      "\u001b[92m36: Guess: $11.98 Truth: $48.99 Error: $37.01 SLE: 1.82 Item: FOINNEX HDMI to Mini Displayport Adapter...\u001b[0m\n",
      "\u001b[91m37: Guess: $453.65 Truth: $162.20 Error: $291.45 SLE: 1.05 Item: WatchGuard Firebox T10 with 1YR Standard...\u001b[0m\n",
      "\u001b[92m38: Guess: $22.99 Truth: $25.99 Error: $3.00 SLE: 0.01 Item: i-Blason Case for New iPad Pro 11 Inch C...\u001b[0m\n",
      "\u001b[91m39: Guess: $219.98 Truth: $770.00 Error: $550.02 SLE: 1.56 Item: Awoco 72\" Elegant 2 Speeds 1800CFM Comme...\u001b[0m\n",
      "\u001b[92m40: Guess: $349.00 Truth: $357.95 Error: $8.95 SLE: 0.00 Item: Dell Optiplex 7060 Mini Tower | Intel Qu...\u001b[0m\n",
      "\u001b[92m41: Guess: $139.98 Truth: $129.99 Error: $9.99 SLE: 0.01 Item: AIYIMA A08 PRO TPA3255 Power Amplifier B...\u001b[0m\n",
      "\u001b[92m42: Guess: $65.65 Truth: $64.36 Error: $1.29 SLE: 0.00 Item: ACER ASPIRE 7741Z-4643 Laptop Screen 17....\u001b[0m\n",
      "\u001b[92m43: Guess: $33.98 Truth: $35.99 Error: $2.01 SLE: 0.00 Item: Dentsing PI06 Compatible Laptop Battery ...\u001b[0m\n",
      "\u001b[92m44: Guess: $47.22 Truth: $82.99 Error: $35.77 SLE: 0.31 Item: Brady LAT-40-799-1 0.5\" Width x 0.750\" H...\u001b[0m\n",
      "\u001b[92m45: Guess: $23.47 Truth: $16.99 Error: $6.48 SLE: 0.09 Item: USA Gear DSLR Camera Case Sleeve with Ac...\u001b[0m\n",
      "\u001b[92m46: Guess: $11.98 Truth: $11.85 Error: $0.13 SLE: 0.00 Item: EDO Tech Mini USB AC Adapter Wall Charge...\u001b[0m\n",
      "\u001b[92m47: Guess: $54.99 Truth: $76.99 Error: $22.00 SLE: 0.11 Item: Vemico EN-EL25 Battery 2-Pack 1350mAh an...\u001b[0m\n",
      "\u001b[92m48: Guess: $66.47 Truth: $35.00 Error: $31.47 SLE: 0.39 Item: 5A-75B Colorlight Best Price LED Screen ...\u001b[0m\n",
      "\u001b[91m49: Guess: $393.69 Truth: $143.11 Error: $250.58 SLE: 1.02 Item: ASUS Radeon RX 580 O4G Dual-Fan OC Editi...\u001b[0m\n",
      "\u001b[92m50: Guess: $47.95 Truth: $75.99 Error: $28.04 SLE: 0.21 Item: Tiffen 67HTCGND6 67MM Digital HT Grad ND...\u001b[0m\n",
      "\u001b[92m51: Guess: $889.00 Truth: $899.00 Error: $10.00 SLE: 0.00 Item: Voigtlander Macro APO-LANTHAR 110mm F/2....\u001b[0m\n",
      "\u001b[92m52: Guess: $66.47 Truth: $54.97 Error: $11.50 SLE: 0.03 Item: VIZIO V-Series 2.0 Compact Home Theater ...\u001b[0m\n",
      "\u001b[92m53: Guess: $29.99 Truth: $24.36 Error: $5.63 SLE: 0.04 Item: DIY Smartphone Projector 2.0, Mini DIY H...\u001b[0m\n",
      "\u001b[92m54: Guess: $8.99 Truth: $16.49 Error: $7.50 SLE: 0.31 Item: USB Extension, Canjoy 3 Pack 6.6ft USB 3...\u001b[0m\n",
      "\u001b[91m55: Guess: $262.47 Truth: $145.00 Error: $117.47 SLE: 0.35 Item: Tiltaing Lightweight Kit Compatible with...\u001b[0m\n",
      "\u001b[92m56: Guess: $109.99 Truth: $129.99 Error: $20.00 SLE: 0.03 Item: Wireless HDMI Extender Kit HDMI Wireless...\u001b[0m\n",
      "\u001b[92m57: Guess: $139.98 Truth: $138.99 Error: $0.99 SLE: 0.00 Item: Nitze 15mm Follow Focus Kit with 3 Rever...\u001b[0m\n",
      "\u001b[93m58: Guess: $490.00 Truth: $359.99 Error: $130.01 SLE: 0.09 Item: Hifonics BXX4000.1D Brutus Class D 4000W...\u001b[0m\n",
      "\u001b[92m59: Guess: $18.99 Truth: $17.99 Error: $1.00 SLE: 0.00 Item: SIMTOP Electronic Organizer, Travel cabl...\u001b[0m\n",
      "\u001b[91m60: Guess: $99.00 Truth: $209.00 Error: $110.00 SLE: 0.55 Item: Audio-Technica ATH-CKR7TW True Wireless ...\u001b[0m\n",
      "\u001b[92m61: Guess: $10.99 Truth: $49.95 Error: $38.96 SLE: 2.09 Item: Large Flat Screen TV/LED / HDTV Vinyl Pa...\u001b[0m\n",
      "\u001b[92m62: Guess: $11.65 Truth: $6.88 Error: $4.77 SLE: 0.22 Item: Zahara DC in Power Jack Charging Port Pl...\u001b[0m\n",
      "\u001b[92m63: Guess: $128.66 Truth: $129.99 Error: $1.33 SLE: 0.00 Item: Nictemaw Washing Machine 17.6lbs Portalb...\u001b[0m\n",
      "\u001b[93m64: Guess: $274.00 Truth: $199.98 Error: $74.02 SLE: 0.10 Item: TM-U220B, Impact, two-color printing, 6 ...\u001b[0m\n",
      "\u001b[92m65: Guess: $22.99 Truth: $23.56 Error: $0.57 SLE: 0.00 Item: GOTOTOP Car Siren Horn Speaker, Loud Hor...\u001b[0m\n",
      "\u001b[92m66: Guess: $47.99 Truth: $46.99 Error: $1.00 SLE: 0.00 Item: ZLiT for Insta360 X3 Protective Cage,Alu...\u001b[0m\n",
      "\u001b[91m67: Guess: $127.22 Truth: $41.95 Error: $85.27 SLE: 1.20 Item: pp-Code WiFi Temperature and Humidity Se...\u001b[0m\n",
      "\u001b[92m68: Guess: $6.66 Truth: $7.99 Error: $1.33 SLE: 0.03 Item: Portable Square Earphone Carrying Case M...\u001b[0m\n",
      "\u001b[91m69: Guess: $127.22 Truth: $42.99 Error: $84.23 SLE: 1.14 Item: RECOIL RCK0 True 0 Gauge Complete CCA Am...\u001b[0m\n",
      "\u001b[92m70: Guess: $11.99 Truth: $7.99 Error: $4.00 SLE: 0.14 Item: WANBY Camera Soft Cotton Hand Wrist Stra...\u001b[0m\n",
      "\u001b[91m71: Guess: $219.98 Truth: $666.05 Error: $446.07 SLE: 1.22 Item: Lenovo ThinkPad W541 Mobile Workstation ...\u001b[0m\n",
      "\u001b[91m72: Guess: $219.98 Truth: $597.00 Error: $377.02 SLE: 0.99 Item: Lenovo ThinkBook 15 IIL Core i5-1035G1 8...\u001b[0m\n",
      "\u001b[92m73: Guess: $109.00 Truth: $145.99 Error: $36.99 SLE: 0.08 Item: Liene 4x6'' Photo Printer Bundle (60 pcs...\u001b[0m\n",
      "\u001b[92m74: Guess: $34.65 Truth: $22.50 Error: $12.15 SLE: 0.17 Item: PWR+ Laptop Charger for Asus Vivobook Go...\u001b[0m\n",
      "\u001b[92m75: Guess: $66.47 Truth: $43.39 Error: $23.08 SLE: 0.18 Item: POA-LMP LP68 Replacement Projector Lamp ...\u001b[0m\n",
      "\u001b[92m76: Guess: $109.99 Truth: $89.99 Error: $20.00 SLE: 0.04 Item: VIVO Black 1,000ft Bulk Cat5e, CCA Ether...\u001b[0m\n",
      "\u001b[92m77: Guess: $29.99 Truth: $19.07 Error: $10.92 SLE: 0.19 Item: Bewinner 10 Inch Universal PU Leather Ke...\u001b[0m\n",
      "\u001b[93m78: Guess: $10.00 Truth: $69.44 Error: $59.44 SLE: 3.45 Item: Logitech LX5 Cordless Optical Mouse\u001b[0m\n",
      "\u001b[93m79: Guess: $127.99 Truth: $175.99 Error: $48.00 SLE: 0.10 Item: LUCKYLAKER Boat Transducer Fish Finders ...\u001b[0m\n",
      "\u001b[92m80: Guess: $47.22 Truth: $24.11 Error: $23.11 SLE: 0.43 Item: Panavise In Dash Mount GMC/Chevy W-Serie...\u001b[0m\n",
      "\u001b[92m81: Guess: $109.00 Truth: $76.10 Error: $32.90 SLE: 0.13 Item: Blaupunkt AMP1904D Universal Car Speaker...\u001b[0m\n",
      "\u001b[93m82: Guess: $128.66 Truth: $199.00 Error: $70.34 SLE: 0.19 Item: Swarovski Optik VPA Variable Phone Adapt...\u001b[0m\n",
      "\u001b[91m83: Guess: $139.98 Truth: $54.00 Error: $85.98 SLE: 0.89 Item: CMS 32GB (4X8GB) DDR3 12800 1600MHz Non ...\u001b[0m\n",
      "\u001b[92m84: Guess: $49.99 Truth: $58.99 Error: $9.00 SLE: 0.03 Item: Kodak Professional Ektar Color Negative ...\u001b[0m\n",
      "\u001b[92m85: Guess: $22.99 Truth: $26.98 Error: $3.99 SLE: 0.02 Item: SM-T510 Touch Screen Glass Screen Replac...\u001b[0m\n",
      "\u001b[92m86: Guess: $18.99 Truth: $52.00 Error: $33.01 SLE: 0.95 Item: Apple 35W Dual USB-C Port Compact Power ...\u001b[0m\n",
      "\u001b[92m87: Guess: $22.69 Truth: $31.34 Error: $8.65 SLE: 0.10 Item: ForestGreen Envelop Pouch Case for iPad ...\u001b[0m\n",
      "\u001b[92m88: Guess: $65.69 Truth: $69.99 Error: $4.30 SLE: 0.00 Item: Inateck Surface Pro 7 Keyboard, 7-Color ...\u001b[0m\n",
      "\u001b[91m89: Guess: $47.22 Truth: $209.14 Error: $161.92 SLE: 2.17 Item: Dell Optiplex 990 MiniTower PC - Intel C...\u001b[0m\n",
      "\u001b[93m90: Guess: $127.22 Truth: $69.16 Error: $58.06 SLE: 0.36 Item: Western Digital My Passport Essential 16...\u001b[0m\n",
      "\u001b[91m91: Guess: $65.65 Truth: $175.95 Error: $110.30 SLE: 0.95 Item: Vis Viva Raspberry Pi 4 Model B Starter ...\u001b[0m\n",
      "\u001b[92m92: Guess: $83.99 Truth: $43.99 Error: $40.00 SLE: 0.40 Item: 2x Pack - KNB-35L Battery Replacement (2...\u001b[0m\n",
      "\u001b[91m93: Guess: $10.00 Truth: $118.95 Error: $108.95 SLE: 5.71 Item: Starcraft Protoss Pylon Desktop Power St...\u001b[0m\n",
      "\u001b[93m94: Guess: $164.50 Truth: $220.78 Error: $56.28 SLE: 0.09 Item: ASUS TUF Gaming GeForce GTX 1650 Dual Fa...\u001b[0m\n",
      "\u001b[93m95: Guess: $262.47 Truth: $329.00 Error: $66.53 SLE: 0.05 Item: BornTech Electric Cooler Portable Refrig...\u001b[0m\n",
      "\u001b[91m96: Guess: $196.99 Truth: $79.13 Error: $117.86 SLE: 0.82 Item: Sony BDP-S350 1080p Blu-Ray Disc Player\u001b[0m\n",
      "\u001b[92m97: Guess: $65.65 Truth: $97.00 Error: $31.35 SLE: 0.15 Item: Promaster Cityscape 150 Courier Bag - Ha...\u001b[0m\n",
      "\u001b[92m98: Guess: $29.65 Truth: $46.95 Error: $17.30 SLE: 0.20 Item: Sescom DSLR-550D-HOCF A/V Out Headphone ...\u001b[0m\n",
      "\u001b[92m99: Guess: $83.00 Truth: $54.80 Error: $28.20 SLE: 0.17 Item: Frigidaire 316032411 Oven Thermostat\u001b[0m\n",
      "\u001b[92m100: Guess: $14.98 Truth: $18.59 Error: $3.61 SLE: 0.04 Item: 65W 45W USB Type C Laptop Charger for Le...\u001b[0m\n",
      "\u001b[93m101: Guess: $66.47 Truth: $118.88 Error: $52.41 SLE: 0.33 Item: Xuerebs EF-EOS R ND Lens Adapter with ND...\u001b[0m\n",
      "\u001b[93m102: Guess: $174.00 Truth: $129.00 Error: $45.00 SLE: 0.09 Item: Godox TT685IIC 1/8000s HSS GN Speedlite ...\u001b[0m\n",
      "\u001b[93m103: Guess: $66.47 Truth: $25.88 Error: $40.59 SLE: 0.85 Item: AC Charger Fit for Dell XPS 15 7590 9530...\u001b[0m\n",
      "\u001b[92m104: Guess: $22.69 Truth: $24.99 Error: $2.30 SLE: 0.01 Item: Landalanya Replacement New CPU +GPU Cool...\u001b[0m\n",
      "\u001b[93m105: Guess: $219.00 Truth: $139.95 Error: $79.05 SLE: 0.20 Item: Canon Powershot SX110IS 9MP Digital Came...\u001b[0m\n",
      "\u001b[92m106: Guess: $139.98 Truth: $169.99 Error: $30.01 SLE: 0.04 Item: for Toyota Tacoma 2005-2014 Tailgate Han...\u001b[0m\n",
      "\u001b[92m107: Guess: $65.65 Truth: $75.00 Error: $9.35 SLE: 0.02 Item: MikroTik hAP ac2 RBD52G-5HacD2HnD-TC Dua...\u001b[0m\n",
      "\u001b[92m108: Guess: $65.69 Truth: $70.19 Error: $4.50 SLE: 0.00 Item: AU Optronics New 17.3\" LED Laptop Screen...\u001b[0m\n",
      "\u001b[93m109: Guess: $139.98 Truth: $199.95 Error: $59.97 SLE: 0.13 Item: Fujifilm INSTAX Wide 300 Instant Camera ...\u001b[0m\n",
      "\u001b[93m110: Guess: $159.99 Truth: $235.99 Error: $76.00 SLE: 0.15 Item: Eonon Apple CarPlay & Android Auto Car S...\u001b[0m\n",
      "\u001b[92m111: Guess: $47.99 Truth: $9.99 Error: $38.00 SLE: 2.23 Item: YUSTDA (10Ft Extra Long) New AC Adapter ...\u001b[0m\n",
      "\u001b[92m112: Guess: $35.99 Truth: $42.99 Error: $7.00 SLE: 0.03 Item: Leather Laptop Tote Bag Womens Professio...\u001b[0m\n",
      "\u001b[93m113: Guess: $219.00 Truth: $359.00 Error: $140.00 SLE: 0.24 Item: TOKINA ATX-m 56mm F1.4 X Mount Special E...\u001b[0m\n",
      "\u001b[92m114: Guess: $22.99 Truth: $31.99 Error: $9.00 SLE: 0.10 Item: Sony KDF-60X5955 TV Assembly Cage with P...\u001b[0m\n",
      "\u001b[92m115: Guess: $262.47 Truth: $299.00 Error: $36.53 SLE: 0.02 Item: Lenovo Monitor, L24q 23.8-Inch Monitor, ...\u001b[0m\n",
      "\u001b[93m116: Guess: $34.98 Truth: $79.99 Error: $45.01 SLE: 0.66 Item: Canis LATRANS PVS 14 Mount Night Vision ...\u001b[0m\n",
      "\u001b[92m117: Guess: $22.99 Truth: $29.99 Error: $7.00 SLE: 0.07 Item: KMC 6-Outlet Surge Protector Power Strip...\u001b[0m\n",
      "\u001b[92m118: Guess: $69.99 Truth: $56.99 Error: $13.00 SLE: 0.04 Item: Amcrest 5MP Turret POE Camera, UltraHD O...\u001b[0m\n",
      "\u001b[92m119: Guess: $262.47 Truth: $271.11 Error: $8.64 SLE: 0.00 Item: KLH Albany II 2-Way Bookshelf Speakers f...\u001b[0m\n",
      "\u001b[91m120: Guess: $47.99 Truth: $135.58 Error: $87.59 SLE: 1.05 Item: Thule TPCS-101 Perspektiv Perspektiv Com...\u001b[0m\n",
      "\u001b[92m121: Guess: $65.98 Truth: $99.02 Error: $33.04 SLE: 0.16 Item: NEEWER Air Cushioned Aluminum Light Stan...\u001b[0m\n",
      "\u001b[92m122: Guess: $8.99 Truth: $5.49 Error: $3.50 SLE: 0.19 Item: Cable Matters 6-Pack BNC Female to Femal...\u001b[0m\n",
      "\u001b[92m123: Guess: $16.99 Truth: $15.99 Error: $1.00 SLE: 0.00 Item: Halloween Party Decorations Black Bat Fr...\u001b[0m\n",
      "\u001b[92m124: Guess: $22.22 Truth: $12.88 Error: $9.34 SLE: 0.26 Item: Sima SIP-3 Ultimate International Travel...\u001b[0m\n",
      "\u001b[91m125: Guess: $490.00 Truth: $261.87 Error: $228.13 SLE: 0.39 Item: Pyle PLPW15D 15\" 8000W Car Subwoofer Aud...\u001b[0m\n",
      "\u001b[93m126: Guess: $726.65 Truth: $580.00 Error: $146.65 SLE: 0.05 Item: Dell XPS13-1000sLV 13-Inch Ultrabook (1....\u001b[0m\n",
      "\u001b[92m127: Guess: $16.99 Truth: $11.99 Error: $5.00 SLE: 0.11 Item: Manleno Compatible with Airpods 3 Case C...\u001b[0m\n",
      "\u001b[92m128: Guess: $127.99 Truth: $109.99 Error: $18.00 SLE: 0.02 Item: Digital Photo Frame WiFi 10 Inch Touch S...\u001b[0m\n",
      "\u001b[92m129: Guess: $47.22 Truth: $40.60 Error: $6.62 SLE: 0.02 Item: General Electric WR17X11459 Cup Drive Ic...\u001b[0m\n",
      "\u001b[92m130: Guess: $8.99 Truth: $4.99 Error: $4.00 SLE: 0.26 Item: UpBright USB Cable for HP PSC 380 500 70...\u001b[0m\n",
      "\u001b[92m131: Guess: $47.22 Truth: $59.99 Error: $12.77 SLE: 0.06 Item: HSM shredstar X5 Cross Cut Shredder\u001b[0m\n",
      "\u001b[92m132: Guess: $15.99 Truth: $11.98 Error: $4.01 SLE: 0.07 Item: Dudaacvt 7x5FT Kindergarten Graduation B...\u001b[0m\n",
      "\u001b[92m133: Guess: $39.99 Truth: $30.95 Error: $9.04 SLE: 0.06 Item: Cell Phone Headset with Microphone Noise...\u001b[0m\n",
      "\u001b[91m134: Guess: $22.99 Truth: $179.99 Error: $157.00 SLE: 4.08 Item: FIBBR DisplayPort to DisplayPort Cable, ...\u001b[0m\n",
      "\u001b[92m135: Guess: $83.99 Truth: $62.99 Error: $21.00 SLE: 0.08 Item: Mcoplus LED-520 Video Lighting Kits, Hig...\u001b[0m\n",
      "\u001b[93m136: Guess: $219.98 Truth: $157.00 Error: $62.98 SLE: 0.11 Item: HP ProBook 640 G2 Laptop, 14 Display, In...\u001b[0m\n",
      "\u001b[92m137: Guess: $10.49 Truth: $14.95 Error: $4.46 SLE: 0.11 Item: HQRP Battery Compatible with GolfBuddy L...\u001b[0m\n",
      "\u001b[93m138: Guess: $39.95 Truth: $94.99 Error: $55.04 SLE: 0.73 Item: BaseQi NinjaDrive Aluminum 256GB Storage...\u001b[0m\n",
      "\u001b[92m139: Guess: $139.65 Truth: $110.16 Error: $29.49 SLE: 0.06 Item: Legacy LXR7A 3Way Stereo Electronic Cros...\u001b[0m\n",
      "\u001b[92m140: Guess: $83.00 Truth: $78.99 Error: $4.01 SLE: 0.00 Item: Sony DVP-NS70H HDMI Single Disc DVD Play...\u001b[0m\n",
      "\u001b[91m141: Guess: $67.95 Truth: $150.00 Error: $82.05 SLE: 0.61 Item: B+W 72mm Slim-Line Circular Polarizer wi...\u001b[0m\n",
      "\u001b[92m142: Guess: $47.99 Truth: $24.89 Error: $23.10 SLE: 0.41 Item: 2022 Bluetooth 5.3 FM Transmitter for Ca...\u001b[0m\n",
      "\u001b[92m143: Guess: $47.99 Truth: $15.99 Error: $32.00 SLE: 1.12 Item: YongFoto 6x4ft Spring Scenery Backdrop M...\u001b[0m\n",
      "\u001b[92m144: Guess: $65.98 Truth: $41.74 Error: $24.24 SLE: 0.20 Item: Dentsing F7HVR 58Wh Battery for DELL Ins...\u001b[0m\n",
      "\u001b[93m145: Guess: $47.99 Truth: $100.03 Error: $52.04 SLE: 0.52 Item: A-Tech 32GB Kit 4x8GB Memory Ram For DEL...\u001b[0m\n",
      "\u001b[92m146: Guess: $6.66 Truth: $3.99 Error: $2.67 SLE: 0.18 Item: Leyland Designs Rezero Rem Waifu Sticker...\u001b[0m\n",
      "\u001b[93m147: Guess: $179.99 Truth: $289.98 Error: $109.99 SLE: 0.23 Item: Olympus Xa Film Camera with A16 Electron...\u001b[0m\n",
      "\u001b[93m148: Guess: $47.99 Truth: $118.99 Error: $71.00 SLE: 0.80 Item: AUTO-VOX Solar 1 Wireless Backup Camera ...\u001b[0m\n",
      "\u001b[92m149: Guess: $127.22 Truth: $114.99 Error: $12.23 SLE: 0.01 Item: WD 2TB My Passport SSD Portable External...\u001b[0m\n",
      "\u001b[93m150: Guess: $25.99 Truth: $89.14 Error: $63.15 SLE: 1.45 Item: GLOB PRO SOLUTIONS WPW10415587 Washer Pr...\u001b[0m\n",
      "\u001b[92m151: Guess: $39.99 Truth: $54.99 Error: $15.00 SLE: 0.10 Item: UGREEN USB C Hub 9 in 1 USB Type C HDMI ...\u001b[0m\n",
      "\u001b[92m152: Guess: $43.66 Truth: $58.93 Error: $15.27 SLE: 0.09 Item: UV Polyethylene Spiral Wrap Cable Harnes...\u001b[0m\n",
      "\u001b[91m153: Guess: $47.99 Truth: $217.00 Error: $169.01 SLE: 2.23 Item: 50 4GB Flash Drive - Bulk Pack - USB 2.0...\u001b[0m\n",
      "\u001b[91m154: Guess: $47.00 Truth: $199.99 Error: $152.99 SLE: 2.05 Item: RCA Voyager Pro 7 16GB Tablet with Keybo...\u001b[0m\n",
      "\u001b[91m155: Guess: $47.22 Truth: $128.89 Error: $81.67 SLE: 0.98 Item: McKlein, R Series, Walton, Tech-Lite Bal...\u001b[0m\n",
      "\u001b[92m156: Guess: $349.00 Truth: $312.99 Error: $36.01 SLE: 0.01 Item: HP EliteBook x360 1030 G2 Notebook 2-in-...\u001b[0m\n",
      "\u001b[92m157: Guess: $14.98 Truth: $10.99 Error: $3.99 SLE: 0.08 Item: Padarsey Keyboard with Frame Compatible ...\u001b[0m\n",
      "\u001b[92m158: Guess: $66.00 Truth: $53.64 Error: $12.36 SLE: 0.04 Item: BULGIN PX0441/2M00 Cable Assy, USB IP68,...\u001b[0m\n",
      "\u001b[92m159: Guess: $23.47 Truth: $29.99 Error: $6.52 SLE: 0.06 Item: UFBOSS Powered 5-Port Mini USB 3.0 HUB a...\u001b[0m\n",
      "\u001b[92m160: Guess: $23.47 Truth: $18.99 Error: $4.48 SLE: 0.04 Item: TKDY 24V 2.5A Power Supply Cord, DC 24V ...\u001b[0m\n",
      "\u001b[92m161: Guess: $47.99 Truth: $37.99 Error: $10.00 SLE: 0.05 Item: VASCHY Laptop Backpack, Vintage Water Re...\u001b[0m\n",
      "\u001b[92m162: Guess: $47.95 Truth: $22.56 Error: $25.39 SLE: 0.53 Item: LDG Electronics Y-Acc One-Touch-Tune Cab...\u001b[0m\n",
      "\u001b[92m163: Guess: $14.98 Truth: $14.99 Error: $0.01 SLE: 0.00 Item: Divufus Case for iPad 10th Generation 20...\u001b[0m\n",
      "\u001b[92m164: Guess: $8.99 Truth: $7.99 Error: $1.00 SLE: 0.01 Item: HDMI Cable, HDMI to HDMI Cable 6FT HDMI ...\u001b[0m\n",
      "\u001b[92m165: Guess: $139.98 Truth: $165.90 Error: $25.92 SLE: 0.03 Item: LimoStudio Photo Shooting Kit with Backg...\u001b[0m\n",
      "\u001b[92m166: Guess: $47.99 Truth: $42.98 Error: $5.01 SLE: 0.01 Item: Maxtek 2 Pack 4.5 hours BP-827 Li-Ion Re...\u001b[0m\n",
      "\u001b[92m167: Guess: $221.00 Truth: $199.99 Error: $21.01 SLE: 0.01 Item: Ikan E-Image 2 Stage Aluminum Video Trip...\u001b[0m\n",
      "\u001b[92m168: Guess: $50.00 Truth: $36.95 Error: $13.05 SLE: 0.09 Item: Samsung ram Memory 16GB kit (2 x 8GB) DD...\u001b[0m\n",
      "\u001b[92m169: Guess: $390.22 Truth: $399.00 Error: $8.78 SLE: 0.00 Item: Dell Optiplex 9020 Small Form Factor Des...\u001b[0m\n",
      "\u001b[92m170: Guess: $47.22 Truth: $42.50 Error: $4.72 SLE: 0.01 Item: U-810 USB 3.0 Hub with Gigabit Ethernet\u001b[0m\n",
      "\u001b[93m171: Guess: $249.99 Truth: $199.99 Error: $50.00 SLE: 0.05 Item: DS18 SXE-2500.1D/RD Car Amplifier Class ...\u001b[0m\n",
      "\u001b[92m172: Guess: $15.95 Truth: $17.99 Error: $2.04 SLE: 0.01 Item: KIQ Guardian Series for Apple iPad 6th G...\u001b[0m\n",
      "\u001b[93m173: Guess: $161.18 Truth: $95.00 Error: $66.18 SLE: 0.27 Item: HP USB-C Dock G5 (Refurbished)\u001b[0m\n",
      "\u001b[92m174: Guess: $47.22 Truth: $42.69 Error: $4.53 SLE: 0.01 Item: Extreme Battery XTAZ10S Powersports Repl...\u001b[0m\n",
      "\u001b[92m175: Guess: $726.65 Truth: $694.50 Error: $32.15 SLE: 0.00 Item: Samyang SYXP14-C XP 14mm f/2.4 High Spee...\u001b[0m\n",
      "\u001b[92m176: Guess: $10.00 Truth: $22.47 Error: $12.47 SLE: 0.57 Item: Intel Centrino Advanced-N 6235 6235ANHMW...\u001b[0m\n",
      "\u001b[92m177: Guess: $49.00 Truth: $27.00 Error: $22.00 SLE: 0.34 Item: CMS 8GB (2X4GB) DDR3 10600 1333MHZ Non E...\u001b[0m\n",
      "\u001b[92m178: Guess: $22.32 Truth: $37.00 Error: $14.68 SLE: 0.24 Item: Nikon AF-S Nikkor 35mm f/1.8G DX Pro Dig...\u001b[0m\n",
      "\u001b[92m179: Guess: $47.95 Truth: $39.90 Error: $8.05 SLE: 0.03 Item: Hoya SOLAS IRND 2.7 62mm Infrared Neutra...\u001b[0m\n",
      "\u001b[93m180: Guess: $174.99 Truth: $233.73 Error: $58.74 SLE: 0.08 Item: Direct Burial/Outdoor Rated Cat6 Black E...\u001b[0m\n",
      "\u001b[92m181: Guess: $390.22 Truth: $325.94 Error: $64.28 SLE: 0.03 Item: LG 24” 24CK550Z-BP FHD (1920x1080) IPS Z...\u001b[0m\n",
      "\u001b[92m182: Guess: $10.99 Truth: $1.99 Error: $9.00 SLE: 1.93 Item: FitSand Hard Case Compatible for Valoin ...\u001b[0m\n",
      "\u001b[92m183: Guess: $127.22 Truth: $119.95 Error: $7.27 SLE: 0.00 Item: Razer Nommo Chroma - Computer Speakers, ...\u001b[0m\n",
      "\u001b[93m184: Guess: $83.99 Truth: $38.00 Error: $45.99 SLE: 0.61 Item: Auto Wayfeng WF® IR Control 4 Cameras Vi...\u001b[0m\n",
      "\u001b[93m185: Guess: $393.00 Truth: $629.95 Error: $236.95 SLE: 0.22 Item: Sigma 105mm f/2.8 EX DG OS HSM Macro Len...\u001b[0m\n",
      "\u001b[93m186: Guess: $143.00 Truth: $199.00 Error: $56.00 SLE: 0.11 Item: Saregama Carvaan 2.0 Portable Digital Mu...\u001b[0m\n",
      "\u001b[91m187: Guess: $22.22 Truth: $179.99 Error: $157.77 SLE: 4.22 Item: Greenlee 468 Wiremap Tester\u001b[0m\n",
      "\u001b[91m188: Guess: $393.69 Truth: $699.99 Error: $306.30 SLE: 0.33 Item: EVGA GeForce GTX 1080 FTW GAMING ACX 3.0...\u001b[0m\n",
      "\u001b[92m189: Guess: $47.99 Truth: $43.99 Error: $4.00 SLE: 0.01 Item: Kastar Charger + 3 Battery for Hewlett P...\u001b[0m\n",
      "\u001b[92m190: Guess: $11.98 Truth: $4.99 Error: $6.99 SLE: 0.60 Item: 100 Pcs no-Repeating Stickers for Water ...\u001b[0m\n",
      "\u001b[92m191: Guess: $29.65 Truth: $35.96 Error: $6.31 SLE: 0.04 Item: 3ft. HD PTTL Off-Camera Cord for Pentax ...\u001b[0m\n",
      "\u001b[92m192: Guess: $219.00 Truth: $269.00 Error: $50.00 SLE: 0.04 Item: 5G WiFi 8 Core 1280 * 720 Resolution Car...\u001b[0m\n",
      "\u001b[92m193: Guess: $25.99 Truth: $22.29 Error: $3.70 SLE: 0.02 Item: Pyle Water Resistant Marine Stereo Cover...\u001b[0m\n",
      "\u001b[91m194: Guess: $393.69 Truth: $185.00 Error: $208.69 SLE: 0.57 Item: Lenovo 14w Laptop Gen 2, 14\" HD (1366X76...\u001b[0m\n",
      "\u001b[93m195: Guess: $109.99 Truth: $64.99 Error: $45.00 SLE: 0.27 Item: SoundXtreme ST-X6400BT MP5 7\" digital TF...\u001b[0m\n",
      "\u001b[92m196: Guess: $8.69 Truth: $0.69 Error: $8.00 SLE: 3.05 Item: Yxflzer USB 2.0 Type A Female to Micro U...\u001b[0m\n",
      "\u001b[91m197: Guess: $127.22 Truth: $269.95 Error: $142.73 SLE: 0.56 Item: Sharp GXBT9 Portable Bluetooth Boom Box ...\u001b[0m\n",
      "\u001b[92m198: Guess: $65.65 Truth: $58.99 Error: $6.66 SLE: 0.01 Item: Polk Audio DB402 DB+ Series 4\" Coaxial S...\u001b[0m\n",
      "\u001b[92m199: Guess: $65.65 Truth: $64.52 Error: $1.13 SLE: 0.00 Item: DJI Phantom 4 - Part 9 100W Battery Char...\u001b[0m\n",
      "\u001b[91m200: Guess: $276.00 Truth: $169.00 Error: $107.00 SLE: 0.24 Item: Feniex Industries C-4014 Storm Pro 100W ...\u001b[0m\n",
      "\u001b[92m201: Guess: $47.99 Truth: $25.01 Error: $22.98 SLE: 0.40 Item: UpBright 25V AC/DC Adapter Compatible wi...\u001b[0m\n",
      "\u001b[92m202: Guess: $33.98 Truth: $55.77 Error: $21.79 SLE: 0.23 Item: BOWEIRUI AA-PBTN2TP Laptop Battery Repla...\u001b[0m\n",
      "\u001b[92m203: Guess: $22.99 Truth: $34.90 Error: $11.91 SLE: 0.16 Item: Verbatim 128GB Vx460 External SSD USB 3....\u001b[0m\n",
      "\u001b[93m204: Guess: $390.22 Truth: $299.95 Error: $90.27 SLE: 0.07 Item: Kicker 46CXA4001 Car Audio Class D Mono ...\u001b[0m\n",
      "\u001b[91m205: Guess: $490.00 Truth: $279.00 Error: $211.00 SLE: 0.32 Item: Definitive Technology Dt Series Dt8Lcr i...\u001b[0m\n",
      "\u001b[91m206: Guess: $349.00 Truth: $172.12 Error: $176.88 SLE: 0.50 Item: Lenovo 14\" FHD Laptop - AMD A6-9220C Dua...\u001b[0m\n",
      "\u001b[92m207: Guess: $34.65 Truth: $38.19 Error: $3.54 SLE: 0.01 Item: SureCall J-Bar Outdoor Antenna Mounting ...\u001b[0m\n",
      "\u001b[93m208: Guess: $559.47 Truth: $899.00 Error: $339.53 SLE: 0.22 Item: 2020 HUION Kamvas Pro 24 Drawing Monitor...\u001b[0m\n",
      "\u001b[92m209: Guess: $79.00 Truth: $78.95 Error: $0.05 SLE: 0.00 Item: RYOBI 18V ONE+ Bluetooth Speaker (Tool-O...\u001b[0m\n",
      "\u001b[91m210: Guess: $65.65 Truth: $164.49 Error: $98.84 SLE: 0.83 Item: MikroTik PowerBox Pro Router, 5 Gigabit ...\u001b[0m\n",
      "\u001b[92m211: Guess: $14.65 Truth: $14.90 Error: $0.25 SLE: 0.00 Item: Geekria QuickFit Replacement Ear Pads fo...\u001b[0m\n",
      "\u001b[92m212: Guess: $164.50 Truth: $148.02 Error: $16.48 SLE: 0.01 Item: ASUS P6T Deluxe V2 Desktop Board\u001b[0m\n",
      "\u001b[91m213: Guess: $594.00 Truth: $349.00 Error: $245.00 SLE: 0.28 Item: Apple iPad Pro (32GB, Wi-Fi, Space Gray)...\u001b[0m\n",
      "\u001b[92m214: Guess: $6.81 Truth: $7.97 Error: $1.16 SLE: 0.02 Item: 3 ft. USB 2.0 A Male to A Male and Mini-...\u001b[0m\n",
      "\u001b[93m215: Guess: $579.99 Truth: $749.99 Error: $170.00 SLE: 0.07 Item: HP 2022 17.3\" FHD IPS Display Laptop PC ...\u001b[0m\n",
      "\u001b[92m216: Guess: $83.00 Truth: $79.99 Error: $3.01 SLE: 0.00 Item: JB Live 500 BT, Around-Ear Wireless Head...\u001b[0m\n",
      "\u001b[93m217: Guess: $219.95 Truth: $319.99 Error: $100.04 SLE: 0.14 Item: nixplay Smart Digital Picture Frame 15.6...\u001b[0m\n",
      "\u001b[92m218: Guess: $13.66 Truth: $6.99 Error: $6.67 SLE: 0.37 Item: Keenso Multipurpose Car Wiring Harness T...\u001b[0m\n",
      "\u001b[92m219: Guess: $127.22 Truth: $117.27 Error: $9.95 SLE: 0.01 Item: HP 8000 Elite Desktop C2D 3.00 8GB 2TB D...\u001b[0m\n",
      "\u001b[93m220: Guess: $139.95 Truth: $93.04 Error: $46.91 SLE: 0.16 Item: Plantronics - Voyager 5200 UC (Poly) - B...\u001b[0m\n",
      "\u001b[92m221: Guess: $8.22 Truth: $1.60 Error: $6.62 SLE: 1.60 Item: 6ft Cat 5E Non-Booted Unshielded (UTP) E...\u001b[0m\n",
      "\u001b[92m222: Guess: $47.99 Truth: $22.99 Error: $25.00 SLE: 0.51 Item: PWR+ Laptop Power Adapter Charger for HP...\u001b[0m\n",
      "\u001b[92m223: Guess: $22.99 Truth: $14.99 Error: $8.00 SLE: 0.16 Item: Se7enline Compatible with MacBook Air 13...\u001b[0m\n",
      "\u001b[92m224: Guess: $29.65 Truth: $42.09 Error: $12.44 SLE: 0.12 Item: Gadget Guard GEGEAP000013 Black Ice Edit...\u001b[0m\n",
      "\u001b[92m225: Guess: $47.99 Truth: $30.59 Error: $17.40 SLE: 0.19 Item: AN-MR650A AN-MR18BA AN-MR19BA Voice Magi...\u001b[0m\n",
      "\u001b[92m226: Guess: $22.99 Truth: $49.00 Error: $26.01 SLE: 0.54 Item: [Intel Thunderbolt 3 Certified 40Gbps Th...\u001b[0m\n",
      "\u001b[93m227: Guess: $127.99 Truth: $52.99 Error: $75.00 SLE: 0.76 Item: DKNKD X8VWF 4XKN5 CJ2K1 Laptop Battery f...\u001b[0m\n",
      "\u001b[93m228: Guess: $221.81 Truth: $144.99 Error: $76.82 SLE: 0.18 Item: Hawke Endurance ED Monocular\u001b[0m\n",
      "\u001b[92m229: Guess: $349.99 Truth: $359.00 Error: $9.01 SLE: 0.00 Item: Radio for Chevrolet Chevy Cruze Stereo 2...\u001b[0m\n",
      "\u001b[92m230: Guess: $8.69 Truth: $4.98 Error: $3.71 SLE: 0.23 Item: FONVOi AUX Cord for iPhone【Apple MFi Cer...\u001b[0m\n",
      "\u001b[92m231: Guess: $29.99 Truth: $69.95 Error: $39.96 SLE: 0.69 Item: American-Wholesaler Inc. New! - Empty Ma...\u001b[0m\n",
      "\u001b[92m232: Guess: $34.98 Truth: $62.99 Error: $28.01 SLE: 0.33 Item: KENUCO PM DS-1275ZJ Universal Vertical P...\u001b[0m\n",
      "\u001b[92m233: Guess: $65.65 Truth: $84.55 Error: $18.90 SLE: 0.06 Item: Starter Tethering Kit w/TetherPro USB 2....\u001b[0m\n",
      "\u001b[93m234: Guess: $8.99 Truth: $56.59 Error: $47.60 SLE: 3.07 Item: USB 3.0 Data Transfer Cable 6.6FT - HBAV...\u001b[0m\n",
      "\u001b[92m235: Guess: $47.99 Truth: $15.97 Error: $32.02 SLE: 1.12 Item: Battery Replacement for Magellan RoadMat...\u001b[0m\n",
      "\u001b[92m236: Guess: $3.99 Truth: $3.99 Error: $0.00 SLE: 0.00 Item: Leyland Designs Fujiwara Chika Sticker O...\u001b[0m\n",
      "\u001b[92m237: Guess: $47.99 Truth: $53.99 Error: $6.00 SLE: 0.01 Item: everydrop by Whirlpool Ice and Water Ref...\u001b[0m\n",
      "\u001b[92m238: Guess: $47.99 Truth: $30.99 Error: $17.00 SLE: 0.18 Item: ELECOM EX-G Trackball Mouse, Wired, Thum...\u001b[0m\n",
      "\u001b[92m239: Guess: $7.47 Truth: $9.49 Error: $2.02 SLE: 0.05 Item: uxcell Polyolefin 13M Length 2mm Dia Hea...\u001b[0m\n",
      "\u001b[92m240: Guess: $14.98 Truth: $28.95 Error: $13.97 SLE: 0.39 Item: Decalrus - Protective Decal Skin Sticker...\u001b[0m\n",
      "\u001b[91m241: Guess: $127.22 Truth: $550.00 Error: $422.78 SLE: 2.13 Item: Genuine Dell NX380 LCD Screen Dell 15.4\"...\u001b[0m\n",
      "\u001b[92m242: Guess: $65.69 Truth: $65.99 Error: $0.30 SLE: 0.00 Item: cjc Ultrasonic Inverter, Electro Fisher ...\u001b[0m\n",
      "\u001b[93m243: Guess: $66.47 Truth: $109.99 Error: $43.52 SLE: 0.25 Item: IET Replacement Lamp Assembly with Genui...\u001b[0m\n",
      "\u001b[92m244: Guess: $22.22 Truth: $36.91 Error: $14.69 SLE: 0.24 Item: Replacement Remote Control for NAXA NX55...\u001b[0m\n",
      "\u001b[92m245: Guess: $139.98 Truth: $139.00 Error: $0.98 SLE: 0.00 Item: Samsung DVD-R135 DVD Recorder\u001b[0m\n",
      "\u001b[92m246: Guess: $49.95 Truth: $79.95 Error: $30.00 SLE: 0.21 Item: Glow Speed Ring Adapter to Fit Profoto M...\u001b[0m\n",
      "\u001b[92m247: Guess: $22.99 Truth: $7.99 Error: $15.00 SLE: 0.96 Item: BingoBuy US Layout Clear Non-Toxic Ultra...\u001b[0m\n",
      "\u001b[93m248: Guess: $22.22 Truth: $76.21 Error: $53.99 SLE: 1.44 Item: E-Z-GO Part Number 614029 Adapter\u001b[0m\n",
      "\u001b[93m249: Guess: $127.99 Truth: $192.05 Error: $64.06 SLE: 0.16 Item: Anker Docking Station, KVM Switch for a ...\u001b[0m\n",
      "\u001b[93m250: Guess: $393.69 Truth: $599.00 Error: $205.31 SLE: 0.18 Item: SeaLife DC1400 Pro 14MP HD Underwater Di...\u001b[0m\n"
     ]
    },
    {
     "data": {
      "image/png": "[encoded data removed]",
      "text/plain": [
       "<Figure size 1200x800 with 1 Axes>"
      ]
     },
     "metadata": {},
     "output_type": "display_data"
    }
   ],
   "source": [
    "Tester.test(gpt_fine_tuned, test)"
   ]
  },
  {
   "cell_type": "code",
   "execution_count": null,
   "id": "a8d2e149",
   "metadata": {},
   "outputs": [],
   "source": []
  }
 ],
 "metadata": {
  "kernelspec": {
   "display_name": "Python 3 (ipykernel)",
   "language": "python",
   "name": "python3"
  },
  "language_info": {
   "codemirror_mode": {
    "name": "ipython",
    "version": 3
   },
   "file_extension": ".py",
   "mimetype": "text/x-python",
   "name": "python",
   "nbconvert_exporter": "python",
   "pygments_lexer": "ipython3",
   "version": "3.11.6"
  }
 },
 "nbformat": 4,
 "nbformat_minor": 5
}
