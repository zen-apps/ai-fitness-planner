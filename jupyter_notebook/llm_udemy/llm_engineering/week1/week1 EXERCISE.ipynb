{
 "cells": [
  {
   "cell_type": "markdown",
   "id": "fe12c203-e6a6-452c-a655-afb8a03a4ff5",
   "metadata": {},
   "source": [
    "# End of week 1 exercise\n",
    "\n",
    "To demonstrate your familiarity with OpenAI API, and also Ollama, build a tool that takes a technical question,  \n",
    "and responds with an explanation. This is a tool that you will be able to use yourself during the course!"
   ]
  },
  {
   "cell_type": "code",
   "execution_count": 1,
   "id": "c1070317-3ed9-4659-abe3-828943230e03",
   "metadata": {},
   "outputs": [],
   "source": [
    "# imports\n",
    "import os\n",
    "import requests\n",
    "from dotenv import load_dotenv\n",
    "from bs4 import BeautifulSoup\n",
    "from IPython.display import Markdown, display, update_display\n",
    "from openai import OpenAI"
   ]
  },
  {
   "cell_type": "code",
   "execution_count": 2,
   "id": "4a456906-915a-4bfd-bb9d-57e505c5093f",
   "metadata": {},
   "outputs": [],
   "source": [
    "# constants\n",
    "\n",
    "MODEL_GPT = 'gpt-4o-mini'\n",
    "MODEL_LLAMA = 'llama3.2'"
   ]
  },
  {
   "cell_type": "code",
   "execution_count": 3,
   "id": "a8d7923c-5f28-4c30-8556-342d7c8497c1",
   "metadata": {},
   "outputs": [],
   "source": [
    "# set up environment\n",
    "load_dotenv(override=True)\n",
    "api_key = os.getenv('OPENAI_API_KEY')\n",
    "\n",
    "openai = OpenAI()"
   ]
  },
  {
   "cell_type": "code",
   "execution_count": 4,
   "id": "3f0d0137-52b0-47a8-81a8-11a90a010798",
   "metadata": {},
   "outputs": [],
   "source": [
    "# here is the question; type over this to ask something new\n",
    "\n",
    "question = \"\"\"\n",
    "Please explain what this code does and why:\n",
    "yield from {book.get(\"author\") for book in books if book.get(\"author\")}\n",
    "\"\"\""
   ]
  },
  {
   "cell_type": "code",
   "execution_count": 5,
   "id": "60ce7000-a4a5-4cce-a261-e75ef45063b4",
   "metadata": {},
   "outputs": [
    {
     "data": {
      "text/markdown": [
       "Certainly! Let's break down the code you provided:\n",
       "\n",
       "python\n",
       "yield from {book.get(\"author\") for book in books if book.get(\"author\")}\n",
       "\n",
       "\n",
       "### Components of the Code\n",
       "\n",
       "1. **Set Comprehension**: \n",
       "   - `{book.get(\"author\") for book in books if book.get(\"author\")}` is a set comprehension that creates a set of unique author names from a list of `books`.\n",
       "   - `books` is expected to be an iterable (like a list) of dictionaries where each dictionary represents a book.\n",
       "\n",
       "2. **`book.get(\"author\")`**:\n",
       "   - This method tries to retrieve the value associated with the key `\"author\"` from each dictionary (book).\n",
       "   - If a book has an author, it returns the author's name; if not, it returns `None`.\n",
       "\n",
       "3. **Conditional Filtering**: \n",
       "   - The `if book.get(\"author\")` part ensures that only those books with a defined author are considered. This avoids adding `None` to the set.\n",
       "\n",
       "4. **Resulting Set**:\n",
       "   - The result of the set comprehension is a set containing all unique author names from the `books` list that are not `None`.\n",
       "\n",
       "5. **`yield from`**:\n",
       "   - The `yield from` statement is utilized in a generator function. It yields each item from an iterable (in this case, the set of authors) one at a time.\n",
       "   - This means that this line of code is part of a function that generates a sequence of authors, returning each author one-by-one to whatever function is calling it.\n",
       "\n",
       "### Why This Code is Useful\n",
       "\n",
       "- **Uniqueness**: By using a set comprehension, the code ensures that each author's name is unique (duplicates will be removed automatically since sets don’t allow duplicate values).\n",
       "- **Lazy Evaluation**: By using `yield from`, this code can produce authors one at a time and is memory efficient, especially if the list of books is large. It doesn't create an intermediate list; it generates authors as needed.\n",
       "- **Filtering**: The inclusion of the condition `if book.get(\"author\")` means that you avoid unnecessary or misleading values (like `None`), resulting in cleaner output.\n",
       "\n",
       "### Example Scenario\n",
       "\n",
       "Suppose you have a list of books structured as follows:\n",
       "\n",
       "python\n",
       "books = [\n",
       "    {\"title\": \"Book 1\", \"author\": \"Author A\"},\n",
       "    {\"title\": \"Book 2\", \"author\": \"Author B\"},\n",
       "    {\"title\": \"Book 3\", \"author\": None},\n",
       "    {\"title\": \"Book 4\", \"author\": \"Author A\"},\n",
       "]\n",
       "\n",
       "\n",
       "- The line of code will extract the unique authors (`\"Author A\"` and `\"Author B\"`) from this list, skipping the third book since it has no author.\n",
       "\n",
       "### Conclusion\n",
       "\n",
       "Overall, this line of code effectively and efficiently collects and yields unique authors from a collection of book dictionaries, making it a useful tool in a scenario where you need to process or output authors from a list of books."
      ],
      "text/plain": [
       "<IPython.core.display.Markdown object>"
      ]
     },
     "metadata": {},
     "output_type": "display_data"
    }
   ],
   "source": [
    "# Get gpt-4o-mini to answer, with streaming\n",
    "\n",
    "#response = openai.chat.completions.create(model=\"gpt-4o-mini\", messages=[{\"role\":\"user\", \"content\":question}], stream=True)\n",
    "\n",
    "\n",
    "def stream_question(question):\n",
    "    stream = openai.chat.completions.create(\n",
    "        model=MODEL_GPT,\n",
    "        messages=[\n",
    "            #{\"role\": \"system\", \"content\": system_prompt},\n",
    "            {\"role\": \"user\", \"content\": question}\n",
    "          ],\n",
    "        stream=True\n",
    "    )\n",
    "    \n",
    "    response = \"\"\n",
    "    display_handle = display(Markdown(\"\"), display_id=True)\n",
    "    for chunk in stream:\n",
    "        response += chunk.choices[0].delta.content or ''\n",
    "        response = response.replace(\"```\",\"\").replace(\"markdown\", \"\")\n",
    "        update_display(Markdown(response), display_id=display_handle.display_id)\n",
    "stream_question(question)"
   ]
  },
  {
   "cell_type": "code",
   "execution_count": null,
   "id": "8f7c8ea8-4082-4ad0-8751-3301adcf6538",
   "metadata": {},
   "outputs": [],
   "source": [
    "# Get Llama 3.2 to answer"
   ]
  }
 ],
 "metadata": {
  "kernelspec": {
   "display_name": "Python 3 (ipykernel)",
   "language": "python",
   "name": "python3"
  }
 },
 "nbformat": 4,
 "nbformat_minor": 5
}
