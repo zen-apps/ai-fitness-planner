{
 "cells": [
  {
   "cell_type": "code",
   "execution_count": 2,
   "metadata": {},
   "outputs": [
    {
     "name": "stderr",
     "output_type": "stream",
     "text": [
      "/opt/conda/lib/python3.11/site-packages/IPython/core/interactiveshell.py:3526: LangChainDeprecationWarning: As of langchain-core 0.3.0, LangChain uses pydantic v2 internally. The langchain_core.pydantic_v1 module was a compatibility shim for pydantic v1, and should no longer be used. Please update the code to import from Pydantic directly.\n",
      "\n",
      "For example, replace imports like: `from langchain_core.pydantic_v1 import BaseModel`\n",
      "with: `from pydantic import BaseModel`\n",
      "or the v1 compatibility namespace if you are working in a code base that has not been fully upgraded to pydantic 2 yet. \tfrom pydantic.v1 import BaseModel\n",
      "\n",
      "  exec(code_obj, self.user_global_ns, self.user_ns)\n"
     ]
    },
    {
     "name": "stdout",
     "output_type": "stream",
     "text": [
      "content='Hi there! How can I help you today?\\n' additional_kwargs={} response_metadata={'is_blocked': False, 'safety_ratings': [], 'usage_metadata': {'prompt_token_count': 1, 'candidates_token_count': 11, 'total_token_count': 12, 'prompt_tokens_details': [{'modality': 1, 'token_count': 1}], 'candidates_tokens_details': [{'modality': 1, 'token_count': 11}], 'cached_content_token_count': 0, 'cache_tokens_details': []}, 'finish_reason': 'STOP', 'avg_logprobs': -0.003992335362867875, 'model_name': 'gemini-2.0-flash-001'} id='run-12a50369-da28-40ba-a91d-e2fb810c104b-0' usage_metadata={'input_tokens': 1, 'output_tokens': 11, 'total_tokens': 12}\n"
     ]
    }
   ],
   "source": [
    "import os\n",
    "from langchain_google_vertexai import ChatVertexAI\n",
    "from langchain_core.pydantic_v1 import BaseModel, Field\n",
    "from google.oauth2 import service_account\n",
    "\n",
    "key_path = \"jupyter_notebook_ai_clone/config/zen-general-377713-13db13cf4b80.json\"\n",
    "\n",
    "credentials = service_account.Credentials.from_service_account_file(\n",
    "    key_path,\n",
    "    scopes=[\"https://www.googleapis.com/auth/cloud-platform\"]\n",
    ")\n",
    "\n",
    "os.environ[\"GOOGLE_APPLICATION_CREDENTIALS\"] = key_path\n",
    "\n",
    "PROJECT_ID = 'zen-general-377713'\n",
    "LOCATION = 'us-central1'\n",
    "MODEL_NAME = \"gemini-2.0-flash-001\"\n",
    "\n",
    "chat_model = ChatVertexAI(\n",
    "    project_id=PROJECT_ID,\n",
    "    location=LOCATION,\n",
    "    model_name=MODEL_NAME,\n",
    "    credentials=credentials\n",
    ")\n",
    "\n",
    "response = chat_model.invoke(\"hi\")\n",
    "print(response)\n",
    "#content='Hi there! 👋  How can I help you today? 😊 \\n' additional_kwargs={} response_metadata={'is_blocked': False, 'safety_ratings': [{'category': 'HARM_CATEGORY_HATE_SPEECH', 'probability_label': 'NEGLIGIBLE', 'probability_score': 0.02978515625, 'blocked': False, 'severity': 'HARM_SEVERITY_NEGLIGIBLE', 'severity_score': 0.0302734375}, {'category': 'HARM_CATEGORY_DANGEROUS_CONTENT', 'probability_label': 'NEGLIGIBLE', 'probability_score': 0.049560546875, 'blocked': False, 'severity': 'HARM_SEVERITY_NEGLIGIBLE', 'severity_score': 0.048095703125}, {'category': 'HARM_CATEGORY_HARASSMENT', 'probability_label': 'NEGLIGIBLE', 'probability_score': 0.04345703125, 'blocked': False, 'severity': 'HARM_SEVERITY_NEGLIGIBLE', 'severity_score': 0.0169677734375}, {'category': 'HARM_CATEGORY_SEXUALLY_EXPLICIT', 'probability_label': 'NEGLIGIBLE', 'probability_score': 0.140625, 'blocked': False, 'severity': 'HARM_SEVERITY_NEGLIGIBLE', 'severity_score': 0.023681640625}], 'usage_metadata': {'prompt_token_count': 1, 'candidates_token_count': 15, 'total_token_count': 16, 'prompt_tokens_details': [{'modality': 1, 'token_count': 1}], 'candidates_tokens_details': [{'modality': 1, 'token_count': 15}], 'cached_content_token_count': 0, 'cache_tokens_details': []}, 'finish_reason': 'STOP', 'avg_logprobs': -0.13779719670613608, 'model_name': 'gemini-1.5-flash-001'} id='run-8fe37d83-fb90-47bc-9790-b54dfe53fed8-0' usage_metadata={'input_tokens': 1, 'output_tokens': 15, 'total_tokens': 16}\n"
   ]
  },
  {
   "cell_type": "code",
   "execution_count": 5,
   "metadata": {},
   "outputs": [
    {
     "name": "stdout",
     "output_type": "stream",
     "text": [
      "Here's the information extracted from the invoice:\n",
      "\n",
      "*   **Invoice Number:** INT-001\n",
      "*   **Date:** 11/02/2019\n",
      "*   **Total Amount:** \\$204.75\n",
      "*   **Vendor Name:** John Smith\n"
     ]
    }
   ],
   "source": [
    "import os\n",
    "import base64\n",
    "from langchain_google_vertexai import ChatVertexAI\n",
    "from langchain_core.pydantic_v1 import BaseModel, Field\n",
    "from google.oauth2 import service_account\n",
    "from langchain_community.document_loaders import PyPDFLoader\n",
    "from langchain.text_splitter import RecursiveCharacterTextSplitter\n",
    "from langchain_core.prompts import ChatPromptTemplate\n",
    "from langchain_core.output_parsers import StrOutputParser\n",
    "from langchain_core.messages import HumanMessage\n",
    "\n",
    "# Your existing Google Vertex AI setup\n",
    "key_path = \"jupyter_notebook_ai_clone/config/zen-general-377713-13db13cf4b80.json\"\n",
    "\n",
    "credentials = service_account.Credentials.from_service_account_file(\n",
    "    key_path,\n",
    "    scopes=[\"https://www.googleapis.com/auth/cloud-platform\"]\n",
    ")\n",
    "\n",
    "os.environ[\"GOOGLE_APPLICATION_CREDENTIALS\"] = key_path\n",
    "\n",
    "PROJECT_ID = 'zen-general-377713'\n",
    "LOCATION = 'us-central1'\n",
    "MODEL_NAME = \"gemini-2.0-flash-001\"\n",
    "\n",
    "chat_model = ChatVertexAI(\n",
    "    project_id=PROJECT_ID,\n",
    "    location=LOCATION,\n",
    "    model_name=MODEL_NAME,\n",
    "    credentials=credentials\n",
    ")\n",
    "\n",
    "# Function to convert PDF to base64\n",
    "def pdf_to_base64(pdf_path):\n",
    "    with open(pdf_path, \"rb\") as pdf_file:\n",
    "        encoded_string = base64.b64encode(pdf_file.read())\n",
    "        return encoded_string.decode('utf-8')\n",
    "\n",
    "# Load and convert PDF document\n",
    "pdf_path = \"jupyter_notebook_ai_clone/langgraph/data/sample_invoice.pdf\"\n",
    "base64_pdf = pdf_to_base64(pdf_path)\n",
    "\n",
    "# Create a message with the base64-encoded PDF\n",
    "def process_pdf_with_query(query, base64_pdf):\n",
    "    message = HumanMessage(\n",
    "        content=[\n",
    "            {\"type\": \"text\", \"text\": query},\n",
    "            {\n",
    "                \"type\": \"image_url\",\n",
    "                \"image_url\": {\"url\": f\"data:application/pdf;base64,{base64_pdf}\"},\n",
    "            },\n",
    "        ],\n",
    "    )\n",
    "    response = chat_model.invoke([message])\n",
    "    return response.content\n",
    "\n",
    "# Example query\n",
    "query = \"Extract the invoice number, date, total amount, and vendor name from this invoice\"\n",
    "result = process_pdf_with_query(query, base64_pdf)\n",
    "print(result)\n",
    "\n",
    "# If you want to process multiple PDFs, you can create a function for that\n",
    "def process_multiple_pdfs(pdf_directory, query):\n",
    "    results = {}\n",
    "    for filename in os.listdir(pdf_directory):\n",
    "        if filename.endswith('.pdf'):\n",
    "            pdf_path = os.path.join(pdf_directory, filename)\n",
    "            base64_pdf = pdf_to_base64(pdf_path)\n",
    "            result = process_pdf_with_query(query, base64_pdf)\n",
    "            results[filename] = result\n",
    "    return results\n",
    "\n",
    "# Example usage for multiple PDFs\n",
    "# pdf_directory = \"path/to/your/pdfs\"\n",
    "# query = \"Extract the invoice number, date, and total amount\"\n",
    "# all_results = process_multiple_pdfs(pdf_directory, query)\n",
    "# for filename, result in all_results.items():\n",
    "#     print(f\"--- Results for {filename} ---\")\n",
    "#     print(result)\n",
    "#     print(\"\\n\")"
   ]
  },
  {
   "cell_type": "code",
   "execution_count": null,
   "metadata": {},
   "outputs": [],
   "source": []
  }
 ],
 "metadata": {
  "kernelspec": {
   "display_name": "Python 3 (ipykernel)",
   "language": "python",
   "name": "python3"
  },
  "language_info": {
   "codemirror_mode": {
    "name": "ipython",
    "version": 3
   },
   "file_extension": ".py",
   "mimetype": "text/x-python",
   "name": "python",
   "nbconvert_exporter": "python",
   "pygments_lexer": "ipython3",
   "version": "3.11.6"
  }
 },
 "nbformat": 4,
 "nbformat_minor": 2
}
