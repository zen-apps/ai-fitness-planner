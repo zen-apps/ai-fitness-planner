{
 "cells": [
  {
   "cell_type": "code",
   "execution_count": 1,
   "id": "50d8d152-1c17-44cb-a521-4b614a6199b5",
   "metadata": {
    "tags": []
   },
   "outputs": [],
   "source": [
    "import os\n",
    "import re\n",
    "import sqlite3\n",
    "import pandas as pd\n",
    "import json\n",
    "import openai\n",
    "import argparse\n",
    "from io import StringIO\n",
    "from langchain.schema import ChatMessage\n",
    "from langchain.chat_models import ChatOpenAI\n",
    "\n",
    "# from langchain_experimental.llms import ChatLlamaAPI\n",
    "# from llamaapi import LlamaAPI\n",
    "# Replace 'Your_API_Token' with your actual API token\n",
    "# llama = LlamaAPI('Your_API_Token')\n",
    "\n",
    "from langchain.schema import AIMessage, HumanMessage, SystemMessage\n",
    "\n",
    "conn = sqlite3.connect(\"test_db\", check_same_thread=False)"
   ]
  },
  {
   "cell_type": "code",
   "execution_count": null,
   "id": "d921d76f-0145-49da-badf-48d847bc82e1",
   "metadata": {},
   "outputs": [],
   "source": [
    "def update_output(contents, filename):\n",
    "    if contents is not None:\n",
    "        content_type, content_string = contents.split(\",\")\n",
    "        decoded = base64.b64decode(content_string)\n",
    "\n",
    "        if \"csv\" in filename:\n",
    "            df = pd.read_csv(io.StringIO(decoded.decode(\"utf-8\")))\n",
    "        elif \"xls\" in filename:\n",
    "            df = pd.read_excel(io.BytesIO(decoded))\n",
    "        else:\n",
    "            return html.Div([\"There was an error processing this file.\"])\n",
    "        sampled_df = df.sample(5)\n",
    "        return df, df.head(), sampled_df\n"
   ]
  },
  {
   "cell_type": "code",
   "execution_count": 40,
   "id": "15c332b0-8459-4179-8217-eea3b740e048",
   "metadata": {
    "tags": []
   },
   "outputs": [],
   "source": [
    "import pandas as pd\n",
    "\n",
    "\n"
   ]
  },
  {
   "cell_type": "code",
   "execution_count": 75,
   "id": "8bc49478-d57f-459f-8479-e6c55667a618",
   "metadata": {
    "tags": []
   },
   "outputs": [
    {
     "name": "stdout",
     "output_type": "stream",
     "text": [
      "Name        object\n",
      "Age          int64\n",
      "Gender      object\n",
      "Income     float64\n",
      " ozip      float64\n",
      " dzip      float64\n",
      " signup     object\n",
      "dtype: object\n"
     ]
    },
    {
     "data": {
      "text/html": [
       "<div>\n",
       "<style scoped>\n",
       "    .dataframe tbody tr th:only-of-type {\n",
       "        vertical-align: middle;\n",
       "    }\n",
       "\n",
       "    .dataframe tbody tr th {\n",
       "        vertical-align: top;\n",
       "    }\n",
       "\n",
       "    .dataframe thead th {\n",
       "        text-align: right;\n",
       "    }\n",
       "</style>\n",
       "<table border=\"1\" class=\"dataframe\">\n",
       "  <thead>\n",
       "    <tr style=\"text-align: right;\">\n",
       "      <th></th>\n",
       "      <th>Name</th>\n",
       "      <th>Age</th>\n",
       "      <th>Gender</th>\n",
       "      <th>Income</th>\n",
       "      <th>ozip</th>\n",
       "      <th>dzip</th>\n",
       "      <th>signup</th>\n",
       "    </tr>\n",
       "  </thead>\n",
       "  <tbody>\n",
       "    <tr>\n",
       "      <th>0</th>\n",
       "      <td>Alice</td>\n",
       "      <td>25</td>\n",
       "      <td>F</td>\n",
       "      <td>50000.0</td>\n",
       "      <td>55345.0</td>\n",
       "      <td>56002.0</td>\n",
       "      <td>NaN</td>\n",
       "    </tr>\n",
       "    <tr>\n",
       "      <th>1</th>\n",
       "      <td>Bob</td>\n",
       "      <td>-5</td>\n",
       "      <td>M</td>\n",
       "      <td>55000.0</td>\n",
       "      <td>56001.0</td>\n",
       "      <td>55345.0</td>\n",
       "      <td>11-22-2000</td>\n",
       "    </tr>\n",
       "    <tr>\n",
       "      <th>2</th>\n",
       "      <td>Carol</td>\n",
       "      <td>30</td>\n",
       "      <td>F</td>\n",
       "      <td>NaN</td>\n",
       "      <td>NaN</td>\n",
       "      <td>NaN</td>\n",
       "      <td>11-22-2011</td>\n",
       "    </tr>\n",
       "    <tr>\n",
       "      <th>3</th>\n",
       "      <td>David</td>\n",
       "      <td>128</td>\n",
       "      <td>M</td>\n",
       "      <td>60000.0</td>\n",
       "      <td>NaN</td>\n",
       "      <td>NaN</td>\n",
       "      <td>1-22-2000</td>\n",
       "    </tr>\n",
       "    <tr>\n",
       "      <th>4</th>\n",
       "      <td>Eve</td>\n",
       "      <td>29</td>\n",
       "      <td>F</td>\n",
       "      <td>65000.0</td>\n",
       "      <td>NaN</td>\n",
       "      <td>NaN</td>\n",
       "      <td>2023-01-01</td>\n",
       "    </tr>\n",
       "  </tbody>\n",
       "</table>\n",
       "</div>"
      ],
      "text/plain": [
       "    Name  Age Gender   Income     ozip     dzip      signup\n",
       "0  Alice   25      F  50000.0  55345.0  56002.0         NaN\n",
       "1    Bob   -5      M  55000.0  56001.0  55345.0  11-22-2000\n",
       "2  Carol   30      F      NaN      NaN      NaN  11-22-2011\n",
       "3  David  128      M  60000.0      NaN      NaN   1-22-2000\n",
       "4    Eve   29      F  65000.0      NaN      NaN  2023-01-01"
      ]
     },
     "execution_count": 75,
     "metadata": {},
     "output_type": "execute_result"
    }
   ],
   "source": [
    "import pandas as pd\n",
    "from collections import Counter\n",
    "import datetime\n",
    "\n",
    "def sample_dataframe(df):\n",
    "    num_rows = len(df)\n",
    "    # Define the penalty function based on the size of the DataFrame\n",
    "    if num_rows < 1000:\n",
    "        sample_size = 10\n",
    "    elif num_rows < 10000:\n",
    "        sample_size = 20\n",
    "    else:\n",
    "        sample_size = 30\n",
    "\n",
    "    return df.sample(n=sample_size, random_state=5)\n",
    "\n",
    "# Function to infer the most common type for a column\n",
    "def infer_common_type(series):\n",
    "    # Count the occurrences of each type\n",
    "    type_counts = Counter()\n",
    "    for item in series:\n",
    "        if isinstance(item, bool):\n",
    "            type_counts[bool] += 1\n",
    "        elif isinstance(item, int):\n",
    "            type_counts[int] += 1\n",
    "        elif isinstance(item, float):\n",
    "            type_counts[float] += 1\n",
    "        elif isinstance(item, str):\n",
    "            # List of common datetime formats\n",
    "            date_formats = [\n",
    "                '%Y-%m-%d', \n",
    "                '%m/%d/%Y', \n",
    "                '%d/%m/%Y', \n",
    "                '%Y-%m-%d %H:%M:%S',\n",
    "                '%m/%d/%Y %H:%M:%S',\n",
    "                '%d/%m/%Y %H:%M:%S',\n",
    "            ]\n",
    "            \n",
    "            date_detected = False\n",
    "            for date_format in date_formats:\n",
    "                try:\n",
    "                    datetime.datetime.strptime(item, date_format)\n",
    "                    type_counts[datetime.datetime] += 1\n",
    "                    date_detected = True\n",
    "                    break\n",
    "                except ValueError:\n",
    "                    continue\n",
    "            \n",
    "            if not date_detected:\n",
    "                type_counts[str] += 1\n",
    "    \n",
    "    return type_counts.most_common(1)[0][0]\n",
    "\n",
    "def coerce_df_datatypes(df):\n",
    "    sample_df = sample_dataframe(df)\n",
    "    print('sample df size', sample_df.shape)\n",
    "    # Infer the most common data type for each column\n",
    "    common_data_types = {column: infer_common_type(sample_df[column]) for column in sample_df.columns}\n",
    "\n",
    "    # Coerce the DataFrame based on the inferred types\n",
    "    for column, common_type in common_data_types.items():\n",
    "        if common_type == int:\n",
    "            df[column] = pd.to_numeric(df[column], errors='coerce')\n",
    "        elif common_type == float:\n",
    "            df[column] = pd.to_numeric(df[column], errors='coerce')\n",
    "        elif common_type == str:\n",
    "            df[column] = df[column].astype(str)\n",
    "        elif common_type == datetime.datetime:\n",
    "            df[column] = pd.to_datetime(df[column], errors='coerce')\n",
    "        elif common_type == bool:\n",
    "            df[column] = df[column].astype(bool)\n",
    "\n",
    "    # You can now continue working with the coerced DataFrame\n",
    "    print(df.dtypes)\n",
    "    return df\n",
    "\n",
    "\n",
    "# Read the CSV file\n",
    "file_path = './data/cars.csv'\n",
    "file_path = './data/dummy_data.csv'\n",
    "loaded_df = pd.read_csv(file_path)\n",
    "#col_fix_df = coerce_df_datatypes(loaded_df)\n",
    "print(loaded_df.dtypes)\n",
    "loaded_df.head()"
   ]
  },
  {
   "cell_type": "code",
   "execution_count": 74,
   "id": "3b5c1f76-df55-4a72-8808-6ced275991f2",
   "metadata": {
    "tags": []
   },
   "outputs": [
    {
     "name": "stdout",
     "output_type": "stream",
     "text": [
      "Name               object\n",
      "Age                 int64\n",
      "Gender             object\n",
      "Income            float64\n",
      " ozip             float64\n",
      " dzip             float64\n",
      " signup    datetime64[ns]\n",
      "dtype: object\n"
     ]
    },
    {
     "data": {
      "text/html": [
       "<div>\n",
       "<style scoped>\n",
       "    .dataframe tbody tr th:only-of-type {\n",
       "        vertical-align: middle;\n",
       "    }\n",
       "\n",
       "    .dataframe tbody tr th {\n",
       "        vertical-align: top;\n",
       "    }\n",
       "\n",
       "    .dataframe thead th {\n",
       "        text-align: right;\n",
       "    }\n",
       "</style>\n",
       "<table border=\"1\" class=\"dataframe\">\n",
       "  <thead>\n",
       "    <tr style=\"text-align: right;\">\n",
       "      <th></th>\n",
       "      <th>Name</th>\n",
       "      <th>Age</th>\n",
       "      <th>Gender</th>\n",
       "      <th>Income</th>\n",
       "      <th>ozip</th>\n",
       "      <th>dzip</th>\n",
       "      <th>signup</th>\n",
       "    </tr>\n",
       "  </thead>\n",
       "  <tbody>\n",
       "    <tr>\n",
       "      <th>2</th>\n",
       "      <td>Carol</td>\n",
       "      <td>30</td>\n",
       "      <td>F</td>\n",
       "      <td>NaN</td>\n",
       "      <td>NaN</td>\n",
       "      <td>NaN</td>\n",
       "      <td>2011-11-22</td>\n",
       "    </tr>\n",
       "    <tr>\n",
       "      <th>5</th>\n",
       "      <td>Frank</td>\n",
       "      <td>20</td>\n",
       "      <td>M</td>\n",
       "      <td>NaN</td>\n",
       "      <td>NaN</td>\n",
       "      <td>NaN</td>\n",
       "      <td>NaT</td>\n",
       "    </tr>\n",
       "    <tr>\n",
       "      <th>17</th>\n",
       "      <td>Rita</td>\n",
       "      <td>50</td>\n",
       "      <td>F</td>\n",
       "      <td>NaN</td>\n",
       "      <td>NaN</td>\n",
       "      <td>NaN</td>\n",
       "      <td>NaT</td>\n",
       "    </tr>\n",
       "    <tr>\n",
       "      <th>19</th>\n",
       "      <td>Tina</td>\n",
       "      <td>35</td>\n",
       "      <td>F</td>\n",
       "      <td>40000.0</td>\n",
       "      <td>NaN</td>\n",
       "      <td>NaN</td>\n",
       "      <td>NaT</td>\n",
       "    </tr>\n",
       "    <tr>\n",
       "      <th>12</th>\n",
       "      <td>Mona</td>\n",
       "      <td>-10</td>\n",
       "      <td>F</td>\n",
       "      <td>95000.0</td>\n",
       "      <td>NaN</td>\n",
       "      <td>NaN</td>\n",
       "      <td>NaT</td>\n",
       "    </tr>\n",
       "    <tr>\n",
       "      <th>1</th>\n",
       "      <td>Bob</td>\n",
       "      <td>-5</td>\n",
       "      <td>M</td>\n",
       "      <td>55000.0</td>\n",
       "      <td>56001.0</td>\n",
       "      <td>55345.0</td>\n",
       "      <td>2000-11-22</td>\n",
       "    </tr>\n",
       "    <tr>\n",
       "      <th>11</th>\n",
       "      <td>Larry</td>\n",
       "      <td>15</td>\n",
       "      <td>M</td>\n",
       "      <td>90000.0</td>\n",
       "      <td>NaN</td>\n",
       "      <td>NaN</td>\n",
       "      <td>NaT</td>\n",
       "    </tr>\n",
       "    <tr>\n",
       "      <th>10</th>\n",
       "      <td>Kathy</td>\n",
       "      <td>44</td>\n",
       "      <td>F</td>\n",
       "      <td>85000.0</td>\n",
       "      <td>NaN</td>\n",
       "      <td>NaN</td>\n",
       "      <td>NaT</td>\n",
       "    </tr>\n",
       "    <tr>\n",
       "      <th>13</th>\n",
       "      <td>Nick</td>\n",
       "      <td>66</td>\n",
       "      <td>M</td>\n",
       "      <td>100000.0</td>\n",
       "      <td>NaN</td>\n",
       "      <td>NaN</td>\n",
       "      <td>NaT</td>\n",
       "    </tr>\n",
       "    <tr>\n",
       "      <th>18</th>\n",
       "      <td>Sam</td>\n",
       "      <td>60</td>\n",
       "      <td>M</td>\n",
       "      <td>120000.0</td>\n",
       "      <td>NaN</td>\n",
       "      <td>NaN</td>\n",
       "      <td>NaT</td>\n",
       "    </tr>\n",
       "  </tbody>\n",
       "</table>\n",
       "</div>"
      ],
      "text/plain": [
       "     Name  Age Gender    Income     ozip     dzip     signup\n",
       "2   Carol   30      F       NaN      NaN      NaN 2011-11-22\n",
       "5   Frank   20      M       NaN      NaN      NaN        NaT\n",
       "17   Rita   50      F       NaN      NaN      NaN        NaT\n",
       "19   Tina   35      F   40000.0      NaN      NaN        NaT\n",
       "12   Mona  -10      F   95000.0      NaN      NaN        NaT\n",
       "1     Bob   -5      M   55000.0  56001.0  55345.0 2000-11-22\n",
       "11  Larry   15      M   90000.0      NaN      NaN        NaT\n",
       "10  Kathy   44      F   85000.0      NaN      NaN        NaT\n",
       "13   Nick   66      M  100000.0      NaN      NaN        NaT\n",
       "18    Sam   60      M  120000.0      NaN      NaN        NaT"
      ]
     },
     "execution_count": 74,
     "metadata": {},
     "output_type": "execute_result"
    }
   ],
   "source": [
    "sample_df = sample_dataframe(loaded_df)\n",
    "print(sample_df.dtypes)\n",
    "sample_df"
   ]
  },
  {
   "cell_type": "code",
   "execution_count": 102,
   "id": "c31d06cd-f35e-4ca4-8c87-7c66316069a3",
   "metadata": {
    "tags": []
   },
   "outputs": [],
   "source": [
    "csv_data = sample_df.to_csv(index=False)\n",
    "csv_dtypes = sample_df.dtypes"
   ]
  },
  {
   "cell_type": "code",
   "execution_count": 2,
   "id": "7c103445-4dc8-4cfc-90ff-ac9b8e461880",
   "metadata": {
    "tags": []
   },
   "outputs": [
    {
     "ename": "SyntaxError",
     "evalue": "incomplete input (2155732873.py, line 8)",
     "output_type": "error",
     "traceback": [
      "\u001b[0;36m  Cell \u001b[0;32mIn[2], line 8\u001b[0;36m\u001b[0m\n\u001b[0;31m    chat_history.append(ChatMessage(ro\u001b[0m\n\u001b[0m                                      ^\u001b[0m\n\u001b[0;31mSyntaxError\u001b[0m\u001b[0;31m:\u001b[0m incomplete input\n"
     ]
    }
   ],
   "source": [
    "def sql_chat(prompt: str, chat_history: list, instructions_prompt: str):\n",
    "    chat_history.append(ChatMessage(role=\"assistant\", content=instructions_prompt))\n",
    "    chat_history.append(ChatMessage(role=\"user\", content=prompt))\n",
    "\n",
    "    openai.api_key = os.getenv(\"OPENAI_API_KEY\")\n",
    "    chat = ChatOpenAI(model=\"gpt-3.5-turbo\", temperature=0)\n",
    "    response = chat(chat_history)\n",
    "    chat_history.append(ChatMessage(role=\"assistant\", content=response.content))"
   ]
  },
  {
   "cell_type": "code",
   "execution_count": 127,
   "id": "04eae275-8b2d-4177-ae0f-810e7f50c1d7",
   "metadata": {
    "tags": []
   },
   "outputs": [],
   "source": [
    "table_name = 'dummy_table'\n",
    "instructions_prompt = f\"\"\"You are a data analyst.\n",
    "    Your job is to create a DESCRIPTION for each FIELD_NAME from data sample below provide the response in the OUTPUT_FORMAT provided.\n",
    "    \n",
    "    Here is the data to create each FIELD_NAME DESCRIPTION {csv_data}.\n",
    "    \n",
    "    The TABLE_NAME is {table_name}.\n",
    "    \n",
    "    The DATA_TYPE are in {csv_dtypes}.  These DATA_TYPES will need to be converted to sqlite datatypes.\n",
    "    \n",
    "    Include the Headers on top the response.\n",
    "    \n",
    "    OUTPUT_FORMAT\n",
    "    TABLE_NAME, FIELD_NAME, DESCRIPTION, DATA_TYPE\n",
    "    \"\"\""
   ]
  },
  {
   "cell_type": "code",
   "execution_count": 128,
   "id": "ae216456-f0d6-464f-aa09-2ee43f9304b0",
   "metadata": {
    "tags": []
   },
   "outputs": [],
   "source": [
    "chat_history = []\n",
    "chat_history.append(ChatMessage(role=\"assistant\", content=instructions_prompt))\n",
    "openai.api_key = os.getenv(\"OPENAI_API_KEY\")\n",
    "chat = ChatOpenAI(model=\"gpt-3.5-turbo\", temperature=0)\n",
    "response = chat(chat_history)"
   ]
  },
  {
   "cell_type": "code",
   "execution_count": 132,
   "id": "3c9ec599-6b1e-4aaa-8e3b-5fc509c14147",
   "metadata": {
    "tags": []
   },
   "outputs": [
    {
     "data": {
      "text/plain": [
       "'TABLE_NAME,FIELD_NAME,DESCRIPTION,DATA_TYPE\\ndummy_table,Name,The name of the person,TEXT\\ndummy_table,Age,The age of the person,INTEGER\\ndummy_table,Gender,The gender of the person,TEXT\\ndummy_table,Income,The income of the person,REAL\\ndummy_table,ozip,The origin zip code,REAL\\ndummy_table,dzip,The destination zip code,REAL\\ndummy_table,signup,The date of signup,TEXT\\n'"
      ]
     },
     "execution_count": 132,
     "metadata": {},
     "output_type": "execute_result"
    }
   ],
   "source": [
    "rsp = response.content\n",
    "df = pd.read_csv(StringIO(rsp.strip()), sep=\",\\s*\", engine=\"python\")\n",
    "csv_data = df.to_csv(index=False)\n",
    "csv_data"
   ]
  },
  {
   "cell_type": "code",
   "execution_count": 130,
   "id": "e3332137-ba33-4b85-a452-7e1b2cae223e",
   "metadata": {
    "tags": []
   },
   "outputs": [
    {
     "data": {
      "text/plain": [
       "['TABLE_NAME, FIELD_NAME, DESCRIPTION, DATA_TYPE',\n",
       " 'dummy_table, Name, The name of the person, TEXT',\n",
       " 'dummy_table, Age, The age of the person, INTEGER',\n",
       " 'dummy_table, Gender, The gender of the person, TEXT',\n",
       " 'dummy_table, Income, The income of the person, REAL',\n",
       " 'dummy_table, ozip, The origin zip code, REAL',\n",
       " 'dummy_table, dzip, The destination zip code, REAL',\n",
       " 'dummy_table, signup, The date of signup, TEXT']"
      ]
     },
     "execution_count": 130,
     "metadata": {},
     "output_type": "execute_result"
    }
   ],
   "source": [
    "def_list = rsp.split('\\n')\n",
    "def_list"
   ]
  },
  {
   "cell_type": "code",
   "execution_count": 121,
   "id": "e07d7776-e4a7-4ab1-8714-a8a5f625c0ce",
   "metadata": {
    "tags": []
   },
   "outputs": [
    {
     "name": "stdout",
     "output_type": "stream",
     "text": [
      "dummy_table, Name, The name of the person, TEXT\n",
      "dummy_table, Age, The age of the person, INTEGER\n",
      "dummy_table, Gender, The gender of the person, TEXT\n",
      "dummy_table, Income, The income of the person, REAL\n",
      "dummy_table, ozip, The origin zip code, REAL\n",
      "dummy_table, dzip, The destination zip code, REAL\n",
      "dummy_table, signup, The date of signup, TEXT\n"
     ]
    }
   ],
   "source": [
    "for d in def_list:\n",
    "    print(d.strip(\"'\"))"
   ]
  },
  {
   "cell_type": "code",
   "execution_count": null,
   "id": "274b5984-ce01-479b-bbc6-55a9af2bc4ba",
   "metadata": {},
   "outputs": [],
   "source": []
  }
 ],
 "metadata": {
  "kernelspec": {
   "display_name": "Python 3 (ipykernel)",
   "language": "python",
   "name": "python3"
  },
  "language_info": {
   "codemirror_mode": {
    "name": "ipython",
    "version": 3
   },
   "file_extension": ".py",
   "mimetype": "text/x-python",
   "name": "python",
   "nbconvert_exporter": "python",
   "pygments_lexer": "ipython3",
   "version": "3.10.9"
  }
 },
 "nbformat": 4,
 "nbformat_minor": 5
}
